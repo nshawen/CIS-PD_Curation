{
 "cells": [
  {
   "cell_type": "markdown",
   "metadata": {},
   "source": [
    "Clip video files into activities for each cycle"
   ]
  },
  {
   "cell_type": "code",
   "execution_count": null,
   "metadata": {},
   "outputs": [],
   "source": []
  },
  {
   "cell_type": "code",
   "execution_count": null,
   "metadata": {},
   "outputs": [],
   "source": []
  },
  {
   "cell_type": "code",
   "execution_count": null,
   "metadata": {},
   "outputs": [],
   "source": [
    "# 30 fps for .033 sec\n"
   ]
  },
  {
   "cell_type": "code",
   "execution_count": null,
   "metadata": {},
   "outputs": [],
   "source": [
    "def ffmpeg_extract_subclip(filename, t1, t2, targetname=None):\n",
    "    \"\"\" Makes a new video file playing video file ``filename`` between\n",
    "        the times ``t1`` and ``t2``. \"\"\"\n",
    "    name, ext = os.path.splitext(filename)\n",
    "    if not targetname:\n",
    "        T1, T2 = [int(1000*t) for t in [t1, t2]]\n",
    "        targetname = \"%sSUB%d_%d.%s\" % (name, T1, T2, ext)\n",
    "    \n",
    "    cmd = [get_setting(\"FFMPEG_BINARY\"),\"-y\",\n",
    "           \"-i\", filename,\n",
    "           \"-ss\", \"%0.2f\"%t1,\n",
    "           \"-t\", \"%0.2f\"%(t2-t1),\n",
    "           \"-vcodec\", \"copy\", \"-acodec\", \"copy\", targetname]\n",
    "    \n",
    "    subprocess_call(cmd)"
   ]
  },
  {
   "cell_type": "code",
   "execution_count": null,
   "metadata": {},
   "outputs": [],
   "source": [
    "from moviepy.video.io.ffmpeg_tools import ffmpeg_extract_subclip\n",
    "import numpy as np\n"
   ]
  },
  {
   "cell_type": "code",
   "execution_count": null,
   "metadata": {},
   "outputs": [],
   "source": [
    "# change df\n",
    "\n",
    "# convert fps to time for start and stop\n",
    "\n"
   ]
  },
  {
   "cell_type": "code",
   "execution_count": null,
   "metadata": {},
   "outputs": [],
   "source": [
    "taskList = np.array(['Shaking', \n",
    "                     'Standing', \n",
    "                     'Walking', \n",
    "                     'Walking while counting', \n",
    "                     'Finger to nose--right hand',\n",
    "                     'Finger to nose--left hand', \n",
    "                     'Alternating right hand movements',             \n",
    "                     'Alternating left hand movements', \n",
    "                     'Sit to stand', \n",
    "                     'Drawing on a paper', \n",
    "                     'Typing on a computer keyboard', \n",
    "                     'Assembling nuts and bolts',\n",
    "                     'Taking a glass of water and drinking', \n",
    "                     'Organizing sheets in a folder', \n",
    "                     'Folding towels', \n",
    "                     'Sitting'])\n",
    "\n",
    "cycle_list = ['1', '2', '3', '4', '5', '6']\n"
   ]
  },
  {
   "cell_type": "code",
   "execution_count": null,
   "metadata": {},
   "outputs": [],
   "source": [
    "# for loop: cycle and activity\n",
    "filename = 'cycle'+cycle_list+'.mp4'\n",
    "t1 = df['start time'][i]\n",
    "t2 = df['start time'][i]\n",
    "targetname = 'cycle' + cycle_list + activity + '.mp4'\n",
    "ffmpeg_extract_subclip(filename, t1, t2, targetname)"
   ]
  },
  {
   "cell_type": "code",
   "execution_count": null,
   "metadata": {},
   "outputs": [],
   "source": []
  },
  {
   "cell_type": "code",
   "execution_count": null,
   "metadata": {},
   "outputs": [],
   "source": []
  }
 ],
 "metadata": {
  "kernelspec": {
   "display_name": "Python 3",
   "language": "python",
   "name": "python3"
  },
  "language_info": {
   "codemirror_mode": {
    "name": "ipython",
    "version": 3
   },
   "file_extension": ".py",
   "mimetype": "text/x-python",
   "name": "python",
   "nbconvert_exporter": "python",
   "pygments_lexer": "ipython3",
   "version": "3.6.4"
  }
 },
 "nbformat": 4,
 "nbformat_minor": 2
}
