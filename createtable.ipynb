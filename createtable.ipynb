{
 "cells": [
  {
   "cell_type": "markdown",
   "metadata": {},
   "source": [
    "# Create Summary Tables and Other Related Info for CIS-PD curation paper"
   ]
  },
  {
   "cell_type": "markdown",
   "metadata": {
    "heading_collapsed": true
   },
   "source": [
    "# Next action\n",
    "- clean up and consolidate code"
   ]
  },
  {
   "cell_type": "code",
   "execution_count": 2,
   "metadata": {
    "ExecuteTime": {
     "end_time": "2018-10-16T14:09:34.872809Z",
     "start_time": "2018-10-16T14:09:17.182304Z"
    },
    "code_folding": [],
    "hidden": true
   },
   "outputs": [],
   "source": [
    "# Importing the Libraries\n",
    "import os\n",
    "import platform\n",
    "import numpy as np\n",
    "import pandas as pd\n",
    "import seaborn as sns\n",
    "import matplotlib.pyplot as plt\n",
    "import datetime as dt\n",
    "import pathlib\n",
    "import pickle\n",
    "import time\n",
    "import re\n",
    "import copy\n",
    "%matplotlib inline"
   ]
  },
  {
   "cell_type": "markdown",
   "metadata": {
    "heading_collapsed": true
   },
   "source": [
    "# Load and check codelist and data dictionary\n",
    "- codelist doesn't have form 508 or 238, only datadict does"
   ]
  },
  {
   "cell_type": "code",
   "execution_count": 24,
   "metadata": {
    "hidden": true
   },
   "outputs": [],
   "source": [
    "filename = r'//FS2.smpp.local\\RTO\\CIS-PD MUSC\\codelist.sas7bdat'\n",
    "codelist = pd.read_sas(filename)\n",
    "codelist.columns = codelist.columns.str.replace('z', '')\n",
    "codelist = codelist.applymap(lambda x: x.decode() if isinstance(x, bytes) else x)\n",
    "filename = r'//FS2.smpp.local\\RTO\\CIS-PD MUSC\\datadictionary.sas7bdat'\n",
    "datadict = pd.read_sas(filename, format = 'sas7bdat', encoding='iso-8859-1')\n",
    "datadict.columns = datadict.columns.str.replace('z', '')"
   ]
  },
  {
   "cell_type": "markdown",
   "metadata": {
    "heading_collapsed": true
   },
   "source": [
    "# Create Table 1 - Demographics table"
   ]
  },
  {
   "cell_type": "code",
   "execution_count": 101,
   "metadata": {
    "ExecuteTime": {
     "end_time": "2018-10-16T15:23:06.684864Z",
     "start_time": "2018-10-16T15:23:06.295208Z"
    },
    "hidden": true
   },
   "outputs": [],
   "source": [
    "# items: gender, race, ethnicity, age\n",
    "filename = r'//FS2.smpp.local\\RTO\\CIS-PD MUSC\\subjenrollment.sas7bdat'\n",
    "subjenroll = pd.read_sas(filename, format = 'sas7bdat', encoding='iso-8859-1')\n",
    "subjenroll.columns = subjenroll.columns.str.replace('z', '')"
   ]
  },
  {
   "cell_type": "code",
   "execution_count": 102,
   "metadata": {
    "ExecuteTime": {
     "end_time": "2018-10-16T15:23:11.531719Z",
     "start_time": "2018-10-16T15:23:11.510745Z"
    },
    "hidden": true
   },
   "outputs": [],
   "source": [
    "tabledata = {\n",
    "'Question': ['Age', 'Gender', 'Race', 'Ethnicity', 'Hoehn & Yahr stage 1-3'],\n",
    "'Variable Name': ['Age', 'Gender', 'Race', 'Ethnicity', 'Hoehn & Yahr stage 1-3'],\n",
    "'Variable details': ['Integer',\n",
    "                     'One of: (\\'Male\\',\\'Female\\')',\n",
    "                     'One of: (\\'American Indian or Alaska Native\\',\\'Asian\\',\\'Black or African American\\',\\'Native Hawaiian or Other Pacific Islander\\',\\'White\\',\\'Unknown\\')',\n",
    "                     'One of: (\\'Hispanic or Latino\\',\\'Not Hispanic or Latino\\',\\'Unknown\\')',\n",
    "                     'One of: (\\'no\\',\\'yes\\')']\n",
    "}\n",
    "df = pd.DataFrame(tabledata)\n",
    "\n",
    "# save table as csv file\n",
    "tablepath = r'Y:\\CIS-PD Study\\MJFF Curation\\tables'\n",
    "filename = os.path.join(tablepath, 'summarytable_demo.csv')\n",
    "with open(filename,'wb') as f:\n",
    "    df.to_csv(filename, sep=',', index=False)"
   ]
  },
  {
   "cell_type": "code",
   "execution_count": 13,
   "metadata": {
    "hidden": true,
    "scrolled": true
   },
   "outputs": [
    {
     "data": {
      "text/html": [
       "<div>\n",
       "<style scoped>\n",
       "    .dataframe tbody tr th:only-of-type {\n",
       "        vertical-align: middle;\n",
       "    }\n",
       "\n",
       "    .dataframe tbody tr th {\n",
       "        vertical-align: top;\n",
       "    }\n",
       "\n",
       "    .dataframe thead th {\n",
       "        text-align: right;\n",
       "    }\n",
       "</style>\n",
       "<table border=\"1\" class=\"dataframe\">\n",
       "  <thead>\n",
       "    <tr style=\"text-align: right;\">\n",
       "      <th></th>\n",
       "      <th>Question</th>\n",
       "      <th>Variable Name</th>\n",
       "      <th>Variable details</th>\n",
       "    </tr>\n",
       "  </thead>\n",
       "  <tbody>\n",
       "    <tr>\n",
       "      <th>0</th>\n",
       "      <td>Age</td>\n",
       "      <td>Age</td>\n",
       "      <td>Integer</td>\n",
       "    </tr>\n",
       "    <tr>\n",
       "      <th>1</th>\n",
       "      <td>Gender</td>\n",
       "      <td>Gender</td>\n",
       "      <td>One of: ('Male','Female')</td>\n",
       "    </tr>\n",
       "    <tr>\n",
       "      <th>2</th>\n",
       "      <td>Race</td>\n",
       "      <td>Race</td>\n",
       "      <td>One of: ('American Indian or Alaska Native','A...</td>\n",
       "    </tr>\n",
       "    <tr>\n",
       "      <th>3</th>\n",
       "      <td>Ethnicity</td>\n",
       "      <td>Ethnicity</td>\n",
       "      <td>One of: ('Hispanic or Latino','Not Hispanic or...</td>\n",
       "    </tr>\n",
       "    <tr>\n",
       "      <th>4</th>\n",
       "      <td>Hoehn &amp; Yahr stage 1-3</td>\n",
       "      <td>Hoehn &amp; Yahr stage 1-3</td>\n",
       "      <td>One of: ('no','yes')</td>\n",
       "    </tr>\n",
       "  </tbody>\n",
       "</table>\n",
       "</div>"
      ],
      "text/plain": [
       "                 Question           Variable Name  \\\n",
       "0                     Age                     Age   \n",
       "1                  Gender                  Gender   \n",
       "2                    Race                    Race   \n",
       "3               Ethnicity               Ethnicity   \n",
       "4  Hoehn & Yahr stage 1-3  Hoehn & Yahr stage 1-3   \n",
       "\n",
       "                                    Variable details  \n",
       "0                                            Integer  \n",
       "1                          One of: ('Male','Female')  \n",
       "2  One of: ('American Indian or Alaska Native','A...  \n",
       "3  One of: ('Hispanic or Latino','Not Hispanic or...  \n",
       "4                               One of: ('no','yes')  "
      ]
     },
     "execution_count": 13,
     "metadata": {},
     "output_type": "execute_result"
    }
   ],
   "source": [
    "df"
   ]
  },
  {
   "cell_type": "markdown",
   "metadata": {
    "heading_collapsed": true
   },
   "source": [
    "# Create Table 2 - MDS-UPDRS questionnaire parts 1, 2, and 4"
   ]
  },
  {
   "cell_type": "code",
   "execution_count": null,
   "metadata": {
    "hidden": true
   },
   "outputs": [],
   "source": [
    "# load files\n",
    "path = r'Y:\\CIS-PD MUSC\\decoded_forms'\n",
    "data124 = pd.read_hdf(os.path.join(path,'updrs_124.h5'))"
   ]
  },
  {
   "cell_type": "code",
   "execution_count": 100,
   "metadata": {
    "hidden": true
   },
   "outputs": [],
   "source": [
    "# get questions by slicing list for parts 1,2,4, subtract part 3\n",
    "list = datadict.loc[datadict.FormID == 238.0]['FieldNm'].tolist()\n",
    "qlist = list[:30] + list[70:-1]"
   ]
  },
  {
   "cell_type": "code",
   "execution_count": 100,
   "metadata": {
    "ExecuteTime": {
     "end_time": "2018-10-16T15:20:32.166363Z",
     "start_time": "2018-10-16T15:20:32.136381Z"
    },
    "hidden": true
   },
   "outputs": [],
   "source": [
    "name1 = ['One of: (\\'Patient\\', \\'Caregiver\\', \\'Patient and Caregiver in Equal Proportion\\')']\n",
    "name2 = ['One of: (\\'Normal\\',\\' Slight\\',\\' Mild\\',\\' Moderate\\',\\' Severe\\') mapping to (0, 1, 2, 3, 4)']\n",
    "variabledetails = ['Subject ID', 'SiteID', 'Visit', 'FormDate'] + \\\n",
    "                    name1 + name2*6 + name1 + name2*26 + ['One of: (\\'no\\',\\'yes\\')']\n",
    "\n",
    "tabledata124 = {\n",
    "'Question': ['Subject ID', 'SiteID', 'Visit',\n",
    "             'Date of assessment',\n",
    "             'Primary source of information',\n",
    "             '1.1 Cognitive Impairment',\n",
    "             '1.2 Hallucinations and Psychosis',\n",
    "             '1.3 Depressed Mood',\n",
    "             '1.4 Anxious Mood',\n",
    "             '1.5 Apathy',\n",
    "             '1.6 Features of Dopamine Dysregulation Syndrome',\n",
    "             'Who is filling out this questionnaire',\n",
    "             '1.7 Sleep Problems',\n",
    "             '1.8 Daytime Sleepiness',\n",
    "             '1.9 Pain and Other Sensations',\n",
    "             '1.10 Urinary Problems',\n",
    "             '1.11 Constipation Problems',\n",
    "             '1.12 Light Headedness on Standing',\n",
    "             '1.13 Fatigue',\n",
    "             '2.1 Speech',\n",
    "             '2.2 Saliva & Drooling',\n",
    "             '2.3 Chewing and Swallowing',\n",
    "             '2.4 Eating Tasks',\n",
    "             '2.5 Dressing',\n",
    "             '2.6 Hygiene',\n",
    "             '2.7 Handwriting',\n",
    "             '2.8 Doing Hobbies and Other Activities',\n",
    "             '2.9 Turning in Bed',\n",
    "             '2.10 Tremor',\n",
    "             '2.11 Getting Out of Bed, a Car, or a Deep Chair',\n",
    "             '2.12 Walking and Balance',\n",
    "             '2.13 Freezing',\n",
    "             '4.1 Time Spent With Dyskinesias',\n",
    "             '4.2 Functional Impact of Dyskinesias',\n",
    "             '4.3 Time Spent in the Off State',\n",
    "             '4.4 Functional Impact of Fluctuations',\n",
    "             '4.5 Complexity of Motor Fluctuations',\n",
    "             '4.6 Painful Off-State Dystonia',\n",
    "             'Data Collected'],\n",
    "'Variable Name': data124.columns.values.tolist(),\n",
    "'Variable details': variabledetails\n",
    "}\n",
    "df124 = pd.DataFrame(tabledata124)\n",
    "\n",
    "# save table as csv file\n",
    "tablepath = r'Y:\\CIS-PD Study\\MJFF Curation\\tables'\n",
    "filename = os.path.join(tablepath, 'summarytable_part124.csv')\n",
    "with open(filename,'wb') as f:\n",
    "    df124.to_csv(filename, sep=',', index=False)"
   ]
  },
  {
   "cell_type": "markdown",
   "metadata": {
    "heading_collapsed": true
   },
   "source": [
    "# Create Table 3 - MDS-UPDRS questionnaire  part 3\n",
    "Notes:\n",
    "why does data3 have \n",
    "- ParticipantState and 3b - same\n",
    "- What's the difference b/n UTC and FormTime?"
   ]
  },
  {
   "cell_type": "code",
   "execution_count": null,
   "metadata": {
    "hidden": true
   },
   "outputs": [],
   "source": [
    "# load files\n",
    "path = r'Y:\\CIS-PD MUSC\\decoded_forms'\n",
    "data124 = pd.read_hdf(os.path.join(path,'updrs_124.h5'))\n",
    "data3 = pd.read_hdf(os.path.join(path,'updrs_part3.h5'))"
   ]
  },
  {
   "cell_type": "code",
   "execution_count": 98,
   "metadata": {
    "ExecuteTime": {
     "end_time": "2018-10-16T15:19:15.195878Z",
     "start_time": "2018-10-16T15:19:15.178923Z"
    },
    "hidden": true
   },
   "outputs": [],
   "source": [
    "onoff = ['One of: (\\'on\\',\\'off\\')']\n",
    "noyes = ['One of: (\\'no\\',\\'yes\\')']\n",
    "severity = ['One of: (\\'Normal\\',\\' Slight\\',\\' Mild\\',\\' Moderate\\',\\' Severe\\') mapping to (0, 1, 2, 3, 4)']\n",
    "\n",
    "tabledata = {\n",
    "'Question': ['Subject ID', 'SiteID', 'Visit', 'Date of assessment',\n",
    "             'Time of assessment', 'FormTime',\n",
    "             # repeated items with 3b - 'ParticipantState', 'Hours since last PD medication dose'???\n",
    "             '3b Mark the patient\\'s clinical state',\n",
    "             'Hours since last PD medication dose',\n",
    "             # 3a, 3b, 3c, 3C1\n",
    "             '3a Is the patient on medication for treating the symptoms of Parkinson\\'s Disease?',\n",
    "             '3b Mark the patient\\'s clinical state', \n",
    "             '3c Is the patient on Levodopa?',\n",
    "             '3.C1 Minutes since last levodopa dose',\n",
    "             '3.1 Speech',\n",
    "             '3.2 Facial Expression',\n",
    "             '3.3 Rigidity - Neck',\n",
    "             '3.3 Rigidity - Right Upper Extremity',\n",
    "             '3.3 Rigidity - Left Upper Extremity',\n",
    "             '3.3 Rigidity - Right Lower Extremity',\n",
    "             '3.3 Rigidity - Left Lower Extremity',\n",
    "             '3.4 Finger Tapping - Right Hand',\n",
    "             '3.4 Finger Tapping - Left Hand',\n",
    "             '3.5 Hand Movements - Right Hand',\n",
    "             '3.5 Hand Movements - Left Hand',\n",
    "             '3.6 Pronation-Supination Movements of Hands - Right Hand',\n",
    "             '3.6 Pronation-Supination Movements of Hands - Left Hand',\n",
    "             '3.7 Toe Tapping - Right Foot',\n",
    "             '3.7 Toe Tapping - Left Foot',\n",
    "             '3.8 Leg Agility - Right Leg',\n",
    "             '3.8 Leg Agility - Left Leg',\n",
    "             '3.9 Arising From Chair',\n",
    "             '3.10 Gait',\n",
    "             '3.11 Freezing of Gait',\n",
    "             '3.12 Postural Stability',\n",
    "             '3.13 Posture',\n",
    "             '3.14 Global Spontaneity of Movement Body Bradykinesia',\n",
    "             '3.15 Postural Tremor of the Hands - Right Hand',\n",
    "             '3.15 Postural Tremor of the Hands - Left Hand',\n",
    "             '3.16 Kinetic Tremor of the Hands - Right Hand',\n",
    "             '3.16 Kinetic Tremor of the Hands - Left Hand',\n",
    "             '3.17 Rest Tremor Amplitude - Right Upper Extremity',\n",
    "             '3.17 Rest Tremor Amplitude - Left Upper Extremity',\n",
    "             '3.17 Rest Tremor Amplitude - Right Lower Extremity',\n",
    "             '3.17 Rest Tremor Amplitude - Left Lower Extremity',\n",
    "             '3.17 Rest Tremor Amplitude - Lip/Jaw',\n",
    "             '3.18 Constancy of Rest Tremor',\n",
    "             '3.19 A Were dyskinesias (chorea or dystonia) present during examination?',\n",
    "             '3.19 B Did these movements interfere with your ratings?',\n",
    "             '3.20 Hoen and Yahr Stage',\n",
    "             'Data collected'],\n",
    "'Variable Name': data3.columns.values.tolist(),\n",
    "'Variable details': ['Subject ID', 'SiteID', 'Visit', 'Date of assessment',\n",
    "       'Datetime', 'FormTime']+onoff+['Integer']+noyes+onoff+noyes+['Integer']+severity*33+noyes*2+['One of: (0, 1, 2, 3, 4, 5)']+noyes\n",
    "}\n",
    "df = pd.DataFrame(tabledata)\n",
    "\n",
    "# save summary table as csv file\n",
    "tablepath = r'Y:\\CIS-PD Study\\MJFF Curation\\tables'\n",
    "filename = os.path.join(tablepath, 'summarytable_part3.csv')\n",
    "with open(filename,'wb') as f:\n",
    "    df.to_csv(filename, sep=',', index=False)"
   ]
  },
  {
   "cell_type": "markdown",
   "metadata": {
    "heading_collapsed": true
   },
   "source": [
    "# Create Table 4 - Task and Timestamp"
   ]
  },
  {
   "cell_type": "code",
   "execution_count": 43,
   "metadata": {
    "ExecuteTime": {
     "end_time": "2018-10-11T20:32:58.716096Z",
     "start_time": "2018-10-11T20:32:58.674108Z"
    },
    "hidden": true
   },
   "outputs": [],
   "source": [
    "filepath = r'Y:\\CIS-PD Study\\MJFF Curation'\n",
    "taskdf = pd.read_csv(os.path.join(filepath,'task_timestamp.csv'))"
   ]
  },
  {
   "cell_type": "code",
   "execution_count": 75,
   "metadata": {
    "ExecuteTime": {
     "end_time": "2018-10-11T21:10:34.293509Z",
     "start_time": "2018-10-11T21:10:34.274561Z"
    },
    "hidden": true
   },
   "outputs": [],
   "source": [
    "tabledata = {\n",
    "'Question': ['Subject ID'] + taskdf.columns.tolist()[1:],\n",
    "'Variable Name': taskdf.columns.tolist(),\n",
    "'Variable details': ['Integer',\n",
    "                    'One of: (\\'' + '\\', \\''.join(taskdf.Visit.unique().tolist()) + '\\')',\n",
    "                    'One of: (\\'' + '\\', \\''.join(taskdf.Task.unique().tolist()) + '\\')',\n",
    "                    'Date Time',\n",
    "                    'Date Time']\n",
    "}\n",
    "df = pd.DataFrame(tabledata)\n",
    "\n",
    "# save table as csv file\n",
    "tablepath = r'Y:\\CIS-PD Study\\MJFF Curation\\tables'\n",
    "filename = os.path.join(tablepath, 'summarytable_task_timestamp.csv')\n",
    "with open(filename,'wb') as f:\n",
    "    df.to_csv(filename, sep=',', index=False)"
   ]
  },
  {
   "cell_type": "code",
   "execution_count": 76,
   "metadata": {
    "ExecuteTime": {
     "end_time": "2018-10-11T21:10:37.432292Z",
     "start_time": "2018-10-11T21:10:37.426282Z"
    },
    "hidden": true,
    "scrolled": true
   },
   "outputs": [
    {
     "data": {
      "text/html": [
       "<div>\n",
       "<style scoped>\n",
       "    .dataframe tbody tr th:only-of-type {\n",
       "        vertical-align: middle;\n",
       "    }\n",
       "\n",
       "    .dataframe tbody tr th {\n",
       "        vertical-align: top;\n",
       "    }\n",
       "\n",
       "    .dataframe thead th {\n",
       "        text-align: right;\n",
       "    }\n",
       "</style>\n",
       "<table border=\"1\" class=\"dataframe\">\n",
       "  <thead>\n",
       "    <tr style=\"text-align: right;\">\n",
       "      <th></th>\n",
       "      <th>Question</th>\n",
       "      <th>Variable Name</th>\n",
       "      <th>Variable details</th>\n",
       "    </tr>\n",
       "  </thead>\n",
       "  <tbody>\n",
       "    <tr>\n",
       "      <th>0</th>\n",
       "      <td>Subject ID</td>\n",
       "      <td>SubjID</td>\n",
       "      <td>Integer</td>\n",
       "    </tr>\n",
       "    <tr>\n",
       "      <th>1</th>\n",
       "      <td>Visit</td>\n",
       "      <td>Visit</td>\n",
       "      <td>One of: ('2 Weeks: Time 0', '2 Weeks: Time 30'...</td>\n",
       "    </tr>\n",
       "    <tr>\n",
       "      <th>2</th>\n",
       "      <td>Task</td>\n",
       "      <td>Task</td>\n",
       "      <td>One of: ('Taking a glass of water and drinking...</td>\n",
       "    </tr>\n",
       "    <tr>\n",
       "      <th>3</th>\n",
       "      <td>Start Timestamp (UTC)</td>\n",
       "      <td>Start Timestamp (UTC)</td>\n",
       "      <td>Date Time</td>\n",
       "    </tr>\n",
       "    <tr>\n",
       "      <th>4</th>\n",
       "      <td>Stop Timestamp (UTC)</td>\n",
       "      <td>Stop Timestamp (UTC)</td>\n",
       "      <td>Date Time</td>\n",
       "    </tr>\n",
       "  </tbody>\n",
       "</table>\n",
       "</div>"
      ],
      "text/plain": [
       "                Question          Variable Name  \\\n",
       "0             Subject ID                 SubjID   \n",
       "1                  Visit                  Visit   \n",
       "2                   Task                   Task   \n",
       "3  Start Timestamp (UTC)  Start Timestamp (UTC)   \n",
       "4   Stop Timestamp (UTC)   Stop Timestamp (UTC)   \n",
       "\n",
       "                                    Variable details  \n",
       "0                                            Integer  \n",
       "1  One of: ('2 Weeks: Time 0', '2 Weeks: Time 30'...  \n",
       "2  One of: ('Taking a glass of water and drinking...  \n",
       "3                                          Date Time  \n",
       "4                                          Date Time  "
      ]
     },
     "execution_count": 76,
     "metadata": {},
     "output_type": "execute_result"
    }
   ],
   "source": [
    "df"
   ]
  },
  {
   "cell_type": "markdown",
   "metadata": {
    "heading_collapsed": true
   },
   "source": [
    "# Create Table 5 - Apple watch and phone specs\n",
    "- form101\n",
    "    - Q11 iphone model\n",
    "    - Q12 iOS version"
   ]
  },
  {
   "cell_type": "code",
   "execution_count": 96,
   "metadata": {
    "ExecuteTime": {
     "end_time": "2018-10-16T15:18:58.361915Z",
     "start_time": "2018-10-16T15:18:58.057857Z"
    },
    "hidden": true
   },
   "outputs": [],
   "source": [
    "# Get questions on forms for Apple watch and phone info\n",
    "# form101 Q11 and 12 have phone model and iOS version\n",
    "path = r'Y:\\CIS-PD MUSC\\decoded_forms'\n",
    "data101 = pd.read_hdf(os.path.join(path,'form101.h5'))\n",
    "data126 = pd.read_hdf(os.path.join(path,'form126.h5'))"
   ]
  },
  {
   "cell_type": "code",
   "execution_count": 97,
   "metadata": {
    "ExecuteTime": {
     "end_time": "2018-10-16T15:18:58.988653Z",
     "start_time": "2018-10-16T15:18:58.968698Z"
    },
    "hidden": true
   },
   "outputs": [],
   "source": [
    "tabledata = {\n",
    "'Question': ['iPhone model to be used by subject', 'iOS version to be used'],\n",
    "'Variable Name': ['iphone', 'ios'],\n",
    "'Variable details': ['Text',\n",
    "                     'Text']\n",
    "}\n",
    "df = pd.DataFrame(tabledata)\n",
    "\n",
    "# save table as csv file\n",
    "tablepath = r'Y:\\CIS-PD Study\\MJFF Curation\\tables'\n",
    "filename = os.path.join(tablepath, 'summarytable_watchandphone_specs.csv')\n",
    "with open(filename,'wb') as f:\n",
    "    df.to_csv(filename, sep=',', index=False)"
   ]
  },
  {
   "cell_type": "markdown",
   "metadata": {
    "heading_collapsed": true
   },
   "source": [
    "# Create Table 6 - Sensor Info"
   ]
  },
  {
   "cell_type": "code",
   "execution_count": null,
   "metadata": {
    "hidden": true
   },
   "outputs": [],
   "source": [
    "# for reference - OMIT\n",
    "'Variable details': ['Integer',\n",
    "                     'One of: (\\'Male\\',\\'Female\\')',\n",
    "                     'One of: (\\'American Indian or Alaska Native\\',\\'Asian\\',\\'Black or Afican American\\',\\'Native Hawaiian or Other Pacific Islander\\',\\'White\\',\\'Unknown\\')',\n",
    "                     'One of: (\\'Hispanic or Latino\\',\\'Not Hispanic or Latino\\',\\'Unknown\\')',\n",
    "                     'One of: (\\'no\\',\\'yes\\')']"
   ]
  },
  {
   "cell_type": "code",
   "execution_count": 77,
   "metadata": {
    "ExecuteTime": {
     "end_time": "2018-10-11T21:21:18.658237Z",
     "start_time": "2018-10-11T21:21:18.642425Z"
    },
    "hidden": true
   },
   "outputs": [],
   "source": [
    "filepath = r'Y:\\CIS-PD Study\\MJFF Curation'\n",
    "sensordf = pd.read_csv(os.path.join(filepath,'sensor_info.csv'))"
   ]
  },
  {
   "cell_type": "code",
   "execution_count": 80,
   "metadata": {
    "ExecuteTime": {
     "end_time": "2018-10-11T21:21:56.355090Z",
     "start_time": "2018-10-11T21:21:56.351099Z"
    },
    "hidden": true
   },
   "outputs": [
    {
     "data": {
      "text/plain": [
       "['Sensor Location',\n",
       " 'ECG/EMG (KHz)',\n",
       " 'Accel (Hz)',\n",
       " 'Gyro (Hz)',\n",
       " 'Description of Landmarks',\n",
       " 'X-axis orientation',\n",
       " 'Y-axis orientation',\n",
       " 'Z-axis orientation']"
      ]
     },
     "execution_count": 80,
     "metadata": {},
     "output_type": "execute_result"
    }
   ],
   "source": [
    "sensordf.columns.tolist()"
   ]
  },
  {
   "cell_type": "code",
   "execution_count": 81,
   "metadata": {
    "ExecuteTime": {
     "end_time": "2018-10-11T21:22:24.566797Z",
     "start_time": "2018-10-11T21:22:24.557821Z"
    },
    "hidden": true
   },
   "outputs": [
    {
     "data": {
      "text/html": [
       "<div>\n",
       "<style scoped>\n",
       "    .dataframe tbody tr th:only-of-type {\n",
       "        vertical-align: middle;\n",
       "    }\n",
       "\n",
       "    .dataframe tbody tr th {\n",
       "        vertical-align: top;\n",
       "    }\n",
       "\n",
       "    .dataframe thead th {\n",
       "        text-align: right;\n",
       "    }\n",
       "</style>\n",
       "<table border=\"1\" class=\"dataframe\">\n",
       "  <thead>\n",
       "    <tr style=\"text-align: right;\">\n",
       "      <th></th>\n",
       "      <th>Sensor Location</th>\n",
       "      <th>ECG/EMG (KHz)</th>\n",
       "      <th>Accel (Hz)</th>\n",
       "      <th>Gyro (Hz)</th>\n",
       "      <th>Description of Landmarks</th>\n",
       "      <th>X-axis orientation</th>\n",
       "      <th>Y-axis orientation</th>\n",
       "      <th>Z-axis orientation</th>\n",
       "    </tr>\n",
       "  </thead>\n",
       "  <tbody>\n",
       "    <tr>\n",
       "      <th>0</th>\n",
       "      <td>medial_chest</td>\n",
       "      <td>1.0</td>\n",
       "      <td>31.25</td>\n",
       "      <td>NaN</td>\n",
       "      <td>Halfway between base of throat and bottom of s...</td>\n",
       "      <td>Left</td>\n",
       "      <td>Superior</td>\n",
       "      <td>Anterior</td>\n",
       "    </tr>\n",
       "    <tr>\n",
       "      <th>1</th>\n",
       "      <td>flexor_digitorum_right</td>\n",
       "      <td>1.0</td>\n",
       "      <td>31.25</td>\n",
       "      <td>NaN</td>\n",
       "      <td>On top of Wrist Flexors</td>\n",
       "      <td>Inferior</td>\n",
       "      <td>Medial</td>\n",
       "      <td>Anterior</td>\n",
       "    </tr>\n",
       "    <tr>\n",
       "      <th>2</th>\n",
       "      <td>flexor_digitorum_left</td>\n",
       "      <td>1.0</td>\n",
       "      <td>31.25</td>\n",
       "      <td>NaN</td>\n",
       "      <td>On top of Wrist Flexors</td>\n",
       "      <td>Inferior</td>\n",
       "      <td>Lateral</td>\n",
       "      <td>Anterior</td>\n",
       "    </tr>\n",
       "  </tbody>\n",
       "</table>\n",
       "</div>"
      ],
      "text/plain": [
       "          Sensor Location  ECG/EMG (KHz)  Accel (Hz)  Gyro (Hz)  \\\n",
       "0            medial_chest            1.0       31.25        NaN   \n",
       "1  flexor_digitorum_right            1.0       31.25        NaN   \n",
       "2   flexor_digitorum_left            1.0       31.25        NaN   \n",
       "\n",
       "                            Description of Landmarks X-axis orientation  \\\n",
       "0  Halfway between base of throat and bottom of s...               Left   \n",
       "1                            On top of Wrist Flexors           Inferior   \n",
       "2                            On top of Wrist Flexors           Inferior   \n",
       "\n",
       "  Y-axis orientation Z-axis orientation  \n",
       "0           Superior           Anterior  \n",
       "1             Medial           Anterior  \n",
       "2            Lateral           Anterior  "
      ]
     },
     "execution_count": 81,
     "metadata": {},
     "output_type": "execute_result"
    }
   ],
   "source": [
    "sensordf.head(3)"
   ]
  },
  {
   "cell_type": "code",
   "execution_count": 82,
   "metadata": {
    "ExecuteTime": {
     "end_time": "2018-10-11T21:23:00.384296Z",
     "start_time": "2018-10-11T21:23:00.380307Z"
    },
    "hidden": true
   },
   "outputs": [
    {
     "data": {
      "text/plain": [
       "8"
      ]
     },
     "execution_count": 82,
     "metadata": {},
     "output_type": "execute_result"
    }
   ],
   "source": [
    "len(sensordf.columns)"
   ]
  },
  {
   "cell_type": "code",
   "execution_count": 90,
   "metadata": {
    "ExecuteTime": {
     "end_time": "2018-10-11T21:27:15.350086Z",
     "start_time": "2018-10-11T21:27:15.345099Z"
    },
    "hidden": true
   },
   "outputs": [
    {
     "data": {
      "text/plain": [
       "\"One of: ('medial_chest', 'flexor_digitorum_right', 'flexor_digitorum_left', 'anterior_thigh_right', 'anterior_thigh_left', 'distal_lateral_shank_right', 'distal_lateral_shank_left', 'sacrum', 'dorsal_hand_right', 'dorsal_hand_left')\""
      ]
     },
     "execution_count": 90,
     "metadata": {},
     "output_type": "execute_result"
    }
   ],
   "source": [
    "'One of: (\\'' + '\\', \\''.join(sensordf.iloc[:,0].unique().tolist()) + '\\')'"
   ]
  },
  {
   "cell_type": "code",
   "execution_count": 97,
   "metadata": {
    "ExecuteTime": {
     "end_time": "2018-10-11T21:30:43.100337Z",
     "start_time": "2018-10-11T21:30:43.095350Z"
    },
    "hidden": true
   },
   "outputs": [
    {
     "data": {
      "text/plain": [
       "[1.0, nan]"
      ]
     },
     "execution_count": 97,
     "metadata": {},
     "output_type": "execute_result"
    }
   ],
   "source": [
    "sensordf.iloc[:,1].unique().tolist()"
   ]
  },
  {
   "cell_type": "code",
   "execution_count": 98,
   "metadata": {
    "ExecuteTime": {
     "end_time": "2018-10-11T21:30:48.874957Z",
     "start_time": "2018-10-11T21:30:48.870972Z"
    },
    "hidden": true
   },
   "outputs": [
    {
     "data": {
      "text/plain": [
       "[31.25, 62.5]"
      ]
     },
     "execution_count": 98,
     "metadata": {},
     "output_type": "execute_result"
    }
   ],
   "source": [
    "sensordf.iloc[:,2].unique().tolist()"
   ]
  },
  {
   "cell_type": "code",
   "execution_count": 99,
   "metadata": {
    "ExecuteTime": {
     "end_time": "2018-10-11T21:30:50.778651Z",
     "start_time": "2018-10-11T21:30:50.774662Z"
    },
    "hidden": true
   },
   "outputs": [
    {
     "data": {
      "text/plain": [
       "[nan, 62.5]"
      ]
     },
     "execution_count": 99,
     "metadata": {},
     "output_type": "execute_result"
    }
   ],
   "source": [
    "sensordf.iloc[:,3].unique().tolist()"
   ]
  },
  {
   "cell_type": "code",
   "execution_count": 100,
   "metadata": {
    "ExecuteTime": {
     "end_time": "2018-10-11T21:30:51.819324Z",
     "start_time": "2018-10-11T21:30:51.815334Z"
    },
    "hidden": true
   },
   "outputs": [
    {
     "data": {
      "text/plain": [
       "['Halfway between base of throat and bottom of sternum (xiphoid process)',\n",
       " 'On top of Wrist Flexors',\n",
       " 'Proximal of Femur Epicondyles',\n",
       " 'Proximal of Fibular Lateral Malleolus',\n",
       " 'Superior of Posterior Superior Iliac Spine (PSIS)',\n",
       " 'Pointing away from thumb, Parallel to wrist joint']"
      ]
     },
     "execution_count": 100,
     "metadata": {},
     "output_type": "execute_result"
    }
   ],
   "source": [
    "sensordf.iloc[:,4].unique().tolist()"
   ]
  },
  {
   "cell_type": "code",
   "execution_count": 101,
   "metadata": {
    "ExecuteTime": {
     "end_time": "2018-10-11T21:30:53.291846Z",
     "start_time": "2018-10-11T21:30:53.286860Z"
    },
    "hidden": true
   },
   "outputs": [
    {
     "data": {
      "text/plain": [
       "['Left', 'Inferior', 'Right', 'Lateral']"
      ]
     },
     "execution_count": 101,
     "metadata": {},
     "output_type": "execute_result"
    }
   ],
   "source": [
    "sensordf.iloc[:,5].unique().tolist()"
   ]
  },
  {
   "cell_type": "code",
   "execution_count": 102,
   "metadata": {
    "ExecuteTime": {
     "end_time": "2018-10-11T21:30:54.668057Z",
     "start_time": "2018-10-11T21:30:54.663071Z"
    },
    "hidden": true
   },
   "outputs": [
    {
     "data": {
      "text/plain": [
       "['Superior', 'Medial', 'Lateral', 'Anterior', 'Posterior', 'Inferior']"
      ]
     },
     "execution_count": 102,
     "metadata": {},
     "output_type": "execute_result"
    }
   ],
   "source": [
    "sensordf.iloc[:,6].unique().tolist()"
   ]
  },
  {
   "cell_type": "code",
   "execution_count": 103,
   "metadata": {
    "ExecuteTime": {
     "end_time": "2018-10-11T21:30:55.595617Z",
     "start_time": "2018-10-11T21:30:55.590629Z"
    },
    "hidden": true
   },
   "outputs": [
    {
     "data": {
      "text/plain": [
       "['Anterior', 'Lateral', 'Posterior']"
      ]
     },
     "execution_count": 103,
     "metadata": {},
     "output_type": "execute_result"
    }
   ],
   "source": [
    "sensordf.iloc[:,7].unique().tolist()"
   ]
  },
  {
   "cell_type": "code",
   "execution_count": 105,
   "metadata": {
    "ExecuteTime": {
     "end_time": "2018-10-11T21:35:43.717243Z",
     "start_time": "2018-10-11T21:35:43.693335Z"
    },
    "hidden": true
   },
   "outputs": [],
   "source": [
    "tabledata = {\n",
    "'Question': sensordf.columns.tolist(),\n",
    "'Variable Name': sensordf.columns.tolist(),\n",
    "'Variable details': ['One of: (\\'' + '\\', \\''.join(sensordf.iloc[:,0].unique().tolist()) + '\\')',\n",
    "                     'One of: (\\'1.0\\',\\'\\')',\n",
    "                     'One of: (\\'31.25\\',\\'62.5\\')',\n",
    "                     'One of: (\\'62.5\\',\\'\\')',\n",
    "                     'One of: (\\'' + '\\', \\''.join(sensordf.iloc[:,4].unique().tolist()) + '\\')',\n",
    "                     'One of: (\\'' + '\\', \\''.join(sensordf.iloc[:,5].unique().tolist()) + '\\')',\n",
    "                     'One of: (\\'' + '\\', \\''.join(sensordf.iloc[:,6].unique().tolist()) + '\\')',\n",
    "                     'One of: (\\'' + '\\', \\''.join(sensordf.iloc[:,7].unique().tolist()) + '\\')']\n",
    "}\n",
    "df = pd.DataFrame(tabledata)\n",
    "\n",
    "# save table as csv file\n",
    "tablepath = r'Y:\\CIS-PD Study\\MJFF Curation\\tables'\n",
    "filename = os.path.join(tablepath, 'summarytable_sensorinfo.csv')\n",
    "with open(filename,'wb') as f:\n",
    "    df.to_csv(filename, sep=',', index=False)"
   ]
  },
  {
   "cell_type": "code",
   "execution_count": 106,
   "metadata": {
    "ExecuteTime": {
     "end_time": "2018-10-11T21:35:48.180469Z",
     "start_time": "2018-10-11T21:35:48.172518Z"
    },
    "hidden": true
   },
   "outputs": [
    {
     "data": {
      "text/html": [
       "<div>\n",
       "<style scoped>\n",
       "    .dataframe tbody tr th:only-of-type {\n",
       "        vertical-align: middle;\n",
       "    }\n",
       "\n",
       "    .dataframe tbody tr th {\n",
       "        vertical-align: top;\n",
       "    }\n",
       "\n",
       "    .dataframe thead th {\n",
       "        text-align: right;\n",
       "    }\n",
       "</style>\n",
       "<table border=\"1\" class=\"dataframe\">\n",
       "  <thead>\n",
       "    <tr style=\"text-align: right;\">\n",
       "      <th></th>\n",
       "      <th>Question</th>\n",
       "      <th>Variable Name</th>\n",
       "      <th>Variable details</th>\n",
       "    </tr>\n",
       "  </thead>\n",
       "  <tbody>\n",
       "    <tr>\n",
       "      <th>0</th>\n",
       "      <td>Sensor Location</td>\n",
       "      <td>Sensor Location</td>\n",
       "      <td>One of: ('medial_chest', 'flexor_digitorum_rig...</td>\n",
       "    </tr>\n",
       "    <tr>\n",
       "      <th>1</th>\n",
       "      <td>ECG/EMG (KHz)</td>\n",
       "      <td>ECG/EMG (KHz)</td>\n",
       "      <td>One of: ('1.0','')</td>\n",
       "    </tr>\n",
       "    <tr>\n",
       "      <th>2</th>\n",
       "      <td>Accel (Hz)</td>\n",
       "      <td>Accel (Hz)</td>\n",
       "      <td>One of: ('31.25','62.5')</td>\n",
       "    </tr>\n",
       "    <tr>\n",
       "      <th>3</th>\n",
       "      <td>Gyro (Hz)</td>\n",
       "      <td>Gyro (Hz)</td>\n",
       "      <td>One of: ('62.5','')</td>\n",
       "    </tr>\n",
       "    <tr>\n",
       "      <th>4</th>\n",
       "      <td>Description of Landmarks</td>\n",
       "      <td>Description of Landmarks</td>\n",
       "      <td>One of: ('Halfway between base of throat and b...</td>\n",
       "    </tr>\n",
       "    <tr>\n",
       "      <th>5</th>\n",
       "      <td>X-axis orientation</td>\n",
       "      <td>X-axis orientation</td>\n",
       "      <td>One of: ('Left', 'Inferior', 'Right', 'Lateral')</td>\n",
       "    </tr>\n",
       "    <tr>\n",
       "      <th>6</th>\n",
       "      <td>Y-axis orientation</td>\n",
       "      <td>Y-axis orientation</td>\n",
       "      <td>One of: ('Superior', 'Medial', 'Lateral', 'Ant...</td>\n",
       "    </tr>\n",
       "    <tr>\n",
       "      <th>7</th>\n",
       "      <td>Z-axis orientation</td>\n",
       "      <td>Z-axis orientation</td>\n",
       "      <td>One of: ('Anterior', 'Lateral', 'Posterior')</td>\n",
       "    </tr>\n",
       "  </tbody>\n",
       "</table>\n",
       "</div>"
      ],
      "text/plain": [
       "                   Question             Variable Name  \\\n",
       "0           Sensor Location           Sensor Location   \n",
       "1             ECG/EMG (KHz)             ECG/EMG (KHz)   \n",
       "2                Accel (Hz)                Accel (Hz)   \n",
       "3                 Gyro (Hz)                 Gyro (Hz)   \n",
       "4  Description of Landmarks  Description of Landmarks   \n",
       "5        X-axis orientation        X-axis orientation   \n",
       "6        Y-axis orientation        Y-axis orientation   \n",
       "7        Z-axis orientation        Z-axis orientation   \n",
       "\n",
       "                                    Variable details  \n",
       "0  One of: ('medial_chest', 'flexor_digitorum_rig...  \n",
       "1                                 One of: ('1.0','')  \n",
       "2                           One of: ('31.25','62.5')  \n",
       "3                                One of: ('62.5','')  \n",
       "4  One of: ('Halfway between base of throat and b...  \n",
       "5   One of: ('Left', 'Inferior', 'Right', 'Lateral')  \n",
       "6  One of: ('Superior', 'Medial', 'Lateral', 'Ant...  \n",
       "7       One of: ('Anterior', 'Lateral', 'Posterior')  "
      ]
     },
     "execution_count": 106,
     "metadata": {},
     "output_type": "execute_result"
    }
   ],
   "source": [
    "df"
   ]
  },
  {
   "cell_type": "markdown",
   "metadata": {
    "heading_collapsed": true
   },
   "source": [
    "# Create Table 7 - Sensor Location and Serial Number"
   ]
  },
  {
   "cell_type": "code",
   "execution_count": 4,
   "metadata": {
    "ExecuteTime": {
     "end_time": "2018-10-16T14:09:51.569238Z",
     "start_time": "2018-10-16T14:09:51.533024Z"
    },
    "hidden": true
   },
   "outputs": [],
   "source": [
    "filepath = r'Y:\\CIS-PD Study\\MJFF Curation'\n",
    "senserialdf = pd.read_csv(os.path.join(filepath,'sensor_serialnum.csv'))"
   ]
  },
  {
   "cell_type": "code",
   "execution_count": 55,
   "metadata": {
    "ExecuteTime": {
     "end_time": "2018-10-16T14:39:19.545678Z",
     "start_time": "2018-10-16T14:39:19.445394Z"
    },
    "hidden": true
   },
   "outputs": [],
   "source": [
    "tabledata = {\n",
    "'Question': ['Subject ID', 'Visit'] + [senserialdf.iloc[0][0]] + [senserialdf.columns[2]],\n",
    "'Variable Name': senserialdf.iloc[1][0:2].values.tolist() + [senserialdf.iloc[0][0]] + [senserialdf.columns[2]],\n",
    "'Variable details': ['Integer',\n",
    "                     'One of: (\\'2 weeks\\',\\'4 weeks\\')',\n",
    "                     'One of: (\\'' + '\\', \\''.join(senserialdf.iloc[0,2:].values.tolist()) + '\\')',\n",
    "                     'Text']\n",
    "}\n",
    "df = pd.DataFrame(tabledata)\n",
    "\n",
    "# save table as csv file\n",
    "tablepath = r'Y:\\CIS-PD Study\\MJFF Curation\\tables'\n",
    "filename = os.path.join(tablepath, 'summarytable_sensor_serialnum.csv')\n",
    "with open(filename,'wb') as f:\n",
    "    df.to_csv(filename, sep=',', index=False)"
   ]
  },
  {
   "cell_type": "code",
   "execution_count": 54,
   "metadata": {
    "ExecuteTime": {
     "end_time": "2018-10-16T14:38:27.821518Z",
     "start_time": "2018-10-16T14:38:27.814537Z"
    },
    "hidden": true
   },
   "outputs": [
    {
     "data": {
      "text/html": [
       "<div>\n",
       "<style scoped>\n",
       "    .dataframe tbody tr th:only-of-type {\n",
       "        vertical-align: middle;\n",
       "    }\n",
       "\n",
       "    .dataframe tbody tr th {\n",
       "        vertical-align: top;\n",
       "    }\n",
       "\n",
       "    .dataframe thead th {\n",
       "        text-align: right;\n",
       "    }\n",
       "</style>\n",
       "<table border=\"1\" class=\"dataframe\">\n",
       "  <thead>\n",
       "    <tr style=\"text-align: right;\">\n",
       "      <th></th>\n",
       "      <th>Question</th>\n",
       "      <th>Variable Name</th>\n",
       "      <th>Variable details</th>\n",
       "    </tr>\n",
       "  </thead>\n",
       "  <tbody>\n",
       "    <tr>\n",
       "      <th>0</th>\n",
       "      <td>Subject ID</td>\n",
       "      <td>SubjID</td>\n",
       "      <td>Integer</td>\n",
       "    </tr>\n",
       "    <tr>\n",
       "      <th>1</th>\n",
       "      <td>Visit</td>\n",
       "      <td>Visit</td>\n",
       "      <td>One of: ('2 weeks','4 weeks')</td>\n",
       "    </tr>\n",
       "    <tr>\n",
       "      <th>2</th>\n",
       "      <td>Sensor Location</td>\n",
       "      <td>Sensor Location</td>\n",
       "      <td>One of: ('anterior thigh left', 'anterior thig...</td>\n",
       "    </tr>\n",
       "    <tr>\n",
       "      <th>3</th>\n",
       "      <td>Serial Number</td>\n",
       "      <td>Serial Number</td>\n",
       "      <td>Text</td>\n",
       "    </tr>\n",
       "  </tbody>\n",
       "</table>\n",
       "</div>"
      ],
      "text/plain": [
       "          Question    Variable Name  \\\n",
       "0       Subject ID           SubjID   \n",
       "1            Visit            Visit   \n",
       "2  Sensor Location  Sensor Location   \n",
       "3    Serial Number    Serial Number   \n",
       "\n",
       "                                    Variable details  \n",
       "0                                            Integer  \n",
       "1                      One of: ('2 weeks','4 weeks')  \n",
       "2  One of: ('anterior thigh left', 'anterior thig...  \n",
       "3                                               Text  "
      ]
     },
     "execution_count": 54,
     "metadata": {},
     "output_type": "execute_result"
    }
   ],
   "source": [
    "df"
   ]
  },
  {
   "cell_type": "markdown",
   "metadata": {
    "heading_collapsed": true
   },
   "source": [
    "# Extract data for Methods section\n",
    "- number of subjects\n",
    "- subjects per site\n",
    "- removed subjects"
   ]
  },
  {
   "cell_type": "code",
   "execution_count": 27,
   "metadata": {
    "hidden": true
   },
   "outputs": [
    {
     "data": {
      "text/html": [
       "<div>\n",
       "<style scoped>\n",
       "    .dataframe tbody tr th:only-of-type {\n",
       "        vertical-align: middle;\n",
       "    }\n",
       "\n",
       "    .dataframe tbody tr th {\n",
       "        vertical-align: top;\n",
       "    }\n",
       "\n",
       "    .dataframe thead th {\n",
       "        text-align: right;\n",
       "    }\n",
       "</style>\n",
       "<table border=\"1\" class=\"dataframe\">\n",
       "  <thead>\n",
       "    <tr style=\"text-align: right;\">\n",
       "      <th></th>\n",
       "      <th>SubjectCode</th>\n",
       "      <th>SiteID</th>\n",
       "      <th>VisitNm</th>\n",
       "      <th>Q11</th>\n",
       "      <th>Q12</th>\n",
       "      <th>ConsentDate</th>\n",
       "      <th>Age</th>\n",
       "      <th>Q03</th>\n",
       "      <th>Q04</th>\n",
       "      <th>Q05</th>\n",
       "      <th>Q06</th>\n",
       "      <th>Q07</th>\n",
       "      <th>Q08</th>\n",
       "      <th>Q09</th>\n",
       "      <th>Q10</th>\n",
       "    </tr>\n",
       "  </thead>\n",
       "  <tbody>\n",
       "    <tr>\n",
       "      <th>0</th>\n",
       "      <td>1000.0</td>\n",
       "      <td>1313.0</td>\n",
       "      <td>Baseline</td>\n",
       "      <td>A1784</td>\n",
       "      <td>10.3.2</td>\n",
       "      <td>2017-06-15</td>\n",
       "      <td>63.0</td>\n",
       "      <td>Yes</td>\n",
       "      <td>Yes</td>\n",
       "      <td>Yes</td>\n",
       "      <td>Yes</td>\n",
       "      <td>Yes</td>\n",
       "      <td>Yes</td>\n",
       "      <td>No</td>\n",
       "      <td>No</td>\n",
       "    </tr>\n",
       "    <tr>\n",
       "      <th>1</th>\n",
       "      <td>1001.0</td>\n",
       "      <td>1313.0</td>\n",
       "      <td>Baseline</td>\n",
       "      <td>A1778</td>\n",
       "      <td>10.3.2</td>\n",
       "      <td>2017-06-15</td>\n",
       "      <td>64.0</td>\n",
       "      <td>No</td>\n",
       "      <td>Yes</td>\n",
       "      <td>Yes</td>\n",
       "      <td>Yes</td>\n",
       "      <td>Yes</td>\n",
       "      <td>Yes</td>\n",
       "      <td>No</td>\n",
       "      <td>No</td>\n",
       "    </tr>\n",
       "    <tr>\n",
       "      <th>2</th>\n",
       "      <td>1002.0</td>\n",
       "      <td>1313.0</td>\n",
       "      <td>Baseline</td>\n",
       "      <td>A1586</td>\n",
       "      <td>10.3.2</td>\n",
       "      <td>2017-06-16</td>\n",
       "      <td>51.0</td>\n",
       "      <td>No</td>\n",
       "      <td>Yes</td>\n",
       "      <td>Yes</td>\n",
       "      <td>Yes</td>\n",
       "      <td>Yes</td>\n",
       "      <td>Yes</td>\n",
       "      <td>No</td>\n",
       "      <td>No</td>\n",
       "    </tr>\n",
       "  </tbody>\n",
       "</table>\n",
       "</div>"
      ],
      "text/plain": [
       "   SubjectCode  SiteID   VisitNm    Q11     Q12 ConsentDate   Age  Q03  Q04  \\\n",
       "0       1000.0  1313.0  Baseline  A1784  10.3.2  2017-06-15  63.0  Yes  Yes   \n",
       "1       1001.0  1313.0  Baseline  A1778  10.3.2  2017-06-15  64.0   No  Yes   \n",
       "2       1002.0  1313.0  Baseline  A1586  10.3.2  2017-06-16  51.0   No  Yes   \n",
       "\n",
       "   Q05  Q06  Q07  Q08 Q09 Q10  \n",
       "0  Yes  Yes  Yes  Yes  No  No  \n",
       "1  Yes  Yes  Yes  Yes  No  No  \n",
       "2  Yes  Yes  Yes  Yes  No  No  "
      ]
     },
     "execution_count": 27,
     "metadata": {},
     "output_type": "execute_result"
    }
   ],
   "source": [
    "data101.head(3)"
   ]
  },
  {
   "cell_type": "code",
   "execution_count": null,
   "metadata": {
    "hidden": true
   },
   "outputs": [],
   "source": [
    "# data101.groupby(pd.cut(Pxx.index, bins=binedges)).mean().fillna(0)"
   ]
  },
  {
   "cell_type": "code",
   "execution_count": 28,
   "metadata": {
    "hidden": true
   },
   "outputs": [
    {
     "data": {
      "text/plain": [
       "<pandas.core.groupby.groupby.DataFrameGroupBy object at 0x0000020272935E80>"
      ]
     },
     "execution_count": 28,
     "metadata": {},
     "output_type": "execute_result"
    }
   ],
   "source": [
    "data101.groupby(by=data101.SubjectCode)"
   ]
  },
  {
   "cell_type": "code",
   "execution_count": 34,
   "metadata": {
    "hidden": true
   },
   "outputs": [
    {
     "data": {
      "text/plain": [
       "array([1000., 1001., 1002., 1003., 1004., 1005., 1006., 1007., 1008.,\n",
       "       1009., 1010., 1011., 1013., 1014., 1015., 1016., 1017., 1018.,\n",
       "       1019., 1020., 1021., 1022., 1023., 1024., 1025., 1026., 1027.,\n",
       "       1028., 1029., 1030., 1031., 1032., 1033., 1034., 1035., 1036.,\n",
       "       1037., 1038., 1039., 1040., 1041., 1042., 1043., 1044., 1045.,\n",
       "       1046., 1047., 1048., 1049., 1050., 1051., 1052., 1053., 1054.,\n",
       "       1055., 1056.])"
      ]
     },
     "execution_count": 34,
     "metadata": {},
     "output_type": "execute_result"
    }
   ],
   "source": [
    "pd.unique(data101.SubjectCode.values)"
   ]
  },
  {
   "cell_type": "markdown",
   "metadata": {
    "hidden": true
   },
   "source": [
    "### total number of patients - DONE"
   ]
  },
  {
   "cell_type": "code",
   "execution_count": 32,
   "metadata": {
    "hidden": true
   },
   "outputs": [
    {
     "data": {
      "text/plain": [
       "56"
      ]
     },
     "execution_count": 32,
     "metadata": {},
     "output_type": "execute_result"
    }
   ],
   "source": [
    "len(pd.unique(data101.SubjectCode.values))"
   ]
  },
  {
   "cell_type": "code",
   "execution_count": 33,
   "metadata": {
    "hidden": true
   },
   "outputs": [
    {
     "data": {
      "text/plain": [
       "56"
      ]
     },
     "execution_count": 33,
     "metadata": {},
     "output_type": "execute_result"
    }
   ],
   "source": [
    "len(data101.SubjectCode.values)"
   ]
  },
  {
   "cell_type": "markdown",
   "metadata": {
    "hidden": true
   },
   "source": [
    "### check 4 sites - PASS"
   ]
  },
  {
   "cell_type": "code",
   "execution_count": 37,
   "metadata": {
    "hidden": true
   },
   "outputs": [
    {
     "name": "stdout",
     "output_type": "stream",
     "text": [
      "[1313. 1332. 1396. 1018.]\n"
     ]
    }
   ],
   "source": [
    "# checks out\n",
    "sites = pd.unique(data101.SiteID.values)\n",
    "print(sites)"
   ]
  },
  {
   "cell_type": "markdown",
   "metadata": {
    "hidden": true
   },
   "source": [
    "### check n for each site - DONE"
   ]
  },
  {
   "cell_type": "code",
   "execution_count": null,
   "metadata": {
    "hidden": true
   },
   "outputs": [],
   "source": [
    "data101.loc[data101.SiteID == 1313]"
   ]
  },
  {
   "cell_type": "code",
   "execution_count": 40,
   "metadata": {
    "hidden": true
   },
   "outputs": [
    {
     "data": {
      "text/plain": [
       "13"
      ]
     },
     "execution_count": 40,
     "metadata": {},
     "output_type": "execute_result"
    }
   ],
   "source": [
    "# n for site 1313\n",
    "len(data101.loc[data101.SiteID == 1313])"
   ]
  },
  {
   "cell_type": "code",
   "execution_count": null,
   "metadata": {
    "hidden": true
   },
   "outputs": [],
   "source": [
    "data101.loc[data101.SiteID == 1332]"
   ]
  },
  {
   "cell_type": "code",
   "execution_count": 41,
   "metadata": {
    "hidden": true
   },
   "outputs": [
    {
     "data": {
      "text/plain": [
       "21"
      ]
     },
     "execution_count": 41,
     "metadata": {},
     "output_type": "execute_result"
    }
   ],
   "source": [
    "len(data101.loc[data101.SiteID == 1332])"
   ]
  },
  {
   "cell_type": "code",
   "execution_count": null,
   "metadata": {
    "hidden": true
   },
   "outputs": [],
   "source": [
    "data101.loc[data101.SiteID == 1396]"
   ]
  },
  {
   "cell_type": "code",
   "execution_count": 42,
   "metadata": {
    "hidden": true
   },
   "outputs": [
    {
     "data": {
      "text/plain": [
       "12"
      ]
     },
     "execution_count": 42,
     "metadata": {},
     "output_type": "execute_result"
    }
   ],
   "source": [
    "len(data101.loc[data101.SiteID == 1396])"
   ]
  },
  {
   "cell_type": "code",
   "execution_count": null,
   "metadata": {
    "hidden": true
   },
   "outputs": [],
   "source": [
    "data101.loc[data101.SiteID == 1018]"
   ]
  },
  {
   "cell_type": "code",
   "execution_count": 43,
   "metadata": {
    "hidden": true
   },
   "outputs": [
    {
     "data": {
      "text/plain": [
       "10"
      ]
     },
     "execution_count": 43,
     "metadata": {},
     "output_type": "execute_result"
    }
   ],
   "source": [
    "len(data101.loc[data101.SiteID == 1018])"
   ]
  },
  {
   "cell_type": "markdown",
   "metadata": {
    "hidden": true
   },
   "source": [
    "### Decode site code - DONE"
   ]
  },
  {
   "cell_type": "markdown",
   "metadata": {
    "hidden": true
   },
   "source": [
    "Determine site from subjenrollment.sas7bdat using SiteID and FoxInsightID that has the initials of the institution.\n",
    "Site 1313 - University of Alabama\n",
    "Site 1332 - Northwestern University\n",
    "Site 1396 - University of Rochester\n",
    "Site 1018 - University of Cincinnati "
   ]
  },
  {
   "cell_type": "markdown",
   "metadata": {},
   "source": [
    "# Patient onboarding illustration?\n",
    "Pt assessed for eligiblity, n=\n",
    "Screen failed, n=\n",
    "Consented, n=\t\tFORM 126\n",
    "Completed testing, n= FORM 126\n",
    "Non-completion, n=\n",
    "Why not completed - death, etc. look on the form\n",
    "Data used/shared, n= \n",
    "Unusable data, n="
   ]
  },
  {
   "cell_type": "code",
   "execution_count": null,
   "metadata": {},
   "outputs": [],
   "source": []
  }
 ],
 "metadata": {
  "kernelspec": {
   "display_name": "Python 3",
   "language": "python",
   "name": "python3"
  },
  "language_info": {
   "codemirror_mode": {
    "name": "ipython",
    "version": 3
   },
   "file_extension": ".py",
   "mimetype": "text/x-python",
   "name": "python",
   "nbconvert_exporter": "python",
   "pygments_lexer": "ipython3",
   "version": "3.6.5"
  }
 },
 "nbformat": 4,
 "nbformat_minor": 2
}
