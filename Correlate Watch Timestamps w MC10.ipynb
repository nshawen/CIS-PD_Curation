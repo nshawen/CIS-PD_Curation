{
 "cells": [
  {
   "cell_type": "code",
   "execution_count": 8,
   "metadata": {
    "ExecuteTime": {
     "end_time": "2018-12-19T13:55:54.519172Z",
     "start_time": "2018-12-19T13:55:54.510166Z"
    }
   },
   "outputs": [],
   "source": [
    "import pandas as pd\n",
    "import numpy as np\n",
    "from datetime import datetime, timedelta\n",
    "from scipy import signal\n",
    "import matplotlib.pyplot as plt\n",
    "%matplotlib inline\n",
    "import seaborn as sns\n",
    "import os\n",
    "from scipy.signal import resample\n",
    "from scipy.signal import correlate"
   ]
  },
  {
   "cell_type": "markdown",
   "metadata": {},
   "source": [
    "## Check sides (of hand)"
   ]
  },
  {
   "cell_type": "code",
   "execution_count": 265,
   "metadata": {},
   "outputs": [
    {
     "data": {
      "text/html": [
       "<div>\n",
       "<style scoped>\n",
       "    .dataframe tbody tr th:only-of-type {\n",
       "        vertical-align: middle;\n",
       "    }\n",
       "\n",
       "    .dataframe tbody tr th {\n",
       "        vertical-align: top;\n",
       "    }\n",
       "\n",
       "    .dataframe thead th {\n",
       "        text-align: right;\n",
       "    }\n",
       "</style>\n",
       "<table border=\"1\" class=\"dataframe\">\n",
       "  <thead>\n",
       "    <tr style=\"text-align: right;\">\n",
       "      <th></th>\n",
       "      <th>SubjectCode</th>\n",
       "      <th>SiteID</th>\n",
       "      <th>VisitNm</th>\n",
       "      <th>Q05</th>\n",
       "      <th>Q06</th>\n",
       "      <th>DataCollected</th>\n",
       "      <th>Q01</th>\n",
       "      <th>Q02</th>\n",
       "      <th>Q03</th>\n",
       "      <th>Q04</th>\n",
       "      <th>Q07</th>\n",
       "    </tr>\n",
       "  </thead>\n",
       "  <tbody>\n",
       "    <tr>\n",
       "      <th>0</th>\n",
       "      <td>1000.0</td>\n",
       "      <td>1313.0</td>\n",
       "      <td>Baseline</td>\n",
       "      <td>XX-XX-2006</td>\n",
       "      <td>XX-XX-2010</td>\n",
       "      <td>Yes</td>\n",
       "      <td>Masters degree (MA, MS, MENG, MSW, etc)</td>\n",
       "      <td>Retired</td>\n",
       "      <td>Expert (uses independently at least daily)</td>\n",
       "      <td>Yes</td>\n",
       "      <td>Right</td>\n",
       "    </tr>\n",
       "    <tr>\n",
       "      <th>1</th>\n",
       "      <td>1001.0</td>\n",
       "      <td>1313.0</td>\n",
       "      <td>Baseline</td>\n",
       "      <td>XX-XX-2012</td>\n",
       "      <td>XX-XX-2012</td>\n",
       "      <td>Yes</td>\n",
       "      <td>Bachelors degree (BA, BS, AB, etc)</td>\n",
       "      <td>Working</td>\n",
       "      <td>Expert (uses independently at least daily)</td>\n",
       "      <td>Yes</td>\n",
       "      <td>Left</td>\n",
       "    </tr>\n",
       "    <tr>\n",
       "      <th>2</th>\n",
       "      <td>1002.0</td>\n",
       "      <td>1313.0</td>\n",
       "      <td>Baseline</td>\n",
       "      <td>XX-XX-2009</td>\n",
       "      <td>09-29-2010</td>\n",
       "      <td>Yes</td>\n",
       "      <td>High school degree (GED or equivalent)</td>\n",
       "      <td>Working</td>\n",
       "      <td>Expert (uses independently at least daily)</td>\n",
       "      <td>Yes</td>\n",
       "      <td>Symmetric</td>\n",
       "    </tr>\n",
       "    <tr>\n",
       "      <th>3</th>\n",
       "      <td>1003.0</td>\n",
       "      <td>1313.0</td>\n",
       "      <td>Baseline</td>\n",
       "      <td>XX-XX-2007</td>\n",
       "      <td>XX-XX-2012</td>\n",
       "      <td>Yes</td>\n",
       "      <td>High school degree (GED or equivalent)</td>\n",
       "      <td>Disabled</td>\n",
       "      <td>Intermediate (can use independently, requires ...</td>\n",
       "      <td>No</td>\n",
       "      <td>Right</td>\n",
       "    </tr>\n",
       "    <tr>\n",
       "      <th>4</th>\n",
       "      <td>1004.0</td>\n",
       "      <td>1332.0</td>\n",
       "      <td>Baseline</td>\n",
       "      <td>XX-XX-2011</td>\n",
       "      <td>XX-XX-2013</td>\n",
       "      <td>Yes</td>\n",
       "      <td>Bachelors degree (BA, BS, AB, etc)</td>\n",
       "      <td>Working</td>\n",
       "      <td>Expert (uses independently at least daily)</td>\n",
       "      <td>No</td>\n",
       "      <td>Symmetric</td>\n",
       "    </tr>\n",
       "    <tr>\n",
       "      <th>5</th>\n",
       "      <td>1005.0</td>\n",
       "      <td>1313.0</td>\n",
       "      <td>Baseline</td>\n",
       "      <td>XX-XX-2011</td>\n",
       "      <td>XX-XX-2011</td>\n",
       "      <td>Yes</td>\n",
       "      <td>Bachelors degree (BA, BS, AB, etc)</td>\n",
       "      <td>Retired</td>\n",
       "      <td>Expert (uses independently at least daily)</td>\n",
       "      <td>Yes</td>\n",
       "      <td>Left</td>\n",
       "    </tr>\n",
       "    <tr>\n",
       "      <th>6</th>\n",
       "      <td>1006.0</td>\n",
       "      <td>1396.0</td>\n",
       "      <td>Baseline</td>\n",
       "      <td>04-XX-2014</td>\n",
       "      <td>06-XX-2014</td>\n",
       "      <td>Yes</td>\n",
       "      <td>Bachelors degree (BA, BS, AB, etc)</td>\n",
       "      <td>Retired</td>\n",
       "      <td>Intermediate (can use independently, requires ...</td>\n",
       "      <td>No</td>\n",
       "      <td>Left</td>\n",
       "    </tr>\n",
       "    <tr>\n",
       "      <th>7</th>\n",
       "      <td>1007.0</td>\n",
       "      <td>1313.0</td>\n",
       "      <td>Baseline</td>\n",
       "      <td>XX-XX-2004</td>\n",
       "      <td>XX-XX-2005</td>\n",
       "      <td>Yes</td>\n",
       "      <td>Some college (1-4 years, no degree)</td>\n",
       "      <td>Retired</td>\n",
       "      <td>Intermediate (can use independently, requires ...</td>\n",
       "      <td>Yes</td>\n",
       "      <td>Right</td>\n",
       "    </tr>\n",
       "    <tr>\n",
       "      <th>8</th>\n",
       "      <td>1008.0</td>\n",
       "      <td>1396.0</td>\n",
       "      <td>Baseline</td>\n",
       "      <td>NaN</td>\n",
       "      <td>NaN</td>\n",
       "      <td>Yes</td>\n",
       "      <td>Professional school degree (MD, DDC, JD etc)</td>\n",
       "      <td>Retired</td>\n",
       "      <td>Intermediate (can use independently, requires ...</td>\n",
       "      <td>No</td>\n",
       "      <td>NaN</td>\n",
       "    </tr>\n",
       "    <tr>\n",
       "      <th>9</th>\n",
       "      <td>1009.0</td>\n",
       "      <td>1313.0</td>\n",
       "      <td>Baseline</td>\n",
       "      <td>XX-XX-2005</td>\n",
       "      <td>XX-XX-2009</td>\n",
       "      <td>Yes</td>\n",
       "      <td>Bachelors degree (BA, BS, AB, etc)</td>\n",
       "      <td>Working</td>\n",
       "      <td>Advanced (uses independently a few times a week)</td>\n",
       "      <td>No</td>\n",
       "      <td>Right</td>\n",
       "    </tr>\n",
       "    <tr>\n",
       "      <th>10</th>\n",
       "      <td>1010.0</td>\n",
       "      <td>1396.0</td>\n",
       "      <td>Baseline</td>\n",
       "      <td>01-XX-2014</td>\n",
       "      <td>06-XX-2014</td>\n",
       "      <td>Yes</td>\n",
       "      <td>Masters degree (MA, MS, MENG, MSW, etc)</td>\n",
       "      <td>Retired</td>\n",
       "      <td>Expert (uses independently at least daily)</td>\n",
       "      <td>No</td>\n",
       "      <td>Right</td>\n",
       "    </tr>\n",
       "    <tr>\n",
       "      <th>11</th>\n",
       "      <td>1011.0</td>\n",
       "      <td>1396.0</td>\n",
       "      <td>Baseline</td>\n",
       "      <td>04-XX-2014</td>\n",
       "      <td>05-XX-2015</td>\n",
       "      <td>Yes</td>\n",
       "      <td>Masters degree (MA, MS, MENG, MSW, etc)</td>\n",
       "      <td>Retired</td>\n",
       "      <td>Expert (uses independently at least daily)</td>\n",
       "      <td>No</td>\n",
       "      <td>Left</td>\n",
       "    </tr>\n",
       "    <tr>\n",
       "      <th>12</th>\n",
       "      <td>1013.0</td>\n",
       "      <td>1396.0</td>\n",
       "      <td>Baseline</td>\n",
       "      <td>08-XX-2014</td>\n",
       "      <td>12-XX-2014</td>\n",
       "      <td>Yes</td>\n",
       "      <td>Associates degree \\r\\n        (including occup...</td>\n",
       "      <td>Working</td>\n",
       "      <td>Expert (uses independently at least daily)</td>\n",
       "      <td>No</td>\n",
       "      <td>Right</td>\n",
       "    </tr>\n",
       "    <tr>\n",
       "      <th>13</th>\n",
       "      <td>1014.0</td>\n",
       "      <td>1018.0</td>\n",
       "      <td>Baseline</td>\n",
       "      <td>10-XX-1996</td>\n",
       "      <td>06-20-2001</td>\n",
       "      <td>Yes</td>\n",
       "      <td>Masters degree (MA, MS, MENG, MSW, etc)</td>\n",
       "      <td>Retired</td>\n",
       "      <td>Expert (uses independently at least daily)</td>\n",
       "      <td>Yes</td>\n",
       "      <td>Left</td>\n",
       "    </tr>\n",
       "    <tr>\n",
       "      <th>14</th>\n",
       "      <td>1015.0</td>\n",
       "      <td>1313.0</td>\n",
       "      <td>Baseline</td>\n",
       "      <td>XX-XX-2014</td>\n",
       "      <td>XX-XX-2014</td>\n",
       "      <td>Yes</td>\n",
       "      <td>Bachelors degree (BA, BS, AB, etc)</td>\n",
       "      <td>Working</td>\n",
       "      <td>Novice (some exposure, requires assistance mos...</td>\n",
       "      <td>Yes</td>\n",
       "      <td>Right</td>\n",
       "    </tr>\n",
       "    <tr>\n",
       "      <th>15</th>\n",
       "      <td>1016.0</td>\n",
       "      <td>1332.0</td>\n",
       "      <td>Baseline</td>\n",
       "      <td>XX-XX-2016</td>\n",
       "      <td>XX-XX-2016</td>\n",
       "      <td>Yes</td>\n",
       "      <td>Doctorate degree (PhD, EdD, etc)</td>\n",
       "      <td>Working</td>\n",
       "      <td>Advanced (uses independently a few times a week)</td>\n",
       "      <td>No</td>\n",
       "      <td>Symmetric</td>\n",
       "    </tr>\n",
       "    <tr>\n",
       "      <th>16</th>\n",
       "      <td>1017.0</td>\n",
       "      <td>1313.0</td>\n",
       "      <td>Baseline</td>\n",
       "      <td>XX-XX-2009</td>\n",
       "      <td>XX-XX-2010</td>\n",
       "      <td>Yes</td>\n",
       "      <td>Masters degree (MA, MS, MENG, MSW, etc)</td>\n",
       "      <td>Retired</td>\n",
       "      <td>Intermediate (can use independently, requires ...</td>\n",
       "      <td>Yes</td>\n",
       "      <td>Right</td>\n",
       "    </tr>\n",
       "    <tr>\n",
       "      <th>17</th>\n",
       "      <td>1018.0</td>\n",
       "      <td>1332.0</td>\n",
       "      <td>Baseline</td>\n",
       "      <td>XX-XX-2012</td>\n",
       "      <td>10-XX-2015</td>\n",
       "      <td>Yes</td>\n",
       "      <td>Masters degree (MA, MS, MENG, MSW, etc)</td>\n",
       "      <td>Retired</td>\n",
       "      <td>Expert (uses independently at least daily)</td>\n",
       "      <td>No</td>\n",
       "      <td>Left</td>\n",
       "    </tr>\n",
       "    <tr>\n",
       "      <th>18</th>\n",
       "      <td>1019.0</td>\n",
       "      <td>1332.0</td>\n",
       "      <td>Baseline</td>\n",
       "      <td>XX-XX-2015</td>\n",
       "      <td>XX-XX-2015</td>\n",
       "      <td>Yes</td>\n",
       "      <td>Doctorate degree (PhD, EdD, etc)</td>\n",
       "      <td>Working</td>\n",
       "      <td>Expert (uses independently at least daily)</td>\n",
       "      <td>No</td>\n",
       "      <td>Left</td>\n",
       "    </tr>\n",
       "    <tr>\n",
       "      <th>19</th>\n",
       "      <td>1020.0</td>\n",
       "      <td>1332.0</td>\n",
       "      <td>Baseline</td>\n",
       "      <td>XX-XX-2005</td>\n",
       "      <td>XX-XX-2005</td>\n",
       "      <td>Yes</td>\n",
       "      <td>High school degree (GED or equivalent)</td>\n",
       "      <td>Working</td>\n",
       "      <td>Advanced (uses independently a few times a week)</td>\n",
       "      <td>No</td>\n",
       "      <td>Right</td>\n",
       "    </tr>\n",
       "    <tr>\n",
       "      <th>20</th>\n",
       "      <td>1021.0</td>\n",
       "      <td>1018.0</td>\n",
       "      <td>Baseline</td>\n",
       "      <td>XX-XX-2007</td>\n",
       "      <td>06-12-2010</td>\n",
       "      <td>Yes</td>\n",
       "      <td>Masters degree (MA, MS, MENG, MSW, etc)</td>\n",
       "      <td>Working</td>\n",
       "      <td>Intermediate (can use independently, requires ...</td>\n",
       "      <td>No</td>\n",
       "      <td>Right</td>\n",
       "    </tr>\n",
       "    <tr>\n",
       "      <th>21</th>\n",
       "      <td>1022.0</td>\n",
       "      <td>1018.0</td>\n",
       "      <td>Baseline</td>\n",
       "      <td>XX-XX-2004</td>\n",
       "      <td>05-26-2006</td>\n",
       "      <td>Yes</td>\n",
       "      <td>Bachelors degree (BA, BS, AB, etc)</td>\n",
       "      <td>Retired</td>\n",
       "      <td>Intermediate (can use independently, requires ...</td>\n",
       "      <td>No</td>\n",
       "      <td>Left</td>\n",
       "    </tr>\n",
       "    <tr>\n",
       "      <th>22</th>\n",
       "      <td>1023.0</td>\n",
       "      <td>1018.0</td>\n",
       "      <td>Baseline</td>\n",
       "      <td>04-XX-2012</td>\n",
       "      <td>05-XX-2012</td>\n",
       "      <td>Yes</td>\n",
       "      <td>Bachelors degree (BA, BS, AB, etc)</td>\n",
       "      <td>Retired</td>\n",
       "      <td>Advanced (uses independently a few times a week)</td>\n",
       "      <td>Yes</td>\n",
       "      <td>Left</td>\n",
       "    </tr>\n",
       "    <tr>\n",
       "      <th>23</th>\n",
       "      <td>1024.0</td>\n",
       "      <td>1332.0</td>\n",
       "      <td>Baseline</td>\n",
       "      <td>XX-XX-2000</td>\n",
       "      <td>XX-XX-2000</td>\n",
       "      <td>Yes</td>\n",
       "      <td>Masters degree (MA, MS, MENG, MSW, etc)</td>\n",
       "      <td>Retired</td>\n",
       "      <td>Advanced (uses independently a few times a week)</td>\n",
       "      <td>Yes</td>\n",
       "      <td>Left</td>\n",
       "    </tr>\n",
       "    <tr>\n",
       "      <th>24</th>\n",
       "      <td>1025.0</td>\n",
       "      <td>1313.0</td>\n",
       "      <td>Baseline</td>\n",
       "      <td>XX-XX-2012</td>\n",
       "      <td>XX-XX-2017</td>\n",
       "      <td>Yes</td>\n",
       "      <td>Masters degree (MA, MS, MENG, MSW, etc)</td>\n",
       "      <td>Retired</td>\n",
       "      <td>Intermediate (can use independently, requires ...</td>\n",
       "      <td>No</td>\n",
       "      <td>Left</td>\n",
       "    </tr>\n",
       "    <tr>\n",
       "      <th>25</th>\n",
       "      <td>1026.0</td>\n",
       "      <td>1018.0</td>\n",
       "      <td>Baseline</td>\n",
       "      <td>01-XX-2002</td>\n",
       "      <td>12-XX-2002</td>\n",
       "      <td>Yes</td>\n",
       "      <td>Some college (1-4 years, no degree)</td>\n",
       "      <td>Working</td>\n",
       "      <td>Expert (uses independently at least daily)</td>\n",
       "      <td>No</td>\n",
       "      <td>Left</td>\n",
       "    </tr>\n",
       "    <tr>\n",
       "      <th>26</th>\n",
       "      <td>1027.0</td>\n",
       "      <td>1018.0</td>\n",
       "      <td>Baseline</td>\n",
       "      <td>XX-XX-2000</td>\n",
       "      <td>XX-XX-2000</td>\n",
       "      <td>Yes</td>\n",
       "      <td>Masters degree (MA, MS, MENG, MSW, etc)</td>\n",
       "      <td>Retired</td>\n",
       "      <td>Expert (uses independently at least daily)</td>\n",
       "      <td>No</td>\n",
       "      <td>Left</td>\n",
       "    </tr>\n",
       "    <tr>\n",
       "      <th>27</th>\n",
       "      <td>1028.0</td>\n",
       "      <td>1018.0</td>\n",
       "      <td>Baseline</td>\n",
       "      <td>XX-XX-2001</td>\n",
       "      <td>XX-XX-2001</td>\n",
       "      <td>Yes</td>\n",
       "      <td>Bachelors degree (BA, BS, AB, etc)</td>\n",
       "      <td>Retired</td>\n",
       "      <td>Advanced (uses independently a few times a week)</td>\n",
       "      <td>No</td>\n",
       "      <td>Right</td>\n",
       "    </tr>\n",
       "    <tr>\n",
       "      <th>28</th>\n",
       "      <td>1029.0</td>\n",
       "      <td>1332.0</td>\n",
       "      <td>Baseline</td>\n",
       "      <td>XX-XX-2009</td>\n",
       "      <td>XX-XX-2010</td>\n",
       "      <td>Yes</td>\n",
       "      <td>Bachelors degree (BA, BS, AB, etc)</td>\n",
       "      <td>Retired</td>\n",
       "      <td>Novice (some exposure, requires assistance mos...</td>\n",
       "      <td>Yes</td>\n",
       "      <td>Left</td>\n",
       "    </tr>\n",
       "    <tr>\n",
       "      <th>29</th>\n",
       "      <td>1030.0</td>\n",
       "      <td>1332.0</td>\n",
       "      <td>Baseline</td>\n",
       "      <td>XX-XX-2010</td>\n",
       "      <td>XX-XX-2010</td>\n",
       "      <td>Yes</td>\n",
       "      <td>Doctorate degree (PhD, EdD, etc)</td>\n",
       "      <td>Retired</td>\n",
       "      <td>Advanced (uses independently a few times a week)</td>\n",
       "      <td>No</td>\n",
       "      <td>Left</td>\n",
       "    </tr>\n",
       "    <tr>\n",
       "      <th>30</th>\n",
       "      <td>1031.0</td>\n",
       "      <td>1313.0</td>\n",
       "      <td>Baseline</td>\n",
       "      <td>XX-XX-2004</td>\n",
       "      <td>XX-XX-2005</td>\n",
       "      <td>Yes</td>\n",
       "      <td>Bachelors degree (BA, BS, AB, etc)</td>\n",
       "      <td>Retired</td>\n",
       "      <td>Advanced (uses independently a few times a week)</td>\n",
       "      <td>Yes</td>\n",
       "      <td>Right</td>\n",
       "    </tr>\n",
       "    <tr>\n",
       "      <th>31</th>\n",
       "      <td>1032.0</td>\n",
       "      <td>1332.0</td>\n",
       "      <td>Baseline</td>\n",
       "      <td>XX-XX-2012</td>\n",
       "      <td>XX-XX-2012</td>\n",
       "      <td>Yes</td>\n",
       "      <td>Doctorate degree (PhD, EdD, etc)</td>\n",
       "      <td>Working</td>\n",
       "      <td>Expert (uses independently at least daily)</td>\n",
       "      <td>No</td>\n",
       "      <td>Symmetric</td>\n",
       "    </tr>\n",
       "    <tr>\n",
       "      <th>32</th>\n",
       "      <td>1033.0</td>\n",
       "      <td>1396.0</td>\n",
       "      <td>Baseline</td>\n",
       "      <td>09-XX-2014</td>\n",
       "      <td>02-XX-2015</td>\n",
       "      <td>Yes</td>\n",
       "      <td>Masters degree (MA, MS, MENG, MSW, etc)</td>\n",
       "      <td>Retired</td>\n",
       "      <td>Expert (uses independently at least daily)</td>\n",
       "      <td>No</td>\n",
       "      <td>Right</td>\n",
       "    </tr>\n",
       "    <tr>\n",
       "      <th>33</th>\n",
       "      <td>1034.0</td>\n",
       "      <td>1396.0</td>\n",
       "      <td>Baseline</td>\n",
       "      <td>04-01-2004</td>\n",
       "      <td>01-01-2007</td>\n",
       "      <td>Yes</td>\n",
       "      <td>Masters degree (MA, MS, MENG, MSW, etc)</td>\n",
       "      <td>Retired</td>\n",
       "      <td>Expert (uses independently at least daily)</td>\n",
       "      <td>No</td>\n",
       "      <td>Right</td>\n",
       "    </tr>\n",
       "    <tr>\n",
       "      <th>34</th>\n",
       "      <td>1035.0</td>\n",
       "      <td>1396.0</td>\n",
       "      <td>Baseline</td>\n",
       "      <td>XX-XX-2010</td>\n",
       "      <td>XX-XX-2011</td>\n",
       "      <td>Yes</td>\n",
       "      <td>Associates degree \\r\\n        (including occup...</td>\n",
       "      <td>Working</td>\n",
       "      <td>Expert (uses independently at least daily)</td>\n",
       "      <td>No</td>\n",
       "      <td>Left</td>\n",
       "    </tr>\n",
       "    <tr>\n",
       "      <th>35</th>\n",
       "      <td>1036.0</td>\n",
       "      <td>1396.0</td>\n",
       "      <td>Baseline</td>\n",
       "      <td>07-XX-2014</td>\n",
       "      <td>01-XX-2015</td>\n",
       "      <td>Yes</td>\n",
       "      <td>Masters degree (MA, MS, MENG, MSW, etc)</td>\n",
       "      <td>Working</td>\n",
       "      <td>Expert (uses independently at least daily)</td>\n",
       "      <td>No</td>\n",
       "      <td>Left</td>\n",
       "    </tr>\n",
       "    <tr>\n",
       "      <th>36</th>\n",
       "      <td>1037.0</td>\n",
       "      <td>1396.0</td>\n",
       "      <td>Baseline</td>\n",
       "      <td>XX-XX-2014</td>\n",
       "      <td>04-XX-2016</td>\n",
       "      <td>Yes</td>\n",
       "      <td>Masters degree (MA, MS, MENG, MSW, etc)</td>\n",
       "      <td>Retired</td>\n",
       "      <td>Expert (uses independently at least daily)</td>\n",
       "      <td>No</td>\n",
       "      <td>Symmetric</td>\n",
       "    </tr>\n",
       "    <tr>\n",
       "      <th>37</th>\n",
       "      <td>1038.0</td>\n",
       "      <td>1332.0</td>\n",
       "      <td>Baseline</td>\n",
       "      <td>XX-XX-2007</td>\n",
       "      <td>XX-XX-2007</td>\n",
       "      <td>Yes</td>\n",
       "      <td>Bachelors degree (BA, BS, AB, etc)</td>\n",
       "      <td>Retired</td>\n",
       "      <td>Advanced (uses independently a few times a week)</td>\n",
       "      <td>No</td>\n",
       "      <td>Right</td>\n",
       "    </tr>\n",
       "    <tr>\n",
       "      <th>38</th>\n",
       "      <td>1039.0</td>\n",
       "      <td>1018.0</td>\n",
       "      <td>Baseline</td>\n",
       "      <td>01-XX-2005</td>\n",
       "      <td>01-XX-2007</td>\n",
       "      <td>Yes</td>\n",
       "      <td>Associates degree \\r\\n        (including occup...</td>\n",
       "      <td>Working</td>\n",
       "      <td>Expert (uses independently at least daily)</td>\n",
       "      <td>No</td>\n",
       "      <td>Left</td>\n",
       "    </tr>\n",
       "    <tr>\n",
       "      <th>39</th>\n",
       "      <td>1040.0</td>\n",
       "      <td>1018.0</td>\n",
       "      <td>Baseline</td>\n",
       "      <td>04-XX-2006</td>\n",
       "      <td>11-XX-2006</td>\n",
       "      <td>Yes</td>\n",
       "      <td>Bachelors degree (BA, BS, AB, etc)</td>\n",
       "      <td>Working</td>\n",
       "      <td>Expert (uses independently at least daily)</td>\n",
       "      <td>No</td>\n",
       "      <td>Left</td>\n",
       "    </tr>\n",
       "    <tr>\n",
       "      <th>40</th>\n",
       "      <td>1041.0</td>\n",
       "      <td>1396.0</td>\n",
       "      <td>Baseline</td>\n",
       "      <td>07-XX-2015</td>\n",
       "      <td>08-XX-2016</td>\n",
       "      <td>Yes</td>\n",
       "      <td>Masters degree (MA, MS, MENG, MSW, etc)</td>\n",
       "      <td>Retired</td>\n",
       "      <td>Intermediate (can use independently, requires ...</td>\n",
       "      <td>No</td>\n",
       "      <td>Left</td>\n",
       "    </tr>\n",
       "    <tr>\n",
       "      <th>41</th>\n",
       "      <td>1042.0</td>\n",
       "      <td>1313.0</td>\n",
       "      <td>Baseline</td>\n",
       "      <td>XX-XX-1997</td>\n",
       "      <td>XX-XX-2000</td>\n",
       "      <td>Yes</td>\n",
       "      <td>Bachelors degree (BA, BS, AB, etc)</td>\n",
       "      <td>Disabled</td>\n",
       "      <td>Novice (some exposure, requires assistance mos...</td>\n",
       "      <td>Yes</td>\n",
       "      <td>Right</td>\n",
       "    </tr>\n",
       "    <tr>\n",
       "      <th>42</th>\n",
       "      <td>1043.0</td>\n",
       "      <td>1018.0</td>\n",
       "      <td>Baseline</td>\n",
       "      <td>07-04-2003</td>\n",
       "      <td>09-XX-2004</td>\n",
       "      <td>Yes</td>\n",
       "      <td>Professional school degree (MD, DDC, JD etc)</td>\n",
       "      <td>Working</td>\n",
       "      <td>Expert (uses independently at least daily)</td>\n",
       "      <td>No</td>\n",
       "      <td>Left</td>\n",
       "    </tr>\n",
       "    <tr>\n",
       "      <th>43</th>\n",
       "      <td>1044.0</td>\n",
       "      <td>1332.0</td>\n",
       "      <td>Baseline</td>\n",
       "      <td>XX-XX-2013</td>\n",
       "      <td>XX-XX-2014</td>\n",
       "      <td>Yes</td>\n",
       "      <td>Bachelors degree (BA, BS, AB, etc)</td>\n",
       "      <td>Working</td>\n",
       "      <td>Intermediate (can use independently, requires ...</td>\n",
       "      <td>No</td>\n",
       "      <td>Left</td>\n",
       "    </tr>\n",
       "    <tr>\n",
       "      <th>44</th>\n",
       "      <td>1045.0</td>\n",
       "      <td>1332.0</td>\n",
       "      <td>Baseline</td>\n",
       "      <td>XX-XX-2007</td>\n",
       "      <td>XX-XX-2008</td>\n",
       "      <td>Yes</td>\n",
       "      <td>Bachelors degree (BA, BS, AB, etc)</td>\n",
       "      <td>Retired</td>\n",
       "      <td>Intermediate (can use independently, requires ...</td>\n",
       "      <td>No</td>\n",
       "      <td>Left</td>\n",
       "    </tr>\n",
       "    <tr>\n",
       "      <th>45</th>\n",
       "      <td>1046.0</td>\n",
       "      <td>1332.0</td>\n",
       "      <td>Baseline</td>\n",
       "      <td>XX-XX-2012</td>\n",
       "      <td>XX-XX-2014</td>\n",
       "      <td>Yes</td>\n",
       "      <td>Professional school degree (MD, DDC, JD etc)</td>\n",
       "      <td>Retired</td>\n",
       "      <td>Expert (uses independently at least daily)</td>\n",
       "      <td>No</td>\n",
       "      <td>Right</td>\n",
       "    </tr>\n",
       "    <tr>\n",
       "      <th>46</th>\n",
       "      <td>1047.0</td>\n",
       "      <td>1332.0</td>\n",
       "      <td>Baseline</td>\n",
       "      <td>XX-XX-2009</td>\n",
       "      <td>XX-XX-2010</td>\n",
       "      <td>Yes</td>\n",
       "      <td>Bachelors degree (BA, BS, AB, etc)</td>\n",
       "      <td>Working</td>\n",
       "      <td>Expert (uses independently at least daily)</td>\n",
       "      <td>No</td>\n",
       "      <td>Right</td>\n",
       "    </tr>\n",
       "    <tr>\n",
       "      <th>47</th>\n",
       "      <td>1048.0</td>\n",
       "      <td>1396.0</td>\n",
       "      <td>Baseline</td>\n",
       "      <td>XX-XX-2009</td>\n",
       "      <td>XX-XX-2011</td>\n",
       "      <td>Yes</td>\n",
       "      <td>Professional school degree (MD, DDC, JD etc)</td>\n",
       "      <td>Retired</td>\n",
       "      <td>Intermediate (can use independently, requires ...</td>\n",
       "      <td>No</td>\n",
       "      <td>Right</td>\n",
       "    </tr>\n",
       "    <tr>\n",
       "      <th>48</th>\n",
       "      <td>1049.0</td>\n",
       "      <td>1332.0</td>\n",
       "      <td>Baseline</td>\n",
       "      <td>XX-XX-2006</td>\n",
       "      <td>XX-XX-2008</td>\n",
       "      <td>Yes</td>\n",
       "      <td>Some college (1-4 years, no degree)</td>\n",
       "      <td>Disabled</td>\n",
       "      <td>Expert (uses independently at least daily)</td>\n",
       "      <td>No</td>\n",
       "      <td>Left</td>\n",
       "    </tr>\n",
       "    <tr>\n",
       "      <th>49</th>\n",
       "      <td>1050.0</td>\n",
       "      <td>1313.0</td>\n",
       "      <td>Baseline</td>\n",
       "      <td>XX-XX-2012</td>\n",
       "      <td>XX-XX-2014</td>\n",
       "      <td>Yes</td>\n",
       "      <td>Bachelors degree (BA, BS, AB, etc)</td>\n",
       "      <td>Retired</td>\n",
       "      <td>Expert (uses independently at least daily)</td>\n",
       "      <td>Yes</td>\n",
       "      <td>Left</td>\n",
       "    </tr>\n",
       "    <tr>\n",
       "      <th>50</th>\n",
       "      <td>1051.0</td>\n",
       "      <td>1332.0</td>\n",
       "      <td>Baseline</td>\n",
       "      <td>XX-XX-2013</td>\n",
       "      <td>XX-XX-2015</td>\n",
       "      <td>Yes</td>\n",
       "      <td>Bachelors degree (BA, BS, AB, etc)</td>\n",
       "      <td>Working</td>\n",
       "      <td>Expert (uses independently at least daily)</td>\n",
       "      <td>No</td>\n",
       "      <td>Left</td>\n",
       "    </tr>\n",
       "    <tr>\n",
       "      <th>51</th>\n",
       "      <td>1052.0</td>\n",
       "      <td>1332.0</td>\n",
       "      <td>Baseline</td>\n",
       "      <td>XX-XX-2007</td>\n",
       "      <td>XX-XX-2008</td>\n",
       "      <td>Yes</td>\n",
       "      <td>Professional school degree (MD, DDC, JD etc)</td>\n",
       "      <td>Retired</td>\n",
       "      <td>Intermediate (can use independently, requires ...</td>\n",
       "      <td>Yes</td>\n",
       "      <td>Symmetric</td>\n",
       "    </tr>\n",
       "    <tr>\n",
       "      <th>52</th>\n",
       "      <td>1053.0</td>\n",
       "      <td>1332.0</td>\n",
       "      <td>Baseline</td>\n",
       "      <td>XX-XX-2014</td>\n",
       "      <td>XX-XX-2014</td>\n",
       "      <td>Yes</td>\n",
       "      <td>Professional school degree (MD, DDC, JD etc)</td>\n",
       "      <td>Retired</td>\n",
       "      <td>Advanced (uses independently a few times a week)</td>\n",
       "      <td>Yes</td>\n",
       "      <td>Left</td>\n",
       "    </tr>\n",
       "    <tr>\n",
       "      <th>53</th>\n",
       "      <td>1054.0</td>\n",
       "      <td>1332.0</td>\n",
       "      <td>Baseline</td>\n",
       "      <td>XX-XX-2000</td>\n",
       "      <td>XX-XX-2002</td>\n",
       "      <td>Yes</td>\n",
       "      <td>Doctorate degree (PhD, EdD, etc)</td>\n",
       "      <td>Retired</td>\n",
       "      <td>Intermediate (can use independently, requires ...</td>\n",
       "      <td>Yes</td>\n",
       "      <td>Right</td>\n",
       "    </tr>\n",
       "    <tr>\n",
       "      <th>54</th>\n",
       "      <td>1055.0</td>\n",
       "      <td>1332.0</td>\n",
       "      <td>Baseline</td>\n",
       "      <td>XX-XX-2006</td>\n",
       "      <td>XX-XX-2009</td>\n",
       "      <td>Yes</td>\n",
       "      <td>Professional school degree (MD, DDC, JD etc)</td>\n",
       "      <td>Retired</td>\n",
       "      <td>Intermediate (can use independently, requires ...</td>\n",
       "      <td>No</td>\n",
       "      <td>Right</td>\n",
       "    </tr>\n",
       "    <tr>\n",
       "      <th>55</th>\n",
       "      <td>1056.0</td>\n",
       "      <td>1332.0</td>\n",
       "      <td>Baseline</td>\n",
       "      <td>XX-XX-2005</td>\n",
       "      <td>XX-XX-2006</td>\n",
       "      <td>Yes</td>\n",
       "      <td>Doctorate degree (PhD, EdD, etc)</td>\n",
       "      <td>Retired</td>\n",
       "      <td>Intermediate (can use independently, requires ...</td>\n",
       "      <td>Yes</td>\n",
       "      <td>Left</td>\n",
       "    </tr>\n",
       "  </tbody>\n",
       "</table>\n",
       "</div>"
      ],
      "text/plain": [
       "    SubjectCode  SiteID   VisitNm         Q05         Q06 DataCollected  \\\n",
       "0        1000.0  1313.0  Baseline  XX-XX-2006  XX-XX-2010           Yes   \n",
       "1        1001.0  1313.0  Baseline  XX-XX-2012  XX-XX-2012           Yes   \n",
       "2        1002.0  1313.0  Baseline  XX-XX-2009  09-29-2010           Yes   \n",
       "3        1003.0  1313.0  Baseline  XX-XX-2007  XX-XX-2012           Yes   \n",
       "4        1004.0  1332.0  Baseline  XX-XX-2011  XX-XX-2013           Yes   \n",
       "5        1005.0  1313.0  Baseline  XX-XX-2011  XX-XX-2011           Yes   \n",
       "6        1006.0  1396.0  Baseline  04-XX-2014  06-XX-2014           Yes   \n",
       "7        1007.0  1313.0  Baseline  XX-XX-2004  XX-XX-2005           Yes   \n",
       "8        1008.0  1396.0  Baseline         NaN         NaN           Yes   \n",
       "9        1009.0  1313.0  Baseline  XX-XX-2005  XX-XX-2009           Yes   \n",
       "10       1010.0  1396.0  Baseline  01-XX-2014  06-XX-2014           Yes   \n",
       "11       1011.0  1396.0  Baseline  04-XX-2014  05-XX-2015           Yes   \n",
       "12       1013.0  1396.0  Baseline  08-XX-2014  12-XX-2014           Yes   \n",
       "13       1014.0  1018.0  Baseline  10-XX-1996  06-20-2001           Yes   \n",
       "14       1015.0  1313.0  Baseline  XX-XX-2014  XX-XX-2014           Yes   \n",
       "15       1016.0  1332.0  Baseline  XX-XX-2016  XX-XX-2016           Yes   \n",
       "16       1017.0  1313.0  Baseline  XX-XX-2009  XX-XX-2010           Yes   \n",
       "17       1018.0  1332.0  Baseline  XX-XX-2012  10-XX-2015           Yes   \n",
       "18       1019.0  1332.0  Baseline  XX-XX-2015  XX-XX-2015           Yes   \n",
       "19       1020.0  1332.0  Baseline  XX-XX-2005  XX-XX-2005           Yes   \n",
       "20       1021.0  1018.0  Baseline  XX-XX-2007  06-12-2010           Yes   \n",
       "21       1022.0  1018.0  Baseline  XX-XX-2004  05-26-2006           Yes   \n",
       "22       1023.0  1018.0  Baseline  04-XX-2012  05-XX-2012           Yes   \n",
       "23       1024.0  1332.0  Baseline  XX-XX-2000  XX-XX-2000           Yes   \n",
       "24       1025.0  1313.0  Baseline  XX-XX-2012  XX-XX-2017           Yes   \n",
       "25       1026.0  1018.0  Baseline  01-XX-2002  12-XX-2002           Yes   \n",
       "26       1027.0  1018.0  Baseline  XX-XX-2000  XX-XX-2000           Yes   \n",
       "27       1028.0  1018.0  Baseline  XX-XX-2001  XX-XX-2001           Yes   \n",
       "28       1029.0  1332.0  Baseline  XX-XX-2009  XX-XX-2010           Yes   \n",
       "29       1030.0  1332.0  Baseline  XX-XX-2010  XX-XX-2010           Yes   \n",
       "30       1031.0  1313.0  Baseline  XX-XX-2004  XX-XX-2005           Yes   \n",
       "31       1032.0  1332.0  Baseline  XX-XX-2012  XX-XX-2012           Yes   \n",
       "32       1033.0  1396.0  Baseline  09-XX-2014  02-XX-2015           Yes   \n",
       "33       1034.0  1396.0  Baseline  04-01-2004  01-01-2007           Yes   \n",
       "34       1035.0  1396.0  Baseline  XX-XX-2010  XX-XX-2011           Yes   \n",
       "35       1036.0  1396.0  Baseline  07-XX-2014  01-XX-2015           Yes   \n",
       "36       1037.0  1396.0  Baseline  XX-XX-2014  04-XX-2016           Yes   \n",
       "37       1038.0  1332.0  Baseline  XX-XX-2007  XX-XX-2007           Yes   \n",
       "38       1039.0  1018.0  Baseline  01-XX-2005  01-XX-2007           Yes   \n",
       "39       1040.0  1018.0  Baseline  04-XX-2006  11-XX-2006           Yes   \n",
       "40       1041.0  1396.0  Baseline  07-XX-2015  08-XX-2016           Yes   \n",
       "41       1042.0  1313.0  Baseline  XX-XX-1997  XX-XX-2000           Yes   \n",
       "42       1043.0  1018.0  Baseline  07-04-2003  09-XX-2004           Yes   \n",
       "43       1044.0  1332.0  Baseline  XX-XX-2013  XX-XX-2014           Yes   \n",
       "44       1045.0  1332.0  Baseline  XX-XX-2007  XX-XX-2008           Yes   \n",
       "45       1046.0  1332.0  Baseline  XX-XX-2012  XX-XX-2014           Yes   \n",
       "46       1047.0  1332.0  Baseline  XX-XX-2009  XX-XX-2010           Yes   \n",
       "47       1048.0  1396.0  Baseline  XX-XX-2009  XX-XX-2011           Yes   \n",
       "48       1049.0  1332.0  Baseline  XX-XX-2006  XX-XX-2008           Yes   \n",
       "49       1050.0  1313.0  Baseline  XX-XX-2012  XX-XX-2014           Yes   \n",
       "50       1051.0  1332.0  Baseline  XX-XX-2013  XX-XX-2015           Yes   \n",
       "51       1052.0  1332.0  Baseline  XX-XX-2007  XX-XX-2008           Yes   \n",
       "52       1053.0  1332.0  Baseline  XX-XX-2014  XX-XX-2014           Yes   \n",
       "53       1054.0  1332.0  Baseline  XX-XX-2000  XX-XX-2002           Yes   \n",
       "54       1055.0  1332.0  Baseline  XX-XX-2006  XX-XX-2009           Yes   \n",
       "55       1056.0  1332.0  Baseline  XX-XX-2005  XX-XX-2006           Yes   \n",
       "\n",
       "                                                  Q01       Q02  \\\n",
       "0             Masters degree (MA, MS, MENG, MSW, etc)   Retired   \n",
       "1                  Bachelors degree (BA, BS, AB, etc)   Working   \n",
       "2              High school degree (GED or equivalent)   Working   \n",
       "3              High school degree (GED or equivalent)  Disabled   \n",
       "4                  Bachelors degree (BA, BS, AB, etc)   Working   \n",
       "5                  Bachelors degree (BA, BS, AB, etc)   Retired   \n",
       "6                  Bachelors degree (BA, BS, AB, etc)   Retired   \n",
       "7                 Some college (1-4 years, no degree)   Retired   \n",
       "8        Professional school degree (MD, DDC, JD etc)   Retired   \n",
       "9                  Bachelors degree (BA, BS, AB, etc)   Working   \n",
       "10            Masters degree (MA, MS, MENG, MSW, etc)   Retired   \n",
       "11            Masters degree (MA, MS, MENG, MSW, etc)   Retired   \n",
       "12  Associates degree \\r\\n        (including occup...   Working   \n",
       "13            Masters degree (MA, MS, MENG, MSW, etc)   Retired   \n",
       "14                 Bachelors degree (BA, BS, AB, etc)   Working   \n",
       "15                   Doctorate degree (PhD, EdD, etc)   Working   \n",
       "16            Masters degree (MA, MS, MENG, MSW, etc)   Retired   \n",
       "17            Masters degree (MA, MS, MENG, MSW, etc)   Retired   \n",
       "18                   Doctorate degree (PhD, EdD, etc)   Working   \n",
       "19             High school degree (GED or equivalent)   Working   \n",
       "20            Masters degree (MA, MS, MENG, MSW, etc)   Working   \n",
       "21                 Bachelors degree (BA, BS, AB, etc)   Retired   \n",
       "22                 Bachelors degree (BA, BS, AB, etc)   Retired   \n",
       "23            Masters degree (MA, MS, MENG, MSW, etc)   Retired   \n",
       "24            Masters degree (MA, MS, MENG, MSW, etc)   Retired   \n",
       "25                Some college (1-4 years, no degree)   Working   \n",
       "26            Masters degree (MA, MS, MENG, MSW, etc)   Retired   \n",
       "27                 Bachelors degree (BA, BS, AB, etc)   Retired   \n",
       "28                 Bachelors degree (BA, BS, AB, etc)   Retired   \n",
       "29                   Doctorate degree (PhD, EdD, etc)   Retired   \n",
       "30                 Bachelors degree (BA, BS, AB, etc)   Retired   \n",
       "31                   Doctorate degree (PhD, EdD, etc)   Working   \n",
       "32            Masters degree (MA, MS, MENG, MSW, etc)   Retired   \n",
       "33            Masters degree (MA, MS, MENG, MSW, etc)   Retired   \n",
       "34  Associates degree \\r\\n        (including occup...   Working   \n",
       "35            Masters degree (MA, MS, MENG, MSW, etc)   Working   \n",
       "36            Masters degree (MA, MS, MENG, MSW, etc)   Retired   \n",
       "37                 Bachelors degree (BA, BS, AB, etc)   Retired   \n",
       "38  Associates degree \\r\\n        (including occup...   Working   \n",
       "39                 Bachelors degree (BA, BS, AB, etc)   Working   \n",
       "40            Masters degree (MA, MS, MENG, MSW, etc)   Retired   \n",
       "41                 Bachelors degree (BA, BS, AB, etc)  Disabled   \n",
       "42       Professional school degree (MD, DDC, JD etc)   Working   \n",
       "43                 Bachelors degree (BA, BS, AB, etc)   Working   \n",
       "44                 Bachelors degree (BA, BS, AB, etc)   Retired   \n",
       "45       Professional school degree (MD, DDC, JD etc)   Retired   \n",
       "46                 Bachelors degree (BA, BS, AB, etc)   Working   \n",
       "47       Professional school degree (MD, DDC, JD etc)   Retired   \n",
       "48                Some college (1-4 years, no degree)  Disabled   \n",
       "49                 Bachelors degree (BA, BS, AB, etc)   Retired   \n",
       "50                 Bachelors degree (BA, BS, AB, etc)   Working   \n",
       "51       Professional school degree (MD, DDC, JD etc)   Retired   \n",
       "52       Professional school degree (MD, DDC, JD etc)   Retired   \n",
       "53                   Doctorate degree (PhD, EdD, etc)   Retired   \n",
       "54       Professional school degree (MD, DDC, JD etc)   Retired   \n",
       "55                   Doctorate degree (PhD, EdD, etc)   Retired   \n",
       "\n",
       "                                                  Q03  Q04        Q07  \n",
       "0          Expert (uses independently at least daily)  Yes      Right  \n",
       "1          Expert (uses independently at least daily)  Yes       Left  \n",
       "2          Expert (uses independently at least daily)  Yes  Symmetric  \n",
       "3   Intermediate (can use independently, requires ...   No      Right  \n",
       "4          Expert (uses independently at least daily)   No  Symmetric  \n",
       "5          Expert (uses independently at least daily)  Yes       Left  \n",
       "6   Intermediate (can use independently, requires ...   No       Left  \n",
       "7   Intermediate (can use independently, requires ...  Yes      Right  \n",
       "8   Intermediate (can use independently, requires ...   No        NaN  \n",
       "9    Advanced (uses independently a few times a week)   No      Right  \n",
       "10         Expert (uses independently at least daily)   No      Right  \n",
       "11         Expert (uses independently at least daily)   No       Left  \n",
       "12         Expert (uses independently at least daily)   No      Right  \n",
       "13         Expert (uses independently at least daily)  Yes       Left  \n",
       "14  Novice (some exposure, requires assistance mos...  Yes      Right  \n",
       "15   Advanced (uses independently a few times a week)   No  Symmetric  \n",
       "16  Intermediate (can use independently, requires ...  Yes      Right  \n",
       "17         Expert (uses independently at least daily)   No       Left  \n",
       "18         Expert (uses independently at least daily)   No       Left  \n",
       "19   Advanced (uses independently a few times a week)   No      Right  \n",
       "20  Intermediate (can use independently, requires ...   No      Right  \n",
       "21  Intermediate (can use independently, requires ...   No       Left  \n",
       "22   Advanced (uses independently a few times a week)  Yes       Left  \n",
       "23   Advanced (uses independently a few times a week)  Yes       Left  \n",
       "24  Intermediate (can use independently, requires ...   No       Left  \n",
       "25         Expert (uses independently at least daily)   No       Left  \n",
       "26         Expert (uses independently at least daily)   No       Left  \n",
       "27   Advanced (uses independently a few times a week)   No      Right  \n",
       "28  Novice (some exposure, requires assistance mos...  Yes       Left  \n",
       "29   Advanced (uses independently a few times a week)   No       Left  \n",
       "30   Advanced (uses independently a few times a week)  Yes      Right  \n",
       "31         Expert (uses independently at least daily)   No  Symmetric  \n",
       "32         Expert (uses independently at least daily)   No      Right  \n",
       "33         Expert (uses independently at least daily)   No      Right  \n",
       "34         Expert (uses independently at least daily)   No       Left  \n",
       "35         Expert (uses independently at least daily)   No       Left  \n",
       "36         Expert (uses independently at least daily)   No  Symmetric  \n",
       "37   Advanced (uses independently a few times a week)   No      Right  \n",
       "38         Expert (uses independently at least daily)   No       Left  \n",
       "39         Expert (uses independently at least daily)   No       Left  \n",
       "40  Intermediate (can use independently, requires ...   No       Left  \n",
       "41  Novice (some exposure, requires assistance mos...  Yes      Right  \n",
       "42         Expert (uses independently at least daily)   No       Left  \n",
       "43  Intermediate (can use independently, requires ...   No       Left  \n",
       "44  Intermediate (can use independently, requires ...   No       Left  \n",
       "45         Expert (uses independently at least daily)   No      Right  \n",
       "46         Expert (uses independently at least daily)   No      Right  \n",
       "47  Intermediate (can use independently, requires ...   No      Right  \n",
       "48         Expert (uses independently at least daily)   No       Left  \n",
       "49         Expert (uses independently at least daily)  Yes       Left  \n",
       "50         Expert (uses independently at least daily)   No       Left  \n",
       "51  Intermediate (can use independently, requires ...  Yes  Symmetric  \n",
       "52   Advanced (uses independently a few times a week)  Yes       Left  \n",
       "53  Intermediate (can use independently, requires ...  Yes      Right  \n",
       "54  Intermediate (can use independently, requires ...   No      Right  \n",
       "55  Intermediate (can use independently, requires ...  Yes       Left  "
      ]
     },
     "execution_count": 265,
     "metadata": {},
     "output_type": "execute_result"
    }
   ],
   "source": [
    "pd.read_hdf('//FS2.smpp.local\\\\RTO\\\\CIS-PD MUSC\\\\decoded_forms\\\\form501.h5')"
   ]
  },
  {
   "cell_type": "markdown",
   "metadata": {},
   "source": [
    "## Generate and Validate Lags"
   ]
  },
  {
   "cell_type": "code",
   "execution_count": 10,
   "metadata": {},
   "outputs": [],
   "source": [
    "def getLags(Subject, Sessions, MC10files):\n",
    " \n",
    "    MC10Axis = 'Mag'; WatchAxis = 'Mag'\n",
    "    offset = 5\n",
    "    tasks = ['Drnkg', 'Drwg', 'Fldg', 'FtnL', 'FtnR', 'NtsBts', 'RamL', 'RamR', 'Sheets', 'Sitng', 'SitStand', 'Stndg', \n",
    "             'Typg', 'Wlkg', 'WlkgCnt']\n",
    "    \n",
    "    FileInd = 0\n",
    "    File = MC10files[FileInd]\n",
    "    MC10 = pd.read_csv(File)\n",
    "    MC10.loc[:,'Timestamp (ms)'] = MC10['Timestamp (ms)'].apply(\n",
    "        lambda x: datetime.utcfromtimestamp(x/1000))\n",
    "\n",
    "    MC10['Mag'] = MC10.apply(lambda x: x['Accel X (g)']**2+x['Accel Y (g)']**2+x['Accel Z (g)']**2,axis=1)\n",
    "    \n",
    "    lags=[]\n",
    "    for s in Sessions:    \n",
    "        for t in tasks:\n",
    "            watchfile = '//FS2.smpp.local\\\\RTO\\\\CIS-PD Study\\\\MJFF Curation\\\\TaskAcc\\\\'+Subject+'_'+str(s)+'_'+t+'.csv'\n",
    "\n",
    "            try:\n",
    "                Watch = pd.read_csv(watchfile)\n",
    "            except(FileNotFoundError):\n",
    "                continue\n",
    "            # convert timestamp to datetime type\n",
    "            Watch['timestamp'] = pd.to_datetime(Watch['timestamp'])\n",
    "\n",
    "            Watch['Mag'] = Watch.apply(lambda x: x['x']**2+x['y']**2+x['z']**2,axis=1)\n",
    "\n",
    "            start = Watch.timestamp.min() - timedelta(seconds=offset)\n",
    "            stop = Watch.timestamp.max() + timedelta(seconds=offset)\n",
    "            inds = (MC10['Timestamp (ms)'] > start) & \\\n",
    "                   (MC10['Timestamp (ms)'] < stop)\n",
    "\n",
    "            while sum(inds)<1:\n",
    "                print(start,stop,MC10['Timestamp (ms)'].min(),MC10['Timestamp (ms)'].max())\n",
    "                FileInd = FileInd+1\n",
    "                File = MC10files[FileInd]\n",
    "                MC10 = pd.read_csv(File)\n",
    "                MC10.loc[:,'Timestamp (ms)'] = MC10['Timestamp (ms)'].apply(\n",
    "                    lambda x: datetime.utcfromtimestamp(x/1000))\n",
    "\n",
    "                MC10['Mag'] = MC10.apply(lambda x: x['Accel X (g)']**2+x['Accel Y (g)']**2+x['Accel Z (g)']**2,axis=1)\n",
    "                inds = (MC10['Timestamp (ms)'] > start) & \\\n",
    "                       (MC10['Timestamp (ms)'] < stop)\n",
    "                \n",
    "                \n",
    "            A = resample(MC10.loc[inds,MC10Axis],len(Watch)+offset*100)\n",
    "            B = Watch[WatchAxis].values\n",
    "\n",
    "            A = (A/np.mean(A[offset*50:-offset*50]))#/np.std(A[100:-100])\n",
    "            B = (B/np.mean(B))#/np.std(B)\n",
    "            lag = np.argmax(correlate(A, B)[len(B)+offset*50-50:len(B)+offset*50+50])\n",
    "            lags.append(lag-50)\n",
    "            print(s,t,lag-50)\n",
    "    return lags"
   ]
  },
  {
   "cell_type": "code",
   "execution_count": 646,
   "metadata": {
    "scrolled": true
   },
   "outputs": [
    {
     "name": "stdout",
     "output_type": "stream",
     "text": [
      "0 Drnkg -3\n",
      "0 Drwg 49\n",
      "0 Fldg 2\n",
      "0 FtnL -42\n",
      "0 FtnR -5\n",
      "0 NtsBts -4\n",
      "0 RamL 21\n",
      "0 RamR -2\n",
      "0 Sheets -4\n",
      "0 Sitng -48\n",
      "0 SitStand -3\n",
      "0 Stndg 46\n",
      "0 Typg 47\n",
      "0 Wlkg -3\n",
      "0 WlkgCnt -5\n",
      "1 Drnkg -4\n",
      "1 Drwg -38\n",
      "1 Fldg -4\n",
      "1 FtnL -50\n",
      "1 FtnR -44\n",
      "1 NtsBts -29\n",
      "1 RamL -46\n",
      "1 RamR 29\n",
      "1 Sheets -4\n",
      "1 Sitng 38\n",
      "1 SitStand -5\n",
      "1 Stndg 31\n",
      "1 Typg 49\n",
      "1 Wlkg 7\n",
      "1 WlkgCnt -4\n",
      "2 Drnkg -5\n",
      "2 Drwg 45\n",
      "2 Fldg -2\n",
      "2 FtnL -46\n",
      "2 FtnR -4\n",
      "2 NtsBts -3\n",
      "2 RamL -50\n",
      "2 RamR -1\n",
      "2 Sheets -16\n",
      "2 Sitng 42\n",
      "2 SitStand -4\n",
      "2 Stndg 48\n",
      "2 Typg -5\n",
      "2 Wlkg 3\n",
      "2 WlkgCnt -4\n",
      "3 Drnkg -5\n",
      "3 Drwg -9\n",
      "3 Fldg -1\n",
      "3 FtnL -50\n",
      "3 FtnR 30\n",
      "3 NtsBts -4\n",
      "3 RamL -50\n",
      "3 RamR -34\n",
      "3 Sheets -5\n",
      "3 Sitng -50\n",
      "3 SitStand -5\n",
      "3 Stndg -4\n",
      "3 Typg 47\n",
      "3 Wlkg -5\n",
      "3 WlkgCnt -5\n",
      "4 Drnkg -5\n",
      "4 Drwg 49\n",
      "4 Fldg 5\n",
      "4 FtnL -50\n",
      "4 FtnR -50\n",
      "4 NtsBts -5\n",
      "4 RamL -38\n",
      "4 RamR 48\n",
      "4 Sheets -6\n",
      "4 Sitng -37\n",
      "4 SitStand -4\n",
      "4 Stndg 49\n",
      "4 Typg 49\n",
      "4 Wlkg -5\n",
      "4 WlkgCnt -5\n"
     ]
    }
   ],
   "source": [
    "# 1004 Sessions 0-5\n",
    "F = ['//FS2.smpp.local\\\\RTO\\\\CIS-PD Study\\\\Subjects\\\\1004\\\\dorsal_hand_right\\\\d5la7ybu\\\\2017-07-07T13-15-16-759Z\\\\accel.csv',\n",
    "     '//FS2.smpp.local\\\\RTO\\\\CIS-PD Study\\\\Subjects\\\\1004\\\\dorsal_hand_right\\\\d5la7ybu\\\\2017-07-07T14-20-44-065Z\\\\accel.csv']\n",
    "\n",
    "lags = getLags('1004',range(6),F)"
   ]
  },
  {
   "cell_type": "code",
   "execution_count": 714,
   "metadata": {},
   "outputs": [
    {
     "name": "stdout",
     "output_type": "stream",
     "text": [
      "6 Drnkg -2\n",
      "6 Drwg 38\n",
      "6 Fldg 5\n",
      "6 FtnL 49\n",
      "6 FtnR -2\n",
      "6 NtsBts -2\n",
      "6 RamL -49\n",
      "6 RamR -2\n",
      "6 Sheets -3\n",
      "6 Sitng -44\n",
      "6 SitStand -3\n",
      "6 Stndg -50\n",
      "6 Typg 37\n",
      "6 Wlkg -2\n",
      "6 WlkgCnt 11\n"
     ]
    }
   ],
   "source": [
    "# 1004 Session 6\n",
    "F = ['//FS2.smpp.local\\\\RTO\\\\CIS-PD Study\\\\Subjects\\\\1004\\\\dorsal_hand_right\\\\d5la7ycl\\\\2017-07-18T13-17-50-669Z\\\\accel.csv']\n",
    "\n",
    "lags = getLags('1004',[6],F)"
   ]
  },
  {
   "cell_type": "code",
   "execution_count": 156,
   "metadata": {},
   "outputs": [
    {
     "name": "stdout",
     "output_type": "stream",
     "text": [
      "0 Drnkg -4\n",
      "0 Drwg -50\n",
      "0 Fldg 0\n",
      "0 FtnL 12\n",
      "0 FtnR 47\n",
      "0 NtsBts -4\n",
      "0 RamL -20\n",
      "0 RamR 48\n",
      "0 Sheets -5\n",
      "0 Sitng 4\n",
      "0 SitStand -4\n",
      "0 Stndg -3\n",
      "0 Typg -21\n",
      "0 Wlkg -4\n",
      "0 WlkgCnt -3\n",
      "2017-07-13 15:53:53.364000 2017-07-13 15:54:37.360000 2017-07-13 13:59:14.600000 2017-07-13 15:08:49.946000\n",
      "1 Drnkg -5\n",
      "1 Drwg -50\n",
      "1 Fldg -5\n",
      "1 FtnL 12\n",
      "1 FtnR 47\n",
      "1 NtsBts -5\n",
      "1 RamL -10\n",
      "1 RamR 35\n",
      "1 Sheets -5\n",
      "1 Sitng -3\n",
      "1 SitStand -4\n",
      "1 Stndg -3\n",
      "1 Typg 22\n",
      "1 Wlkg -5\n",
      "1 WlkgCnt -4\n",
      "2 Drnkg -5\n",
      "2 Drwg 15\n",
      "2 Fldg -6\n",
      "2 FtnL 42\n",
      "2 FtnR 31\n",
      "2 NtsBts -5\n",
      "2 RamL -13\n",
      "2 RamR 34\n",
      "2 Sheets -6\n",
      "2 Sitng 25\n",
      "2 SitStand -6\n",
      "2 Stndg -6\n",
      "2 Typg -25\n",
      "2 Wlkg -10\n",
      "2 WlkgCnt -1\n",
      "3 Drnkg 10\n",
      "3 Drwg -45\n",
      "3 Fldg -6\n",
      "3 FtnL 39\n",
      "3 FtnR 36\n",
      "3 NtsBts -50\n",
      "3 RamL 7\n",
      "3 RamR -48\n",
      "3 Sheets -6\n",
      "3 Sitng -50\n",
      "3 SitStand -7\n",
      "3 Stndg -40\n",
      "3 Typg 29\n",
      "3 Wlkg -6\n",
      "3 WlkgCnt -5\n",
      "4 Drnkg -7\n",
      "4 Drwg -50\n",
      "4 Fldg -6\n",
      "4 FtnL -6\n",
      "4 FtnR 34\n",
      "4 NtsBts -8\n",
      "4 RamL -9\n",
      "4 RamR 44\n",
      "4 Sheets -7\n",
      "4 Sitng -7\n",
      "4 SitStand -6\n",
      "4 Stndg -7\n",
      "4 Typg 22\n",
      "4 Wlkg -6\n",
      "4 WlkgCnt -10\n",
      "5 Drnkg -8\n",
      "5 Drwg -47\n",
      "5 Fldg 9\n",
      "5 FtnL 44\n",
      "5 FtnR 25\n",
      "5 NtsBts -7\n",
      "5 RamL -10\n",
      "5 RamR -49\n",
      "5 Sheets -8\n",
      "5 Sitng 33\n",
      "5 SitStand -8\n",
      "5 Stndg -50\n",
      "5 Typg -26\n",
      "5 Wlkg -7\n",
      "5 WlkgCnt -10\n",
      "2017-07-27 15:05:28.752000 2017-07-27 15:06:11.402000 2017-07-13 15:43:58.710000 2017-07-13 18:21:06.405000\n",
      "6 Drnkg -43\n",
      "6 Drwg -50\n",
      "6 Fldg -26\n",
      "6 FtnL 45\n",
      "6 FtnR 37\n",
      "6 NtsBts -10\n",
      "6 RamL 6\n",
      "6 RamR 48\n",
      "6 Sheets -6\n",
      "6 Sitng 48\n",
      "6 SitStand 49\n",
      "6 Stndg -6\n",
      "6 Typg 11\n",
      "6 Wlkg -5\n",
      "6 WlkgCnt -6\n"
     ]
    }
   ],
   "source": [
    "## BEST EXAMPLE\n",
    "# 1016 Session 0-6\n",
    "Subj = '1016'\n",
    "Side = 'left'\n",
    "F = []\n",
    "path = '//FS2.smpp.local\\\\RTO\\\\CIS-PD Study\\\\Subjects\\\\'+Subj+'\\\\dorsal_hand_'+Side+'\\\\'\n",
    "Sensors = os.listdir(path)\n",
    "Sessions= []\n",
    "for sens in Sensors:\n",
    "    Sessions = Sessions + list(os.listdir(os.path.join(path,sens)))\n",
    "\n",
    "Sessions = sorted(Sessions)\n",
    "\n",
    "for sess in Sessions:\n",
    "    for sens in Sensors:\n",
    "        if os.path.exists(os.path.join(path,sens,sess,'accel.csv')):\n",
    "            F.append(os.path.join(path,sens,sess,'accel.csv'))\n",
    "\n",
    "lags = getLags(Subj,range(7),F)"
   ]
  },
  {
   "cell_type": "code",
   "execution_count": 734,
   "metadata": {},
   "outputs": [
    {
     "name": "stdout",
     "output_type": "stream",
     "text": [
      "0 Drnkg -2\n",
      "0 Drwg 49\n",
      "0 Fldg -3\n",
      "0 FtnL -6\n",
      "0 FtnR 45\n",
      "0 NtsBts -2\n",
      "0 RamL -9\n",
      "0 RamR 42\n",
      "0 Sheets -4\n",
      "0 Sitng 18\n",
      "0 SitStand -3\n",
      "0 Stndg 45\n",
      "0 Typg -47\n",
      "0 Wlkg -6\n",
      "0 WlkgCnt -4\n",
      "2017-07-14 14:42:00.015000 2017-07-14 14:42:32.998000 2017-07-14 13:15:13.213000 2017-07-14 14:07:38.311000\n",
      "1 Drnkg -46\n",
      "1 Drwg 40\n",
      "1 Fldg -2\n",
      "1 FtnL -5\n",
      "1 FtnR 49\n",
      "1 NtsBts -2\n",
      "1 RamL -8\n",
      "1 RamR 45\n",
      "1 Sheets -3\n",
      "1 Sitng -33\n",
      "1 SitStand -2\n",
      "1 Stndg 22\n",
      "1 Typg -43\n",
      "1 Wlkg -3\n",
      "1 WlkgCnt -2\n",
      "2 Drnkg -2\n",
      "2 Drwg 33\n",
      "2 Fldg -4\n",
      "2 FtnL -4\n",
      "2 FtnR 49\n",
      "2 NtsBts -3\n",
      "2 RamL -9\n",
      "2 RamR 45\n",
      "2 Sheets 1\n",
      "2 Sitng 41\n",
      "2 SitStand -3\n",
      "2 Stndg -37\n",
      "2 Typg -4\n",
      "2 Wlkg 1\n",
      "2 WlkgCnt 0\n",
      "3 Drnkg -3\n",
      "3 Drwg -43\n",
      "3 Fldg -1\n",
      "3 FtnL 0\n",
      "3 FtnR 43\n",
      "3 NtsBts 0\n",
      "3 RamL 1\n",
      "3 RamR -44\n",
      "3 Sheets -3\n",
      "3 Sitng -22\n",
      "3 SitStand 1\n",
      "3 Stndg 49\n",
      "3 Typg 23\n",
      "3 Wlkg -3\n",
      "3 WlkgCnt -3\n",
      "4 Drnkg -12\n",
      "4 Drwg -50\n",
      "4 Fldg -4\n",
      "4 FtnL -5\n",
      "4 FtnR 48\n",
      "4 NtsBts -2\n",
      "4 RamL -9\n",
      "4 RamR -47\n",
      "4 Sheets -4\n",
      "4 Sitng 27\n",
      "4 SitStand -3\n",
      "4 Stndg 49\n",
      "4 Typg -14\n",
      "4 Wlkg -4\n",
      "4 WlkgCnt -3\n",
      "5 Drnkg -4\n",
      "5 Drwg -4\n",
      "5 Fldg -4\n",
      "5 FtnL -7\n",
      "5 FtnR 49\n",
      "5 NtsBts -4\n",
      "5 RamL -11\n",
      "5 RamR 49\n",
      "5 Sheets -4\n",
      "5 Sitng -4\n",
      "5 SitStand -5\n",
      "5 Stndg 41\n",
      "5 Typg -5\n",
      "5 Wlkg -4\n",
      "5 WlkgCnt -4\n",
      "2017-08-01 14:14:42.038000 2017-08-01 14:15:14.996000 2017-07-14 14:34:08.654000 2017-07-14 16:57:43.956000\n",
      "6 Drnkg -3\n",
      "6 Drwg 41\n",
      "6 Fldg -3\n",
      "6 FtnL -3\n",
      "6 FtnR 47\n",
      "6 NtsBts -4\n",
      "6 RamL -2\n",
      "6 RamR 49\n",
      "6 Sheets -4\n",
      "6 Sitng 43\n",
      "6 SitStand 12\n",
      "6 Stndg 16\n",
      "6 Typg -4\n",
      "6 Wlkg -3\n",
      "6 WlkgCnt -3\n"
     ]
    }
   ],
   "source": [
    "# 1018 Session 0-5\n",
    "F = []\n",
    "path = '//FS2.smpp.local\\\\RTO\\\\CIS-PD Study\\\\Subjects\\\\1018\\\\dorsal_hand_left\\\\'\n",
    "Sensors = os.listdir(path)\n",
    "for sens in Sensors:\n",
    "    Sessions = os.listdir(os.path.join(path,sens))\n",
    "    for sess in Sessions:\n",
    "        if os.path.exists(os.path.join(path,sens,sess,'accel.csv')):\n",
    "            F.append(os.path.join(path,sens,sess,'accel.csv'))\n",
    "\n",
    "lags = getLags('1018',range(7),F)"
   ]
  },
  {
   "cell_type": "code",
   "execution_count": 11,
   "metadata": {},
   "outputs": [
    {
     "name": "stdout",
     "output_type": "stream",
     "text": [
      "0 Drnkg 0\n",
      "0 Drwg 13\n",
      "0 Fldg 0\n",
      "0 FtnL -3\n",
      "0 FtnR -2\n",
      "0 NtsBts 34\n",
      "0 RamL 28\n",
      "0 RamR -50\n",
      "0 Sheets -3\n",
      "0 Sitng 27\n",
      "0 SitStand -3\n",
      "0 Stndg 49\n",
      "0 Typg -27\n",
      "0 Wlkg -3\n",
      "0 WlkgCnt -31\n",
      "2017-07-26 14:57:32.012000 2017-07-26 14:58:09.994000 2017-07-26 13:31:26.859000 2017-07-26 14:22:43.538000\n",
      "1 Drnkg -4\n",
      "1 Drwg 49\n",
      "1 Fldg -5\n",
      "1 FtnL -3\n",
      "1 FtnR 46\n",
      "1 NtsBts -2\n",
      "1 RamL 13\n",
      "1 RamR 49\n",
      "1 Sheets 2\n",
      "1 Sitng -7\n",
      "1 SitStand -4\n",
      "1 Stndg -50\n",
      "1 Typg -33\n",
      "1 Wlkg -2\n",
      "1 WlkgCnt -2\n",
      "2 Drnkg -5\n",
      "2 Drwg 49\n",
      "2 Fldg -6\n",
      "2 FtnL -3\n",
      "2 FtnR 47\n",
      "2 NtsBts -5\n",
      "2 RamL -32\n",
      "2 RamR -50\n",
      "2 Sheets 5\n",
      "2 Sitng -29\n",
      "2 SitStand -4\n",
      "2 Stndg -46\n",
      "2 Typg -49\n",
      "2 Wlkg -5\n",
      "2 WlkgCnt -4\n",
      "3 Drnkg -4\n",
      "3 Drwg 49\n",
      "3 Fldg -3\n",
      "3 FtnL -4\n",
      "3 FtnR -5\n",
      "3 NtsBts -4\n",
      "3 RamL -7\n",
      "3 RamR 45\n",
      "3 Sheets -14\n",
      "3 Sitng 40\n",
      "3 SitStand -5\n",
      "3 Stndg -49\n",
      "3 Typg 10\n",
      "3 Wlkg 42\n",
      "3 WlkgCnt -3\n",
      "4 Drnkg -5\n",
      "4 Drwg -47\n",
      "4 Fldg 3\n",
      "4 FtnL -4\n",
      "4 FtnR 49\n",
      "4 NtsBts -3\n",
      "4 RamL -29\n",
      "4 RamR 43\n",
      "4 Sheets -5\n",
      "4 Sitng 49\n",
      "4 SitStand -5\n",
      "4 Stndg -48\n",
      "4 Typg -41\n",
      "4 Wlkg 6\n",
      "4 WlkgCnt -4\n",
      "5 Drnkg -5\n",
      "5 Drwg 47\n",
      "5 Fldg -5\n",
      "5 FtnL -1\n",
      "5 FtnR 48\n",
      "5 NtsBts -5\n",
      "5 RamL -2\n",
      "5 RamR 38\n",
      "5 Sheets 7\n",
      "5 Sitng 48\n",
      "5 SitStand -5\n",
      "5 Stndg 49\n",
      "5 Typg -33\n",
      "5 Wlkg -4\n",
      "5 WlkgCnt -4\n",
      "2017-08-14 13:51:58.625000 2017-08-14 13:52:41.480000 2017-07-26 14:49:51.613000 2017-07-26 17:18:49.664000\n",
      "6 Drnkg 17\n",
      "6 Drwg -45\n",
      "6 Fldg -2\n",
      "6 FtnL -4\n",
      "6 FtnR 49\n",
      "6 NtsBts -3\n",
      "6 RamL -4\n",
      "6 RamR 49\n",
      "6 Sheets -1\n",
      "6 Sitng 49\n",
      "6 SitStand 12\n",
      "6 Stndg -46\n",
      "6 Typg -15\n",
      "6 Wlkg -3\n",
      "6 WlkgCnt -4\n"
     ]
    }
   ],
   "source": [
    "# 1019 Session 0-5\n",
    "Subj = '1019'\n",
    "Side = 'left'\n",
    "F = []\n",
    "path = '//FS2.smpp.local\\\\RTO\\\\CIS-PD Study\\\\Subjects\\\\'+Subj+'\\\\dorsal_hand_'+Side+'\\\\'\n",
    "Sensors = os.listdir(path)\n",
    "for sens in Sensors:\n",
    "    Sessions = os.listdir(os.path.join(path,sens))\n",
    "    for sess in Sessions:\n",
    "        if os.path.exists(os.path.join(path,sens,sess,'accel.csv')):\n",
    "            F.append(os.path.join(path,sens,sess,'accel.csv'))\n",
    "\n",
    "lags = getLags(Subj,range(7),F)"
   ]
  },
  {
   "cell_type": "code",
   "execution_count": 131,
   "metadata": {},
   "outputs": [],
   "source": [
    "lags_temp = lags\n",
    "IQR = np.percentile(lags_temp,75)-np.percentile(lags_temp,25)\n",
    "lags_trim = [l for l in lags_temp if (l>np.percentile(lags_temp,25)-IQR*1.5)&(l<np.percentile(lags_temp,75)+IQR*1.5)]\n",
    "\n",
    "while len(lags_trim)!=len(lags_temp):\n",
    "    lags_temp = lags_trim\n",
    "    IQR = np.percentile(lags_temp,75)-np.percentile(lags_temp,25)\n",
    "    lags_trim = [l for l in lags_temp if (l>np.percentile(lags_temp,25)-IQR*1.5)&(l<np.percentile(lags_temp,75)+IQR*1.5)]"
   ]
  },
  {
   "cell_type": "code",
   "execution_count": 132,
   "metadata": {},
   "outputs": [
    {
     "data": {
      "text/plain": [
       "<matplotlib.axes._subplots.AxesSubplot at 0x2898a91c940>"
      ]
     },
     "execution_count": 132,
     "metadata": {},
     "output_type": "execute_result"
    },
    {
     "data": {
      "image/png": "[encoded data removed]",
      "text/plain": [
       "<Figure size 432x288 with 1 Axes>"
      ]
     },
     "metadata": {},
     "output_type": "display_data"
    }
   ],
   "source": [
    "sns.boxplot(lags_trim)"
   ]
  },
  {
   "cell_type": "code",
   "execution_count": 135,
   "metadata": {},
   "outputs": [
    {
     "data": {
      "text/plain": [
       "6.133333333333334"
      ]
     },
     "execution_count": 135,
     "metadata": {},
     "output_type": "execute_result"
    }
   ],
   "source": [
    "np.mean(lags_trim)"
   ]
  },
  {
   "cell_type": "code",
   "execution_count": 128,
   "metadata": {},
   "outputs": [
    {
     "data": {
      "text/plain": [
       "1.509043035951507"
      ]
     },
     "execution_count": 128,
     "metadata": {},
     "output_type": "execute_result"
    }
   ],
   "source": [
    "np.std(lags_trim)"
   ]
  },
  {
   "cell_type": "code",
   "execution_count": 129,
   "metadata": {},
   "outputs": [
    {
     "data": {
      "text/plain": [
       "0.4666666666666667"
      ]
     },
     "execution_count": 129,
     "metadata": {},
     "output_type": "execute_result"
    }
   ],
   "source": [
    "len(lags_trim)/len(lags)"
   ]
  },
  {
   "cell_type": "markdown",
   "metadata": {},
   "source": [
    "#### 1004 Sessions 0-5 results"
   ]
  },
  {
   "cell_type": "code",
   "execution_count": 638,
   "metadata": {
    "scrolled": true
   },
   "outputs": [
    {
     "data": {
      "text/plain": [
       "-1.9636363636363636"
      ]
     },
     "execution_count": 638,
     "metadata": {},
     "output_type": "execute_result"
    }
   ],
   "source": [
    "np.mean(lags)"
   ]
  },
  {
   "cell_type": "code",
   "execution_count": 639,
   "metadata": {},
   "outputs": [
    {
     "data": {
      "text/plain": [
       "29.52531341461772"
      ]
     },
     "execution_count": 639,
     "metadata": {},
     "output_type": "execute_result"
    }
   ],
   "source": [
    "np.std(lags)"
   ]
  },
  {
   "cell_type": "code",
   "execution_count": 640,
   "metadata": {},
   "outputs": [
    {
     "data": {
      "text/plain": [
       "<matplotlib.axes._subplots.AxesSubplot at 0x2d94c4fca90>"
      ]
     },
     "execution_count": 640,
     "metadata": {},
     "output_type": "execute_result"
    },
    {
     "data": {
      "image/png": "[encoded data removed]",
      "text/plain": [
       "<Figure size 432x288 with 1 Axes>"
      ]
     },
     "metadata": {},
     "output_type": "display_data"
    }
   ],
   "source": [
    "sns.boxplot(lags)"
   ]
  },
  {
   "cell_type": "code",
   "execution_count": 641,
   "metadata": {},
   "outputs": [],
   "source": [
    "lags_temp = lags\n",
    "IQR = np.percentile(lags_temp,75)-np.percentile(lags_temp,25)\n",
    "lags_trim = [l for l in lags_temp if (l>np.percentile(lags_temp,25)-IQR*1.5)&(l<np.percentile(lags_temp,75)+IQR*1.5)]\n",
    "\n",
    "while len(lags_trim)!=len(lags_temp):\n",
    "    lags_temp = lags_trim\n",
    "    IQR = np.percentile(lags_temp,75)-np.percentile(lags_temp,25)\n",
    "    lags_trim = [l for l in lags_temp if (l>np.percentile(lags_temp,25)-IQR*1.5)&(l<np.percentile(lags_temp,75)+IQR*1.5)]"
   ]
  },
  {
   "cell_type": "code",
   "execution_count": 642,
   "metadata": {},
   "outputs": [
    {
     "data": {
      "text/plain": [
       "<matplotlib.axes._subplots.AxesSubplot at 0x2d95f849668>"
      ]
     },
     "execution_count": 642,
     "metadata": {},
     "output_type": "execute_result"
    },
    {
     "data": {
      "image/png": "[encoded data removed]",
      "text/plain": [
       "<Figure size 432x288 with 1 Axes>"
      ]
     },
     "metadata": {},
     "output_type": "display_data"
    }
   ],
   "source": [
    "sns.boxplot(lags_trim)"
   ]
  },
  {
   "cell_type": "code",
   "execution_count": 643,
   "metadata": {},
   "outputs": [
    {
     "data": {
      "text/plain": [
       "-4.012820512820513"
      ]
     },
     "execution_count": 643,
     "metadata": {},
     "output_type": "execute_result"
    }
   ],
   "source": [
    "np.mean(lags_trim)"
   ]
  },
  {
   "cell_type": "code",
   "execution_count": 644,
   "metadata": {},
   "outputs": [
    {
     "data": {
      "text/plain": [
       "1.1601678674247384"
      ]
     },
     "execution_count": 644,
     "metadata": {},
     "output_type": "execute_result"
    }
   ],
   "source": [
    "np.std(lags_trim)"
   ]
  },
  {
   "cell_type": "code",
   "execution_count": 645,
   "metadata": {},
   "outputs": [
    {
     "data": {
      "text/plain": [
       "0.4727272727272727"
      ]
     },
     "execution_count": 645,
     "metadata": {},
     "output_type": "execute_result"
    }
   ],
   "source": [
    "len(lags_trim)/len(lags)"
   ]
  },
  {
   "cell_type": "markdown",
   "metadata": {},
   "source": [
    "# Action list to correlate watch and sensor data\n",
    "- offset = lag/50"
   ]
  },
  {
   "cell_type": "markdown",
   "metadata": {},
   "source": [
    "# Load Data"
   ]
  },
  {
   "cell_type": "markdown",
   "metadata": {},
   "source": [
    "## Load MC10 Sensor data"
   ]
  },
  {
   "cell_type": "code",
   "execution_count": 136,
   "metadata": {
    "ExecuteTime": {
     "end_time": "2018-12-17T15:31:14.284444Z",
     "start_time": "2018-12-17T15:31:12.354911Z"
    }
   },
   "outputs": [],
   "source": [
    "# Load Right hand accelerometer for subject 1004\n",
    "MC10 = pd.read_csv(\n",
    "    '//FS2.smpp.local\\\\RTO\\\\CIS-PD Study\\\\Subjects\\\\1016\\\\dorsal_hand_left\\\\d5la7y9p\\\\2017-07-13T13-59-14-600Z\\\\accel.csv')\n",
    "MC10.loc[:,'Timestamp (ms)'] = MC10['Timestamp (ms)'].apply(\n",
    "    lambda x: datetime.utcfromtimestamp(x/1000))"
   ]
  },
  {
   "cell_type": "code",
   "execution_count": 137,
   "metadata": {},
   "outputs": [],
   "source": [
    "MC10['Mag'] = MC10.apply(lambda x: x['Accel X (g)']**2+x['Accel Y (g)']**2+x['Accel Z (g)']**2,axis=1)"
   ]
  },
  {
   "cell_type": "code",
   "execution_count": 138,
   "metadata": {},
   "outputs": [
    {
     "data": {
      "text/plain": [
       "<matplotlib.axes._subplots.AxesSubplot at 0x289858fd668>"
      ]
     },
     "execution_count": 138,
     "metadata": {},
     "output_type": "execute_result"
    },
    {
     "data": {
      "image/png": "[encoded data removed]",
      "text/plain": [
       "<Figure size 432x288 with 1 Axes>"
      ]
     },
     "metadata": {},
     "output_type": "display_data"
    }
   ],
   "source": [
    "MC10['Mag'].plot()"
   ]
  },
  {
   "cell_type": "markdown",
   "metadata": {},
   "source": [
    "## Load Watch data"
   ]
  },
  {
   "cell_type": "code",
   "execution_count": 174,
   "metadata": {},
   "outputs": [],
   "source": [
    "watchfile = '//FS2.smpp.local\\\\RTO\\\\CIS-PD Study\\\\MJFF Curation\\\\TaskAcc\\\\1016_0_Wlkg.csv'"
   ]
  },
  {
   "cell_type": "code",
   "execution_count": 175,
   "metadata": {},
   "outputs": [],
   "source": [
    "offset = 5"
   ]
  },
  {
   "cell_type": "code",
   "execution_count": 176,
   "metadata": {
    "ExecuteTime": {
     "end_time": "2018-12-17T13:16:46.252631Z",
     "start_time": "2018-12-17T13:16:45.818225Z"
    }
   },
   "outputs": [],
   "source": [
    "# 1004, trial 1, walking\n",
    "Watch = pd.read_csv(watchfile)\n",
    "# convert timestamp to datetime type\n",
    "Watch['timestamp'] = pd.to_datetime(Watch['timestamp'])\n",
    "\n",
    "# start = Watch.timestamp.min() - timedelta(seconds=offset/2)\n",
    "# stop = Watch.timestamp.max() + timedelta(seconds=offset/2)\n",
    "\n",
    "# Watch = pd.read_csv(orig_file)\n",
    "# Watch['timestamp'] = pd.to_datetime(Watch['timestamp'])\n",
    "# Watch = Watch[(Watch.timestamp>start) & (Watch.timestamp<stop)].copy()\n",
    "# Watch.drop(columns='Unnamed: 0', inplace=True)"
   ]
  },
  {
   "cell_type": "code",
   "execution_count": 177,
   "metadata": {},
   "outputs": [],
   "source": [
    "Watch['Mag'] = Watch.apply(lambda x: x['x']**2+x['y']**2+x['z']**2,axis=1)"
   ]
  },
  {
   "cell_type": "code",
   "execution_count": 178,
   "metadata": {
    "ExecuteTime": {
     "end_time": "2018-12-17T14:46:25.760065Z",
     "start_time": "2018-12-17T14:46:25.635553Z"
    }
   },
   "outputs": [
    {
     "data": {
      "text/plain": [
       "<matplotlib.axes._subplots.AxesSubplot at 0x289822679e8>"
      ]
     },
     "execution_count": 178,
     "metadata": {},
     "output_type": "execute_result"
    },
    {
     "data": {
      "image/png": "[encoded data removed]",
      "text/plain": [
       "<Figure size 432x288 with 1 Axes>"
      ]
     },
     "metadata": {},
     "output_type": "display_data"
    }
   ],
   "source": [
    "Watch.iloc[:,4:].plot()"
   ]
  },
  {
   "cell_type": "markdown",
   "metadata": {},
   "source": [
    "## Find matching(?) time range"
   ]
  },
  {
   "cell_type": "markdown",
   "metadata": {},
   "source": [
    "Done: \n",
    "- resample MC10 to match watch frequency (50Hz)\n",
    "- add buffer (+/- 2s)\n",
    "- find optimal lag from cross correlation"
   ]
  },
  {
   "cell_type": "code",
   "execution_count": 179,
   "metadata": {
    "ExecuteTime": {
     "end_time": "2018-12-19T18:55:49.326964Z",
     "start_time": "2018-12-19T18:55:49.318985Z"
    }
   },
   "outputs": [],
   "source": [
    "start = Watch.timestamp.min() - timedelta(seconds=offset)\n",
    "stop = Watch.timestamp.max() + timedelta(seconds=offset)\n",
    "inds = (MC10['Timestamp (ms)'] > start) & \\\n",
    "       (MC10['Timestamp (ms)'] < stop)"
   ]
  },
  {
   "cell_type": "code",
   "execution_count": 180,
   "metadata": {
    "ExecuteTime": {
     "end_time": "2018-12-19T14:01:58.847035Z",
     "start_time": "2018-12-19T14:01:58.829112Z"
    }
   },
   "outputs": [
    {
     "data": {
      "text/plain": [
       "3486"
      ]
     },
     "execution_count": 180,
     "metadata": {},
     "output_type": "execute_result"
    }
   ],
   "source": [
    "sum(inds)"
   ]
  },
  {
   "cell_type": "code",
   "execution_count": 181,
   "metadata": {
    "ExecuteTime": {
     "end_time": "2018-12-19T18:55:54.734772Z",
     "start_time": "2018-12-19T18:55:54.599119Z"
    }
   },
   "outputs": [
    {
     "data": {
      "text/plain": [
       "<matplotlib.axes._subplots.AxesSubplot at 0x289822ce3c8>"
      ]
     },
     "execution_count": 181,
     "metadata": {},
     "output_type": "execute_result"
    },
    {
     "data": {
      "image/png": "[encoded data removed]",
      "text/plain": [
       "<Figure size 432x288 with 1 Axes>"
      ]
     },
     "metadata": {},
     "output_type": "display_data"
    }
   ],
   "source": [
    "# plot after 2 sec offset\n",
    "MC10[inds].iloc[:,1:].plot()"
   ]
  },
  {
   "cell_type": "markdown",
   "metadata": {},
   "source": [
    "# Cross correlation between watch and MC10 sensors"
   ]
  },
  {
   "cell_type": "code",
   "execution_count": 182,
   "metadata": {
    "ExecuteTime": {
     "end_time": "2018-12-17T13:24:13.048920Z",
     "start_time": "2018-12-17T13:23:59.589304Z"
    }
   },
   "outputs": [],
   "source": [
    "# Walking\n",
    "MC10Axis = 'Mag'; WatchAxis = 'Mag'\n",
    "# # Nuts and Bolts\n",
    "# MC10Axis = 'Accel Z (g)'; WatchAxis = 'z'\n",
    "# # FtN\n",
    "# MC10Axis = 'Accel Z (g)'; WatchAxis = 'x'"
   ]
  },
  {
   "cell_type": "code",
   "execution_count": 183,
   "metadata": {
    "ExecuteTime": {
     "end_time": "2018-12-17T13:25:01.739695Z",
     "start_time": "2018-12-17T13:25:01.701767Z"
    },
    "scrolled": true
   },
   "outputs": [],
   "source": [
    "# \n",
    "A = resample(MC10.loc[inds,MC10Axis],len(Watch)+offset*100)\n",
    "B = Watch[WatchAxis].values"
   ]
  },
  {
   "cell_type": "code",
   "execution_count": 184,
   "metadata": {},
   "outputs": [],
   "source": [
    "A = (A/np.mean(A[offset*50:-offset*50]))#/np.std(A[100:-100])\n",
    "B = (B/np.mean(B))#/np.std(B)"
   ]
  },
  {
   "cell_type": "code",
   "execution_count": 185,
   "metadata": {},
   "outputs": [
    {
     "data": {
      "text/plain": [
       "[<matplotlib.lines.Line2D at 0x289823870b8>]"
      ]
     },
     "execution_count": 185,
     "metadata": {},
     "output_type": "execute_result"
    },
    {
     "data": {
      "image/png": "[encoded data removed]",
      "text/plain": [
       "<Figure size 432x288 with 1 Axes>"
      ]
     },
     "metadata": {},
     "output_type": "display_data"
    }
   ],
   "source": [
    "plt.plot(A)"
   ]
  },
  {
   "cell_type": "code",
   "execution_count": 186,
   "metadata": {},
   "outputs": [
    {
     "data": {
      "text/plain": [
       "[<matplotlib.lines.Line2D at 0x2898244a0b8>]"
      ]
     },
     "execution_count": 186,
     "metadata": {},
     "output_type": "execute_result"
    },
    {
     "data": {
      "image/png": "[encoded data removed]",
      "text/plain": [
       "<Figure size 432x288 with 1 Axes>"
      ]
     },
     "metadata": {},
     "output_type": "display_data"
    }
   ],
   "source": [
    "plt.plot(B)"
   ]
  },
  {
   "cell_type": "code",
   "execution_count": 187,
   "metadata": {},
   "outputs": [
    {
     "data": {
      "text/plain": [
       "[<matplotlib.lines.Line2D at 0x2898249f5c0>]"
      ]
     },
     "execution_count": 187,
     "metadata": {},
     "output_type": "execute_result"
    },
    {
     "data": {
      "image/png": "[encoded data removed]",
      "text/plain": [
       "<Figure size 432x288 with 1 Axes>"
      ]
     },
     "metadata": {},
     "output_type": "display_data"
    }
   ],
   "source": [
    "plt.plot(correlate(A,B))"
   ]
  },
  {
   "cell_type": "code",
   "execution_count": 188,
   "metadata": {},
   "outputs": [
    {
     "data": {
      "text/plain": [
       "[<matplotlib.lines.Line2D at 0x28982c13be0>]"
      ]
     },
     "execution_count": 188,
     "metadata": {},
     "output_type": "execute_result"
    },
    {
     "data": {
      "image/png": "[encoded data removed]",
      "text/plain": [
       "<Figure size 432x288 with 1 Axes>"
      ]
     },
     "metadata": {},
     "output_type": "display_data"
    }
   ],
   "source": [
    "s1, s2 = 0, len(B)\n",
    "A1 = A[246:]\n",
    "plt.plot(A1[s1:s2])\n",
    "B1 = B[s1:s2]\n",
    "plt.plot(B1)"
   ]
  },
  {
   "cell_type": "code",
   "execution_count": 189,
   "metadata": {
    "ExecuteTime": {
     "end_time": "2018-12-19T14:55:19.538707Z",
     "start_time": "2018-12-19T14:55:19.534719Z"
    }
   },
   "outputs": [],
   "source": [
    "# use resampled MC10 y-axis to cross correlate against watch x-axis\n",
    "lag = np.argmax(correlate(A, B))"
   ]
  },
  {
   "cell_type": "code",
   "execution_count": 190,
   "metadata": {},
   "outputs": [
    {
     "data": {
      "text/plain": [
       "-4"
      ]
     },
     "execution_count": 190,
     "metadata": {},
     "output_type": "execute_result"
    }
   ],
   "source": [
    "# Walking\n",
    "lag-len(B)-offset*50"
   ]
  },
  {
   "cell_type": "code",
   "execution_count": 388,
   "metadata": {},
   "outputs": [
    {
     "data": {
      "text/plain": [
       "-91"
      ]
     },
     "execution_count": 388,
     "metadata": {},
     "output_type": "execute_result"
    }
   ],
   "source": [
    "# FtnR\n",
    "lag-len(B)-offset*50"
   ]
  },
  {
   "cell_type": "code",
   "execution_count": 538,
   "metadata": {
    "ExecuteTime": {
     "end_time": "2018-12-19T14:55:22.243526Z",
     "start_time": "2018-12-19T14:55:22.239537Z"
    }
   },
   "outputs": [
    {
     "data": {
      "text/plain": [
       "506"
      ]
     },
     "execution_count": 538,
     "metadata": {},
     "output_type": "execute_result"
    }
   ],
   "source": [
    "# Drinking\n",
    "lag-len(B)-offset*50"
   ]
  },
  {
   "cell_type": "code",
   "execution_count": 541,
   "metadata": {},
   "outputs": [
    {
     "data": {
      "text/plain": [
       "2094"
      ]
     },
     "execution_count": 541,
     "metadata": {},
     "output_type": "execute_result"
    }
   ],
   "source": [
    "lag"
   ]
  },
  {
   "cell_type": "code",
   "execution_count": 540,
   "metadata": {},
   "outputs": [
    {
     "data": {
      "text/plain": [
       "2088"
      ]
     },
     "execution_count": 540,
     "metadata": {},
     "output_type": "execute_result"
    }
   ],
   "source": [
    "len(A)"
   ]
  },
  {
   "cell_type": "code",
   "execution_count": 539,
   "metadata": {},
   "outputs": [
    {
     "data": {
      "text/plain": [
       "1088"
      ]
     },
     "execution_count": 539,
     "metadata": {},
     "output_type": "execute_result"
    }
   ],
   "source": [
    "len(B)"
   ]
  },
  {
   "cell_type": "code",
   "execution_count": 600,
   "metadata": {},
   "outputs": [],
   "source": [
    "MC10 = pd.read_csv(\n",
    "    '//FS2.smpp.local\\\\RTO\\\\CIS-PD Study\\\\Subjects\\\\1004\\\\dorsal_hand_right\\\\d5la7ybu\\\\2017-07-07T13-15-16-759Z\\\\accel.csv')\n",
    "MC10.loc[:,'Timestamp (ms)'] = MC10['Timestamp (ms)'].apply(\n",
    "    lambda x: datetime.utcfromtimestamp(x/1000))\n",
    "\n",
    "MC10['Mag'] = MC10.apply(lambda x: x['Accel X (g)']**2+x['Accel Y (g)']**2+x['Accel Z (g)']**2,axis=1)"
   ]
  },
  {
   "cell_type": "code",
   "execution_count": 218,
   "metadata": {
    "ExecuteTime": {
     "end_time": "2018-12-19T14:57:01.219402Z",
     "start_time": "2018-12-19T14:57:01.215439Z"
    }
   },
   "outputs": [
    {
     "data": {
      "text/plain": [
       "1728"
      ]
     },
     "execution_count": 218,
     "metadata": {},
     "output_type": "execute_result"
    }
   ],
   "source": [
    "lag"
   ]
  },
  {
   "cell_type": "code",
   "execution_count": 219,
   "metadata": {
    "ExecuteTime": {
     "end_time": "2018-12-19T14:57:09.298227Z",
     "start_time": "2018-12-19T14:57:09.295235Z"
    }
   },
   "outputs": [],
   "source": [
    "offset = lag/50"
   ]
  },
  {
   "cell_type": "code",
   "execution_count": 220,
   "metadata": {
    "ExecuteTime": {
     "end_time": "2018-12-19T14:57:13.580161Z",
     "start_time": "2018-12-19T14:57:13.550215Z"
    }
   },
   "outputs": [
    {
     "data": {
      "text/plain": [
       "34.56"
      ]
     },
     "execution_count": 220,
     "metadata": {},
     "output_type": "execute_result"
    }
   ],
   "source": [
    "offset"
   ]
  },
  {
   "cell_type": "code",
   "execution_count": 1,
   "metadata": {},
   "outputs": [
    {
     "ename": "NameError",
     "evalue": "name 'resample' is not defined",
     "output_type": "error",
     "traceback": [
      "\u001b[1;31m---------------------------------------------------------------------------\u001b[0m",
      "\u001b[1;31mNameError\u001b[0m                                 Traceback (most recent call last)",
      "\u001b[1;32m<ipython-input-1-a9da9d109b69>\u001b[0m in \u001b[0;36m<module>\u001b[1;34m()\u001b[0m\n\u001b[1;32m----> 1\u001b[1;33m \u001b[0mA\u001b[0m \u001b[1;33m=\u001b[0m \u001b[0mresample\u001b[0m\u001b[1;33m(\u001b[0m\u001b[0msensor\u001b[0m\u001b[1;33m[\u001b[0m\u001b[1;34m'Accel Y (g)'\u001b[0m\u001b[1;33m]\u001b[0m\u001b[1;33m,\u001b[0m \u001b[0mlen\u001b[0m\u001b[1;33m(\u001b[0m\u001b[0mWatch\u001b[0m\u001b[1;33m)\u001b[0m\u001b[1;33m+\u001b[0m\u001b[1;36m200\u001b[0m\u001b[1;33m)\u001b[0m\u001b[1;33m\u001b[0m\u001b[0m\n\u001b[0m\u001b[0;32m      2\u001b[0m \u001b[0mB\u001b[0m \u001b[1;33m=\u001b[0m \u001b[0mWatch\u001b[0m\u001b[1;33m[\u001b[0m\u001b[1;34m'x'\u001b[0m\u001b[1;33m]\u001b[0m\u001b[1;33m\u001b[0m\u001b[0m\n",
      "\u001b[1;31mNameError\u001b[0m: name 'resample' is not defined"
     ]
    }
   ],
   "source": [
    "A = resample(sensor['Accel Y (g)'], len(Watch)+200)\n",
    "B = Watch['x']"
   ]
  },
  {
   "cell_type": "code",
   "execution_count": 223,
   "metadata": {
    "ExecuteTime": {
     "end_time": "2018-12-19T15:31:45.424412Z",
     "start_time": "2018-12-19T15:31:45.420396Z"
    }
   },
   "outputs": [
    {
     "data": {
      "text/plain": [
       "1728"
      ]
     },
     "execution_count": 223,
     "metadata": {},
     "output_type": "execute_result"
    }
   ],
   "source": [
    "len(Watch)"
   ]
  },
  {
   "cell_type": "code",
   "execution_count": 50,
   "metadata": {
    "ExecuteTime": {
     "end_time": "2018-12-19T15:32:04.640872Z",
     "start_time": "2018-12-19T15:32:04.635914Z"
    }
   },
   "outputs": [
    {
     "data": {
      "text/plain": [
       "1928"
      ]
     },
     "execution_count": 50,
     "metadata": {},
     "output_type": "execute_result"
    }
   ],
   "source": [
    "len(A)"
   ]
  },
  {
   "cell_type": "code",
   "execution_count": 287,
   "metadata": {
    "ExecuteTime": {
     "end_time": "2018-12-19T18:56:28.139009Z",
     "start_time": "2018-12-19T18:56:28.134023Z"
    }
   },
   "outputs": [
    {
     "name": "stderr",
     "output_type": "stream",
     "text": [
      "C:\\Users\\anaconda3\\lib\\site-packages\\scipy\\signal\\signaltools.py:491: FutureWarning: Using a non-tuple sequence for multidimensional indexing is deprecated; use `arr[tuple(seq)]` instead of `arr[seq]`. In the future this will be interpreted as an array index, `arr[np.array(seq)]`, which will result either in an error or a different result.\n",
      "  return x[reverse].conj()\n",
      "C:\\Users\\anaconda3\\lib\\site-packages\\mkl_fft\\_numpy_fft.py:1044: FutureWarning: Using a non-tuple sequence for multidimensional indexing is deprecated; use `arr[tuple(seq)]` instead of `arr[seq]`. In the future this will be interpreted as an array index, `arr[np.array(seq)]`, which will result either in an error or a different result.\n",
      "  output = mkl_fft.rfftn_numpy(a, s, axes)\n"
     ]
    }
   ],
   "source": [
    "A = sensor['Accel Y (g)']\n",
    "B = Watch['x']\n",
    "lag = np.argmax(correlate(A, B))\n",
    "offset = lag/50"
   ]
  },
  {
   "cell_type": "code",
   "execution_count": 288,
   "metadata": {
    "ExecuteTime": {
     "end_time": "2018-12-19T18:56:29.513568Z",
     "start_time": "2018-12-19T18:56:29.510601Z"
    }
   },
   "outputs": [
    {
     "name": "stdout",
     "output_type": "stream",
     "text": [
      "1822 36.44\n"
     ]
    }
   ],
   "source": [
    "print(lag, offset)"
   ]
  },
  {
   "cell_type": "code",
   "execution_count": 234,
   "metadata": {
    "ExecuteTime": {
     "end_time": "2018-12-19T18:33:34.572279Z",
     "start_time": "2018-12-19T18:33:34.479498Z"
    }
   },
   "outputs": [
    {
     "data": {
      "text/plain": [
       "<matplotlib.axes._subplots.AxesSubplot at 0x21c2f9021d0>"
      ]
     },
     "execution_count": 234,
     "metadata": {},
     "output_type": "execute_result"
    },
    {
     "data": {
      "image/png": "[encoded data removed]",
      "text/plain": [
       "<Figure size 432x288 with 1 Axes>"
      ]
     },
     "metadata": {
      "needs_background": "light"
     },
     "output_type": "display_data"
    }
   ],
   "source": [
    "sensor['Accel Y (g)'].plot()"
   ]
  },
  {
   "cell_type": "code",
   "execution_count": 235,
   "metadata": {
    "ExecuteTime": {
     "end_time": "2018-12-19T18:33:48.926489Z",
     "start_time": "2018-12-19T18:33:48.830747Z"
    }
   },
   "outputs": [
    {
     "data": {
      "text/plain": [
       "<matplotlib.axes._subplots.AxesSubplot at 0x21c2f9536a0>"
      ]
     },
     "execution_count": 235,
     "metadata": {},
     "output_type": "execute_result"
    },
    {
     "data": {
      "image/png": "[encoded data removed]",
      "text/plain": [
       "<Figure size 432x288 with 1 Axes>"
      ]
     },
     "metadata": {
      "needs_background": "light"
     },
     "output_type": "display_data"
    }
   ],
   "source": [
    "Watch['x'].plot()"
   ]
  },
  {
   "cell_type": "code",
   "execution_count": 246,
   "metadata": {
    "ExecuteTime": {
     "end_time": "2018-12-19T18:38:39.557981Z",
     "start_time": "2018-12-19T18:38:39.484181Z"
    }
   },
   "outputs": [
    {
     "name": "stderr",
     "output_type": "stream",
     "text": [
      "C:\\Users\\anaconda3\\lib\\site-packages\\scipy\\signal\\signaltools.py:491: FutureWarning: Using a non-tuple sequence for multidimensional indexing is deprecated; use `arr[tuple(seq)]` instead of `arr[seq]`. In the future this will be interpreted as an array index, `arr[np.array(seq)]`, which will result either in an error or a different result.\n",
      "  return x[reverse].conj()\n",
      "C:\\Users\\anaconda3\\lib\\site-packages\\mkl_fft\\_numpy_fft.py:1044: FutureWarning: Using a non-tuple sequence for multidimensional indexing is deprecated; use `arr[tuple(seq)]` instead of `arr[seq]`. In the future this will be interpreted as an array index, `arr[np.array(seq)]`, which will result either in an error or a different result.\n",
      "  output = mkl_fft.rfftn_numpy(a, s, axes)\n"
     ]
    },
    {
     "data": {
      "text/plain": [
       "[<matplotlib.lines.Line2D at 0x21c2fa47c18>]"
      ]
     },
     "execution_count": 246,
     "metadata": {},
     "output_type": "execute_result"
    },
    {
     "data": {
      "image/png": "[encoded data removed]",
      "text/plain": [
       "<Figure size 432x288 with 1 Axes>"
      ]
     },
     "metadata": {
      "needs_background": "light"
     },
     "output_type": "display_data"
    }
   ],
   "source": [
    "\n",
    "matplotlib.pyplot.plot(correlate(A, B))"
   ]
  },
  {
   "cell_type": "code",
   "execution_count": 244,
   "metadata": {
    "ExecuteTime": {
     "end_time": "2018-12-19T18:37:05.185554Z",
     "start_time": "2018-12-19T18:37:05.180567Z"
    }
   },
   "outputs": [
    {
     "name": "stderr",
     "output_type": "stream",
     "text": [
      "C:\\Users\\anaconda3\\lib\\site-packages\\scipy\\signal\\signaltools.py:491: FutureWarning: Using a non-tuple sequence for multidimensional indexing is deprecated; use `arr[tuple(seq)]` instead of `arr[seq]`. In the future this will be interpreted as an array index, `arr[np.array(seq)]`, which will result either in an error or a different result.\n",
      "  return x[reverse].conj()\n",
      "C:\\Users\\anaconda3\\lib\\site-packages\\mkl_fft\\_numpy_fft.py:1044: FutureWarning: Using a non-tuple sequence for multidimensional indexing is deprecated; use `arr[tuple(seq)]` instead of `arr[seq]`. In the future this will be interpreted as an array index, `arr[np.array(seq)]`, which will result either in an error or a different result.\n",
      "  output = mkl_fft.rfftn_numpy(a, s, axes)\n"
     ]
    },
    {
     "data": {
      "text/plain": [
       "4197"
      ]
     },
     "execution_count": 244,
     "metadata": {},
     "output_type": "execute_result"
    }
   ],
   "source": [
    "len(correlate(A, B))"
   ]
  },
  {
   "cell_type": "code",
   "execution_count": 245,
   "metadata": {
    "ExecuteTime": {
     "end_time": "2018-12-19T18:37:12.976525Z",
     "start_time": "2018-12-19T18:37:12.972536Z"
    }
   },
   "outputs": [
    {
     "data": {
      "text/plain": [
       "4198"
      ]
     },
     "execution_count": 245,
     "metadata": {},
     "output_type": "execute_result"
    }
   ],
   "source": [
    "len(A) + len(B)"
   ]
  },
  {
   "cell_type": "code",
   "execution_count": 247,
   "metadata": {
    "ExecuteTime": {
     "end_time": "2018-12-19T18:39:42.255133Z",
     "start_time": "2018-12-19T18:39:42.252139Z"
    }
   },
   "outputs": [
    {
     "name": "stderr",
     "output_type": "stream",
     "text": [
      "C:\\Users\\anaconda3\\lib\\site-packages\\scipy\\signal\\signaltools.py:491: FutureWarning: Using a non-tuple sequence for multidimensional indexing is deprecated; use `arr[tuple(seq)]` instead of `arr[seq]`. In the future this will be interpreted as an array index, `arr[np.array(seq)]`, which will result either in an error or a different result.\n",
      "  return x[reverse].conj()\n",
      "C:\\Users\\anaconda3\\lib\\site-packages\\mkl_fft\\_numpy_fft.py:1044: FutureWarning: Using a non-tuple sequence for multidimensional indexing is deprecated; use `arr[tuple(seq)]` instead of `arr[seq]`. In the future this will be interpreted as an array index, `arr[np.array(seq)]`, which will result either in an error or a different result.\n",
      "  output = mkl_fft.rfftn_numpy(a, s, axes)\n"
     ]
    }
   ],
   "source": [
    "corr = correlate(A, B)"
   ]
  },
  {
   "cell_type": "code",
   "execution_count": 255,
   "metadata": {
    "ExecuteTime": {
     "end_time": "2018-12-19T18:40:47.870378Z",
     "start_time": "2018-12-19T18:40:47.867385Z"
    }
   },
   "outputs": [
    {
     "data": {
      "text/plain": [
       "0.9151182126190246"
      ]
     },
     "execution_count": 255,
     "metadata": {},
     "output_type": "execute_result"
    }
   ],
   "source": [
    "corr[0]"
   ]
  },
  {
   "cell_type": "code",
   "execution_count": 254,
   "metadata": {
    "ExecuteTime": {
     "end_time": "2018-12-19T18:40:42.401864Z",
     "start_time": "2018-12-19T18:40:42.396878Z"
    }
   },
   "outputs": [
    {
     "data": {
      "text/plain": [
       "0.9151182126192108"
      ]
     },
     "execution_count": 254,
     "metadata": {},
     "output_type": "execute_result"
    }
   ],
   "source": [
    "A.values[0]*B.values[-1]"
   ]
  },
  {
   "cell_type": "code",
   "execution_count": 260,
   "metadata": {
    "ExecuteTime": {
     "end_time": "2018-12-19T18:42:26.300080Z",
     "start_time": "2018-12-19T18:42:26.296091Z"
    }
   },
   "outputs": [
    {
     "data": {
      "text/plain": [
       "6.08"
      ]
     },
     "execution_count": 260,
     "metadata": {},
     "output_type": "execute_result"
    }
   ],
   "source": [
    "(lag-len(B)+1)/50 - 2"
   ]
  },
  {
   "cell_type": "code",
   "execution_count": 289,
   "metadata": {
    "ExecuteTime": {
     "end_time": "2018-12-19T18:56:47.050571Z",
     "start_time": "2018-12-19T18:56:47.046610Z"
    }
   },
   "outputs": [
    {
     "data": {
      "text/plain": [
       "94"
      ]
     },
     "execution_count": 289,
     "metadata": {},
     "output_type": "execute_result"
    }
   ],
   "source": [
    "lag-len(B)"
   ]
  },
  {
   "cell_type": "code",
   "execution_count": 296,
   "metadata": {
    "ExecuteTime": {
     "end_time": "2018-12-19T18:58:04.252766Z",
     "start_time": "2018-12-19T18:58:04.103167Z"
    }
   },
   "outputs": [
    {
     "data": {
      "text/plain": [
       "<matplotlib.axes._subplots.AxesSubplot at 0x21c339a2a90>"
      ]
     },
     "execution_count": 296,
     "metadata": {},
     "output_type": "execute_result"
    },
    {
     "data": {
      "image/png": "[encoded data removed]",
      "text/plain": [
       "<Figure size 432x288 with 1 Axes>"
      ]
     },
     "metadata": {
      "needs_background": "light"
     },
     "output_type": "display_data"
    }
   ],
   "source": [
    "A1 = A.copy()\n",
    "\n",
    "A1.index = A.index-(lag-len(B))\n",
    "\n",
    "ax = A1.loc[1000:].plot()\n",
    "B.loc[1000:].plot(ax = ax)"
   ]
  },
  {
   "cell_type": "code",
   "execution_count": 299,
   "metadata": {
    "ExecuteTime": {
     "end_time": "2018-12-19T19:00:15.321756Z",
     "start_time": "2018-12-19T19:00:15.317744Z"
    }
   },
   "outputs": [
    {
     "data": {
      "text/plain": [
       "-0.1200000000000001"
      ]
     },
     "execution_count": 299,
     "metadata": {},
     "output_type": "execute_result"
    }
   ],
   "source": [
    "# Calculate time (in sec) that MC10 is behind the Watch\n",
    "(lag-len(B))/50 - 2"
   ]
  },
  {
   "cell_type": "code",
   "execution_count": null,
   "metadata": {},
   "outputs": [],
   "source": []
  }
 ],
 "metadata": {
  "kernelspec": {
   "display_name": "Python 3",
   "language": "python",
   "name": "python3"
  },
  "language_info": {
   "codemirror_mode": {
    "name": "ipython",
    "version": 3
   },
   "file_extension": ".py",
   "mimetype": "text/x-python",
   "name": "python",
   "nbconvert_exporter": "python",
   "pygments_lexer": "ipython3",
   "version": "3.6.5"
  }
 },
 "nbformat": 4,
 "nbformat_minor": 2
}
