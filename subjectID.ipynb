{
 "cells": [
  {
   "cell_type": "markdown",
   "metadata": {},
   "source": [
    "# CIS-PD Subject ID\n",
    "Merge subject IDs: 6 digit, 4 digit, video id/user name, and site"
   ]
  },
  {
   "cell_type": "code",
   "execution_count": null,
   "metadata": {},
   "outputs": [],
   "source": [
    "# import packages\n",
    "import os\n",
    "import platform # don't need\n",
    "import pandas as pd\n",
    "import re\n",
    "import h5py #save hdf5 but pandas has a function...\n",
    "import numpy as np"
   ]
  },
  {
   "cell_type": "markdown",
   "metadata": {},
   "source": [
    "## Create file with 4 digit, 6 digit SubjectCode and video ID (FoxInsight/Athena)"
   ]
  },
  {
   "cell_type": "code",
   "execution_count": 20,
   "metadata": {},
   "outputs": [],
   "source": [
    "# FoxInsightID is the video ID\n",
    "subjenroll = pd.read_sas('Y:\\CIS-PD MUSC\\subjenrollment.sas7bdat')\n",
    "subjenroll.columns = subjenroll.columns.str.replace('z', '')\n",
    "subjenroll = subjenroll[['SubjectCode','FoxInsightID']]\n",
    "subjenroll = subjenroll.applymap(lambda x: x.decode() if isinstance(x, bytes) else x)"
   ]
  },
  {
   "cell_type": "code",
   "execution_count": 10,
   "metadata": {},
   "outputs": [],
   "source": [
    "# this file has 6 digit IDs\n",
    "subjathena = pd.read_excel('Y:\\CIS-PD MUSC\\SubjIDMapAthena.xlsx')\n",
    "del subjathena['Subj ID Clin']"
   ]
  },
  {
   "cell_type": "code",
   "execution_count": 22,
   "metadata": {},
   "outputs": [],
   "source": [
    "# merge using Athena User Name and FoxInsightID\n",
    "subjid = subjenroll.merge(subjathena, left_on='FoxInsightID', right_on='User Name', how='left')"
   ]
  },
  {
   "cell_type": "code",
   "execution_count": 21,
   "metadata": {},
   "outputs": [],
   "source": [
    "filename = os.path.join(path2, 'videoID' + '.csv')\n",
    "subjid.to_csv(filename, sep=',')"
   ]
  }
 ],
 "metadata": {
  "kernelspec": {
   "display_name": "Python 3",
   "language": "python",
   "name": "python3"
  },
  "language_info": {
   "codemirror_mode": {
    "name": "ipython",
    "version": 3
   },
   "file_extension": ".py",
   "mimetype": "text/x-python",
   "name": "python",
   "nbconvert_exporter": "python",
   "pygments_lexer": "ipython3",
   "version": "3.6.5"
  }
 },
 "nbformat": 4,
 "nbformat_minor": 2
}
