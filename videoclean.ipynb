{
 "cells": [
  {
   "cell_type": "markdown",
   "metadata": {},
   "source": [
    "# Activity list\n",
    "Shaking\n",
    "Standing\n",
    "Walking\n",
    "Walking while counting\n",
    "Finger to nose--right hand\n",
    "Finger to nose--left hand\n",
    "Alternating right hand movements\n",
    "Alternating left hand movements\n",
    "Sit to stand\n",
    "Drawing on a paper\n",
    "Typing on a computer keyboard\n",
    "Assembling nuts and bolts\n",
    "Taking a glass of water and drinking\n",
    "Organizing sheets in a folder\n",
    "Folding towels\n",
    "Sitting"
   ]
  },
  {
   "cell_type": "markdown",
   "metadata": {},
   "source": [
    "# Clean subj 1030 cycle 1"
   ]
  },
  {
   "cell_type": "code",
   "execution_count": 5,
   "metadata": {},
   "outputs": [
    {
     "name": "stdout",
     "output_type": "stream",
     "text": [
      "z:\\CIS-PD Videos\\Cisnwh8\n"
     ]
    }
   ],
   "source": [
    "cd z:\\CIS-PD Videos\\Cisnwh8"
   ]
  },
  {
   "cell_type": "code",
   "execution_count": 7,
   "metadata": {},
   "outputs": [],
   "source": [
    "import pandas as pd\n",
    "import re"
   ]
  },
  {
   "cell_type": "code",
   "execution_count": 25,
   "metadata": {},
   "outputs": [
    {
     "data": {
      "text/html": [
       "<div>\n",
       "<style scoped>\n",
       "    .dataframe tbody tr th:only-of-type {\n",
       "        vertical-align: middle;\n",
       "    }\n",
       "\n",
       "    .dataframe tbody tr th {\n",
       "        vertical-align: top;\n",
       "    }\n",
       "\n",
       "    .dataframe thead th {\n",
       "        text-align: right;\n",
       "    }\n",
       "</style>\n",
       "<table border=\"1\" class=\"dataframe\">\n",
       "  <thead>\n",
       "    <tr style=\"text-align: right;\">\n",
       "      <th></th>\n",
       "      <th>start frame</th>\n",
       "      <th>end frame</th>\n",
       "      <th>activity</th>\n",
       "      <th>cycle</th>\n",
       "    </tr>\n",
       "  </thead>\n",
       "  <tbody>\n",
       "    <tr>\n",
       "      <th>1</th>\n",
       "      <td>1118</td>\n",
       "      <td>2145.0</td>\n",
       "      <td>Standing</td>\n",
       "      <td>1</td>\n",
       "    </tr>\n",
       "    <tr>\n",
       "      <th>2</th>\n",
       "      <td>2315</td>\n",
       "      <td>3333.0</td>\n",
       "      <td>Walking</td>\n",
       "      <td>1</td>\n",
       "    </tr>\n",
       "    <tr>\n",
       "      <th>3</th>\n",
       "      <td>3608</td>\n",
       "      <td>4800.0</td>\n",
       "      <td>Walking while counting</td>\n",
       "      <td>1</td>\n",
       "    </tr>\n",
       "    <tr>\n",
       "      <th>4</th>\n",
       "      <td>5832</td>\n",
       "      <td>6518.0</td>\n",
       "      <td>Finger to nose--right hand</td>\n",
       "      <td>1</td>\n",
       "    </tr>\n",
       "    <tr>\n",
       "      <th>5</th>\n",
       "      <td>6518</td>\n",
       "      <td>7121.0</td>\n",
       "      <td>Finger to nose--left hand</td>\n",
       "      <td>1</td>\n",
       "    </tr>\n",
       "    <tr>\n",
       "      <th>6</th>\n",
       "      <td>7435</td>\n",
       "      <td>8029.0</td>\n",
       "      <td>Alternating right hand movements</td>\n",
       "      <td>1</td>\n",
       "    </tr>\n",
       "    <tr>\n",
       "      <th>7</th>\n",
       "      <td>8030</td>\n",
       "      <td>8688.0</td>\n",
       "      <td>Alternating left hand movements</td>\n",
       "      <td>1</td>\n",
       "    </tr>\n",
       "    <tr>\n",
       "      <th>8</th>\n",
       "      <td>9077</td>\n",
       "      <td>9343.0</td>\n",
       "      <td>Sit to stand</td>\n",
       "      <td>1</td>\n",
       "    </tr>\n",
       "    <tr>\n",
       "      <th>9</th>\n",
       "      <td>9880</td>\n",
       "      <td>10973.0</td>\n",
       "      <td>Drawing on a paper</td>\n",
       "      <td>1</td>\n",
       "    </tr>\n",
       "    <tr>\n",
       "      <th>10</th>\n",
       "      <td>11871</td>\n",
       "      <td>12990.0</td>\n",
       "      <td>Typing on a computer keyboard</td>\n",
       "      <td>1</td>\n",
       "    </tr>\n",
       "    <tr>\n",
       "      <th>12</th>\n",
       "      <td>13164</td>\n",
       "      <td>14391.0</td>\n",
       "      <td>Assembling nuts and bolts</td>\n",
       "      <td>1</td>\n",
       "    </tr>\n",
       "    <tr>\n",
       "      <th>13</th>\n",
       "      <td>15039</td>\n",
       "      <td>15950.0</td>\n",
       "      <td>Taking a glass of water and drinking</td>\n",
       "      <td>1</td>\n",
       "    </tr>\n",
       "    <tr>\n",
       "      <th>14</th>\n",
       "      <td>17075</td>\n",
       "      <td>18503.0</td>\n",
       "      <td>Organizing sheets in a folder</td>\n",
       "      <td>1</td>\n",
       "    </tr>\n",
       "    <tr>\n",
       "      <th>15</th>\n",
       "      <td>19059</td>\n",
       "      <td>20180.0</td>\n",
       "      <td>Folding towels</td>\n",
       "      <td>1</td>\n",
       "    </tr>\n",
       "    <tr>\n",
       "      <th>16</th>\n",
       "      <td>20359</td>\n",
       "      <td>21813.0</td>\n",
       "      <td>Sitting</td>\n",
       "      <td>1</td>\n",
       "    </tr>\n",
       "  </tbody>\n",
       "</table>\n",
       "</div>"
      ],
      "text/plain": [
       "   start frame  end frame                              activity  cycle\n",
       "1         1118     2145.0                              Standing      1\n",
       "2         2315     3333.0                               Walking      1\n",
       "3         3608     4800.0                Walking while counting      1\n",
       "4         5832     6518.0            Finger to nose--right hand      1\n",
       "5         6518     7121.0             Finger to nose--left hand      1\n",
       "6         7435     8029.0      Alternating right hand movements      1\n",
       "7         8030     8688.0       Alternating left hand movements      1\n",
       "8         9077     9343.0                          Sit to stand      1\n",
       "9         9880    10973.0                    Drawing on a paper      1\n",
       "10       11871    12990.0         Typing on a computer keyboard      1\n",
       "12       13164    14391.0             Assembling nuts and bolts      1\n",
       "13       15039    15950.0  Taking a glass of water and drinking      1\n",
       "14       17075    18503.0         Organizing sheets in a folder      1\n",
       "15       19059    20180.0                        Folding towels      1\n",
       "16       20359    21813.0                               Sitting      1"
      ]
     },
     "execution_count": 25,
     "metadata": {},
     "output_type": "execute_result"
    }
   ],
   "source": [
    "colnames = ['1','2','start frame','end frame','activity','6','cycle']\n",
    "usecol = ['start frame','end frame','activity','cycle']\n",
    "df = pd.read_csv('cycle1.csv', names = colnames, usecols=usecol)\n",
    "df = df.dropna()\n",
    "df['cycle'] += 1\n",
    "df['cycle'] = pd.to_numeric(df['cycle'], downcast='integer')\n",
    "df"
   ]
  },
  {
   "cell_type": "code",
   "execution_count": null,
   "metadata": {},
   "outputs": [],
   "source": []
  },
  {
   "cell_type": "code",
   "execution_count": null,
   "metadata": {},
   "outputs": [],
   "source": []
  },
  {
   "cell_type": "code",
   "execution_count": null,
   "metadata": {},
   "outputs": [],
   "source": []
  },
  {
   "cell_type": "code",
   "execution_count": null,
   "metadata": {},
   "outputs": [],
   "source": []
  },
  {
   "cell_type": "code",
   "execution_count": null,
   "metadata": {},
   "outputs": [],
   "source": []
  },
  {
   "cell_type": "code",
   "execution_count": null,
   "metadata": {},
   "outputs": [],
   "source": []
  }
 ],
 "metadata": {
  "kernelspec": {
   "display_name": "Python 3",
   "language": "python",
   "name": "python3"
  },
  "language_info": {
   "codemirror_mode": {
    "name": "ipython",
    "version": 3
   },
   "file_extension": ".py",
   "mimetype": "text/x-python",
   "name": "python",
   "nbconvert_exporter": "python",
   "pygments_lexer": "ipython3",
   "version": "3.6.5"
  }
 },
 "nbformat": 4,
 "nbformat_minor": 2
}
