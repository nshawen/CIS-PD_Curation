{
 "cells": [
  {
   "cell_type": "markdown",
   "metadata": {},
   "source": [
    "# Data curation: MDS part III scores"
   ]
  },
  {
   "cell_type": "markdown",
   "metadata": {},
   "source": [
    "Form 238v1: MDS-UPDRS Scoring Summary\n",
    "Form 508v1: MDS-UPDRS Part 3 Scoring Summary"
   ]
  },
  {
   "cell_type": "code",
   "execution_count": 3,
   "metadata": {},
   "outputs": [
    {
     "name": "stderr",
     "output_type": "stream",
     "text": [
      "C:\\ProgramData\\anaconda3\\lib\\site-packages\\h5py\\__init__.py:36: FutureWarning: Conversion of the second argument of issubdtype from `float` to `np.floating` is deprecated. In future, it will be treated as `np.float64 == np.dtype(float).type`.\n",
      "  from ._conv import register_converters as _register_converters\n"
     ]
    }
   ],
   "source": [
    "# import packages\n",
    "import os\n",
    "import platform # don't need\n",
    "import pandas as pd\n",
    "import re\n",
    "import h5py #save hdf5 but pandas has a function...\n",
    "import numpy as np"
   ]
  },
  {
   "cell_type": "code",
   "execution_count": 101,
   "metadata": {},
   "outputs": [],
   "source": [
    "filename = r'//FS2.smpp.local\\RTO\\CIS-PD MUSC\\codelist.sas7bdat'\n",
    "codelist = pd.read_sas(filename)\n",
    "codelist.columns = codelist.columns.str.replace('z', '')\n",
    "codelist = codelist.applymap(lambda x: x.decode() if isinstance(x, bytes) else x)\n",
    "filename = r'//FS2.smpp.local\\RTO\\CIS-PD MUSC\\datadictionary.sas7bdat'\n",
    "datadict = pd.read_sas(filename, format = 'sas7bdat', encoding='iso-8859-1')\n",
    "datadict.columns = datadict.columns.str.replace('z', '')"
   ]
  },
  {
   "cell_type": "code",
   "execution_count": null,
   "metadata": {},
   "outputs": [],
   "source": [
    "codelist.head()"
   ]
  },
  {
   "cell_type": "code",
   "execution_count": null,
   "metadata": {},
   "outputs": [],
   "source": [
    "datadict.head()"
   ]
  },
  {
   "cell_type": "code",
   "execution_count": null,
   "metadata": {},
   "outputs": [],
   "source": [
    "datadict.loc[datadict.FormID == 238.0]"
   ]
  },
  {
   "cell_type": "markdown",
   "metadata": {},
   "source": [
    "# Combine forms 508 and 238 for updrs part 3 scores"
   ]
  },
  {
   "cell_type": "code",
   "execution_count": 20,
   "metadata": {},
   "outputs": [],
   "source": [
    "# load decoded forms\n",
    "filename = r'//FS2.smpp.local\\RTO\\CIS-PD MUSC\\decoded_forms\\form238.h5'\n",
    "form238 = pd.read_hdf(filename)\n",
    "form238 = form238.rename(index=str, columns={'SubjectCode':'Subject ID',\n",
    "                                  'VisitNm':'Visit'})\n",
    "filename = r'//FS2.smpp.local\\RTO\\CIS-PD MUSC\\decoded_forms\\form508.h5'\n",
    "form508 = pd.read_hdf(filename)\n",
    "form508 = form508.rename(index=str, columns={'SubjectCode':'Subject ID',\n",
    "                                  'VisitNm':'Visit'})"
   ]
  },
  {
   "cell_type": "markdown",
   "metadata": {},
   "source": [
    "# Clean form 508"
   ]
  },
  {
   "cell_type": "code",
   "execution_count": 30,
   "metadata": {},
   "outputs": [
    {
     "data": {
      "text/plain": [
       "array(['Subject ID', 'SiteID', 'Visit', 'FormDate', 'Q33', 'Q34', 'Q35',\n",
       "       'Q36', 'Q37', 'Q38', 'Q39', 'Q40', 'Q41', 'Q42', 'Q43', 'Q44',\n",
       "       'Q45', 'Q46', 'Q47', 'Q48', 'Q49', 'Q50', 'Q51', 'Q52', 'Q53',\n",
       "       'Q54', 'Q55', 'Q56', 'Q57', 'Q58', 'Q59', 'Q60', 'Q61', 'Q62',\n",
       "       'Q63', 'Q64', 'Q65', 'Q02', 'Q01', 'Q66', 'Q67', 'Q68',\n",
       "       'DataCollected', 'Qb2_UTC', 'FormTime'], dtype=object)"
      ]
     },
     "execution_count": 30,
     "metadata": {},
     "output_type": "execute_result"
    }
   ],
   "source": [
    "form508.columns.values"
   ]
  },
  {
   "cell_type": "code",
   "execution_count": 31,
   "metadata": {},
   "outputs": [],
   "source": [
    "# reorder form 508 columns\n",
    "form508 = form508[['Subject ID', 'SiteID', 'Visit', 'FormDate', \n",
    "                   'Qb2_UTC', 'FormTime', 'Q01', 'Q02',\n",
    "                   'Q33', 'Q34', 'Q35', 'Q36', 'Q37', 'Q38', 'Q39', 'Q40', 'Q41', \n",
    "                   'Q42', 'Q43', 'Q44', 'Q45', 'Q46', 'Q47', 'Q48', 'Q49', 'Q50', \n",
    "                   'Q51', 'Q52', 'Q53', 'Q54', 'Q55', 'Q56', 'Q57', 'Q58', 'Q59', \n",
    "                   'Q60', 'Q61', 'Q62', 'Q63', 'Q64', 'Q65', 'Q66', 'Q67', 'Q68', \n",
    "                   'DataCollected']]"
   ]
  },
  {
   "cell_type": "code",
   "execution_count": 33,
   "metadata": {},
   "outputs": [],
   "source": [
    "# Kept and renamed columns from form 508\n",
    "# Note: form 508 and 238 have different Q01 and Q02 each.\n",
    "form508 = form508.rename(index=str, columns={'Q02':'Hours since last PD medication dose', \n",
    "                                             'Q01':'ParticipantState', \n",
    "                                             'Qb2_UTC':'UTC'})"
   ]
  },
  {
   "cell_type": "code",
   "execution_count": 34,
   "metadata": {},
   "outputs": [
    {
     "data": {
      "text/plain": [
       "Index(['Subject ID', 'SiteID', 'Visit', 'FormDate', 'UTC', 'FormTime',\n",
       "       'ParticipantState', 'Hours since last PD medication dose', 'Q33', 'Q34',\n",
       "       'Q35', 'Q36', 'Q37', 'Q38', 'Q39', 'Q40', 'Q41', 'Q42', 'Q43', 'Q44',\n",
       "       'Q45', 'Q46', 'Q47', 'Q48', 'Q49', 'Q50', 'Q51', 'Q52', 'Q53', 'Q54',\n",
       "       'Q55', 'Q56', 'Q57', 'Q58', 'Q59', 'Q60', 'Q61', 'Q62', 'Q63', 'Q64',\n",
       "       'Q65', 'Q66', 'Q67', 'Q68', 'DataCollected'],\n",
       "      dtype='object')"
      ]
     },
     "execution_count": 34,
     "metadata": {},
     "output_type": "execute_result"
    }
   ],
   "source": [
    "form508.columns"
   ]
  },
  {
   "cell_type": "markdown",
   "metadata": {},
   "source": [
    "# Clean form 238"
   ]
  },
  {
   "cell_type": "code",
   "execution_count": 22,
   "metadata": {},
   "outputs": [],
   "source": [
    "# clean form 238\n",
    "\n",
    "# drop form238 columns\n",
    "form238 = form238.drop(columns=['Q01', 'Q02', 'Q03', 'Q04', 'Q05',\n",
    "'Q06', 'Q07', 'Q08', 'Q09', 'Q10', 'Q11', 'Q12', 'Q13', 'Q14', 'Q15', 'Q16',\n",
    "'Q17', 'Q18', 'Q19', 'Q20', 'Q21', 'Q22', 'Q23', 'Q24', 'Q25', 'Q26',\n",
    "'Q27', 'Q28',\n",
    "'Q69', 'Q70', 'Q71', 'Q72', 'Q73', 'Q74'])\n",
    "\n",
    "# reorder columns\n",
    "form238 = form238[['Subject ID', 'SiteID', 'Visit', 'FormDate', 'Q29', 'Q30', 'Q31', \n",
    "                   'Q32', 'Q33', 'Q34', 'Q35', 'Q36', 'Q37', 'Q38', 'Q39', 'Q40', \n",
    "                   'Q41', 'Q42', 'Q43', 'Q44', 'Q45', 'Q46', 'Q47', 'Q48', 'Q49', \n",
    "                   'Q50', 'Q51', 'Q52', 'Q53', 'Q54', 'Q55', 'Q56', 'Q57', 'Q58', \n",
    "                   'Q59', 'Q60', 'Q61', 'Q62', 'Q63', 'Q64', 'Q65', 'Q66', 'Q67', 'Q68',\n",
    "                   'DataCollected']]\n",
    "\n",
    "# Did not drop Q29-32, so NaN values will be on Form 508 data"
   ]
  },
  {
   "cell_type": "code",
   "execution_count": null,
   "metadata": {},
   "outputs": [],
   "source": [
    "form238.head(3)"
   ]
  },
  {
   "cell_type": "markdown",
   "metadata": {},
   "source": [
    "# Combine forms 508 and 238"
   ]
  },
  {
   "cell_type": "code",
   "execution_count": 39,
   "metadata": {},
   "outputs": [
    {
     "name": "stderr",
     "output_type": "stream",
     "text": [
      "C:\\ProgramData\\anaconda3\\lib\\site-packages\\ipykernel_launcher.py:2: FutureWarning: Sorting because non-concatenation axis is not aligned. A future version\n",
      "of pandas will change to not sort by default.\n",
      "\n",
      "To accept the future behavior, pass 'sort=True'.\n",
      "\n",
      "To retain the current behavior and silence the warning, pass sort=False\n",
      "\n",
      "  \n"
     ]
    }
   ],
   "source": [
    "# concatenate forms 508 and 238 dataframes\n",
    "combo = pd.concat([form238, form508], ignore_index=True)"
   ]
  },
  {
   "cell_type": "code",
   "execution_count": 42,
   "metadata": {},
   "outputs": [],
   "source": [
    "# reorder columns\n",
    "combo = combo[['Subject ID', 'SiteID', 'Visit', 'FormDate', 'UTC', 'FormTime',\n",
    "               'ParticipantState', 'Hours since last PD medication dose', \n",
    "               'Q29', 'Q30', 'Q31', 'Q32', 'Q33', 'Q34',\n",
    "               'Q35', 'Q36', 'Q37', 'Q38', 'Q39', 'Q40', 'Q41', 'Q42', 'Q43', 'Q44',\n",
    "               'Q45', 'Q46', 'Q47', 'Q48', 'Q49', 'Q50', 'Q51', 'Q52', 'Q53', 'Q54',\n",
    "               'Q55', 'Q56', 'Q57', 'Q58', 'Q59', 'Q60', 'Q61', 'Q62', 'Q63', 'Q64',\n",
    "               'Q65', 'Q66', 'Q67', 'Q68', \n",
    "              'DataCollected']]"
   ]
  },
  {
   "cell_type": "markdown",
   "metadata": {},
   "source": [
    "# Change column names to short description"
   ]
  },
  {
   "cell_type": "code",
   "execution_count": 44,
   "metadata": {},
   "outputs": [],
   "source": [
    "oldname = ['Subject ID', 'SiteID', 'Visit', 'FormDate', 'UTC', 'FormTime',\n",
    "           'ParticipantState', 'Hours since last PD medication dose', \n",
    "           'Q29', 'Q30', 'Q31', 'Q32',\n",
    "           'Q33', 'Q34', 'Q35', 'Q36', 'Q37', 'Q38', 'Q39', 'Q40', 'Q41', \n",
    "           'Q42', 'Q43', 'Q44', 'Q45', 'Q46', 'Q47', 'Q48', 'Q49', 'Q50', \n",
    "           'Q51', 'Q52', 'Q53', 'Q54', 'Q55', 'Q56', 'Q57', 'Q58', 'Q59', \n",
    "           'Q60', 'Q61', 'Q62', 'Q63', 'Q64', 'Q65', 'Q66', 'Q67', 'Q68',\n",
    "           'DataCollected']"
   ]
  },
  {
   "cell_type": "code",
   "execution_count": 45,
   "metadata": {},
   "outputs": [],
   "source": [
    "# change column names for Q33-68 with 3.13 etc.\n",
    "newname = ['Subject ID', 'SiteID', 'Visit', 'FormDate', 'UTC', 'FormTime',\n",
    "           'ParticipantState', 'Hours since last PD medication dose',\n",
    "# questions 33-34\n",
    "'3a',\n",
    "'3b',\n",
    "'3c',\n",
    "'3C1',\n",
    "'3.1',\n",
    "'3.2',\n",
    "# questions 35-39\n",
    "'3.3 Neck',\n",
    "'3.3 Right Upper Extremity',\n",
    "'3.3 Left Upper Extremity',\n",
    "'3.3 Right Lower Extremity',\n",
    "'3.3 Left Lower Extremity',\n",
    "# questions 40-41\n",
    "'3.4 Right Hand',\n",
    "'3.4 Left Hand',\n",
    "# questions 42-43\n",
    "'3.5 Right Hand',\n",
    "'3.5 Left Hand',\n",
    "# questions 44-45\n",
    "'3.6 Right Hand',\n",
    "'3.6 Left Hand',\n",
    "# questions 46-47\n",
    "'3.7 Right Foot',\n",
    "'3.7 Left Foot',\n",
    "# questions 48-49\n",
    "'3.8 Right Leg',\n",
    "'3.8 Left Leg',\n",
    "# questions 50-55\n",
    "'3.9',\n",
    "'3.10',\n",
    "'3.11',\n",
    "'3.12',\n",
    "'3.13',\n",
    "'3.14',\n",
    "# questions 56-57\n",
    "'3.15 Right Hand',\n",
    "'3.15 Left Hand',\n",
    "# questions 58-59\n",
    "'3.16 Right Hand',\n",
    "'3.16 Left Hand',\n",
    "# questions 60-64\n",
    "'3.17 Right Upper Extremity',\n",
    "'3.17 Left Upper Extremity',\n",
    "'3.17 Right Lower Extremity',\n",
    "'3.17 Left Lower Extremity',\n",
    "'3.17 Lip-Jaw',\n",
    "# question 65\n",
    "'3.18',\n",
    "# questions 66-67\n",
    "'3.19A',\n",
    "'3.19B',\n",
    "# question 68\n",
    "'3.20',\n",
    "'DataCollected']"
   ]
  },
  {
   "cell_type": "code",
   "execution_count": 46,
   "metadata": {
    "scrolled": false
   },
   "outputs": [
    {
     "name": "stdout",
     "output_type": "stream",
     "text": [
      "{'Subject ID': 'Subject ID', 'SiteID': 'SiteID', 'Visit': 'Visit', 'FormDate': 'FormDate', 'UTC': 'UTC', 'FormTime': 'FormTime', 'ParticipantState': 'ParticipantState', 'Hours since last PD medication dose': 'Hours since last PD medication dose', 'Q29': '3a', 'Q30': '3b', 'Q31': '3c', 'Q32': '3C1', 'Q33': '3.1', 'Q34': '3.2', 'Q35': '3.3 Neck', 'Q36': '3.3 Right Upper Extremity', 'Q37': '3.3 Left Upper Extremity', 'Q38': '3.3 Right Lower Extremity', 'Q39': '3.3 Left Lower Extremity', 'Q40': '3.4 Right Hand', 'Q41': '3.4 Left Hand', 'Q42': '3.5 Right Hand', 'Q43': '3.5 Left Hand', 'Q44': '3.6 Right Hand', 'Q45': '3.6 Left Hand', 'Q46': '3.7 Right Foot', 'Q47': '3.7 Left Foot', 'Q48': '3.8 Right Leg', 'Q49': '3.8 Left Leg', 'Q50': '3.9', 'Q51': '3.10', 'Q52': '3.11', 'Q53': '3.12', 'Q54': '3.13', 'Q55': '3.14', 'Q56': '3.15 Right Hand', 'Q57': '3.15 Left Hand', 'Q58': '3.16 Right Hand', 'Q59': '3.16 Left Hand', 'Q60': '3.17 Right Upper Extremity', 'Q61': '3.17 Left Upper Extremity', 'Q62': '3.17 Right Lower Extremity', 'Q63': '3.17 Left Lower Extremity', 'Q64': '3.17 Lip-Jaw', 'Q65': '3.18', 'Q66': '3.19A', 'Q67': '3.19B', 'Q68': '3.20', 'DataCollected': 'DataCollected'}\n"
     ]
    }
   ],
   "source": [
    "col_dict = dict(zip(oldname,newname))\n",
    "print(col_dict)"
   ]
  },
  {
   "cell_type": "code",
   "execution_count": 47,
   "metadata": {},
   "outputs": [],
   "source": [
    "combo = combo.rename(index=str, columns=col_dict)"
   ]
  },
  {
   "cell_type": "code",
   "execution_count": null,
   "metadata": {},
   "outputs": [],
   "source": [
    "combo.head(3)"
   ]
  },
  {
   "cell_type": "code",
   "execution_count": 49,
   "metadata": {},
   "outputs": [],
   "source": [
    "# get rid of decimals\n",
    "columns = ['Subject ID', 'SiteID']\n",
    "for col in columns:\n",
    "    combo[col] = combo[col].apply(lambda x: x if pd.isnull(x) else int(x))\n",
    "\n",
    "# keeps columns float but removes decimals\n",
    "pd.set_option('precision', 0)"
   ]
  },
  {
   "cell_type": "code",
   "execution_count": null,
   "metadata": {},
   "outputs": [],
   "source": [
    "combo.head(2)"
   ]
  },
  {
   "cell_type": "code",
   "execution_count": 53,
   "metadata": {},
   "outputs": [
    {
     "name": "stderr",
     "output_type": "stream",
     "text": [
      "C:\\ProgramData\\anaconda3\\lib\\site-packages\\pandas\\core\\generic.py:1993: PerformanceWarning: \n",
      "your performance may suffer as PyTables will pickle object types that it cannot\n",
      "map directly to c-types [inferred_type->mixed,key->block3_values] [items->['Visit', 'FormTime', 'ParticipantState', '3a', '3b', '3c', '3.19A', '3.19B', '3.20', 'DataCollected']]\n",
      "\n",
      "  return pytables.to_hdf(path_or_buf, key, self, **kwargs)\n"
     ]
    }
   ],
   "source": [
    "# save file as updrs_part3.h5\n",
    "filename = r'//FS2.smpp.local\\RTO\\CIS-PD MUSC\\decoded_forms\\updrs_part3.h5'\n",
    "# save pd.read_hdf(filename)\n",
    "with open(filename,'wb') as f:\n",
    "     combo.to_hdf(filename, key='combo', mode='w')"
   ]
  },
  {
   "cell_type": "code",
   "execution_count": null,
   "metadata": {},
   "outputs": [],
   "source": [
    "# open file\n",
    "filename = r'//FS2.smpp.local\\RTO\\CIS-PD MUSC\\decoded_forms\\updrs_part3.h5'\n",
    "pd.read_hdf(filename)"
   ]
  },
  {
   "cell_type": "markdown",
   "metadata": {},
   "source": [
    "# Create updrs_124\n",
    "- Use Form 238 only\n",
    "- Remove part 3\n",
    "- Keep parts 1, 2, 4"
   ]
  },
  {
   "cell_type": "markdown",
   "metadata": {},
   "source": [
    "Part 1-2\n",
    "Qa, Qb, Q01 - Q28\n",
    "Part 4\n",
    "Q69 - Q74, Qc"
   ]
  },
  {
   "cell_type": "code",
   "execution_count": 4,
   "metadata": {},
   "outputs": [],
   "source": [
    "filename = r'//FS2.smpp.local\\RTO\\CIS-PD MUSC\\decoded_forms\\form238.h5'\n",
    "f238 = pd.read_hdf(filename)\n",
    "f238 = f238.rename(index=str, columns={'SubjectCode':'Subject ID',\n",
    "                                  'VisitNm':'Visit'})"
   ]
  },
  {
   "cell_type": "code",
   "execution_count": 5,
   "metadata": {},
   "outputs": [
    {
     "data": {
      "text/plain": [
       "Index(['Subject ID', 'SiteID', 'Visit', 'FormDate', 'Q02', 'Q03', 'Q04', 'Q05',\n",
       "       'Q06', 'Q07', 'Q09', 'Q10', 'Q11', 'Q12', 'Q13', 'Q14', 'Q15', 'Q16',\n",
       "       'Q17', 'Q18', 'Q19', 'Q20', 'Q21', 'Q22', 'Q23', 'Q24', 'Q25', 'Q26',\n",
       "       'Q27', 'Q28', 'Q32', 'Q33', 'Q34', 'Q35', 'Q36', 'Q37', 'Q38', 'Q39',\n",
       "       'Q40', 'Q41', 'Q42', 'Q43', 'Q44', 'Q45', 'Q46', 'Q47', 'Q48', 'Q49',\n",
       "       'Q50', 'Q51', 'Q52', 'Q53', 'Q54', 'Q55', 'Q56', 'Q57', 'Q58', 'Q59',\n",
       "       'Q60', 'Q61', 'Q62', 'Q63', 'Q64', 'Q65', 'Q69', 'Q70', 'Q71', 'Q72',\n",
       "       'Q73', 'Q74', 'DataCollected', 'Q01', 'Q08', 'Q29', 'Q30', 'Q31', 'Q66',\n",
       "       'Q67', 'Q68'],\n",
       "      dtype='object')"
      ]
     },
     "execution_count": 5,
     "metadata": {},
     "output_type": "execute_result"
    }
   ],
   "source": [
    "f238.columns"
   ]
  },
  {
   "cell_type": "code",
   "execution_count": 6,
   "metadata": {},
   "outputs": [],
   "source": [
    "# remove columns Q29:31, Q32:Q65, Q66:Q68\n",
    "f238.drop(f238.columns[30:64], axis=1, inplace=True)\n",
    "f238 = f238.drop(columns=['Q29','Q30','Q31','Q66', 'Q67', 'Q68'])"
   ]
  },
  {
   "cell_type": "code",
   "execution_count": null,
   "metadata": {},
   "outputs": [],
   "source": [
    "f238.head(5)"
   ]
  },
  {
   "cell_type": "code",
   "execution_count": 8,
   "metadata": {},
   "outputs": [],
   "source": [
    "# reorder columns\n",
    "f238 = f238[['Subject ID', 'SiteID', 'Visit', 'FormDate', 'Q01', 'Q02', 'Q03', 'Q04', 'Q05',\n",
    "       'Q06', 'Q07', 'Q08', 'Q09', 'Q10', 'Q11', 'Q12', 'Q13', 'Q14', 'Q15', 'Q16',\n",
    "       'Q17', 'Q18', 'Q19', 'Q20', 'Q21', 'Q22', 'Q23', 'Q24', 'Q25', 'Q26',\n",
    "       'Q27', 'Q28', 'Q69', 'Q70', 'Q71', 'Q72', 'Q73', 'Q74', 'DataCollected']]"
   ]
  },
  {
   "cell_type": "code",
   "execution_count": 9,
   "metadata": {},
   "outputs": [
    {
     "data": {
      "text/plain": [
       "Index(['Subject ID', 'SiteID', 'Visit', 'FormDate', 'Q01', 'Q02', 'Q03', 'Q04',\n",
       "       'Q05', 'Q06', 'Q07', 'Q08', 'Q09', 'Q10', 'Q11', 'Q12', 'Q13', 'Q14',\n",
       "       'Q15', 'Q16', 'Q17', 'Q18', 'Q19', 'Q20', 'Q21', 'Q22', 'Q23', 'Q24',\n",
       "       'Q25', 'Q26', 'Q27', 'Q28', 'Q69', 'Q70', 'Q71', 'Q72', 'Q73', 'Q74',\n",
       "       'DataCollected'],\n",
       "      dtype='object')"
      ]
     },
     "execution_count": 9,
     "metadata": {},
     "output_type": "execute_result"
    }
   ],
   "source": [
    "f238.columns"
   ]
  },
  {
   "cell_type": "code",
   "execution_count": 143,
   "metadata": {},
   "outputs": [],
   "source": [
    "filename = r'//FS2.smpp.local\\RTO\\CIS-PD MUSC\\datadictionary.sas7bdat'\n",
    "datadict = pd.read_sas(filename, format = 'sas7bdat', encoding='iso-8859-1')\n",
    "datadict.columns = datadict.columns.str.replace('z', '')"
   ]
  },
  {
   "cell_type": "code",
   "execution_count": 279,
   "metadata": {},
   "outputs": [],
   "source": [
    "# get question names\n",
    "questions = datadict.loc[datadict.FormID == 238.0]\n",
    "questions = questions[['FieldNb','FieldNm']]\n",
    "questions = questions.reset_index(drop=True)"
   ]
  },
  {
   "cell_type": "code",
   "execution_count": 280,
   "metadata": {},
   "outputs": [],
   "source": [
    "questions = questions.drop(questions.index[30:70]).reset_index(drop=True)\n",
    "# remove z in FieldNb column\n",
    "questions.FieldNb = questions.FieldNb.str.replace('z', '')\n",
    "# change first 2 question names\n",
    "questions.FieldNm[0] = questions.FieldNb[0]\n",
    "questions.FieldNm[1] = questions.FieldNb[1]"
   ]
  },
  {
   "cell_type": "code",
   "execution_count": 251,
   "metadata": {},
   "outputs": [],
   "source": [
    "def keepleftstring(string, sep=' '):\n",
    "    \"\"\"Take a string and keep text before specified character.\n",
    "    Default character is ' '.\n",
    "    \"\"\"\n",
    "    new_string = string.split(sep, 1)[0]\n",
    "    return new_string"
   ]
  },
  {
   "cell_type": "code",
   "execution_count": 281,
   "metadata": {},
   "outputs": [],
   "source": [
    "# change question descriptions\n",
    "# skip indices: 0, 1, 2, 9, 36\n",
    "for i, k in enumerate(questions.FieldNm):\n",
    "    if not (i==0) | (i==1) | (i==2)| (i==9)| (i==36):\n",
    "        questions.FieldNm[i]=keepleftstring(k)"
   ]
  },
  {
   "cell_type": "code",
   "execution_count": 282,
   "metadata": {},
   "outputs": [],
   "source": [
    "# remove FieldNb rows: DataCollected, FormDate, and Notes\n",
    "questions = questions.drop(questions.index[0:2]).reset_index(drop=True)\n",
    "questions = questions.drop(questions.index[-1]).reset_index(drop=True)"
   ]
  },
  {
   "cell_type": "markdown",
   "metadata": {},
   "source": [
    "### Rename f238 column names then save"
   ]
  },
  {
   "cell_type": "code",
   "execution_count": 300,
   "metadata": {
    "scrolled": true
   },
   "outputs": [
    {
     "data": {
      "text/plain": [
       "Index(['Subject ID', 'SiteID', 'Visit', 'FormDate', 'Q01', 'Q02', 'Q03', 'Q04',\n",
       "       'Q05', 'Q06', 'Q07', 'Q08', 'Q09', 'Q10', 'Q11', 'Q12', 'Q13', 'Q14',\n",
       "       'Q15', 'Q16', 'Q17', 'Q18', 'Q19', 'Q20', 'Q21', 'Q22', 'Q23', 'Q24',\n",
       "       'Q25', 'Q26', 'Q27', 'Q28', 'Q69', 'Q70', 'Q71', 'Q72', 'Q73', 'Q74',\n",
       "       'DataCollected'],\n",
       "      dtype='object')"
      ]
     },
     "execution_count": 300,
     "metadata": {},
     "output_type": "execute_result"
    }
   ],
   "source": [
    "f238.columns"
   ]
  },
  {
   "cell_type": "code",
   "execution_count": 303,
   "metadata": {},
   "outputs": [],
   "source": [
    "newcolnames = ['Subject ID', 'SiteID', 'Visit', 'FormDate',\n",
    "               'Primary source of information', '1.1', '1.2', '1.3', '1.4', '1.5',\n",
    "               '1.6', 'Who is filling out this questionnaire', '1.7', '1.8',\n",
    "               '1.9', '1.10', '1.11', '1.12', '1.13', '2.1', '2.2', '2.3', '2.4',\n",
    "               '2.5', '2.6', '2.7', '2.8', '2.9', '2.10', '2.11', '2.12', '2.13',\n",
    "               '4.1', '4.2', '4.3', '4.4', '4.5', '4.6', 'DataCollected']\n",
    "f238.columns = newcolnames"
   ]
  },
  {
   "cell_type": "code",
   "execution_count": 305,
   "metadata": {},
   "outputs": [],
   "source": [
    "f238.columns = newcolnames"
   ]
  },
  {
   "cell_type": "code",
   "execution_count": 306,
   "metadata": {},
   "outputs": [
    {
     "data": {
      "text/plain": [
       "Index(['Subject ID', 'SiteID', 'Visit', 'FormDate',\n",
       "       'Primary source of information', '1.1', '1.2', '1.3', '1.4', '1.5',\n",
       "       '1.6', 'Who is filling out this questionnaire', '1.7', '1.8', '1.9',\n",
       "       '1.10', '1.11', '1.12', '1.13', '2.1', '2.2', '2.3', '2.4', '2.5',\n",
       "       '2.6', '2.7', '2.8', '2.9', '2.10', '2.11', '2.12', '2.13', '4.1',\n",
       "       '4.2', '4.3', '4.4', '4.5', '4.6', 'DataCollected'],\n",
       "      dtype='object')"
      ]
     },
     "execution_count": 306,
     "metadata": {},
     "output_type": "execute_result"
    }
   ],
   "source": [
    "f238.columns"
   ]
  },
  {
   "cell_type": "code",
   "execution_count": 297,
   "metadata": {},
   "outputs": [
    {
     "data": {
      "text/plain": [
       "array(['Primary source of information', '1.1', '1.2', '1.3', '1.4', '1.5',\n",
       "       '1.6', 'Who is filling out this questionnaire', '1.7', '1.8',\n",
       "       '1.9', '1.10', '1.11', '1.12', '1.13', '2.1', '2.2', '2.3', '2.4',\n",
       "       '2.5', '2.6', '2.7', '2.8', '2.9', '2.10', '2.11', '2.12', '2.13',\n",
       "       '4.1', '4.2', '4.3', '4.4', '4.5', '4.6'], dtype=object)"
      ]
     },
     "execution_count": 297,
     "metadata": {},
     "output_type": "execute_result"
    }
   ],
   "source": [
    "questions.FieldNm.values"
   ]
  },
  {
   "cell_type": "code",
   "execution_count": null,
   "metadata": {},
   "outputs": [],
   "source": [
    "f238"
   ]
  },
  {
   "cell_type": "code",
   "execution_count": 308,
   "metadata": {},
   "outputs": [
    {
     "name": "stderr",
     "output_type": "stream",
     "text": [
      "C:\\ProgramData\\anaconda3\\lib\\site-packages\\pandas\\core\\generic.py:1993: PerformanceWarning: \n",
      "your performance may suffer as PyTables will pickle object types that it cannot\n",
      "map directly to c-types [inferred_type->mixed,key->block1_values] [items->['Visit', 'Primary source of information', 'Who is filling out this questionnaire', 'DataCollected']]\n",
      "\n",
      "  return pytables.to_hdf(path_or_buf, key, self, **kwargs)\n"
     ]
    }
   ],
   "source": [
    "# save file as updrs_124.h5\n",
    "filename = r'//FS2.smpp.local\\RTO\\CIS-PD MUSC\\decoded_forms\\updrs_124.h5'\n",
    "# save pd.read_hdf(filename)\n",
    "with open(filename,'wb') as f:\n",
    "    f238.to_hdf(filename, key='f238', mode='w')"
   ]
  },
  {
   "cell_type": "code",
   "execution_count": null,
   "metadata": {},
   "outputs": [],
   "source": [
    "# updrs parts 1, 2, and 4\n",
    "filename = r'//FS2.smpp.local\\RTO\\CIS-PD MUSC\\decoded_forms\\updrs_124.h5'\n",
    "pd.read_hdf(filename, 'f238')"
   ]
  },
  {
   "cell_type": "code",
   "execution_count": null,
   "metadata": {},
   "outputs": [],
   "source": []
  }
 ],
 "metadata": {
  "kernelspec": {
   "display_name": "Python 3",
   "language": "python",
   "name": "python3"
  }
 },
 "nbformat": 4,
 "nbformat_minor": 2
}
