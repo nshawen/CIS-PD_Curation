{
 "cells": [
  {
   "cell_type": "markdown",
   "metadata": {},
   "source": [
    "### Imports"
   ]
  },
  {
   "cell_type": "code",
   "execution_count": 1,
   "metadata": {},
   "outputs": [],
   "source": [
    "import os\n",
    "import platform\n",
    "import math\n",
    "import numpy as np\n",
    "import pandas as pd\n",
    "import seaborn as sns\n",
    "import matplotlib.pyplot as plt\n",
    "import datetime as dt\n",
    "import pathlib\n",
    "import pickle #to save files\n",
    "from itertools import product\n",
    "from scipy.stats import skew, kurtosis, wilcoxon\n",
    "from scipy.signal import butter, welch, filtfilt, resample\n",
    "from scipy import stats\n",
    "# import xgboost as xgb\n",
    "# from xgboost.sklearn import XGBClassifier #this is the SKlearn wrapper\n",
    "from sklearn.metrics import confusion_matrix, auc, f1_score, roc_auc_score, precision_score, recall_score, precision_recall_curve\n",
    "from sklearn.model_selection import train_test_split\n",
    "from sklearn.preprocessing import LabelEncoder, StandardScaler\n",
    "from sklearn import svm\n",
    "import time\n",
    "import random\n",
    "from PreprocessFcns import *\n",
    "from mpl_toolkits.mplot3d import Axes3D\n",
    "%matplotlib inline\n",
    "\n",
    "sns.set_context('talk',font_scale=1)\n",
    "#-- For interactive plots--\n",
    "# from mpl_toolkits.mplot3d import Axes3D\n",
    "# %matplotlib notebook"
   ]
  },
  {
   "cell_type": "code",
   "execution_count": 2,
   "metadata": {},
   "outputs": [],
   "source": [
    "from sklearn.model_selection import LeaveOneGroupOut\n",
    "from sklearn import preprocessing\n",
    "from sklearn import neighbors, linear_model\n",
    "from sklearn.ensemble import RandomForestClassifier, RandomForestRegressor, AdaBoostClassifier, GradientBoostingClassifier, ExtraTreesClassifier\n",
    "from sklearn.svm import SVC\n",
    "from sklearn.neighbors import KNeighborsClassifier\n",
    "from sklearn.model_selection import KFold, StratifiedKFold, cross_val_score\n",
    "from sklearn.model_selection import GridSearchCV\n",
    "from sklearn import metrics\n",
    "from sklearn.linear_model import ElasticNetCV, LogisticRegression\n",
    "from sklearn.metrics import roc_curve, auc, roc_auc_score\n",
    "from sklearn.metrics import confusion_matrix"
   ]
  },
  {
   "cell_type": "markdown",
   "metadata": {},
   "source": [
    "### Helper Functions"
   ]
  },
  {
   "cell_type": "code",
   "execution_count": 3,
   "metadata": {},
   "outputs": [],
   "source": [
    "def train_and_predict_separate_sets(Xtrain, ytrain_tremor, ytrain_bradykinesia, Xtest_sets, test_set_info, test_set_info_cols):\n",
    "    \"\"\" Trains RandomForestClassifiers/Regressors on Xtrain and ytrain_tremor and Xtrain and ytrain_bradykinesia.\n",
    "    Then uses model to make predictions on each set in Xtest_sets, returning the mean and variance of the  results \n",
    "    of each Xtest set along with the results' identifying info as a dataframe \"\"\"\n",
    "    \n",
    "    results = pd.DataFrame(data=test_set_info,columns= test_set_info_cols) # replace 'num_clips' with 'task' for some\n",
    "    \n",
    "    # train a random forest classifier/regressor\n",
    "    # clf = RandomForestClassifier(n_estimators=50,random_state=2)\n",
    "    clf = RandomForestRegressor(n_estimators=50,random_state=2)\n",
    "    \n",
    "    # fit classifier to the tremor training set\n",
    "    clf.fit(Xtrain, ytrain_tremor)\n",
    "\n",
    "    for i in range(len(Xtest_sets)): \n",
    "        # predictions for test set based on the trained model\n",
    "        y_pred = clf.predict(Xtest_sets[i])\n",
    "        y = y_pred.mean()\n",
    "        v = y_pred.var()\n",
    "        # update results\n",
    "        results.loc[i, 'tremor score'] = y\n",
    "        results.loc[i, 'ts_var'] = v\n",
    "    \n",
    "    # fit classifier to the bradykinesia training set\n",
    "    clf.fit(Xtrain, ytrain_bradykinesia)\n",
    "    \n",
    "    for i in range(len(Xtest_sets)): # each test_set is a random sample of one file's features\n",
    "        # predictions for test set based on the trained model\n",
    "        y_pred = clf.predict(Xtest_sets[i])\n",
    "        y = y_pred.mean()\n",
    "        v = y_pred.var()\n",
    "        # update results\n",
    "        results.loc[i, 'bradykinesia score'] = y\n",
    "        results.loc[i, 'bs_var'] = v\n",
    "        \n",
    "    return results\n",
    "\n",
    "\n",
    "def LOSOCV(Data,X,y,groups,models,LOin=0):\n",
    "    \"\"\" for each model type in models, for each group in Data, train a model of the specified type on the rest of the \n",
    "    groups and cross validate the results on the current group. Print the resulting statistics. Return the results,\n",
    "    group results, and a dictionary containing subject-auroc pairings\"\"\"\n",
    "\n",
    "    subj = LeaveOneGroupOut() \n",
    "    results = pd.DataFrame(data=None,columns=['model','f1','auprc','auroc'])\n",
    "    groupres = {} #results on each group for each model\n",
    "\n",
    "\n",
    "    #train multiple classifiers\n",
    "    for m in models:\n",
    "        acc_all=[]; acc_train=[] \n",
    "        f1_test_all=[]; prec_all=[]; rec_all=[]; spec_all=[]; auprc_all=[]; auroc_train_all=[]; \n",
    "        auroc_all=[]; fpr_all=[]; tpr_all=[]; fi_all=[]\n",
    "\n",
    "        clf = m[0]; model_name = m[1]            \n",
    "        print('Training %s'%model_name)\n",
    "        s = 0\n",
    "        #LOSO CV for current classifier\n",
    "        subj_auroc_pairings = {}\n",
    "        for train_index, test_index in subj.split(X, y, groups):\n",
    "        #leave one in:\n",
    "            if LOin:\n",
    "                tridx = train_index.copy()\n",
    "                train_index = test_index.copy()\n",
    "                test_index = tridx\n",
    "            Xtr, Xte = X[train_index], X[test_index]\n",
    "            ytr, yte = y[train_index], y[test_index]\n",
    "            dtr, dte = Data.iloc[train_index], Data.iloc[test_index]\n",
    "            subj = dte.loc[dte.index[0], 'Subject']\n",
    "            if len(np.unique(ytr))<2: #skip if no positive or negative examples are available for training\n",
    "                print('only 1 class available in train data - skipping')\n",
    "                continue\n",
    "            # fit classifier to data\n",
    "            clf.fit(Xtr,ytr)\n",
    "            # predict based on model\n",
    "            ypred = clf.predict(Xte)\n",
    "            yscore = clf.predict_proba(Xte) # WHAT DOES THIS DO???\n",
    "            yscore = yscore[:,1]\n",
    "            \n",
    "            #accuracy on train set\n",
    "            ypred_train = clf.predict(Xtr)\n",
    "            acc_train.append(sum(ypred_train==ytr)/len(ytr))\n",
    "            auroc_train = roc_auc_score(ytr,clf.predict_proba(Xtr)[:,1])\n",
    "            \n",
    "            #f1-score, prec, recall, specificity, auprc, auroc\n",
    "            f1_test_all.append(f1_score(yte,ypred))\n",
    "            precision, recall, _ = precision_recall_curve(yte,yscore)\n",
    "            auprc = auc(recall,precision)\n",
    "            if len(np.unique(yte))>1:\n",
    "                auroc = roc_auc_score(yte,yscore)\n",
    "            else:\n",
    "                print('only 1 class in test data - cannot compute roc curve')\n",
    "                continue\n",
    "                auroc = np.nan\n",
    "            \n",
    "            spec = sum((ypred==0) & (yte==0))/sum(yte==0)\n",
    "\n",
    "\n",
    "            prec_all.append(precision_score(yte,ypred))\n",
    "            rec_all.append(recall_score(yte,ypred))\n",
    "            auprc_all.append(auprc)\n",
    "            auroc_all.append(auroc)\n",
    "            auroc_train_all.append(auroc_train)\n",
    "            spec_all.append(spec)\n",
    "            \n",
    "            #the recall per task - TO BE COMPLETED\n",
    "            \n",
    "#             tasks=Data.iloc[test_index,:].Task\n",
    "#             for t in tasks.unique():\n",
    "#                 tasks\n",
    "            \n",
    "            #compute ROC points at fixed fpr (to plot error bars)  # WHAT DOES THIS DO???\n",
    "            fpr=np.linspace(0,1,101); tpr=[]\n",
    "\n",
    "            if len(np.unique(yte))>1:                \n",
    "                nscores = np.sort(np.column_stack((yscore[yte==0],yte[yte==0])),axis=0)\n",
    "                neg_counts = sum(yte==0)\n",
    "                for f in fpr:\n",
    "                    ind = neg_counts-int(neg_counts*f)-1\n",
    "                    t = (nscores[ind])[0]\n",
    "                    if f==1:\n",
    "                        t = 0\n",
    "                    tpr_t = sum(yscore[yte==1]>t) / sum(yte==1)\n",
    "                    tpr.append(tpr_t) \n",
    "\n",
    "            fpr = np.asarray(fpr); tpr = np.asarray(tpr)\n",
    "            fpr_all.append(fpr); tpr_all.append(tpr)\n",
    "            \n",
    "            #store feature importance\n",
    "            if model_name != 'SVM':\n",
    "                fi_all.append(clf.feature_importances_)\n",
    "            \n",
    "            print('Subject: '+ subj.__str__() + ' prec=%.3f, rec=%.3f, Spec=%.3f, auroc_train=%.3f, auroc=%.3f'%(precision_score(yte,ypred),recall_score(yte,ypred),\n",
    "                                                                                 spec,auroc_train,auroc))\n",
    "            s+=1\n",
    "            subj_auroc_pairings[subj] = auroc\n",
    "        print('f1_test=%.3f+/-%.3f, prec=%.3f+/-%.3f, rec=%.3f+/-%.3f, auprc=%.3f+/-%.3f, auroc=%.3f+/-%.3f'%(\n",
    "        np.nanmean(f1_test_all),np.nanstd(f1_test_all),\n",
    "        np.nanmean(prec_all),np.nanstd(prec_all), np.nanmean(rec_all),np.nanstd(rec_all),\n",
    "        np.nanmean(auprc_all),np.nanstd(auprc_all), np.nanmean(auroc_all),np.nanstd(auroc_all)))\n",
    "        \n",
    "        #group results for each model\n",
    "        groupres[model_name] = {'f1':f1_test_all, 'auprc':auprc_all, 'auroc':auroc_all, 'tpr':tpr_all, 'fpr':fpr_all, \n",
    "                                'rec':rec_all, 'spec':spec_all, 'fi':fi_all}\n",
    "        \n",
    "        #mean across groups for each model\n",
    "        r = pd.DataFrame({'model':model_name, 'f1':np.nanmean(f1_test_all), 'auprc':np.nanmean(auprc_all), 'auroc':np.nanmean(auroc_all)}\n",
    "                        ,index=[0])\n",
    "        results = pd.concat((results,r))\n",
    "        \n",
    "    return results,groupres, subj_auroc_pairings\n",
    "    \n",
    "\n",
    "# #train multiple classifiers using stratified kfold\n",
    "# def trainmodel_Kfold(Xf,y,models,nfolds=5,balance=False):\n",
    "\n",
    "#     scaler = StandardScaler()\n",
    "#     f1_fold_clf=[]; auc_fold_clf=[]; cmats={}\n",
    "\n",
    "#     skf = StratifiedKFold(n_splits=nfolds,shuffle=True,random_state=46)\n",
    "        \n",
    "#     for clf,model_name in models:\n",
    "#         f1_fold = []; f1_train_fold=[]; prec_fold=[]; rec_fold=[]; auprc_fold=[]\n",
    "\n",
    "#         for train_idx,test_idx in skf.split(Xf,y):\n",
    "#             Xtr = Xf[train_idx]\n",
    "#             ytr = y[train_idx]\n",
    "#             if balance:\n",
    "#                 #balance dataset\n",
    "#                 indsp = np.where(ytr==1)[0]\n",
    "#                 indsn = np.random.choice(np.where(ytr==0)[0],size=round(1*len(indsp)),replace=False)\n",
    "#                 inds = np.hstack((indsp,indsn))\n",
    "#                 Xtr = Xtr[inds]; ytr = ytr[inds]\n",
    "# #             print(len(ytr[ytr==0])/len(ytr[ytr>0]))\n",
    "#             Xte = Xf[test_idx]\n",
    "#             yte = y[test_idx]\n",
    "#             Xtr = scaler.fit_transform(Xtr)\n",
    "#             Xte = scaler.transform(Xte)\n",
    "#             clf.fit(Xtr,ytr)\n",
    "#             ypred_train = clf.predict(Xtr)\n",
    "#             ypred = clf.predict(Xte)\n",
    "#             yscore = clf.predict_proba(Xte)\n",
    "#             yscore = yscore[:,1]\n",
    "            \n",
    "#             #accuracy on train and test set for current fold\n",
    "#             precision, recall, _ = precision_recall_curve(yte,yscore)\n",
    "            \n",
    "#             f1_train_fold.append(f1_score(ytr,ypred_train))\n",
    "#             f1_fold.append(f1_score(yte,ypred))\n",
    "#             prec_fold.append(precision_score(yte,ypred))\n",
    "#             rec_fold.append(recall_score(yte,ypred))\n",
    "#             auprc_fold.append(auc(recall,precision)\n",
    "# )\n",
    "\n",
    "\n",
    "#         #mean accuracy across folds\n",
    "#         if balance:\n",
    "#             print('Npos = %d, Nneg = %d'%(len(indsp),len(indsn)))\n",
    "            \n",
    "#         print('%s'%model_name)\n",
    "#         print('f1_train=%.3f+/-%.3f, f1_test=%.3f+/-%.3f, prec=%.3f+/-%.3f, rec=%.3f+/-%.3f, auprc=%.3f+/-%.3f'%(\n",
    "#         np.nanmean(f1_train_fold),np.nanstd(f1_train_fold),\n",
    "#         np.nanmean(f1_fold),np.nanstd(f1_fold),\n",
    "#         np.nanmean(prec_fold),np.nanstd(prec_fold), np.nanmean(rec_fold),np.nanstd(rec_fold),\n",
    "#         np.nanmean(auprc_fold),np.nanstd(auprc_fold)))\n",
    "        \n",
    "#         cf_matrix = confusion_matrix(yte, ypred)\n",
    "#         print(cf_matrix)\n",
    "#         #store f1 and auc for each fold and clf\n",
    "#         f1_fold_clf.append(f1_fold)\n",
    "#         auc_fold_clf.append(auprc_fold)\n",
    "#         #store cmat for each clf (on last fold)\n",
    "#         cmats.update({model_name:cf_matrix})\n",
    "        \n",
    "#     return f1_fold_clf, auc_fold_clf, cmats\n",
    "\n",
    "    \n",
    "    \n",
    "# def plot_confusion_matrix(cm, classes,\n",
    "#                           normalize=False,\n",
    "#                           title=None,\n",
    "#                           cmap=plt.cm.Blues):\n",
    "#     \"\"\"\n",
    "#     This function prints and plots the confusion matrix.\n",
    "#     Normalization can be applied by setting `normalize=True`.\n",
    "#     \"\"\"\n",
    "#     if normalize:\n",
    "#         cm = cm.astype('float') / cm.sum(axis=1)[:, np.newaxis]\n",
    "# #     print(cm)\n",
    "\n",
    "#     plt.imshow(cm, interpolation='nearest', cmap=cmap)\n",
    "#     plt.title(title)\n",
    "#     plt.colorbar()\n",
    "#     tick_marks = np.arange(len(classes))\n",
    "#     plt.xticks(tick_marks, classes, rotation=45)\n",
    "#     plt.yticks(tick_marks, classes)\n",
    "\n",
    "#     fmt = '.2f' if normalize else 'd'\n",
    "#     thresh = cm.max() / 2.\n",
    "#     for i, j in itertools.product(range(cm.shape[0]), range(cm.shape[1])):\n",
    "#         plt.text(j, i, format(cm[i, j], fmt),\n",
    "#                  horizontalalignment=\"center\",\n",
    "#                  color=\"white\" if cm[i, j] > thresh else \"black\")\n",
    "\n",
    "#     plt.tight_layout()\n",
    "#     plt.ylabel('True label')\n",
    "#     plt.xlabel('Predicted label')\n",
    "\n",
    "    \n",
    "\n",
    "# def plot_roc(tpr_all,fpr,roc_auc,ax=None,plotname=None,col=None):\n",
    "#     #plot mean ROC across subjects (need to add shaded conf interval)\n",
    "#     tprmu = np.mean(np.asarray(tpr_all),axis=0)\n",
    "#     tpr=np.asarray(tpr_all)\n",
    "#     fpr=np.reshape(fpr,(1,-1))\n",
    "#     tprmu=np.reshape(tprmu,(1,-1))\n",
    "#     label=pd.Series(data = ['%s - AUC = %0.3f' % (plotname,roc_auc)]*len(fpr))\n",
    "#     if plotname=='Threshold':\n",
    "#         ls = '-'\n",
    "#     else:\n",
    "#         ls='-'\n",
    "#     if ax == None:\n",
    "#         ax = sns.tsplot(data=tpr,time=fpr,ci=95,condition=label,legend=True,color=col,lw=3,linestyle=ls)\n",
    "#     else:\n",
    "#         sns.tsplot(data=tpr,time=fpr,ci=95,condition=label, legend=True,ax=ax,color=col,lw=3,linestyle=ls)\n",
    "             \n",
    "#     lw = 3\n",
    "    \n",
    "#     ax.plot([0, 1], [0, 1], color='navy', lw=lw, linestyle='--')\n",
    "#     ax.set_xlim([-0.05, 1.0])\n",
    "#     ax.set_ylim([0.0, 1.05])\n",
    "#     ax.set_xlabel('False Positive Rate',fontsize=16)\n",
    "#     ax.set_ylabel('True Positive Rate',fontsize=16)\n",
    "#     ax.legend(loc='lower right')\n",
    "    \n",
    "#     return ax\n",
    "\n",
    "# def LOSOCV_Tasks(Data,X,y,groups,tasks,clf):\n",
    "\n",
    "#     subj = LeaveOneGroupOut() \n",
    "#     results = pd.DataFrame(data=None,columns=['model','f1','auprc','auroc'])\n",
    "#     groupres = {} #results on each group for each task subset\n",
    "\n",
    "\n",
    "#     #train multiple classifiers\n",
    "#     for T in tasks:\n",
    "#         acc_all=[]; acc_train=[] \n",
    "#         f1_test_all=[]; prec_all=[]; rec_all=[]; spec_all=[]; auprc_all=[]; auroc_train_all=[]; \n",
    "#         auroc_all=[]; fpr_all=[]; tpr_all=[]; fi_all=[]\n",
    "          \n",
    "#         s = 0\n",
    "#         #LOSO CV for current classifier\n",
    "#         for train_index, test_index in subj.split(X, y, groups):\n",
    "#             task_inds = Data.Task.iloc[test_index]==T[0]\n",
    "#             for Ti in T[1::]:\n",
    "#                 task_inds = task_inds | (Data.Task.iloc[test_index]==Ti)\n",
    "#             test_index = test_index[task_inds]\n",
    "#             Xtr, Xte = X[train_index], X[test_index]\n",
    "#             ytr, yte = y[train_index], y[test_index]\n",
    "#             if len(np.unique(ytr))<2: #skip if no positive or negative examples are available for training\n",
    "#                 print('only 1 class available in train data - skipping')\n",
    "#                 continue\n",
    "#             clf.fit(Xtr,ytr)\n",
    "#             ypred = clf.predict(Xte)\n",
    "#             yscore = clf.predict_proba(Xte)\n",
    "#             yscore = yscore[:,1]\n",
    "\n",
    "#             #accuracy on train set\n",
    "#             ypred_train = clf.predict(Xtr)\n",
    "#             acc_train.append(sum(ypred_train==ytr)/len(ytr))\n",
    "#             auroc_train = roc_auc_score(ytr,clf.predict_proba(Xtr)[:,1])\n",
    "\n",
    "#             #f1-score, prec, recall, specificity, auprc, auroc\n",
    "#             f1_test_all.append(f1_score(yte,ypred))\n",
    "#             precision, recall, _ = precision_recall_curve(yte,yscore)\n",
    "#             auprc = auc(recall,precision)\n",
    "#             if len(np.unique(yte))>1:\n",
    "#                 auroc = roc_auc_score(yte,yscore)\n",
    "#             else:\n",
    "#                 print('only 1 class in test data - cannot compute roc curve')\n",
    "#                 auroc = np.nan\n",
    "#             spec = sum((ypred==0) & (yte==0))/sum(yte==0)\n",
    "\n",
    "\n",
    "#             prec_all.append(precision_score(yte,ypred))\n",
    "#             rec_all.append(recall_score(yte,ypred))\n",
    "#             auprc_all.append(auprc)\n",
    "#             auroc_all.append(auroc)\n",
    "#             auroc_train_all.append(auroc_train)\n",
    "#             spec_all.append(spec)\n",
    "\n",
    "#             #the recall per task - TO BE COMPLETED\n",
    "\n",
    "# #             tasks=Data.iloc[test_index,:].Task\n",
    "# #             for t in tasks.unique():\n",
    "# #                 tasks\n",
    "\n",
    "#             #compute ROC points at fixed fpr (to plot error bars)\n",
    "#             fpr=np.linspace(0,1,101); tpr=[]\n",
    "\n",
    "#             if len(np.unique(yte))>1:                \n",
    "#                 nscores = np.sort(np.column_stack((yscore[yte==0],yte[yte==0])),axis=0)\n",
    "#                 neg_counts = sum(yte==0)\n",
    "#                 for f in fpr:\n",
    "#                     ind = neg_counts-int(neg_counts*f)-1\n",
    "#                     t = (nscores[ind])[0]\n",
    "#                     if f==1:\n",
    "#                         t = 0\n",
    "#                     tpr_t = sum(yscore[yte==1]>t) / sum(yte==1)\n",
    "#                     tpr.append(tpr_t) \n",
    "\n",
    "#             fpr = np.asarray(fpr); tpr = np.asarray(tpr)\n",
    "#             fpr_all.append(fpr); tpr_all.append(tpr)\n",
    "\n",
    "#             #store feature importance\n",
    "#             if model_name != 'SVM':\n",
    "#                 fi_all.append(clf.feature_importances_)\n",
    "\n",
    "#             s+=1\n",
    "\n",
    "#         #group results for each model\n",
    "#         groupres[tuple(T)] = {'f1':f1_test_all, 'auprc':auprc_all, 'auroc':auroc_all, 'tpr':tpr_all, 'fpr':fpr_all, \n",
    "#                                 'rec':rec_all, 'spec':spec_all, 'fi':fi_all}\n",
    "\n",
    "#         #mean across groups for each model\n",
    "#         r = pd.DataFrame({'model':model_name, 'f1':np.nanmean(f1_test_all), 'auprc':np.nanmean(auprc_all), 'auroc':np.nanmean(auroc_all)}\n",
    "#                         ,index=[0])\n",
    "#         results = pd.concat((results,r))\n",
    "        \n",
    "#     return results,groupres \n",
    "    "
   ]
  },
  {
   "cell_type": "markdown",
   "metadata": {},
   "source": [
    "### ---------------------------------------------------------------------------------------------------------------------------------------------------------------"
   ]
  },
  {
   "cell_type": "markdown",
   "metadata": {},
   "source": [
    "### Leave One Subject Out Cross Validation on All Clinic Data"
   ]
  },
  {
   "cell_type": "code",
   "execution_count": 4,
   "metadata": {},
   "outputs": [],
   "source": [
    "# ### ORGANIZING DATA - optional to exclude subjects who did not fit original model well ###\n",
    "# os.listdir('//FS2.smpp.local/RTO/CIS-PD Study/Clinic WACC features/')\n",
    "# Data = pd.read_csv('//FS2.smpp.local/RTO/CIS-PD Study/Clinic WACC features/FeaturesHP_All_subjs.csv',index_col=0)\n",
    "# Dataorig = Data.copy()\n",
    "# # remove 1020\n",
    "# l = [1020]\n",
    "# # exclude subjects who did not fit original models for Tremor or Bradykinesia\n",
    "# # l = [1005, 1044, 1023, 1039, 1043, 1048, 1049, 1009, 1038, 1003, 1046, 1019, 1032, 1020]\n",
    "# # exclude subjects who did not fit original model for Tremor\n",
    "# # l = [1039, 1044, 1048, 1046, 1009, 1043, 1005] #, 1020] # optional exclude subj 1020 also\n",
    "# # include all subjects\n",
    "# # l = []\n",
    "# Data=Data.loc[~Data.Subject.isin(l)]\n",
    "# Dataorig = Data.copy()\n",
    "# # sanity check\n",
    "# sns.distplot(Data.PSD_skew)"
   ]
  },
  {
   "cell_type": "markdown",
   "metadata": {},
   "source": [
    "### Bradykinesia - HP filtered features "
   ]
  },
  {
   "cell_type": "code",
   "execution_count": 5,
   "metadata": {},
   "outputs": [],
   "source": [
    "# t1=time.time()\n",
    "# res_all = pd.DataFrame()\n",
    "\n",
    "# Data=Data.reset_index(drop=True) #reset index\n",
    "\n",
    "# for symptom in ['Bradykinesia']:\n",
    "    \n",
    "#     #remove nan rows for current symptom\n",
    "#     Data = Dataorig.copy() #original unmodified dataframe  ###MAKE SURE THIS IS CORRECT\n",
    "#     Data=Data[~Data[symptom].isnull()]\n",
    "#     Data=Data.reset_index(drop=True) #reset index\n",
    "    \n",
    "#     X = Data.iloc[:,5:].as_matrix()\n",
    "#     # X = StandardScaler().fit_transform(X)\n",
    "#     fnames = Data.iloc[:,7:].columns.values\n",
    "\n",
    "#     indp = ((Data[symptom]>0))\n",
    "#     indp = indp.values\n",
    "#     y = indp.astype(int) #target \n",
    "#     print('Rows w %s %d/%d = %.2f'%(symptom,sum(indp),len(indp),(sum(indp)/len(indp))))\n",
    "\n",
    "#     models = [RandomForestClassifier(n_estimators=50,random_state=2)]          \n",
    "# #           XGBClassifier()]\n",
    "#     model_name = ['Random Forest']#,'XGB']\n",
    "#     models = list(zip(models,model_name))\n",
    "#     groups = Data.Subject.as_matrix()\n",
    "\n",
    "#     res,res_group,subj_auroc_pairings = LOSOCV(Data,X,y,groups,models)\n",
    "#     for key, value in sorted(subj_auroc_pairings.items(), key= lambda item : (item[1], item[0])):\n",
    "#         print (\"%s: %s\" % (key, value))\n",
    "#     res_all = pd.concat((res_all,res))\n",
    "    \n",
    "# print('Elapsed time = %.3f min'%((time.time()-t1)/60))    \n",
    "\n",
    "# sns.barplot(x=Data.Subject.unique(),y=res_group['Random Forest']['auroc'])\n",
    "# plt.ylim([0.45,1])"
   ]
  },
  {
   "cell_type": "markdown",
   "metadata": {},
   "source": [
    "### Tremor - HP filtered features "
   ]
  },
  {
   "cell_type": "code",
   "execution_count": 6,
   "metadata": {},
   "outputs": [],
   "source": [
    "# t1=time.time()\n",
    "# res_all = pd.DataFrame()\n",
    "\n",
    "# Data=Data.reset_index(drop=True) #reset index\n",
    "\n",
    "# for symptom in ['Tremor']: ##changed\n",
    "    \n",
    "#     #remove nan rows for current symptom\n",
    "#     Data = Dataorig.copy() #original unmodified dataframe\n",
    "#     Data=Data[~Data[symptom].isnull()]\n",
    "#     Data=Data.reset_index(drop=True) #reset index\n",
    "    \n",
    "#     X = Data.iloc[:,5:].as_matrix()\n",
    "#     # X = StandardScaler().fit_transform(X)\n",
    "#     fnames = Data.iloc[:,7:].columns.values\n",
    "\n",
    "#     indp = ((Data[symptom]>0))\n",
    "#     indp = indp.values\n",
    "#     y = indp.astype(int) #target \n",
    "#     print('Rows w %s %d/%d = %.2f'%(symptom,sum(indp),len(indp),(sum(indp)/len(indp))))\n",
    "\n",
    "#     models = [RandomForestClassifier(n_estimators=50,random_state=2)]          \n",
    "#     model_name = ['Random Forest']\n",
    "#     models = list(zip(models,model_name))\n",
    "#     groups = Data.Subject.as_matrix()\n",
    "\n",
    "#     res,res_group,subj_auroc_pairings = LOSOCV(Data,X,y,groups,models)\n",
    "#     for key, value in sorted(subj_auroc_pairings.items(), key= lambda item : (item[1], item[0])):\n",
    "#         print (\"%s: %s\" % (key, value))\n",
    "#     res_all = pd.concat((res_all,res))\n",
    "    \n",
    "# print('Elapsed time = %.3f min'%((time.time()-t1)/60))    "
   ]
  },
  {
   "cell_type": "markdown",
   "metadata": {},
   "source": [
    "### ---------------------------------------------------------------------------------------------------------------------------------------------------------------"
   ]
  },
  {
   "cell_type": "markdown",
   "metadata": {},
   "source": [
    "### Training Model on Clinic Data"
   ]
  },
  {
   "cell_type": "code",
   "execution_count": 7,
   "metadata": {},
   "outputs": [],
   "source": [
    "# ### SETUP TRAINING DATA (from clicic visits) ###\n",
    "\n",
    "# # get all data and remove useless rows\n",
    "# Xtrain = pd.read_csv('//FS2.smpp.local/RTO/CIS-PD Study/Clinic WACC features/FeaturesHP_All_subjs.csv',index_col=0)\n",
    "# Xtrain = Xtrain[Xtrain.Subject!=1020]\n",
    "# Xtrain = Xtrain[~Xtrain['Tremor'].isnull()]\n",
    "# Xtrain = Xtrain[~Xtrain['Bradykinesia'].isnull()]\n",
    "# Xtrain = Xtrain.reset_index(drop=True)\n",
    "# # get tremor training target\n",
    "# # indp = ((Xtrain['Tremor']>0))\n",
    "# indp = Xtrain['Tremor']\n",
    "# indp = indp.values\n",
    "# ytrain_tremor = indp.astype(int)\n",
    "# # get bradykinesia training target\n",
    "# # indp = ((Xtrain['Bradykinesia']>0))\n",
    "# indp = Xtrain['Bradykinesia']\n",
    "# indp = indp.values\n",
    "# ytrain_bradykinesia = indp.astype(int)\n",
    "# # get the training data set\n",
    "# Xtrain = Xtrain.iloc[:,5:].as_matrix()"
   ]
  },
  {
   "cell_type": "markdown",
   "metadata": {},
   "source": [
    "### Testing Model on All Home Data"
   ]
  },
  {
   "cell_type": "code",
   "execution_count": 8,
   "metadata": {},
   "outputs": [],
   "source": [
    "# ### SETUP TEST DATA (from home data) ###\n",
    "\n",
    "# # get all data\n",
    "# Xtest_sets = []\n",
    "# test_set_info = []\n",
    "# test_set_info_cols = ['subj', 'date', 'MDS score']\n",
    "# home_feature_files = os.listdir('//FS2.smpp.local/RTO/CIS-PD Study/Home WACC features/')\n",
    "# for name in home_feature_files:\n",
    "#     if \"features\" not in name:\n",
    "#         home_feature_files.remove(name)\n",
    "# summary_info = pd.read_csv('X:\\CIS-PD Study\\\\subj visit summary info.csv', index_col = 0)\n",
    "# summary_info['FormDate'] = pd.to_datetime(summary_info['FormDate'])\n",
    "# # get the testing data sets and the summary info about each testing set\n",
    "# for file in home_feature_files:\n",
    "#     user = int(file[9:15])\n",
    "#     date = dt.datetime.strptime(file[16:26], \"%Y-%m-%d\")\n",
    "#     try:\n",
    "#         MDS_score = int(summary_info.loc[(summary_info.FormDate == date) & (summary_info[\"6_digit_id\"] == user), 'MDS_score'])\n",
    "#     except:\n",
    "#         MDS_score = float('Nan')\n",
    "#     Xtest = pd.read_pickle('//FS2.smpp.local//RTO//CIS-PD Study//Home WACC features//' + file)\n",
    "#     Xtest = Xtest.iloc[:, 2:]\n",
    "#     # Xtest = Xtest.sample(frac = 0.2)\n",
    "#     num_clips = len(Xtest.index)\n",
    "#     test_set_info.append([user, date, MDS_score])\n",
    "#     Xtest_sets.append(Xtest.as_matrix())"
   ]
  },
  {
   "cell_type": "code",
   "execution_count": 9,
   "metadata": {},
   "outputs": [],
   "source": [
    "# ### RUN TRAINING ALGORITHM ###\n",
    "# df = train_and_predict_separate_sets(Xtrain, ytrain_tremor, ytrain_bradykinesia, Xtest_sets, test_set_info, test_set_info_cols)\n",
    "# correlations = df.corr(method = 'pearson')\n",
    "# correlations.style"
   ]
  },
  {
   "cell_type": "code",
   "execution_count": 10,
   "metadata": {},
   "outputs": [],
   "source": [
    "# df.plot.hexbin(x = 'tremor score', y = 'bradykinesia score', C = 'MDS score', gridsize = 15, reduce_C_function = np.mean)"
   ]
  },
  {
   "cell_type": "code",
   "execution_count": 11,
   "metadata": {},
   "outputs": [],
   "source": [
    "# # examine correlations for each subject\n",
    "# subjects = df.subj.unique()\n",
    "# for s in subjects:\n",
    "#     df1 = df[df.subj == s]\n",
    "#     if (len(df1.index) < 4):\n",
    "#         continue\n",
    "#     correlations = df1.corr(method = 'pearson')\n",
    "#     print(\"\\n\\n\\nSubject \" + s.__str__() + \" all data correlation\\n\" + len(df1.index).__str__() + \" samples\\n\")\n",
    "#     print(correlations.loc['MDS score', ['tremor score', 'bradykinesia score']])\n",
    "    "
   ]
  },
  {
   "cell_type": "markdown",
   "metadata": {},
   "source": [
    "### Testing Model on Home Data - Walking Only"
   ]
  },
  {
   "cell_type": "code",
   "execution_count": 12,
   "metadata": {},
   "outputs": [],
   "source": [
    "# ### SET UP TEST DATA - Walking Only ###\n",
    "# # get all data\n",
    "# Xtest_sets = []\n",
    "# test_set_info = []\n",
    "# test_set_info_cols = ['subj', 'date', 'MDS score']\n",
    "\n",
    "# home_feature_files = os.listdir('//FS2.smpp.local/RTO/CIS-PD Study/Home WACC features + Gait/')\n",
    "# for name in home_feature_files:\n",
    "#     if \"features\" not in name:\n",
    "#         home_feature_files.remove(name)\n",
    "# summary_info = pd.read_csv('X:\\CIS-PD Study\\\\subj visit summary info.csv', index_col = 0)\n",
    "# summary_info['FormDate'] = pd.to_datetime(summary_info['FormDate'])\n",
    "# # get the testing data sets and the summary info about each testing set\n",
    "# for file in home_feature_files:\n",
    "#     user = int(file[14:20])\n",
    "#     date = dt.datetime.strptime(file[21:31], \"%Y-%m-%d\")\n",
    "#     trial = int(file[21:22])\n",
    "#     try:\n",
    "#         MDS_score = int(summary_info.loc[(summary_info.trial == trial) & (summary_info[\"6_digit_id\"] == user), 'MDS_score'])\n",
    "#     except:\n",
    "#         MDS_score = float('Nan')\n",
    "#     Xtest = pd.read_pickle('//FS2.smpp.local//RTO//CIS-PD Study//Home WACC features + Gait//' + file)\n",
    "#     Xtest = Xtest.loc[Xtest.Gait != 0]\n",
    "#     Xtest = Xtest.iloc[:, 2:-3]\n",
    "#     num_clips = len(Xtest.index)\n",
    "#     if(num_clips == 0):\n",
    "#         continue\n",
    "#     test_set_info.append([user, date, MDS_score])\n",
    "#     Xtest_sets.append(Xtest.as_matrix())"
   ]
  },
  {
   "cell_type": "code",
   "execution_count": 13,
   "metadata": {},
   "outputs": [],
   "source": [
    "# ### RUN TRAINING ALGORITHM ###\n",
    "# df = train_and_predict_separate_sets(Xtrain, ytrain_tremor, ytrain_bradykinesia, Xtest_sets, test_set_info, test_set_info_cols)\n",
    "# correlations = df.corr(method = 'pearson')\n",
    "# correlations.style"
   ]
  },
  {
   "cell_type": "code",
   "execution_count": 14,
   "metadata": {},
   "outputs": [],
   "source": [
    "# df.plot.hexbin(x = 'tremor score', y = 'bradykinesia score', C = 'MDS score', gridsize = 10, reduce_C_function = np.mean)"
   ]
  },
  {
   "cell_type": "markdown",
   "metadata": {},
   "source": [
    "### Testing Model on Home Data - Non-Walking Only"
   ]
  },
  {
   "cell_type": "code",
   "execution_count": 15,
   "metadata": {},
   "outputs": [],
   "source": [
    "# ### SET UP TEST DATA - Non-Walking Only ###\n",
    "# # get all data\n",
    "# Xtest_sets = []\n",
    "# test_set_info = []\n",
    "# test_set_info_cols = ['subj', 'date', 'MDS score']\n",
    "# home_feature_files = os.listdir('//FS2.smpp.local/RTO/CIS-PD Study/Home WACC features + Gait/')\n",
    "# for name in home_feature_files:\n",
    "#     if \"features\" not in name:\n",
    "#         home_feature_files.remove(name)\n",
    "# summary_info = pd.read_csv('X:\\CIS-PD Study\\\\subj visit summary info.csv', index_col = 0)\n",
    "# summary_info['FormDate'] = pd.to_datetime(summary_info['FormDate'])\n",
    "# # get the testing data sets and the summary info about each testing set\n",
    "# for file in home_feature_files:\n",
    "#     user = int(file[14:20])\n",
    "#     date = dt.datetime.strptime(file[21:31], \"%Y-%m-%d\")\n",
    "#     try:\n",
    "#         MDS_score = int(summary_info.loc[(summary_info.FormDate == date) & (summary_info[\"6_digit_id\"] == user), 'MDS_score'])\n",
    "#     except:\n",
    "#         MDS_score = float('Nan')\n",
    "#     Xtest = pd.read_pickle('//FS2.smpp.local//RTO//CIS-PD Study//Home WACC features + Gait//' + file)\n",
    "#     Xtest = Xtest.loc[Xtest.Gait == 0]\n",
    "#     Xtest = Xtest.iloc[:, 2:-3]\n",
    "#     num_clips = len(Xtest.index)\n",
    "#     if(num_clips == 0):\n",
    "#         continue\n",
    "#     test_set_info.append([user, date, MDS_score])\n",
    "#     Xtest_sets.append(Xtest.as_matrix())"
   ]
  },
  {
   "cell_type": "code",
   "execution_count": 16,
   "metadata": {},
   "outputs": [],
   "source": [
    "# ### RUN TRAINING ALGORITHM ###\n",
    "# df = train_and_predict_separate_sets(Xtrain, ytrain_tremor, ytrain_bradykinesia, Xtest_sets, test_set_info, test_set_info_cols)\n",
    "# correlations = df.corr(method = 'pearson')\n",
    "# correlations.style"
   ]
  },
  {
   "cell_type": "code",
   "execution_count": 17,
   "metadata": {},
   "outputs": [],
   "source": [
    "# df.plot.hexbin(x = 'tremor score', y = 'bradykinesia score', C = 'MDS score', gridsize = 15, reduce_C_function = np.mean)"
   ]
  },
  {
   "cell_type": "markdown",
   "metadata": {},
   "source": [
    "### Testing Model on Task Data"
   ]
  },
  {
   "cell_type": "code",
   "execution_count": 18,
   "metadata": {},
   "outputs": [],
   "source": [
    "# ### SET UP TEST DATA ###\n",
    "# # get all data\n",
    "# Xtest_sets = []\n",
    "# test_set_info = []\n",
    "# test_set_info_cols = ['subj', 'date', 'MDS score']\n",
    "\n",
    "# task_feature_files = os.listdir('//FS2.smpp.local//RTO//CIS-PD Study//MJFF Curation//TaskFeatures//')\n",
    "\n",
    "# summary_info = pd.read_csv('//FS2.smpp.local//RTO//CIS-PD Study//subj visit summary info.csv', index_col = 0)\n",
    "# summary_info['FormDate'] = pd.to_datetime(summary_info['FormDate'])\n",
    "# # get the testing data sets and the summary info about each testing set\n",
    "# for file in task_feature_files:\n",
    "#     user = int(file[0:6])\n",
    "#     date = dt.datetime.strptime(file[7:17], \"%Y-%m-%d\")\n",
    "#     trial = int(file[-5:-4])\n",
    "#     task = file[18:-6]\n",
    "#     if (task != 'Wlkg'):\n",
    "#         continue\n",
    "#     # optional skip sessions based on trial number\n",
    "#     #if (trial not in [5]):\n",
    "#     #    continue\n",
    "#     # note: scores for repeat-visits on same day may be misleading because of medication differences; are there separate MDS scores for these visits?\n",
    "#     try:\n",
    "#         MDS_score = int(summary_info.loc[(summary_info.trial == trial) & (summary_info[\"6_digit_id\"] == user), 'MDS_score'])\n",
    "#     except:\n",
    "#         MDS_score = float('Nan')\n",
    "#     Xtest = pd.read_pickle('//FS2.smpp.local//RTO//CIS-PD Study//MJFF Curation//TaskFeatures//' + file)\n",
    "#     Xtest = Xtest.iloc[:, 0:-6]\n",
    "#     # num_clips = len(Xtest.index)\n",
    "#     # if(num_clips == 0):\n",
    "#     #     continue\n",
    "    \n",
    "#     test_set_info.append([user, date, MDS_score])\n",
    "#     Xtest_sets.append(Xtest.as_matrix())"
   ]
  },
  {
   "cell_type": "code",
   "execution_count": 19,
   "metadata": {},
   "outputs": [],
   "source": [
    "# ### RUN TRAINING ALGORITHM ###\n",
    "# df = train_and_predict_separate_sets(Xtrain, ytrain_tremor, ytrain_bradykinesia, Xtest_sets, test_set_info, test_set_info_cols)\n",
    "# correlations = df.corr(method = 'pearson')\n",
    "# correlations.style"
   ]
  },
  {
   "cell_type": "code",
   "execution_count": 20,
   "metadata": {},
   "outputs": [],
   "source": [
    "# df.plot.hexbin(x = 'tremor score', y = 'bradykinesia score', C = 'MDS score', gridsize = 10)"
   ]
  },
  {
   "cell_type": "markdown",
   "metadata": {},
   "source": [
    "### ---------------------------------------------------------------------------------------------------------------------------------------------------------------"
   ]
  },
  {
   "cell_type": "markdown",
   "metadata": {},
   "source": [
    "### Training and Testing Model on Task Data"
   ]
  },
  {
   "cell_type": "code",
   "execution_count": 21,
   "metadata": {},
   "outputs": [],
   "source": [
    "# \"\"\" Repeatedly train a model on 80% of the task data and test it on the remaining 20%, storing the results in \n",
    "#     the results list \"\"\"\n",
    "\n",
    "# results = []\n",
    "\n",
    "# summary_info = pd.read_csv('//FS2.smpp.local//RTO//CIS-PD Study\\\\subj visit summary info.csv', index_col = 0)\n",
    "# summary_info['FormDate'] = pd.to_datetime(summary_info['FormDate'])\n",
    "\n",
    "# subjs = []\n",
    "# task_feature_files = os.listdir('//FS2.smpp.local//RTO//CIS-PD Study//MJFF Curation//TaskFeatures//')\n",
    "# test_set_info_cols = ['subj', 'date', 'MDS score', 'task']\n",
    "\n",
    "# for file in task_feature_files:\n",
    "#     s = int(file[0:6])\n",
    "#     if s not in subjs:\n",
    "#         subjs.append(s)\n",
    "\n",
    "# for c in range(5):\n",
    "#     num_subjs = len(subjs) * 0.2        \n",
    "#     subjs_left_out = np.random.choice(a = subjs, size = int(num_subjs), replace = False)\n",
    "    \n",
    "#     Xtrain = pd.DataFrame()\n",
    "#     Xtest_sets = []\n",
    "#     test_set_info = []\n",
    "\n",
    "#     for file in task_feature_files:\n",
    "#         s = int(file[0:6])\n",
    "#         features_to_add = pd.read_pickle(\"//FS2.smpp.local//RTO//CIS-PD Study\\MJFF Curation\\TaskFeatures\\\\\" + file)\n",
    "#         if s not in subjs_left_out:\n",
    "#             Xtrain = Xtrain.append(features_to_add, ignore_index = True)\n",
    "#         else:\n",
    "#             date = dt.datetime.strptime(file[7:17], \"%Y-%m-%d\")\n",
    "#             task = file[18:-6]\n",
    "#             trial = int(file[7:8])\n",
    "#             try:\n",
    "#                 MDS_score = int(summary_info.loc[(summary_info.trial == trial) & (summary_info[\"6_digit_id\"] == s), 'MDS_score'])\n",
    "#             except:\n",
    "#                 MDS_score = float('Nan')\n",
    "                \n",
    "#             # TODO: ADD TASK SCORES TO TEST_SET_INFO AND TEST_SET_INFO_COLS    \n",
    "                \n",
    "                \n",
    "#             Xtest = features_to_add.iloc[:, 0:-6]\n",
    "#             Xtest_sets.append(Xtest.as_matrix())\n",
    "#             num_clips = len(Xtest.index)\n",
    "#             test_set_info.append([s, date, MDS_score, task])\n",
    "\n",
    "#     Xtrain = Xtrain[~Xtrain['Tremor'].isnull()]\n",
    "#     Xtrain = Xtrain[~Xtrain['Bradykinesia'].isnull()]\n",
    "#     Xtrain = Xtrain.reset_index(drop=True)\n",
    "#     # get tremor training target\n",
    "#     # indp = ((Xtrain['Tremor']>0))\n",
    "#     indp = Xtrain['Tremor']\n",
    "#     indp = indp.values\n",
    "#     ytrain_tremor = indp.astype(int)\n",
    "#     # get bradykinesia training target\n",
    "#     # indp = ((Xtrain['Bradykinesia']>0))\n",
    "#     indp = Xtrain['Bradykinesia']\n",
    "#     indp = indp.values\n",
    "#     ytrain_bradykinesia = indp.astype(int)\n",
    "#     # get the training data set\n",
    "#     Xtrain = Xtrain.iloc[:,0:-6].as_matrix()\n",
    "    \n",
    "#     results.append(train_and_predict_separate_sets(Xtrain, ytrain_tremor, ytrain_bradykinesia, Xtest_sets, test_set_info, test_set_info_cols))"
   ]
  },
  {
   "cell_type": "code",
   "execution_count": 22,
   "metadata": {},
   "outputs": [],
   "source": [
    "# \"\"\" for each task, find the mean and variance of the correlations between the MDS-UPDRS scores and the tremor score \n",
    "#     and the MDS-UPDRS scores and the bradykinesia scores from all of the randomly grouped models. Print only the results\n",
    "#     where the mean correlation between the MDS score and the tremor or bradykinesia score is greater than 0.25 \"\"\"\n",
    "\n",
    "# tasks = results[0].task.unique()\n",
    "# bs_task_dict = {key: [] for key in tasks}\n",
    "# ts_task_dict = {key: [] for key in tasks}\n",
    "# for df in results:\n",
    "#     for t in df.task.unique():\n",
    "#         dft = df[df.task == t]\n",
    "#         # print(t + ': ' + len(dft.index).__str__() + ' entries \\n')\n",
    "#         ts_mds_corr = dft.corr(method = 'pearson').loc['MDS score']['tremor score']            \n",
    "#         bs_mds_corr = dft.corr(method = 'pearson').loc['MDS score']['bradykinesia score']\n",
    "#         bs_task_dict[t].append(bs_mds_corr)\n",
    "#         ts_task_dict[t].append(ts_mds_corr)\n",
    "\n",
    "# most_correlated_tasks = []\n",
    "# for t in tasks:\n",
    "#     bm = np.mean(bs_task_dict[t])\n",
    "#     bv = np.var(bs_task_dict[t])\n",
    "#     tm = np.mean(ts_task_dict[t])\n",
    "#     tv = np.var(ts_task_dict[t])\n",
    "#     if ((bm >= 0.25) or (tm >= 0.25)): # print only significant results\n",
    "#         print('\\n' + t + ' results:\\n')\n",
    "#         most_correlated_tasks.append(t)\n",
    "#         if (bm >= 0.25):\n",
    "#             print('bradykinesia-mds | mean corr: ' + bm.__str__() + ' | var: ' + bv.__str__() + '\\n' )\n",
    "#         if (tm >= 0.25):\n",
    "#             print('tremor-mds | mean corr: ' + tm.__str__() + ' | var: ' + tv.__str__() + '\\n' )"
   ]
  },
  {
   "cell_type": "code",
   "execution_count": 23,
   "metadata": {
    "scrolled": true
   },
   "outputs": [],
   "source": [
    "# \"\"\" Make a hexbin plot of the model's predicted bradykinesia score vs the model's predicted Tremor Score \n",
    "#     where the darkeness of the bin corresponds to the MDS_UPDRS score \"\"\"\n",
    "\n",
    "# df_combined = pd.DataFrame()\n",
    "# for df in results:\n",
    "#     df_combined = df_combined.append(df, ignore_index = True)\n",
    "    \n",
    "# print(df_combined.plot.hexbin(x = 'tremor score', y = 'bradykinesia score', C = 'MDS score', reduce_C_function = np.mean, gridsize = 15))"
   ]
  },
  {
   "cell_type": "code",
   "execution_count": 24,
   "metadata": {},
   "outputs": [],
   "source": [
    "# \"\"\" for each task, make a box plot of the correlation between the MDS score and the model's predicted Tremor Score \"\"\"\n",
    "\n",
    "# labels = ts_task_dict.keys()\n",
    "# values = []\n",
    "# for l in labels:\n",
    "#     values.append(ts_task_dict[l])\n",
    "    \n",
    "    \n",
    "\n",
    "# plt.boxplot(x = values, labels = labels, vert = False)\n",
    "# plt.figure()\n",
    "# plt.show()\n",
    "    "
   ]
  },
  {
   "cell_type": "code",
   "execution_count": 25,
   "metadata": {},
   "outputs": [],
   "source": [
    "# \"\"\" Only including the tasks that are the strongest correlated with the MDS score, make a hexbin plot of the model's \n",
    "#     predicted bradykinesia score vs the model's predicted Tremor Score where the darkeness of the bin corresponds to \n",
    "#     the MDS_UPDRS score \"\"\"\n",
    "\n",
    "# df_combined = pd.DataFrame()\n",
    "# for df in results:\n",
    "#     df_combined = df_combined.append(df, ignore_index = True)\n",
    "    \n",
    "# df_combined = df_combined.loc[df_combined.task.isin(most_correlated_tasks)]\n",
    "    \n",
    "# print(df_combined.plot.hexbin(x = 'tremor score', y = 'bradykinesia score', C = 'MDS score', reduce_C_function = np.mean, gridsize = 15))\n",
    "# print(\"\\n\\n tasks included: \" + most_correlated_tasks.__str__())"
   ]
  },
  {
   "cell_type": "code",
   "execution_count": 26,
   "metadata": {},
   "outputs": [],
   "source": [
    "# \"\"\" Only including walking and walking while counting tasks, make a hexbin plot of the model's \n",
    "#     predicted bradykinesia score vs the model's predicted Tremor Score where the darkeness of the bin corresponds to \n",
    "#     the MDS_UPDRS score \"\"\"\n",
    "\n",
    "# df_combined = pd.DataFrame()\n",
    "# for df in results:\n",
    "#     df_combined = df_combined.append(df, ignore_index = True)\n",
    "\n",
    "# tasks_to_include = ['Wlkg', 'WlkgCnt']\n",
    "# df_combined = df_combined.loc[df_combined.task.isin(tasks_to_include)]\n",
    "    \n",
    "# print(df_combined.plot.hexbin(x = 'tremor score', y = 'bradykinesia score', C = 'MDS score', reduce_C_function = np.mean, gridsize = 15))\n",
    "# print(\"\\n\\n tasks included: \" + tasks_to_include.__str__())"
   ]
  },
  {
   "cell_type": "markdown",
   "metadata": {},
   "source": [
    "### ---------------------------------------------------------------------------------------------------------------------------------------------------------------"
   ]
  },
  {
   "cell_type": "markdown",
   "metadata": {},
   "source": [
    "### Training and Testing Model on Task Data - LOSOCV"
   ]
  },
  {
   "cell_type": "code",
   "execution_count": 27,
   "metadata": {},
   "outputs": [],
   "source": [
    "# \"\"\" trying to determine if the same subjects fit the model poorly as in original model cross-validation, using\n",
    "#     auroc as a measure of how well the subject fits the model \"\"\"\n",
    "\n",
    "# ### organize data\n",
    "# task_feature_files = os.listdir('//FS2.smpp.local//RTO//CIS-PD Study//MJFF Curation//TaskFeatures//')\n",
    "# Data = pd.DataFrame()\n",
    "# for f in task_feature_files:\n",
    "#     # Exclude subjects who did not fit original models for Tremor and Bradykinesia\n",
    "#     # l = ['142561', '142618', '142622', '142612', '142608', '142578', '142563', '142577', '142560', '142585', '142581', '142583', '142593', '142575']\n",
    "#        # Exclude subjects who did not fit original model for Tremor\n",
    "#     # l = ['142622', '142575', '142608', '142585', '142563', '142612', '142561'] #, '142593']  # subj 1020=142561 optional at end\n",
    "#     l = [] # Include all subjects\n",
    "#     if f[:6] not in l:\n",
    "#         if(Data.empty):\n",
    "#             Data = pd.read_pickle('//FS2.smpp.local//RTO//CIS-PD Study//MJFF Curation//TaskFeatures//' + f)\n",
    "#         else:\n",
    "#             d = pd.read_pickle('//FS2.smpp.local//RTO//CIS-PD Study//MJFF Curation//TaskFeatures//' + f)\n",
    "#             Data = Data.append(d, ignore_index = True)\n",
    "# Data = Data[~Data['Tremor'].isnull()]\n",
    "# Data = Data[~Data['Bradykinesia'].isnull()]\n",
    "# np.sort(Data.Subject.unique())\n",
    "# # remove 1020\n",
    "# Data=Data[Data.Subject!=1020]\n",
    "# Dataorig = Data.copy()\n",
    "# # sanity check\n",
    "# sns.distplot(Data.PSD_skew)"
   ]
  },
  {
   "cell_type": "code",
   "execution_count": 28,
   "metadata": {},
   "outputs": [],
   "source": [
    "# \"\"\" Run a leave-one-subject-out cross validation for each subject on a model trained with all the other \n",
    "#     subjects' task data to predict the Bradykinesia score. \"\"\"\n",
    "\n",
    "# t1=time.time()\n",
    "# res_all = pd.DataFrame()\n",
    "\n",
    "# Data = Dataorig.copy()\n",
    "# Data=Data.reset_index(drop=True) #reset index\n",
    "\n",
    "\n",
    "# for symptom in ['Bradykinesia']:\n",
    "    \n",
    "#     #remove nan rows for current symptom\n",
    "#     Data=Data[~Data[symptom].isnull()]\n",
    "#     Data=Data.reset_index(drop=True) #reset index\n",
    "        \n",
    "    \n",
    "#     X = Data.iloc[:,0:-6].as_matrix()\n",
    "#     # X = StandardScaler().fit_transform(X)\n",
    "#     fnames = Data.iloc[:,0:-6].columns.values\n",
    "\n",
    "#     indp = ((Data[symptom]>0))\n",
    "#     indp = indp.values\n",
    "#     y = indp.astype(int) #target \n",
    "#     print('Rows w %s %d/%d = %.2f'%(symptom,sum(indp),len(indp),(sum(indp)/len(indp))))\n",
    "\n",
    "#     models = [RandomForestClassifier(n_estimators=50,random_state=2)]          \n",
    "\n",
    "#     model_name = ['Random Forest']\n",
    "#     models = list(zip(models,model_name))\n",
    "#     groups = Data.Subject.as_matrix()\n",
    "\n",
    "#     res,res_group,subj_auroc_pairings = LOSOCV(Data,X,y,groups,models)\n",
    "#     print(\"\\nSorted auroc for each subject:\\n\")\n",
    "#     for key, value in sorted(subj_auroc_pairings.items(), key= lambda item : (item[1], item[0])):\n",
    "#         print (\"%s: %s\" % (key, value))\n",
    "#     res_all = pd.concat((res_all,res))\n",
    "    \n",
    "# print('Elapsed time = %.3f min'%((time.time()-t1)/60))   "
   ]
  },
  {
   "cell_type": "code",
   "execution_count": 29,
   "metadata": {},
   "outputs": [],
   "source": [
    "# \"\"\" Run a leave-one-subject-out cross validation for each subject on a model trained with all the other \n",
    "#     subjects' task data to predict the Tremor score. \"\"\"\n",
    "\n",
    "# t1=time.time()\n",
    "# res_all = pd.DataFrame()\n",
    "\n",
    "# Data = Dataorig.copy()\n",
    "# Data=Data.reset_index(drop=True) #reset index\n",
    "\n",
    "# for symptom in ['Tremor']:\n",
    "    \n",
    "#     #remove nan rows for current symptom\n",
    "#     Data=Data[~Data[symptom].isnull()]\n",
    "#     Data=Data.reset_index(drop=True) #reset index\n",
    "    \n",
    "#     X = Data.iloc[:,0:-6].as_matrix()\n",
    "#     # X = StandardScaler().fit_transform(X)\n",
    "#     fnames = Data.iloc[:,0:-6].columns.values\n",
    "\n",
    "#     indp = ((Data[symptom]>0))\n",
    "#     indp = indp.values\n",
    "#     y = indp.astype(int) #target \n",
    "#     print('Rows w %s %d/%d = %.2f'%(symptom,sum(indp),len(indp),(sum(indp)/len(indp))))\n",
    "\n",
    "#     models = [RandomForestClassifier(n_estimators=50,random_state=2)]          \n",
    "\n",
    "#     model_name = ['Random Forest']\n",
    "#     models = list(zip(models,model_name))\n",
    "#     groups = Data.Subject.as_matrix()\n",
    "\n",
    "#     res,res_group,subj_auroc_pairings = LOSOCV(Data,X,y,groups,models)\n",
    "#     print(\"\\nSorted auroc for each subject:\\n\")\n",
    "#     for key, value in sorted(subj_auroc_pairings.items(), key= lambda item : (item[1], item[0])):\n",
    "#         print (\"%s: %s\" % (key, value))\n",
    "#     res_all = pd.concat((res_all,res))\n",
    "    \n",
    "# print('Elapsed time = %.3f min'%((time.time()-t1)/60))   "
   ]
  },
  {
   "cell_type": "markdown",
   "metadata": {},
   "source": [
    "### ---------------------------------------------------------------------------------------------------------------------------------------------------------------"
   ]
  },
  {
   "cell_type": "markdown",
   "metadata": {},
   "source": [
    "### Training Model on Walking & Walking+Counting Task Data"
   ]
  },
  {
   "cell_type": "code",
   "execution_count": 30,
   "metadata": {},
   "outputs": [],
   "source": [
    "# \"\"\" train a model to predict the tremor score on the data from the walking and walking while counting tasks \"\"\"\n",
    "\n",
    "# t1=time.time()\n",
    "\n",
    "# # Training Model\n",
    "# Data = Dataorig.copy()\n",
    "# Data=Data.reset_index(drop=True) #reset index\n",
    "# summary_info = pd.read_csv('//FS2.smpp.local//RTO//CIS-PD Study\\\\subj visit summary info.csv', index_col = 0)\n",
    "# Data=Data.reset_index(drop=True)\n",
    "# for index, row in Data.iterrows():\n",
    "#     if (row['Visit'] == '4 Weeks'):\n",
    "#         Data.loc[index, 'Visit'] = '1 Month'\n",
    "# Data=Data.reset_index(drop=True)\n",
    "# Data.head()\n",
    "\n",
    "# for index, row in Data.iterrows(): \n",
    "#     try:\n",
    "#         Data.loc[index, 'MDS score'] = int(summary_info.loc[(summary_info.VisitNm == row['Visit']) & (summary_info[\"SubjectCode\"] == row['Subject']), 'MDS_score'])\n",
    "#     except:\n",
    "#         Data.loc[index, 'MDS score'] = float('Nan')\n",
    "        \n",
    "# #remove nan rows \n",
    "# Data=Data[~Data['MDS score'].isnull()]\n",
    "# Data=Data[(Data.Task == 'Wlkg') | (Data.Task == 'WlkgCnt')]\n",
    "# Data=Data.reset_index(drop=True) #reset index\n",
    "# Data.head()\n",
    "# Data.Tremor.unique()\n",
    "\n",
    "# Xtrain = Data.iloc[:,0:-7].as_matrix()\n",
    "\n",
    "\n",
    "\n",
    "# indp = Data['Tremor']\n",
    "# indp = indp.values\n",
    "# ytrain = indp.astype(int) #target \n",
    "    \n",
    "# clf = RandomForestRegressor(n_estimators=50,random_state=2)\n",
    "# clf.fit(Xtrain, ytrain)"
   ]
  },
  {
   "cell_type": "code",
   "execution_count": 31,
   "metadata": {},
   "outputs": [],
   "source": [
    "# \"\"\" test the model on the home walking data \"\"\"\n",
    "\n",
    "# # Testing Model\n",
    "# results = [] \n",
    "# # get all data\n",
    "# home_feature_files = os.listdir('//FS2.smpp.local/RTO/CIS-PD Study/Home WACC features + Gait/')\n",
    "# for name in home_feature_files:\n",
    "#     if \"features\" not in name:\n",
    "#         home_feature_files.remove(name)\n",
    "# summary_info = pd.read_csv('X:\\CIS-PD Study\\\\subj visit summary info.csv', index_col = 0)\n",
    "# summary_info['FormDate'] = pd.to_datetime(summary_info['FormDate'])\n",
    "# # get the testing data sets and the summary info about each testing set\n",
    "# for file in home_feature_files:\n",
    "#     user = int(file[14:20])\n",
    "#     date = dt.datetime.strptime(file[21:31], \"%Y-%m-%d\")\n",
    "#     trial = int(file[21:22])\n",
    "#     MDS_score = 0\n",
    "#     try:\n",
    "#         MDS_score = int(summary_info.loc[(summary_info.FormDate == date) & (summary_info[\"6_digit_id\"] == user), 'MDS_score'])\n",
    "#     except:\n",
    "#         MDS_score = float('Nan')\n",
    "#     Xtest = pd.read_pickle('//FS2.smpp.local//RTO//CIS-PD Study//Home WACC features + Gait//' + file)\n",
    "#     Xtest = Xtest.loc[Xtest.Gait != 0]\n",
    "#     Xtest = Xtest.iloc[:, 2:-3]\n",
    "\n",
    "#     if(Xtest.empty):\n",
    "#         continue\n",
    "    \n",
    "#     Xtest = Xtest.as_matrix()\n",
    "    \n",
    "    \n",
    "#     y_pred = clf.predict(Xtest)\n",
    "#     y = y_pred.mean()\n",
    "#     results.append([MDS_score, y])\n",
    "\n",
    "# results = pd.DataFrame(data = results, columns = ['MDS score', 'predicted tremor score'])\n",
    "\n",
    "\n",
    "    \n",
    "# print('Elapsed time = %.3f min'%((time.time()-t1)/60))"
   ]
  },
  {
   "cell_type": "code",
   "execution_count": 32,
   "metadata": {},
   "outputs": [],
   "source": [
    "# results.corr(method = 'pearson')"
   ]
  },
  {
   "cell_type": "markdown",
   "metadata": {},
   "source": [
    "### ---------------------------------------------------------------------------------------------------------------------------------------------------------------"
   ]
  },
  {
   "cell_type": "markdown",
   "metadata": {},
   "source": [
    "### Training  Model on Walking & Walking+Counting Task Data directly predicting MDS score"
   ]
  },
  {
   "cell_type": "code",
   "execution_count": 33,
   "metadata": {},
   "outputs": [],
   "source": [
    "# \"\"\" Train a model to directly predict the MDS score on the walking and walking while counting data \"\"\"\n",
    "\n",
    "# t1=time.time()\n",
    "\n",
    "# # Training Model\n",
    "# Data = Dataorig.copy()\n",
    "# Data=Data.reset_index(drop=True) #reset index\n",
    "# summary_info = pd.read_csv('//FS2.smpp.local//RTO//CIS-PD Study\\\\subj visit summary info.csv', index_col = 0)\n",
    "# Data=Data.reset_index(drop=True)\n",
    "# for index, row in Data.iterrows():\n",
    "#     if (row['Visit'] == '4 Weeks'):\n",
    "#         Data.loc[index, 'Visit'] = '1 Month'\n",
    "# Data=Data.reset_index(drop=True)\n",
    "# Data.head()\n",
    "\n",
    "# for index, row in Data.iterrows(): \n",
    "#     try:\n",
    "#         Data.loc[index, 'MDS score'] = int(summary_info.loc[(summary_info.VisitNm == row['Visit']) & (summary_info[\"SubjectCode\"] == row['Subject']), 'MDS_score'])\n",
    "#     except:\n",
    "#         Data.loc[index, 'MDS score'] = float('Nan')\n",
    "        \n",
    "# #remove nan rows \n",
    "# Data=Data[~Data['MDS score'].isnull()]\n",
    "# Data=Data[(Data.Task == 'Wlkg') | (Data.Task == 'WlkgCnt')]\n",
    "# Data=Data.reset_index(drop=True) #reset index\n",
    "\n",
    "# Xtrain = Data.iloc[:,0:-7].as_matrix()\n",
    "# indp = Data['MDS score']\n",
    "# indp = indp.values\n",
    "# ytrain = indp.astype(int) #target \n",
    "    \n",
    "# clf = RandomForestRegressor(n_estimators=50,random_state=2)\n",
    "# clf.fit(Xtrain, ytrain)"
   ]
  },
  {
   "cell_type": "code",
   "execution_count": 34,
   "metadata": {},
   "outputs": [],
   "source": [
    "# \"\"\" test the model on the home walking data \"\"\"\n",
    "\n",
    "# # Testing Model\n",
    "# results = [] \n",
    "# # get all data\n",
    "# home_feature_files = os.listdir('//FS2.smpp.local/RTO/CIS-PD Study/Home WACC features + Gait/')\n",
    "# for name in home_feature_files:\n",
    "#     if \"features\" not in name:\n",
    "#         home_feature_files.remove(name)\n",
    "# summary_info = pd.read_csv('X:\\CIS-PD Study\\\\subj visit summary info.csv', index_col = 0)\n",
    "# summary_info['FormDate'] = pd.to_datetime(summary_info['FormDate'])\n",
    "# # get the testing data sets and the summary info about each testing set\n",
    "# for file in home_feature_files:\n",
    "#     user = int(file[14:20])\n",
    "#     date = dt.datetime.strptime(file[21:31], \"%Y-%m-%d\")\n",
    "#     trial = int(file[21:22])\n",
    "#     MDS_score = 0\n",
    "#     try:\n",
    "#         MDS_score = int(summary_info.loc[(summary_info.FormDate == date) & (summary_info[\"6_digit_id\"] == user), 'MDS_score'])\n",
    "#     except:\n",
    "#         MDS_score = float('Nan')\n",
    "#     Xtest = pd.read_pickle('//FS2.smpp.local//RTO//CIS-PD Study//Home WACC features + Gait//' + file)\n",
    "#     Xtest = Xtest.loc[Xtest.Gait != 0]\n",
    "#     Xtest = Xtest.iloc[:, 2:-3]\n",
    "#     if(Xtest.empty):\n",
    "#         continue\n",
    "#     Xtest = Xtest.as_matrix()\n",
    "#     y_pred = clf.predict(Xtest)\n",
    "#     y = y_pred.min() # generally probides better results than .mean(), .max() has strong negative corr indicating over estimating\n",
    "#     results.append([MDS_score, y])\n",
    "\n",
    "# results = pd.DataFrame(data = results, columns = ['MDS score', 'predicted y'])  \n",
    "# print('Elapsed time = %.3f min'%((time.time()-t1)/60))"
   ]
  },
  {
   "cell_type": "code",
   "execution_count": 35,
   "metadata": {},
   "outputs": [],
   "source": [
    "# results.corr(method = 'pearson')"
   ]
  },
  {
   "cell_type": "code",
   "execution_count": 36,
   "metadata": {},
   "outputs": [],
   "source": [
    "# results.plot.hexbin(x = 'predicted y', y = 'MDS score', gridsize = 15)"
   ]
  },
  {
   "cell_type": "markdown",
   "metadata": {},
   "source": [
    "### ---------------------------------------------------------------------------------------------------------------------------------------------------------------"
   ]
  },
  {
   "cell_type": "markdown",
   "metadata": {},
   "source": [
    "### Train Personal Models for each Subject on Task Data"
   ]
  },
  {
   "cell_type": "code",
   "execution_count": 38,
   "metadata": {},
   "outputs": [
    {
     "name": "stderr",
     "output_type": "stream",
     "text": [
      "C:\\ProgramData\\Anaconda3\\lib\\site-packages\\ipykernel_launcher.py:65: FutureWarning: Method .as_matrix will be removed in a future version. Use .values instead.\n",
      "C:\\ProgramData\\Anaconda3\\lib\\site-packages\\ipykernel_launcher.py:66: FutureWarning: Method .as_matrix will be removed in a future version. Use .values instead.\n",
      "C:\\ProgramData\\Anaconda3\\lib\\site-packages\\numpy\\lib\\function_base.py:3183: RuntimeWarning: invalid value encountered in true_divide\n",
      "  c /= stddev[:, None]\n"
     ]
    },
    {
     "name": "stdout",
     "output_type": "stream",
     "text": [
      "Subject: 142592\n",
      "mean squared error tremor: 0.0\n",
      "corr coef tremor predicted vs known: nan\n",
      "mean squared error bradykinesia: 0.07032\n",
      "corr coef bradykinesia predicted vs known: 0.09396236446110388\n",
      "\n",
      "\n",
      "Subject: 142592 predicted tremor vs actual tremor\n",
      "\n"
     ]
    },
    {
     "data": {
      "image/png": "[encoded data removed]",
      "text/plain": [
       "<Figure size 432x288 with 1 Axes>"
      ]
     },
     "metadata": {},
     "output_type": "display_data"
    },
    {
     "name": "stdout",
     "output_type": "stream",
     "text": [
      "Subject: 142592 predicted bradykinesia vs actual bradykinesia\n",
      "\n"
     ]
    },
    {
     "data": {
      "image/png": "[encoded data removed]",
      "text/plain": [
       "<Figure size 432x288 with 1 Axes>"
      ]
     },
     "metadata": {},
     "output_type": "display_data"
    },
    {
     "name": "stdout",
     "output_type": "stream",
     "text": [
      "Subject: 142581\n",
      "mean squared error tremor: 0.0\n",
      "corr coef tremor predicted vs known: nan\n",
      "mean squared error bradykinesia: 0.0\n",
      "corr coef bradykinesia predicted vs known: nan\n",
      "\n",
      "\n",
      "Subject: 142581 predicted tremor vs actual tremor\n",
      "\n"
     ]
    },
    {
     "name": "stderr",
     "output_type": "stream",
     "text": [
      "C:\\ProgramData\\Anaconda3\\lib\\site-packages\\ipykernel_launcher.py:65: FutureWarning: Method .as_matrix will be removed in a future version. Use .values instead.\n",
      "C:\\ProgramData\\Anaconda3\\lib\\site-packages\\ipykernel_launcher.py:66: FutureWarning: Method .as_matrix will be removed in a future version. Use .values instead.\n",
      "C:\\ProgramData\\Anaconda3\\lib\\site-packages\\numpy\\lib\\function_base.py:3183: RuntimeWarning: invalid value encountered in true_divide\n",
      "  c /= stddev[:, None]\n",
      "C:\\ProgramData\\Anaconda3\\lib\\site-packages\\numpy\\lib\\function_base.py:3183: RuntimeWarning: invalid value encountered in true_divide\n",
      "  c /= stddev[:, None]\n"
     ]
    },
    {
     "data": {
      "image/png": "[encoded data removed]",
      "text/plain": [
       "<Figure size 432x288 with 1 Axes>"
      ]
     },
     "metadata": {},
     "output_type": "display_data"
    },
    {
     "name": "stdout",
     "output_type": "stream",
     "text": [
      "Subject: 142581 predicted bradykinesia vs actual bradykinesia\n",
      "\n"
     ]
    },
    {
     "data": {
      "image/png": "[encoded data removed]",
      "text/plain": [
       "<Figure size 432x288 with 1 Axes>"
      ]
     },
     "metadata": {},
     "output_type": "display_data"
    },
    {
     "name": "stderr",
     "output_type": "stream",
     "text": [
      "C:\\ProgramData\\Anaconda3\\lib\\site-packages\\ipykernel_launcher.py:65: FutureWarning: Method .as_matrix will be removed in a future version. Use .values instead.\n",
      "C:\\ProgramData\\Anaconda3\\lib\\site-packages\\ipykernel_launcher.py:66: FutureWarning: Method .as_matrix will be removed in a future version. Use .values instead.\n",
      "C:\\ProgramData\\Anaconda3\\lib\\site-packages\\numpy\\lib\\function_base.py:3183: RuntimeWarning: invalid value encountered in true_divide\n",
      "  c /= stddev[:, None]\n"
     ]
    },
    {
     "name": "stdout",
     "output_type": "stream",
     "text": [
      "Subject: 142560\n",
      "mean squared error tremor: 0.0\n",
      "corr coef tremor predicted vs known: nan\n",
      "mean squared error bradykinesia: 0.45380000000000004\n",
      "corr coef bradykinesia predicted vs known: 0.8568572540231973\n",
      "\n",
      "\n",
      "Subject: 142560 predicted tremor vs actual tremor\n",
      "\n"
     ]
    },
    {
     "data": {
      "image/png": "[encoded data removed]",
      "text/plain": [
       "<Figure size 432x288 with 1 Axes>"
      ]
     },
     "metadata": {},
     "output_type": "display_data"
    },
    {
     "name": "stdout",
     "output_type": "stream",
     "text": [
      "Subject: 142560 predicted bradykinesia vs actual bradykinesia\n",
      "\n"
     ]
    },
    {
     "data": {
      "image/png": "[encoded data removed]",
      "text/plain": [
       "<Figure size 432x288 with 1 Axes>"
      ]
     },
     "metadata": {},
     "output_type": "display_data"
    },
    {
     "name": "stdout",
     "output_type": "stream",
     "text": [
      "Subject: 142594\n",
      "mean squared error tremor: 0.0\n",
      "corr coef tremor predicted vs known: nan\n",
      "mean squared error bradykinesia: 0.02821818181818182\n",
      "corr coef bradykinesia predicted vs known: 0.9862489084893608\n",
      "\n",
      "\n",
      "Subject: 142594 predicted tremor vs actual tremor\n",
      "\n"
     ]
    },
    {
     "name": "stderr",
     "output_type": "stream",
     "text": [
      "C:\\ProgramData\\Anaconda3\\lib\\site-packages\\ipykernel_launcher.py:65: FutureWarning: Method .as_matrix will be removed in a future version. Use .values instead.\n",
      "C:\\ProgramData\\Anaconda3\\lib\\site-packages\\ipykernel_launcher.py:66: FutureWarning: Method .as_matrix will be removed in a future version. Use .values instead.\n",
      "C:\\ProgramData\\Anaconda3\\lib\\site-packages\\numpy\\lib\\function_base.py:3183: RuntimeWarning: invalid value encountered in true_divide\n",
      "  c /= stddev[:, None]\n"
     ]
    },
    {
     "data": {
      "image/png": "[encoded data removed]",
      "text/plain": [
       "<Figure size 432x288 with 1 Axes>"
      ]
     },
     "metadata": {},
     "output_type": "display_data"
    },
    {
     "name": "stdout",
     "output_type": "stream",
     "text": [
      "Subject: 142594 predicted bradykinesia vs actual bradykinesia\n",
      "\n"
     ]
    },
    {
     "data": {
      "image/png": "[encoded data removed]",
      "text/plain": [
       "<Figure size 432x288 with 1 Axes>"
      ]
     },
     "metadata": {},
     "output_type": "display_data"
    },
    {
     "name": "stderr",
     "output_type": "stream",
     "text": [
      "C:\\ProgramData\\Anaconda3\\lib\\site-packages\\ipykernel_launcher.py:65: FutureWarning: Method .as_matrix will be removed in a future version. Use .values instead.\n",
      "C:\\ProgramData\\Anaconda3\\lib\\site-packages\\ipykernel_launcher.py:66: FutureWarning: Method .as_matrix will be removed in a future version. Use .values instead.\n",
      "C:\\ProgramData\\Anaconda3\\lib\\site-packages\\numpy\\lib\\function_base.py:3183: RuntimeWarning: invalid value encountered in true_divide\n",
      "  c /= stddev[:, None]\n"
     ]
    },
    {
     "name": "stdout",
     "output_type": "stream",
     "text": [
      "Subject: 142583\n",
      "mean squared error tremor: 0.0\n",
      "corr coef tremor predicted vs known: nan\n",
      "mean squared error bradykinesia: 0.11425806451612901\n",
      "corr coef bradykinesia predicted vs known: 0.6527761933064327\n",
      "\n",
      "\n",
      "Subject: 142583 predicted tremor vs actual tremor\n",
      "\n"
     ]
    },
    {
     "data": {
      "image/png": "[encoded data removed]",
      "text/plain": [
       "<Figure size 432x288 with 1 Axes>"
      ]
     },
     "metadata": {},
     "output_type": "display_data"
    },
    {
     "name": "stdout",
     "output_type": "stream",
     "text": [
      "Subject: 142583 predicted bradykinesia vs actual bradykinesia\n",
      "\n"
     ]
    },
    {
     "data": {
      "image/png": "[encoded data removed]",
      "text/plain": [
       "<Figure size 432x288 with 1 Axes>"
      ]
     },
     "metadata": {},
     "output_type": "display_data"
    },
    {
     "name": "stdout",
     "output_type": "stream",
     "text": [
      "Subject: 142618\n",
      "mean squared error tremor: 0.0\n",
      "corr coef tremor predicted vs known: nan\n",
      "mean squared error bradykinesia: 0.0364\n",
      "corr coef bradykinesia predicted vs known: 0.9711631658670145\n",
      "\n",
      "\n",
      "Subject: 142618 predicted tremor vs actual tremor\n",
      "\n"
     ]
    },
    {
     "name": "stderr",
     "output_type": "stream",
     "text": [
      "C:\\ProgramData\\Anaconda3\\lib\\site-packages\\ipykernel_launcher.py:65: FutureWarning: Method .as_matrix will be removed in a future version. Use .values instead.\n",
      "C:\\ProgramData\\Anaconda3\\lib\\site-packages\\ipykernel_launcher.py:66: FutureWarning: Method .as_matrix will be removed in a future version. Use .values instead.\n",
      "C:\\ProgramData\\Anaconda3\\lib\\site-packages\\numpy\\lib\\function_base.py:3183: RuntimeWarning: invalid value encountered in true_divide\n",
      "  c /= stddev[:, None]\n"
     ]
    },
    {
     "data": {
      "image/png": "[encoded data removed]",
      "text/plain": [
       "<Figure size 432x288 with 1 Axes>"
      ]
     },
     "metadata": {},
     "output_type": "display_data"
    },
    {
     "name": "stdout",
     "output_type": "stream",
     "text": [
      "Subject: 142618 predicted bradykinesia vs actual bradykinesia\n",
      "\n"
     ]
    },
    {
     "data": {
      "image/png": "[encoded data removed]",
      "text/plain": [
       "<Figure size 432x288 with 1 Axes>"
      ]
     },
     "metadata": {},
     "output_type": "display_data"
    },
    {
     "name": "stdout",
     "output_type": "stream",
     "text": [
      "Subject: 142622\n",
      "mean squared error tremor: 0.0\n",
      "corr coef tremor predicted vs known: nan\n",
      "mean squared error bradykinesia: 0.08656000000000004\n",
      "corr coef bradykinesia predicted vs known: 0.8471758432101041\n",
      "\n",
      "\n",
      "Subject: 142622 predicted tremor vs actual tremor\n",
      "\n"
     ]
    },
    {
     "name": "stderr",
     "output_type": "stream",
     "text": [
      "C:\\ProgramData\\Anaconda3\\lib\\site-packages\\ipykernel_launcher.py:65: FutureWarning: Method .as_matrix will be removed in a future version. Use .values instead.\n",
      "C:\\ProgramData\\Anaconda3\\lib\\site-packages\\ipykernel_launcher.py:66: FutureWarning: Method .as_matrix will be removed in a future version. Use .values instead.\n",
      "C:\\ProgramData\\Anaconda3\\lib\\site-packages\\numpy\\lib\\function_base.py:3183: RuntimeWarning: invalid value encountered in true_divide\n",
      "  c /= stddev[:, None]\n"
     ]
    },
    {
     "data": {
      "image/png": "[encoded data removed]",
      "text/plain": [
       "<Figure size 432x288 with 1 Axes>"
      ]
     },
     "metadata": {},
     "output_type": "display_data"
    },
    {
     "name": "stdout",
     "output_type": "stream",
     "text": [
      "Subject: 142622 predicted bradykinesia vs actual bradykinesia\n",
      "\n"
     ]
    },
    {
     "data": {
      "image/png": "[encoded data removed]",
      "text/plain": [
       "<Figure size 432x288 with 1 Axes>"
      ]
     },
     "metadata": {},
     "output_type": "display_data"
    },
    {
     "name": "stderr",
     "output_type": "stream",
     "text": [
      "C:\\ProgramData\\Anaconda3\\lib\\site-packages\\ipykernel_launcher.py:65: FutureWarning: Method .as_matrix will be removed in a future version. Use .values instead.\n",
      "C:\\ProgramData\\Anaconda3\\lib\\site-packages\\ipykernel_launcher.py:66: FutureWarning: Method .as_matrix will be removed in a future version. Use .values instead.\n",
      "C:\\ProgramData\\Anaconda3\\lib\\site-packages\\numpy\\lib\\function_base.py:3183: RuntimeWarning: invalid value encountered in true_divide\n",
      "  c /= stddev[:, None]\n"
     ]
    },
    {
     "name": "stdout",
     "output_type": "stream",
     "text": [
      "Subject: 142584\n",
      "mean squared error tremor: 0.0\n",
      "corr coef tremor predicted vs known: nan\n",
      "mean squared error bradykinesia: 0.15555000000000002\n",
      "corr coef bradykinesia predicted vs known: 0.8571837794548963\n",
      "\n",
      "\n",
      "Subject: 142584 predicted tremor vs actual tremor\n",
      "\n"
     ]
    },
    {
     "data": {
      "image/png": "[encoded data removed]",
      "text/plain": [
       "<Figure size 432x288 with 1 Axes>"
      ]
     },
     "metadata": {},
     "output_type": "display_data"
    },
    {
     "name": "stdout",
     "output_type": "stream",
     "text": [
      "Subject: 142584 predicted bradykinesia vs actual bradykinesia\n",
      "\n"
     ]
    },
    {
     "data": {
      "image/png": "[encoded data removed]",
      "text/plain": [
       "<Figure size 432x288 with 1 Axes>"
      ]
     },
     "metadata": {},
     "output_type": "display_data"
    },
    {
     "name": "stdout",
     "output_type": "stream",
     "text": [
      "Subject: 142575\n",
      "mean squared error tremor: 0.0\n",
      "corr coef tremor predicted vs known: nan\n",
      "mean squared error bradykinesia: 0.0\n",
      "corr coef bradykinesia predicted vs known: nan\n",
      "\n",
      "\n",
      "Subject: 142575 predicted tremor vs actual tremor\n",
      "\n"
     ]
    },
    {
     "name": "stderr",
     "output_type": "stream",
     "text": [
      "C:\\ProgramData\\Anaconda3\\lib\\site-packages\\ipykernel_launcher.py:65: FutureWarning: Method .as_matrix will be removed in a future version. Use .values instead.\n",
      "C:\\ProgramData\\Anaconda3\\lib\\site-packages\\ipykernel_launcher.py:66: FutureWarning: Method .as_matrix will be removed in a future version. Use .values instead.\n",
      "C:\\ProgramData\\Anaconda3\\lib\\site-packages\\numpy\\lib\\function_base.py:3183: RuntimeWarning: invalid value encountered in true_divide\n",
      "  c /= stddev[:, None]\n",
      "C:\\ProgramData\\Anaconda3\\lib\\site-packages\\numpy\\lib\\function_base.py:3183: RuntimeWarning: invalid value encountered in true_divide\n",
      "  c /= stddev[:, None]\n"
     ]
    },
    {
     "data": {
      "image/png": "[encoded data removed]",
      "text/plain": [
       "<Figure size 432x288 with 1 Axes>"
      ]
     },
     "metadata": {},
     "output_type": "display_data"
    },
    {
     "name": "stdout",
     "output_type": "stream",
     "text": [
      "Subject: 142575 predicted bradykinesia vs actual bradykinesia\n",
      "\n"
     ]
    },
    {
     "data": {
      "image/png": "[encoded data removed]",
      "text/plain": [
       "<Figure size 432x288 with 1 Axes>"
      ]
     },
     "metadata": {},
     "output_type": "display_data"
    },
    {
     "name": "stderr",
     "output_type": "stream",
     "text": [
      "C:\\ProgramData\\Anaconda3\\lib\\site-packages\\ipykernel_launcher.py:65: FutureWarning: Method .as_matrix will be removed in a future version. Use .values instead.\n",
      "C:\\ProgramData\\Anaconda3\\lib\\site-packages\\ipykernel_launcher.py:66: FutureWarning: Method .as_matrix will be removed in a future version. Use .values instead.\n",
      "C:\\ProgramData\\Anaconda3\\lib\\site-packages\\numpy\\lib\\function_base.py:3183: RuntimeWarning: invalid value encountered in true_divide\n",
      "  c /= stddev[:, None]\n",
      "C:\\ProgramData\\Anaconda3\\lib\\site-packages\\numpy\\lib\\function_base.py:3183: RuntimeWarning: invalid value encountered in true_divide\n",
      "  c /= stddev[:, None]\n"
     ]
    },
    {
     "name": "stdout",
     "output_type": "stream",
     "text": [
      "Subject: 142577\n",
      "mean squared error tremor: 0.0\n",
      "corr coef tremor predicted vs known: nan\n",
      "mean squared error bradykinesia: 0.0\n",
      "corr coef bradykinesia predicted vs known: nan\n",
      "\n",
      "\n",
      "Subject: 142577 predicted tremor vs actual tremor\n",
      "\n"
     ]
    },
    {
     "data": {
      "image/png": "[encoded data removed]",
      "text/plain": [
       "<Figure size 432x288 with 1 Axes>"
      ]
     },
     "metadata": {},
     "output_type": "display_data"
    },
    {
     "name": "stdout",
     "output_type": "stream",
     "text": [
      "Subject: 142577 predicted bradykinesia vs actual bradykinesia\n",
      "\n"
     ]
    },
    {
     "data": {
      "image/png": "[encoded data removed]",
      "text/plain": [
       "<Figure size 432x288 with 1 Axes>"
      ]
     },
     "metadata": {},
     "output_type": "display_data"
    },
    {
     "name": "stderr",
     "output_type": "stream",
     "text": [
      "C:\\ProgramData\\Anaconda3\\lib\\site-packages\\ipykernel_launcher.py:65: FutureWarning: Method .as_matrix will be removed in a future version. Use .values instead.\n",
      "C:\\ProgramData\\Anaconda3\\lib\\site-packages\\ipykernel_launcher.py:66: FutureWarning: Method .as_matrix will be removed in a future version. Use .values instead.\n"
     ]
    },
    {
     "name": "stdout",
     "output_type": "stream",
     "text": [
      "Subject: 142582\n",
      "mean squared error tremor: 0.03466666666666666\n",
      "corr coef tremor predicted vs known: 0.6735426299120415\n",
      "mean squared error bradykinesia: 0.10559999999999999\n",
      "corr coef bradykinesia predicted vs known: 0.5672700639311079\n",
      "\n",
      "\n",
      "Subject: 142582 predicted tremor vs actual tremor\n",
      "\n"
     ]
    },
    {
     "data": {
      "image/png": "[encoded data removed]",
      "text/plain": [
       "<Figure size 432x288 with 1 Axes>"
      ]
     },
     "metadata": {},
     "output_type": "display_data"
    },
    {
     "name": "stdout",
     "output_type": "stream",
     "text": [
      "Subject: 142582 predicted bradykinesia vs actual bradykinesia\n",
      "\n"
     ]
    },
    {
     "data": {
      "image/png": "[encoded data removed]",
      "text/plain": [
       "<Figure size 432x288 with 1 Axes>"
      ]
     },
     "metadata": {},
     "output_type": "display_data"
    },
    {
     "name": "stderr",
     "output_type": "stream",
     "text": [
      "C:\\ProgramData\\Anaconda3\\lib\\site-packages\\ipykernel_launcher.py:65: FutureWarning: Method .as_matrix will be removed in a future version. Use .values instead.\n",
      "C:\\ProgramData\\Anaconda3\\lib\\site-packages\\ipykernel_launcher.py:66: FutureWarning: Method .as_matrix will be removed in a future version. Use .values instead.\n",
      "C:\\ProgramData\\Anaconda3\\lib\\site-packages\\numpy\\lib\\function_base.py:3183: RuntimeWarning: invalid value encountered in true_divide\n",
      "  c /= stddev[:, None]\n",
      "C:\\ProgramData\\Anaconda3\\lib\\site-packages\\numpy\\lib\\function_base.py:3183: RuntimeWarning: invalid value encountered in true_divide\n",
      "  c /= stddev[:, None]\n"
     ]
    },
    {
     "name": "stdout",
     "output_type": "stream",
     "text": [
      "Subject: 142580\n",
      "mean squared error tremor: 0.0\n",
      "corr coef tremor predicted vs known: nan\n",
      "mean squared error bradykinesia: 0.0\n",
      "corr coef bradykinesia predicted vs known: nan\n",
      "\n",
      "\n",
      "Subject: 142580 predicted tremor vs actual tremor\n",
      "\n"
     ]
    },
    {
     "data": {
      "image/png": "[encoded data removed]",
      "text/plain": [
       "<Figure size 432x288 with 1 Axes>"
      ]
     },
     "metadata": {},
     "output_type": "display_data"
    },
    {
     "name": "stdout",
     "output_type": "stream",
     "text": [
      "Subject: 142580 predicted bradykinesia vs actual bradykinesia\n",
      "\n"
     ]
    },
    {
     "data": {
      "image/png": "[encoded data removed]",
      "text/plain": [
       "<Figure size 432x288 with 1 Axes>"
      ]
     },
     "metadata": {},
     "output_type": "display_data"
    },
    {
     "name": "stdout",
     "output_type": "stream",
     "text": [
      "Subject: 142612\n",
      "mean squared error tremor: 0.2499333333333333\n",
      "corr coef tremor predicted vs known: 0.4041830574557374\n",
      "mean squared error bradykinesia: 0.0\n",
      "corr coef bradykinesia predicted vs known: nan\n",
      "\n",
      "\n",
      "Subject: 142612 predicted tremor vs actual tremor\n",
      "\n"
     ]
    },
    {
     "name": "stderr",
     "output_type": "stream",
     "text": [
      "C:\\ProgramData\\Anaconda3\\lib\\site-packages\\ipykernel_launcher.py:65: FutureWarning: Method .as_matrix will be removed in a future version. Use .values instead.\n",
      "C:\\ProgramData\\Anaconda3\\lib\\site-packages\\ipykernel_launcher.py:66: FutureWarning: Method .as_matrix will be removed in a future version. Use .values instead.\n",
      "C:\\ProgramData\\Anaconda3\\lib\\site-packages\\numpy\\lib\\function_base.py:3183: RuntimeWarning: invalid value encountered in true_divide\n",
      "  c /= stddev[:, None]\n"
     ]
    },
    {
     "data": {
      "image/png": "[encoded data removed]",
      "text/plain": [
       "<Figure size 432x288 with 1 Axes>"
      ]
     },
     "metadata": {},
     "output_type": "display_data"
    },
    {
     "name": "stdout",
     "output_type": "stream",
     "text": [
      "Subject: 142612 predicted bradykinesia vs actual bradykinesia\n",
      "\n"
     ]
    },
    {
     "data": {
      "image/png": "[encoded data removed]",
      "text/plain": [
       "<Figure size 432x288 with 1 Axes>"
      ]
     },
     "metadata": {},
     "output_type": "display_data"
    },
    {
     "name": "stderr",
     "output_type": "stream",
     "text": [
      "C:\\ProgramData\\Anaconda3\\lib\\site-packages\\ipykernel_launcher.py:65: FutureWarning: Method .as_matrix will be removed in a future version. Use .values instead.\n",
      "C:\\ProgramData\\Anaconda3\\lib\\site-packages\\ipykernel_launcher.py:66: FutureWarning: Method .as_matrix will be removed in a future version. Use .values instead.\n"
     ]
    },
    {
     "name": "stdout",
     "output_type": "stream",
     "text": [
      "Subject: 142563\n",
      "mean squared error tremor: 0.5733957446808512\n",
      "corr coef tremor predicted vs known: 0.42385272746302044\n",
      "mean squared error bradykinesia: 0.1115659574468085\n",
      "corr coef bradykinesia predicted vs known: 0.6506928392057597\n",
      "\n",
      "\n",
      "Subject: 142563 predicted tremor vs actual tremor\n",
      "\n"
     ]
    },
    {
     "data": {
      "image/png": "[encoded data removed]",
      "text/plain": [
       "<Figure size 432x288 with 1 Axes>"
      ]
     },
     "metadata": {},
     "output_type": "display_data"
    },
    {
     "name": "stdout",
     "output_type": "stream",
     "text": [
      "Subject: 142563 predicted bradykinesia vs actual bradykinesia\n",
      "\n"
     ]
    },
    {
     "data": {
      "image/png": "[encoded data removed]",
      "text/plain": [
       "<Figure size 432x288 with 1 Axes>"
      ]
     },
     "metadata": {},
     "output_type": "display_data"
    },
    {
     "name": "stdout",
     "output_type": "stream",
     "text": [
      "Subject: 142579\n",
      "mean squared error tremor: 0.0\n",
      "corr coef tremor predicted vs known: nan\n",
      "mean squared error bradykinesia: 0.09384444444444445\n",
      "corr coef bradykinesia predicted vs known: 0.7915912091553279\n",
      "\n",
      "\n",
      "Subject: 142579 predicted tremor vs actual tremor\n",
      "\n"
     ]
    },
    {
     "name": "stderr",
     "output_type": "stream",
     "text": [
      "C:\\ProgramData\\Anaconda3\\lib\\site-packages\\ipykernel_launcher.py:65: FutureWarning: Method .as_matrix will be removed in a future version. Use .values instead.\n",
      "C:\\ProgramData\\Anaconda3\\lib\\site-packages\\ipykernel_launcher.py:66: FutureWarning: Method .as_matrix will be removed in a future version. Use .values instead.\n",
      "C:\\ProgramData\\Anaconda3\\lib\\site-packages\\numpy\\lib\\function_base.py:3183: RuntimeWarning: invalid value encountered in true_divide\n",
      "  c /= stddev[:, None]\n"
     ]
    },
    {
     "data": {
      "image/png": "[encoded data removed]",
      "text/plain": [
       "<Figure size 432x288 with 1 Axes>"
      ]
     },
     "metadata": {},
     "output_type": "display_data"
    },
    {
     "name": "stdout",
     "output_type": "stream",
     "text": [
      "Subject: 142579 predicted bradykinesia vs actual bradykinesia\n",
      "\n"
     ]
    },
    {
     "data": {
      "image/png": "[encoded data removed]",
      "text/plain": [
       "<Figure size 432x288 with 1 Axes>"
      ]
     },
     "metadata": {},
     "output_type": "display_data"
    },
    {
     "name": "stderr",
     "output_type": "stream",
     "text": [
      "C:\\ProgramData\\Anaconda3\\lib\\site-packages\\ipykernel_launcher.py:65: FutureWarning: Method .as_matrix will be removed in a future version. Use .values instead.\n",
      "C:\\ProgramData\\Anaconda3\\lib\\site-packages\\ipykernel_launcher.py:66: FutureWarning: Method .as_matrix will be removed in a future version. Use .values instead.\n",
      "C:\\ProgramData\\Anaconda3\\lib\\site-packages\\numpy\\lib\\function_base.py:3183: RuntimeWarning: invalid value encountered in true_divide\n",
      "  c /= stddev[:, None]\n"
     ]
    },
    {
     "name": "stdout",
     "output_type": "stream",
     "text": [
      "Subject: 142578\n",
      "mean squared error tremor: 0.278304\n",
      "corr coef tremor predicted vs known: 0.7784781270441253\n",
      "mean squared error bradykinesia: 0.0\n",
      "corr coef bradykinesia predicted vs known: nan\n",
      "\n",
      "\n",
      "Subject: 142578 predicted tremor vs actual tremor\n",
      "\n"
     ]
    },
    {
     "data": {
      "image/png": "[encoded data removed]",
      "text/plain": [
       "<Figure size 432x288 with 1 Axes>"
      ]
     },
     "metadata": {},
     "output_type": "display_data"
    },
    {
     "name": "stdout",
     "output_type": "stream",
     "text": [
      "Subject: 142578 predicted bradykinesia vs actual bradykinesia\n",
      "\n"
     ]
    },
    {
     "data": {
      "image/png": "[encoded data removed]",
      "text/plain": [
       "<Figure size 432x288 with 1 Axes>"
      ]
     },
     "metadata": {},
     "output_type": "display_data"
    },
    {
     "name": "stdout",
     "output_type": "stream",
     "text": [
      "Subject: 142595\n",
      "mean squared error tremor: 0.0\n",
      "corr coef tremor predicted vs known: nan\n",
      "mean squared error bradykinesia: 0.5055999999999999\n",
      "corr coef bradykinesia predicted vs known: 0.8543384014420703\n",
      "\n",
      "\n",
      "Subject: 142595 predicted tremor vs actual tremor\n",
      "\n"
     ]
    },
    {
     "name": "stderr",
     "output_type": "stream",
     "text": [
      "C:\\ProgramData\\Anaconda3\\lib\\site-packages\\ipykernel_launcher.py:65: FutureWarning: Method .as_matrix will be removed in a future version. Use .values instead.\n",
      "C:\\ProgramData\\Anaconda3\\lib\\site-packages\\ipykernel_launcher.py:66: FutureWarning: Method .as_matrix will be removed in a future version. Use .values instead.\n",
      "C:\\ProgramData\\Anaconda3\\lib\\site-packages\\numpy\\lib\\function_base.py:3183: RuntimeWarning: invalid value encountered in true_divide\n",
      "  c /= stddev[:, None]\n"
     ]
    },
    {
     "data": {
      "image/png": "[encoded data removed]",
      "text/plain": [
       "<Figure size 432x288 with 1 Axes>"
      ]
     },
     "metadata": {},
     "output_type": "display_data"
    },
    {
     "name": "stdout",
     "output_type": "stream",
     "text": [
      "Subject: 142595 predicted bradykinesia vs actual bradykinesia\n",
      "\n"
     ]
    },
    {
     "data": {
      "image/png": "[encoded data removed]",
      "text/plain": [
       "<Figure size 432x288 with 1 Axes>"
      ]
     },
     "metadata": {},
     "output_type": "display_data"
    },
    {
     "name": "stdout",
     "output_type": "stream",
     "text": [
      "Subject: 142562\n",
      "mean squared error tremor: 0.0\n",
      "corr coef tremor predicted vs known: nan\n",
      "mean squared error bradykinesia: 0.0\n",
      "corr coef bradykinesia predicted vs known: nan\n",
      "\n",
      "\n",
      "Subject: 142562 predicted tremor vs actual tremor\n",
      "\n"
     ]
    },
    {
     "name": "stderr",
     "output_type": "stream",
     "text": [
      "C:\\ProgramData\\Anaconda3\\lib\\site-packages\\ipykernel_launcher.py:65: FutureWarning: Method .as_matrix will be removed in a future version. Use .values instead.\n",
      "C:\\ProgramData\\Anaconda3\\lib\\site-packages\\ipykernel_launcher.py:66: FutureWarning: Method .as_matrix will be removed in a future version. Use .values instead.\n",
      "C:\\ProgramData\\Anaconda3\\lib\\site-packages\\numpy\\lib\\function_base.py:3183: RuntimeWarning: invalid value encountered in true_divide\n",
      "  c /= stddev[:, None]\n",
      "C:\\ProgramData\\Anaconda3\\lib\\site-packages\\numpy\\lib\\function_base.py:3183: RuntimeWarning: invalid value encountered in true_divide\n",
      "  c /= stddev[:, None]\n"
     ]
    },
    {
     "data": {
      "image/png": "[encoded data removed]",
      "text/plain": [
       "<Figure size 432x288 with 1 Axes>"
      ]
     },
     "metadata": {},
     "output_type": "display_data"
    },
    {
     "name": "stdout",
     "output_type": "stream",
     "text": [
      "Subject: 142562 predicted bradykinesia vs actual bradykinesia\n",
      "\n"
     ]
    },
    {
     "data": {
      "image/png": "[encoded data removed]",
      "text/plain": [
       "<Figure size 432x288 with 1 Axes>"
      ]
     },
     "metadata": {},
     "output_type": "display_data"
    },
    {
     "name": "stdout",
     "output_type": "stream",
     "text": [
      "Subject: 142585\n",
      "mean squared error tremor: 0.0\n",
      "corr coef tremor predicted vs known: nan\n",
      "mean squared error bradykinesia: 0.0\n",
      "corr coef bradykinesia predicted vs known: nan\n",
      "\n",
      "\n",
      "Subject: 142585 predicted tremor vs actual tremor\n",
      "\n"
     ]
    },
    {
     "name": "stderr",
     "output_type": "stream",
     "text": [
      "C:\\ProgramData\\Anaconda3\\lib\\site-packages\\ipykernel_launcher.py:65: FutureWarning: Method .as_matrix will be removed in a future version. Use .values instead.\n",
      "C:\\ProgramData\\Anaconda3\\lib\\site-packages\\ipykernel_launcher.py:66: FutureWarning: Method .as_matrix will be removed in a future version. Use .values instead.\n",
      "C:\\ProgramData\\Anaconda3\\lib\\site-packages\\numpy\\lib\\function_base.py:3183: RuntimeWarning: invalid value encountered in true_divide\n",
      "  c /= stddev[:, None]\n",
      "C:\\ProgramData\\Anaconda3\\lib\\site-packages\\numpy\\lib\\function_base.py:3183: RuntimeWarning: invalid value encountered in true_divide\n",
      "  c /= stddev[:, None]\n"
     ]
    },
    {
     "data": {
      "image/png": "[encoded data removed]",
      "text/plain": [
       "<Figure size 432x288 with 1 Axes>"
      ]
     },
     "metadata": {},
     "output_type": "display_data"
    },
    {
     "name": "stdout",
     "output_type": "stream",
     "text": [
      "Subject: 142585 predicted bradykinesia vs actual bradykinesia\n",
      "\n"
     ]
    },
    {
     "data": {
      "image/png": "[encoded data removed]",
      "text/plain": [
       "<Figure size 432x288 with 1 Axes>"
      ]
     },
     "metadata": {},
     "output_type": "display_data"
    },
    {
     "name": "stdout",
     "output_type": "stream",
     "text": [
      "Subject: 142608\n",
      "mean squared error tremor: 0.0\n",
      "corr coef tremor predicted vs known: nan\n",
      "mean squared error bradykinesia: 0.0\n",
      "corr coef bradykinesia predicted vs known: nan\n",
      "\n",
      "\n",
      "Subject: 142608 predicted tremor vs actual tremor\n",
      "\n"
     ]
    },
    {
     "name": "stderr",
     "output_type": "stream",
     "text": [
      "C:\\ProgramData\\Anaconda3\\lib\\site-packages\\ipykernel_launcher.py:65: FutureWarning: Method .as_matrix will be removed in a future version. Use .values instead.\n",
      "C:\\ProgramData\\Anaconda3\\lib\\site-packages\\ipykernel_launcher.py:66: FutureWarning: Method .as_matrix will be removed in a future version. Use .values instead.\n",
      "C:\\ProgramData\\Anaconda3\\lib\\site-packages\\numpy\\lib\\function_base.py:3183: RuntimeWarning: invalid value encountered in true_divide\n",
      "  c /= stddev[:, None]\n",
      "C:\\ProgramData\\Anaconda3\\lib\\site-packages\\numpy\\lib\\function_base.py:3183: RuntimeWarning: invalid value encountered in true_divide\n",
      "  c /= stddev[:, None]\n"
     ]
    },
    {
     "data": {
      "image/png": "[encoded data removed]",
      "text/plain": [
       "<Figure size 432x288 with 1 Axes>"
      ]
     },
     "metadata": {},
     "output_type": "display_data"
    },
    {
     "name": "stdout",
     "output_type": "stream",
     "text": [
      "Subject: 142608 predicted bradykinesia vs actual bradykinesia\n",
      "\n"
     ]
    },
    {
     "data": {
      "image/png": "[encoded data removed]",
      "text/plain": [
       "<Figure size 432x288 with 1 Axes>"
      ]
     },
     "metadata": {},
     "output_type": "display_data"
    }
   ],
   "source": [
    "summary_info = pd.read_csv('//FS2.smpp.local//RTO//CIS-PD Study\\\\subj visit summary info.csv', index_col = 0)\n",
    "summary_info['FormDate'] = pd.to_datetime(summary_info['FormDate'])\n",
    "\n",
    "subjs = []\n",
    "task_feature_files = os.listdir('//FS2.smpp.local//RTO//CIS-PD Study//MJFF Curation//TaskFeatures//')\n",
    "test_set_info_cols = ['subj', 'date', 'MDS score', 'task']\n",
    "\n",
    "for file in task_feature_files:\n",
    "    s = int(file[0:6])\n",
    "    if s not in subjs:\n",
    "        subjs.append(s)\n",
    "        \n",
    "subj_file_dict = {key: [] for key in subjs}\n",
    "subj_trial_dict = {key:[] for key in subjs}\n",
    "        \n",
    "for file in task_feature_files:\n",
    "    s = int(file[0:6])\n",
    "    subj_file_dict[s].append(file)\n",
    "    t = int(file[-5:-4])\n",
    "    if t not in subj_trial_dict[s]:\\\n",
    "        subj_trial_dict[s].append(t)\n",
    "    \n",
    "\n",
    "for s in subjs:\n",
    "    files = subj_file_dict[s]\n",
    "    trials = subj_trial_dict[s]\n",
    "    Data = pd.DataFrame()\n",
    "    for f in files:\n",
    "        Data = Data.append(pd.read_pickle('//FS2.smpp.local//RTO//CIS-PD Study//MJFF Curation//TaskFeatures//' + f), ignore_index = True)\n",
    "    \n",
    "    \n",
    "    Data = Data[~Data['Tremor'].isnull()]\n",
    "    Data = Data[~Data['Bradykinesia'].isnull()]\n",
    "    # Data = Data[(Data.Task == 'Wlkg') | (Data.Task == 'WlkgCnt')] # optional only include walking data\n",
    "\n",
    "\n",
    "    # remove 1020\n",
    "    Data=Data[Data.Subject!=1020]\n",
    "    Dataorig = Data.copy()\n",
    "    \n",
    "    # visits = ['4 Weeks', '2 Weeks: Time 90', '2 Weeks: Time 0', '2 Weeks: Time 150', '2 Weeks: Time 60', '2 Weeks: Time 30',\n",
    "    #          '2 Weeks: Time 120']\n",
    "    # if (len(visits)<2):\n",
    "    #     continue\n",
    "    # visit_left_out = ['4 Weeks', '2 Weeks: Time 60']# np.random.choice(a = visits, size = 1, replace = False)\n",
    "    # Xtest = Data[Data.Visit.isin(visit_left_out)]\n",
    "    # Xtrain = Data[~Data.Visit.isin(visit_left_out)]\n",
    "    \n",
    "    num = len(Data.index.values)\n",
    "    if (num < 10):\n",
    "        continue\n",
    "    Xtest = Data.sample(frac = 0.3)\n",
    "    indices_to_exclude = Xtest.index.values\n",
    "    Xtrain = Data[~Data.index.isin(indices_to_exclude)]\n",
    "    \n",
    "    \n",
    "    if (Xtest.empty or Xtrain.empty):\n",
    "        continue\n",
    "    \n",
    "    ytrain_tremor = Xtrain['Tremor'].values\n",
    "    ytrain_bradykinesia = Xtrain['Bradykinesia'].values\n",
    "    \n",
    "    ytest_tremor = Xtest['Tremor'].values\n",
    "    ytest_bradykinesia = Xtest['Bradykinesia'].values\n",
    "    \n",
    "    Xtrain = Xtrain.iloc[:,0:-6].as_matrix()\n",
    "    Xtest = Xtest.iloc[:, 0:-6].as_matrix()\n",
    "\n",
    "    clf = RandomForestRegressor(n_estimators=50,random_state=2)\n",
    "    \n",
    "    clf.fit(Xtrain, ytrain_tremor)\n",
    "    ypred_t = clf.predict(Xtest)\n",
    "    # ypred_t = [int(round(y, 0)) for y in ypred_t]\n",
    "    t_error = []\n",
    "    for i in range(len(ypred_t)):\n",
    "        t_error.append(math.pow(ytest_tremor[i] - ypred_t[i], 2))\n",
    "    mean_squared_error_t = np.mean(t_error)\n",
    "    corr_t = np.corrcoef(ytest_tremor, ypred_t)[0][1]\n",
    "    \n",
    "    clf.fit(Xtrain, ytrain_bradykinesia)\n",
    "    ypred_b = clf.predict(Xtest)\n",
    "    # ypred_b = [int(round(y, 0)) for y in ypred_b]\n",
    "    b_error = []\n",
    "    for i in range(len(ypred_b)):\n",
    "        b_error.append(math.pow(ytest_bradykinesia[i] - ypred_b[i], 2))\n",
    "    mean_squared_error_b = np.mean(b_error)\n",
    "    corr_b = np.corrcoef(ytest_bradykinesia, ypred_b)[0][1]\n",
    "    \n",
    "    print(\"Subject: \" + s.__str__() + \"\\nmean squared error tremor: \" + mean_squared_error_t.__str__() + \n",
    "          \"\\ncorr coef tremor predicted vs known: \" + corr_t.__str__() +\n",
    "          \"\\nmean squared error bradykinesia: \" + mean_squared_error_b.__str__() + \n",
    "          \"\\ncorr coef bradykinesia predicted vs known: \" + corr_b.__str__() + \"\\n\\n\")\n",
    "    \n",
    "    t_predictions = [[],[],[],[],[]]\n",
    "    b_predictions = [[],[],[],[],[]]\n",
    "    for i in range(len(ypred_b)):\n",
    "        t = int(ytest_tremor[i])\n",
    "        b = int(ytest_bradykinesia[i])\n",
    "        t_predictions[t].append(ypred_t[i])\n",
    "        b_predictions[b].append(ypred_b[i])\n",
    "\n",
    "    print('Subject: ' + s.__str__() + ' predicted tremor vs actual tremor\\n')\n",
    "    plt.boxplot(x = t_predictions, labels = ['0', '1', '2', '3', '4'])\n",
    "    plt.show()\n",
    "    \n",
    "    print('Subject: ' + s.__str__() + ' predicted bradykinesia vs actual bradykinesia\\n')\n",
    "    plt.boxplot(x = b_predictions, labels = ['0', '1', '2', '3', '4'])\n",
    "    plt.show()\n",
    "        \n",
    "    \n",
    "    "
   ]
  },
  {
   "cell_type": "markdown",
   "metadata": {},
   "source": [
    "### ---------------------------------------------------------------------------------------------------------------------------------------------------------------"
   ]
  },
  {
   "cell_type": "code",
   "execution_count": null,
   "metadata": {},
   "outputs": [],
   "source": []
  }
 ],
 "metadata": {
  "anaconda-cloud": {},
  "kernelspec": {
   "display_name": "Python 3",
   "language": "python",
   "name": "python3"
  },
  "language_info": {
   "codemirror_mode": {
    "name": "ipython",
    "version": 3
   },
   "file_extension": ".py",
   "mimetype": "text/x-python",
   "name": "python",
   "nbconvert_exporter": "python",
   "pygments_lexer": "ipython3",
   "version": "3.6.5"
  }
 },
 "nbformat": 4,
 "nbformat_minor": 1
}
