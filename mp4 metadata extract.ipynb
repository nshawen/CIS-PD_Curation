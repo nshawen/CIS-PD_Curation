{
 "cells": [
  {
   "cell_type": "markdown",
   "metadata": {},
   "source": [
    "# Extract timestamp metadata from mp4\n",
    "Goal: extract utc timestamp for mp4 video, preferably for each frame\n",
    "- there must be a creation and modified datetime (for actual video creation, not just download timestamp)\n"
   ]
  },
  {
   "cell_type": "code",
   "execution_count": 3,
   "metadata": {},
   "outputs": [],
   "source": [
    "import os\n",
    "import pandas as pd\n",
    "import numpy as np\n",
    "import datetime as dt\n",
    "import re\n",
    "import datetime\n",
    "import calendar"
   ]
  },
  {
   "cell_type": "markdown",
   "metadata": {},
   "source": [
    "## Install exiftool on windows\n",
    "- Download windows executable from here:\n",
    "- https://sno.phy.queensu.ca/~phil/exiftool/\n",
    "- Just download and un-zip the archive then double-click on \"exiftool(-k).exe\" to read the application documentation, drag-and-drop files and folders to view meta information, or rename to \"exiftool.exe\" for command-line use. Runs on all versions of Windows."
   ]
  },
  {
   "cell_type": "markdown",
   "metadata": {},
   "source": [
    "Place exiftool program in a specified folder\n",
    "Run 'exiftool' in terminal\n",
    "Or drag and drop file into exiftool(-k) or whatever command you want"
   ]
  },
  {
   "cell_type": "code",
   "execution_count": null,
   "metadata": {},
   "outputs": [],
   "source": [
    "# in terminal, this will create a csv from the video\n",
    "exiftool -csv -createdate -modifydate MVI_0011.mp4 > out.csv"
   ]
  },
  {
   "cell_type": "code",
   "execution_count": null,
   "metadata": {},
   "outputs": [],
   "source": [
    "# to read multiple files just add the names\n",
    "exiftool -csv -createdate -modifydate MVI_0011.mp4 MVI_0012.mp4 > out.csv"
   ]
  },
  {
   "cell_type": "markdown",
   "metadata": {},
   "source": [
    "## Use terminal on each folder and extract mp4 metadata for the subject\n",
    "- A csv file will be created for each subject"
   ]
  },
  {
   "cell_type": "code",
   "execution_count": null,
   "metadata": {},
   "outputs": [],
   "source": [
    "# cisnwh8\n",
    "exiftool -csv -createdate -modifydate cisnwh8/cisnwh8_cycle1.MP4 cisnwh8/cisnwh8_cycle2.MP4 cisnwh8/cisnwh8_cycle3.MP4 cisnwh8/cisnwh8_cycle4.MP4 cisnwh8/cisnwh8_cycle5.MP4 cisnwh8/cisnwh8_cycle6.MP4 > cisnwh8.csv"
   ]
  },
  {
   "cell_type": "code",
   "execution_count": null,
   "metadata": {},
   "outputs": [],
   "source": [
    "# cisuabd4\n",
    "exiftool -csv -createdate -modifydate cisuabd4/cisuabd4_cycle1.MP4 cisuabd4/cisuabd4_cycle2.MP4 cisuabd4/cisuabd4_cycle3.MP4 cisuabd4/cisuabd4_cycle4.MP4 cisuabd4/cisuabd4_cycle5.MP4 cisuabd4/cisuabd4_cycle6.MP4 > cisuabd4.csv"
   ]
  },
  {
   "cell_type": "code",
   "execution_count": null,
   "metadata": {},
   "outputs": [],
   "source": [
    "# cisuabe5\n",
    "exiftool -csv -createdate -modifydate cisuabe5/cisuabe5_cycle1.MP4 cisuabe5/cisuabe5_cycle2.MP4 cisuabe5/cisuabe5_cycle3.MP4 cisuabe5/cisuabe5_cycle4.MP4 > cisuabe5.csv"
   ]
  },
  {
   "cell_type": "code",
   "execution_count": null,
   "metadata": {},
   "outputs": [],
   "source": [
    "# cisuabf6\n",
    "exiftool -csv -createdate -modifydate cisuabf6/cisuabf6_cycle1.MP4 cisuabf6/cisuabf6_cycle2.MP4 cisuabf6/cisuabf6_cycle3.MP4 cisuabf6/cisuabf6_cycle4.MP4  > cisuabf6.csv"
   ]
  },
  {
   "cell_type": "code",
   "execution_count": null,
   "metadata": {},
   "outputs": [],
   "source": [
    "# cisuabg7\n",
    "exiftool -csv -createdate -modifydate cisuabg7/cisuabg7_cycle1.MP4 cisuabg7/cisuabg7_cycle4.MP4 cisuabg7/cisuabg7_cycle6.MP4 > cisuabg7.csv"
   ]
  },
  {
   "cell_type": "code",
   "execution_count": null,
   "metadata": {},
   "outputs": [],
   "source": [
    "# cisnwe5\n",
    "exiftool -csv -createdate -modifydate cisnwe5/Cisnwe5_cycle4.MP4 > cisnwe5.csv"
   ]
  },
  {
   "cell_type": "code",
   "execution_count": null,
   "metadata": {},
   "outputs": [],
   "source": [
    "# ciscid4\n",
    "exiftool -csv -createdate -modifydate ciscid4/CISCID4_cycle2.mp4 ciscid4/CISCID4_cycle3.mp4 ciscid4/CISCID4_cycle4.mp4 ciscid4/CISCID4_cycle5.mp4 ciscid4/CISCID4_cycle6.mp4 > ciscid4.csv"
   ]
  },
  {
   "cell_type": "code",
   "execution_count": null,
   "metadata": {},
   "outputs": [],
   "source": [
    "# cisnwf6\n",
    "exiftool -csv -createdate -modifydate cisnwf6/Cisnwf6_cycle3.MP4 > cisnwf6.csv"
   ]
  },
  {
   "cell_type": "code",
   "execution_count": null,
   "metadata": {},
   "outputs": [],
   "source": [
    "# ciscih8\n",
    "exiftool -csv -createdate -modifydate ciscih8/CISCIH8_cycle1.mp4 ciscih8/CISCIH8_cycle2.mp4 ciscih8/CISCIH8_cycle3.mp4 ciscih8/CISCIH8_cycle4.mp4 ciscih8/CISCIH8_cycle5.mp4 ciscih8/CISCIH8_cycle6.mp4 > ciscih8.csv"
   ]
  },
  {
   "cell_type": "code",
   "execution_count": null,
   "metadata": {},
   "outputs": [],
   "source": [
    "# ciscij10\n",
    "exiftool -csv -createdate -modifydate ciscij10/CISCIJ10_cycle2.mp4 ciscij10/CISCIJ10_cycle3.mp4 ciscij10/CISCIJ10_cycle4.mp4 ciscij10/CISCIJ10_cycle5.mp4 ciscij10/CISCIJ10_cycle6.mp4 > ciscij10.csv"
   ]
  },
  {
   "cell_type": "code",
   "execution_count": null,
   "metadata": {},
   "outputs": [],
   "source": [
    "# cisrol12\n",
    "# this subject had mp4s for each activity\n",
    "exiftool -csv -createdate -modifydate cisrol12/cycle1_MVI_0032.mp4 cisrol12/cycle1_MVI_0033.mp4 cisrol12/cycle1_MVI_0034.mp4 cisrol12/cycle2_MVI_0035.mp4 cisrol12/cycle2_MVI_0036.mp4 cisrol12/cycle2_MVI_0037.mp4 cisrol12/cycle2_MVI_0038.mp4 cisrol12/cycle2_MVI_0039.mp4 cisrol12/cycle2_MVI_0042.mp4 cisrol12/cycle2_MVI_0043.mp4 cisrol12/cycle2_MVI_0044.mp4 cisrol12/cycle2_MVI_0045.mp4 cisrol12/cycle2_MVI_0046.mp4 cisrol12/cycle2_MVI_0047.mp4 cisrol12/cycle2_MVI_0048.mp4 cisrol12/cycle2_MVI_0049.mp4 cisrol12/cycle2_MVI_0050.mp4 cisrol12/cycle2_MVI_0051.mp4 cisrol12/cycle2_MVI_0052.mp4 cisrol12/cycle2_MVI_0053.mp4 cisrol12/cycle2_MVI_0054.mp4 cisrol12/cycle2_MVI_0055.mp4 cisrol12/cycle4_MVI_0075.mp4 cisrol12/cycle4_MVI_0076.mp4 cisrol12/cycle4_MVI_0078.mp4 cisrol12/cycle4_MVI_0079.mp4 cisrol12/cycle4_MVI_0080.mp4 cisrol12/cycle4_MVI_0081.mp4 cisrol12/cycle4_MVI_0082.mp4 cisrol12/cycle4_MVI_0083.mp4 cisrol12/cycle4_MVI_0084.mp4 cisrol12/cycle4_MVI_0085.mp4 cisrol12/cycle4_MVI_0086.mp4 cisrol12/cycle4_MVI_0089.mp4 cisrol12/cycle5_MVI_0095.mp4 cisrol12/cycle5_MVI_0096.mp4 cisrol12/cycle5_MVI_0097.mp4 cisrol12/cycle5_MVI_0098.mp4 cisrol12/cycle5_MVI_0100.mp4 cisrol12/cycle5_MVI_0101.mp4 cisrol12/cycle5_MVI_0102.mp4 cisrol12/cycle5_MVI_0106.mp4 > cisrol12.csv"
   ]
  },
  {
   "cell_type": "code",
   "execution_count": null,
   "metadata": {},
   "outputs": [],
   "source": [
    "#cisuabn14\n",
    "exiftool -csv -createdate -modifydate cisuabn14/cisuabn14_cycle2.MP4 cisuabn14/cisuabn14_cycle3.MP4 cisuabn14/cisuabn14_cycle4.MP4 cisuabn14/cisuabn14_cycle5.MP4 cisuabn14/cisuabn14_cycle6_part1.MP4 cisuabn14/cisuabn14_cycle6_part2.MP4 > cisuabn14.csv"
   ]
  },
  {
   "cell_type": "markdown",
   "metadata": {},
   "source": [
    "## Concatenate all csv files into one"
   ]
  },
  {
   "cell_type": "code",
   "execution_count": 252,
   "metadata": {},
   "outputs": [],
   "source": [
    "# create list of subjects\n",
    "names = ['cisnwh8','cisuabd4','cisuabe5','cisuabf6','cisuabg7','cisnwe5','ciscid4','cisnwf6','ciscih8',\n",
    "         'ciscij10','cisrol12','cisuabn14']\n",
    "\n",
    "# copy a list to create .csv file names\n",
    "filenames = names.copy()\n",
    "path = r'X:\\CIS-PD Videos\\timestamp'\n",
    "\n",
    "# for loop to create dataframes for each subject from each subject's csv file containing mp4 metadata\n",
    "for i, k in enumerate(names):\n",
    "    filenames[i] += '.csv'\n",
    "    names[i] = pd.read_csv(os.path.join(path,filenames[i]))\n",
    "    \n",
    "# concatenate dataframes for each subject containing timestamps\n",
    "result = pd.concat(names,ignore_index=True)"
   ]
  },
  {
   "cell_type": "markdown",
   "metadata": {},
   "source": [
    "## Clean dataframe\n",
    "- separate subjid and video name into 2 columns"
   ]
  },
  {
   "cell_type": "code",
   "execution_count": 237,
   "metadata": {},
   "outputs": [],
   "source": [
    "def textsplitter(string, sep='/'):\n",
    "    \"\"\"Take a string and keep text before specified character.\n",
    "    Default character is '/'.\n",
    "    \"\"\"\n",
    "    new_string = string.split(sep, 1)[0]\n",
    "    return new_string\n",
    "\n",
    "def reversetextsplitter(string, sep='/'):\n",
    "    \"\"\"Take a string and keep text after specified character.\n",
    "    Default character is '/'.\n",
    "    \"\"\"\n",
    "    new_string = string.split(sep, 1)[-1]\n",
    "    return new_string"
   ]
  },
  {
   "cell_type": "code",
   "execution_count": 253,
   "metadata": {},
   "outputs": [],
   "source": [
    "# create subjid column by removing videoname\n",
    "result['subjid'] = result['SourceFile'].apply(textsplitter)\n",
    "\n",
    "# create video name column by removing subjid\n",
    "result['SourceFile'] = result['SourceFile'].apply(reversetextsplitter)\n",
    "\n",
    "# change column name to specify video name\n",
    "result = result.rename(index=str, columns={'SourceFile':'videoname'})"
   ]
  },
  {
   "cell_type": "markdown",
   "metadata": {},
   "source": [
    "## Change create and modify date columns from type str to datetime then utc"
   ]
  },
  {
   "cell_type": "code",
   "execution_count": 203,
   "metadata": {},
   "outputs": [],
   "source": [
    "def str_to_utc(string):\n",
    "    \"\"\"Convert date time string to UTC timestamp in milliseconds\"\"\"\n",
    "    datetime1 = datetime.datetime.strptime(string, \"%Y:%m:%d %H:%M:%S\")\n",
    "    timeInSeconds = calendar.timegm(datetime1.utctimetuple())\n",
    "    timeInMillis = timeInSeconds * 1000\n",
    "    return timeInMillis"
   ]
  },
  {
   "cell_type": "code",
   "execution_count": 254,
   "metadata": {},
   "outputs": [],
   "source": [
    "# Add column: convert CreateDate to UTC\n",
    "result['UTC_create_date'] = result['CreateDate'].apply(str_to_utc)\n",
    "# Add column: convert ModifyDate to UTC\n",
    "result['UTC_modify_date'] = result['ModifyDate'].apply(str_to_utc)"
   ]
  },
  {
   "cell_type": "markdown",
   "metadata": {},
   "source": [
    "## Add cycle number column to result df"
   ]
  },
  {
   "cell_type": "code",
   "execution_count": 269,
   "metadata": {},
   "outputs": [],
   "source": [
    "# change cycle names for last subject to 6 and 7 for cycle 6 parts 1 and 2\n",
    "result['cycle'] = result.videoname.str.replace('6_part1', '6')\n",
    "result['cycle'] = result.cycle.str.replace('6_part2', '7')\n",
    "\n",
    "# create cycle number column by removing videoname\n",
    "result['cycle'] = result.cycle.apply(reversetextsplitter,sep='cycle')\n",
    "result['cycle'] = result.cycle.apply(textsplitter,sep='_')\n",
    "result['cycle'] = result.cycle.apply(textsplitter,sep='.')"
   ]
  },
  {
   "cell_type": "code",
   "execution_count": 274,
   "metadata": {},
   "outputs": [],
   "source": [
    "# save 'result' dataframe as .csv file containing all video names, create and modify date strings, \n",
    "# subject id, and UTC timestamps\n",
    "path = r'X:\\CIS-PD Videos\\timestamp'\n",
    "fname = 'video_utc_timestamp.csv'\n",
    "filename = os.path.join(path, fname)\n",
    "with open(filename,'wb') as f:\n",
    "    result.to_csv(filename, sep=',')"
   ]
  },
  {
   "cell_type": "markdown",
   "metadata": {},
   "source": [
    "# cross reference createtime with form watch shake time\n",
    "- some videos timestamps are off"
   ]
  },
  {
   "cell_type": "code",
   "execution_count": 4,
   "metadata": {},
   "outputs": [],
   "source": [
    "# Check watch time against video create time\n",
    "\n",
    "# Load data that contains watch time\n",
    "Labels = pd.read_hdf('//FS2.smpp.local\\RTO\\CIS-PD MUSC\\decoded_forms\\\\form509.h5')\n",
    "# Select SubjectCode and Q146_UTC columns\n",
    "watch_df = Labels[['SubjectCode','Q146_UTC']]"
   ]
  },
  {
   "cell_type": "code",
   "execution_count": 303,
   "metadata": {},
   "outputs": [
    {
     "data": {
      "text/plain": [
       "numpy.float64"
      ]
     },
     "execution_count": 303,
     "metadata": {},
     "output_type": "execute_result"
    }
   ],
   "source": [
    "type(watch_df.SubjectCode[0])"
   ]
  },
  {
   "cell_type": "code",
   "execution_count": 7,
   "metadata": {},
   "outputs": [
    {
     "name": "stdout",
     "output_type": "stream",
     "text": [
      "cisuabd4\n"
     ]
    }
   ],
   "source": [
    "# Get subject id or code\n",
    "path_id = r'X:\\CIS-PD MUSC\\decoded_forms'\n",
    "filename_id = os.path.join(path_id, 'videoID.csv') # ie. file = 'videoID.csv'\n",
    "subjid_df = pd.read_csv(filename_id)\n",
    "subjid_df.SubjectCode = subjid_df.SubjectCode.astype('int')\n",
    "# get subject id\n",
    "id_dict = subjid_df.set_index('SubjectCode').to_dict()['FoxInsightID']\n",
    "# get subject code\n",
    "reverse_id_dict = subjid_df.set_index('FoxInsightID').to_dict()['SubjectCode']\n",
    "\n",
    "# get subject id from dictionary\n",
    "id = id_dict.get(1003, 'Unknown')\n",
    "print(id)"
   ]
  },
  {
   "cell_type": "code",
   "execution_count": 329,
   "metadata": {},
   "outputs": [
    {
     "name": "stdout",
     "output_type": "stream",
     "text": [
      "1050\n"
     ]
    }
   ],
   "source": [
    "print(reverse_id_dict.get('cisuabn14','Unknown'))"
   ]
  },
  {
   "cell_type": "code",
   "execution_count": 330,
   "metadata": {},
   "outputs": [
    {
     "data": {
      "text/html": [
       "<div>\n",
       "<style scoped>\n",
       "    .dataframe tbody tr th:only-of-type {\n",
       "        vertical-align: middle;\n",
       "    }\n",
       "\n",
       "    .dataframe tbody tr th {\n",
       "        vertical-align: top;\n",
       "    }\n",
       "\n",
       "    .dataframe thead th {\n",
       "        text-align: right;\n",
       "    }\n",
       "</style>\n",
       "<table border=\"1\" class=\"dataframe\">\n",
       "  <thead>\n",
       "    <tr style=\"text-align: right;\">\n",
       "      <th></th>\n",
       "      <th>SubjectCode</th>\n",
       "      <th>Q146_UTC</th>\n",
       "    </tr>\n",
       "  </thead>\n",
       "  <tbody>\n",
       "    <tr>\n",
       "      <th>153</th>\n",
       "      <td>1050.0</td>\n",
       "      <td>2017-09-06 13:30:00</td>\n",
       "    </tr>\n",
       "    <tr>\n",
       "      <th>154</th>\n",
       "      <td>1050.0</td>\n",
       "      <td>2017-09-06 14:17:00</td>\n",
       "    </tr>\n",
       "    <tr>\n",
       "      <th>155</th>\n",
       "      <td>1050.0</td>\n",
       "      <td>2017-09-06 14:49:00</td>\n",
       "    </tr>\n",
       "    <tr>\n",
       "      <th>156</th>\n",
       "      <td>1050.0</td>\n",
       "      <td>2017-09-06 15:14:00</td>\n",
       "    </tr>\n",
       "    <tr>\n",
       "      <th>157</th>\n",
       "      <td>1050.0</td>\n",
       "      <td>2017-09-06 15:45:00</td>\n",
       "    </tr>\n",
       "    <tr>\n",
       "      <th>158</th>\n",
       "      <td>1050.0</td>\n",
       "      <td>2017-09-06 16:16:00</td>\n",
       "    </tr>\n",
       "    <tr>\n",
       "      <th>159</th>\n",
       "      <td>1050.0</td>\n",
       "      <td>2017-09-18 13:35:00</td>\n",
       "    </tr>\n",
       "  </tbody>\n",
       "</table>\n",
       "</div>"
      ],
      "text/plain": [
       "     SubjectCode            Q146_UTC\n",
       "153       1050.0 2017-09-06 13:30:00\n",
       "154       1050.0 2017-09-06 14:17:00\n",
       "155       1050.0 2017-09-06 14:49:00\n",
       "156       1050.0 2017-09-06 15:14:00\n",
       "157       1050.0 2017-09-06 15:45:00\n",
       "158       1050.0 2017-09-06 16:16:00\n",
       "159       1050.0 2017-09-18 13:35:00"
      ]
     },
     "execution_count": 330,
     "metadata": {},
     "output_type": "execute_result"
    }
   ],
   "source": [
    "watch_df.loc[watch_df.SubjectCode == 1050.0]"
   ]
  },
  {
   "cell_type": "markdown",
   "metadata": {},
   "source": [
    "Summary of data that is off\n",
    "- 1003 is off by 1 yr and 5 hours and some seconds, cycle 3 was off by an additional 9 min\n",
    "- 1030 is off by several seconds (usually around 30 sec)\n",
    "- 1005 is off by 1 yr 5 hrs and some seconds, cycle 2 is off by an additional 5 min\n",
    "- 1007 is off by 1 yr 5 hrs and some seconds\n",
    "- 1009 is off by 1 yr 5 hrs and some seconds\n",
    "- 1019 is off by 29.5 min\n",
    "- 1024 is off by 50 sec\n",
    "- 1048 cycle 1 3.5 hours off, cycle 2 missing, cycle 4 is 4 hrs off, cycle 5 is about 4 hrs off\n",
    "- 1050 is off by 1 yr, 5 hrs and some sec\n",
    "\n",
    "These videos we suspect editing, so Skip these subjects (ciscid4, ciscih8, ciccij10):\n",
    "- 1023 is off by 18 days, but the watch shaking time for all cycles the same\n",
    "- 1039 is off by 2 months, 13 days, and variable time but the watch shaking time for all cycles the same\n",
    "- 1043 is off by 2 months, 1 day, but  the watch shaking time for all cycles the same"
   ]
  },
  {
   "cell_type": "code",
   "execution_count": null,
   "metadata": {},
   "outputs": [],
   "source": [
    "ciscid4, ciscih8, ciccij10"
   ]
  },
  {
   "cell_type": "code",
   "execution_count": 210,
   "metadata": {},
   "outputs": [
    {
     "data": {
      "text/html": [
       "<div>\n",
       "<style scoped>\n",
       "    .dataframe tbody tr th:only-of-type {\n",
       "        vertical-align: middle;\n",
       "    }\n",
       "\n",
       "    .dataframe tbody tr th {\n",
       "        vertical-align: top;\n",
       "    }\n",
       "\n",
       "    .dataframe thead th {\n",
       "        text-align: right;\n",
       "    }\n",
       "</style>\n",
       "<table border=\"1\" class=\"dataframe\">\n",
       "  <thead>\n",
       "    <tr style=\"text-align: right;\">\n",
       "      <th></th>\n",
       "      <th>videoname</th>\n",
       "      <th>CreateDate</th>\n",
       "      <th>ModifyDate</th>\n",
       "      <th>subjid</th>\n",
       "      <th>UTC_create_date</th>\n",
       "      <th>UTC_modify_date</th>\n",
       "    </tr>\n",
       "  </thead>\n",
       "  <tbody>\n",
       "    <tr>\n",
       "      <th>0</th>\n",
       "      <td>cisnwh8_cycle1.MP4</td>\n",
       "      <td>2017:08:02 13:48:19</td>\n",
       "      <td>2017:08:02 13:48:19</td>\n",
       "      <td>cisnwh8</td>\n",
       "      <td>1501681699000</td>\n",
       "      <td>1501681699000</td>\n",
       "    </tr>\n",
       "    <tr>\n",
       "      <th>1</th>\n",
       "      <td>cisnwh8_cycle2.MP4</td>\n",
       "      <td>2017:08:02 14:31:51</td>\n",
       "      <td>2017:08:02 14:31:51</td>\n",
       "      <td>cisnwh8</td>\n",
       "      <td>1501684311000</td>\n",
       "      <td>1501684311000</td>\n",
       "    </tr>\n",
       "    <tr>\n",
       "      <th>2</th>\n",
       "      <td>cisnwh8_cycle3.MP4</td>\n",
       "      <td>2017:08:02 15:05:38</td>\n",
       "      <td>2017:08:02 15:05:38</td>\n",
       "      <td>cisnwh8</td>\n",
       "      <td>1501686338000</td>\n",
       "      <td>1501686338000</td>\n",
       "    </tr>\n",
       "    <tr>\n",
       "      <th>3</th>\n",
       "      <td>cisnwh8_cycle4.MP4</td>\n",
       "      <td>2017:08:02 15:33:43</td>\n",
       "      <td>2017:08:02 15:33:43</td>\n",
       "      <td>cisnwh8</td>\n",
       "      <td>1501688023000</td>\n",
       "      <td>1501688023000</td>\n",
       "    </tr>\n",
       "    <tr>\n",
       "      <th>4</th>\n",
       "      <td>cisnwh8_cycle5.MP4</td>\n",
       "      <td>2017:08:02 15:50:10</td>\n",
       "      <td>2017:08:02 15:50:10</td>\n",
       "      <td>cisnwh8</td>\n",
       "      <td>1501689010000</td>\n",
       "      <td>1501689010000</td>\n",
       "    </tr>\n",
       "  </tbody>\n",
       "</table>\n",
       "</div>"
      ],
      "text/plain": [
       "            videoname           CreateDate           ModifyDate   subjid  \\\n",
       "0  cisnwh8_cycle1.MP4  2017:08:02 13:48:19  2017:08:02 13:48:19  cisnwh8   \n",
       "1  cisnwh8_cycle2.MP4  2017:08:02 14:31:51  2017:08:02 14:31:51  cisnwh8   \n",
       "2  cisnwh8_cycle3.MP4  2017:08:02 15:05:38  2017:08:02 15:05:38  cisnwh8   \n",
       "3  cisnwh8_cycle4.MP4  2017:08:02 15:33:43  2017:08:02 15:33:43  cisnwh8   \n",
       "4  cisnwh8_cycle5.MP4  2017:08:02 15:50:10  2017:08:02 15:50:10  cisnwh8   \n",
       "\n",
       "   UTC_create_date  UTC_modify_date  \n",
       "0    1501681699000    1501681699000  \n",
       "1    1501684311000    1501684311000  \n",
       "2    1501686338000    1501686338000  \n",
       "3    1501688023000    1501688023000  \n",
       "4    1501689010000    1501689010000  "
      ]
     },
     "execution_count": 210,
     "metadata": {},
     "output_type": "execute_result"
    }
   ],
   "source": [
    "result.head(5)"
   ]
  },
  {
   "cell_type": "code",
   "execution_count": 8,
   "metadata": {},
   "outputs": [
    {
     "name": "stdout",
     "output_type": "stream",
     "text": [
      "cisuabd4 cisuabe5 cisuabf6 cisuabg7 cisuabn14\n"
     ]
    }
   ],
   "source": [
    "print(id_dict.get(1003, 'Unknown'), id_dict.get(1005, 'Unknown'), id_dict.get(1007, 'Unknown'), id_dict.get(1009, 'Unknown'),\n",
    "     id_dict.get(1050, 'Unknown'))"
   ]
  },
  {
   "cell_type": "code",
   "execution_count": 5,
   "metadata": {},
   "outputs": [
    {
     "name": "stdout",
     "output_type": "stream",
     "text": [
      "   SubjectCode            Q146_UTC\n",
      "0       1003.0 2017-07-03 15:35:00\n",
      "1       1003.0 2017-07-03 16:49:00\n",
      "2       1003.0 2017-07-03 17:09:00\n",
      "3       1003.0 2017-07-03 17:38:00\n",
      "4       1003.0 2017-07-03 18:14:00\n",
      "5       1003.0 2017-07-03 18:44:00\n",
      "6       1003.0 2017-07-24 15:20:05\n",
      "    SubjectCode            Q146_UTC\n",
      "14       1005.0 2017-07-03 13:53:00\n",
      "15       1005.0 2017-07-03 14:36:00\n",
      "16       1005.0 2017-07-03 15:00:00\n",
      "17       1005.0 2017-07-03 16:05:00\n",
      "18       1005.0                 NaT\n",
      "19       1005.0 2017-07-03 17:05:00\n",
      "20       1005.0                 NaT\n",
      "    SubjectCode            Q146_UTC\n",
      "21       1007.0 2017-07-07 14:24:00\n",
      "22       1007.0 2017-07-07 15:15:00\n",
      "23       1007.0 2017-07-07 15:49:45\n",
      "24       1007.0 2017-07-07 16:21:00\n",
      "25       1007.0                 NaT\n",
      "26       1007.0                 NaT\n",
      "    SubjectCode            Q146_UTC\n",
      "27       1009.0 2017-07-10 14:35:28\n",
      "28       1009.0 2017-07-10 15:22:34\n",
      "29       1009.0 2017-07-10 15:53:30\n",
      "30       1009.0 2017-07-10 16:23:00\n",
      "31       1009.0 2017-07-10 16:50:00\n",
      "32       1009.0 2017-07-10 17:19:00\n",
      "33       1009.0 2017-07-18 15:13:00\n",
      "     SubjectCode            Q146_UTC\n",
      "153       1050.0 2017-09-06 13:30:00\n",
      "154       1050.0 2017-09-06 14:17:00\n",
      "155       1050.0 2017-09-06 14:49:00\n",
      "156       1050.0 2017-09-06 15:14:00\n",
      "157       1050.0 2017-09-06 15:45:00\n",
      "158       1050.0 2017-09-06 16:16:00\n",
      "159       1050.0 2017-09-18 13:35:00\n"
     ]
    }
   ],
   "source": [
    "# Check watch vs video time for UAB subject: 1003, 1005, 1007, 1009, 1050\n",
    "\n",
    "# Print watch time\n",
    "print(watch_df.loc[watch_df.SubjectCode == 1003.0])\n",
    "print(watch_df.loc[watch_df.SubjectCode == 1005.0])\n",
    "print(watch_df.loc[watch_df.SubjectCode == 1007.0])\n",
    "print(watch_df.loc[watch_df.SubjectCode == 1009.0])\n",
    "print(watch_df.loc[watch_df.SubjectCode == 1050.0])\n",
    "\n",
    "# Watch timestamp is ahead of camera, so need to add 1 year and 5 hours to UAB UTC timestamps"
   ]
  },
  {
   "cell_type": "markdown",
   "metadata": {},
   "source": [
    "## Modify Nick's GUI to update start/end times to label data\n",
    "- Use SmartwatcchGUI-Joe.ipynb"
   ]
  },
  {
   "cell_type": "code",
   "execution_count": null,
   "metadata": {},
   "outputs": [],
   "source": []
  }
 ],
 "metadata": {
  "kernelspec": {
   "display_name": "Python 3",
   "language": "python",
   "name": "python3"
  },
  "language_info": {
   "codemirror_mode": {
    "name": "ipython",
    "version": 3
   },
   "file_extension": ".py",
   "mimetype": "text/x-python",
   "name": "python",
   "nbconvert_exporter": "python",
   "pygments_lexer": "ipython3",
   "version": "3.6.5"
  }
 },
 "nbformat": 4,
 "nbformat_minor": 2
}
