{
 "cells": [
  {
   "cell_type": "markdown",
   "metadata": {},
   "source": [
    "# Sync activity video clips with accelerometer data"
   ]
  },
  {
   "cell_type": "markdown",
   "metadata": {},
   "source": [
    "Project status:\n",
    "- COMPLETE: Get start times for videos using Python\n",
    "- COMPLETE: Use start/stop frame number and convert to UTC\n",
    "- IN PROGRESS: deal with cisrol12\n",
    "- Modify GUI function to use my start/stop times to label data for relevant subjects and cycles below"
   ]
  },
  {
   "cell_type": "markdown",
   "metadata": {},
   "source": [
    "Notes:\n",
    "- fps = 29.97 aka Video Frame Rate\n",
    "- 33.367 milliseconds per frame"
   ]
  },
  {
   "cell_type": "code",
   "execution_count": 163,
   "metadata": {},
   "outputs": [],
   "source": [
    "# Importing the Libraries\n",
    "import os\n",
    "import numpy as np\n",
    "import pandas as pd\n",
    "import seaborn as sns\n",
    "import matplotlib.pyplot as plt\n",
    "import re\n",
    "import datetime as dt\n",
    "from moviepy.video.io.ffmpeg_tools import ffmpeg_extract_subclip"
   ]
  },
  {
   "cell_type": "markdown",
   "metadata": {},
   "source": [
    "# Test case video clip to get timestamps\n"
   ]
  },
  {
   "cell_type": "markdown",
   "metadata": {},
   "source": [
    "## subject 1050\n",
    "id = 'cisuabn14'\n",
    "path = r'//FS2.smpp.local\\RTO\\CIS-PD Videos'\n",
    "subj_path = os.path.join(path,id)\n",
    "video_name = 'cisuabn14_cycle2.mp4'\n",
    "video_clip_path = os.path.join(subj_path,video_name)"
   ]
  },
  {
   "cell_type": "markdown",
   "metadata": {},
   "source": [
    "video_clip_path"
   ]
  },
  {
   "cell_type": "markdown",
   "metadata": {},
   "source": [
    "## these give my downloaded time not the actual time\n",
    "import os.path, time\n",
    "print(\"Last modified: %s\" % time.ctime(os.path.getmtime(video_clip_path)))\n",
    "print(\"Created: %s\" % time.ctime(os.path.getctime(video_clip_path)))"
   ]
  },
  {
   "cell_type": "markdown",
   "metadata": {},
   "source": [
    "# Load all sec_annotation.csv files for each subj, concatenate into 1 df"
   ]
  },
  {
   "cell_type": "code",
   "execution_count": 164,
   "metadata": {},
   "outputs": [],
   "source": [
    "# read in timestamp file with mp4 metadata\n",
    "path = r'X:\\CIS-PD Videos\\timestamp'\n",
    "filename = os.path.join(path, 'video_utc_timestamp.csv')\n",
    "timestamp_df = pd.read_csv(filename)\n",
    "timestamp_df = timestamp_df.drop(columns=['Unnamed: 0','videoname','CreateDate','ModifyDate','UTC_modify_date'])"
   ]
  },
  {
   "cell_type": "code",
   "execution_count": 165,
   "metadata": {},
   "outputs": [],
   "source": [
    "# list of subjects without ciscid4, ciscih8, ciccij10 due to it being edited multiple times\n",
    "\n",
    "# omitted cisrol12 as it doesn't have a sec_annotation file\n",
    "names_minus3 = ['cisnwh8','cisuabd4','cisuabe5','cisuabf6','cisuabg7','cisnwe5','cisnwf6','cisuabn14']\n",
    "\n",
    "# create empty list\n",
    "appended_data = []\n",
    "\n",
    "# create 1 dataframe from each subject's sec_annotation.csv file\n",
    "for i, k in enumerate(names_minus3):\n",
    "    path = r'X:\\CIS-PD Videos'\n",
    "    path_subj = os.path.join(path,k) \n",
    "    path_file = os.path.join(path_subj,'sec_annotation.csv')\n",
    "    data = pd.read_csv(path_file)\n",
    "    appended_data.append(data)\n",
    "    \n",
    "# concatenate list of dataframes\n",
    "appended_data = pd.concat(appended_data, ignore_index=True)\n",
    "appended_data = appended_data.drop(columns=['Unnamed: 0'])\n",
    "\n",
    "# combine subjid and cycle number column to create a key for merge\n",
    "# combine strings of both columns\n",
    "timestamp_df.cycle = timestamp_df.cycle.astype(str)\n",
    "timestamp_df.cycle = timestamp_df.subjid + timestamp_df.cycle\n",
    "# drop subjid column\n",
    "timestamp_df = timestamp_df.drop(columns=['subjid'])\n",
    "# change name of column\n",
    "timestamp_df = timestamp_df.rename(index=str,columns={'cycle':'subj_cycle'})"
   ]
  },
  {
   "cell_type": "code",
   "execution_count": 166,
   "metadata": {},
   "outputs": [],
   "source": [
    "# Combine subject code and cycle column to create a key for merge in appended_data dataframe that\n",
    "# has the activity clip frame annotations\n",
    "appended_data.cycle = appended_data.cycle.astype(str)\n",
    "appended_data['subj_cycle'] = appended_data['subject code'] + appended_data.cycle"
   ]
  },
  {
   "cell_type": "markdown",
   "metadata": {},
   "source": [
    "# Merge dataframes based on subj_cycle columns in both"
   ]
  },
  {
   "cell_type": "code",
   "execution_count": 167,
   "metadata": {},
   "outputs": [],
   "source": [
    "utc_df = pd.merge(timestamp_df, appended_data, on='subj_cycle',how='outer')"
   ]
  },
  {
   "cell_type": "markdown",
   "metadata": {},
   "source": [
    "# Transform start and stop frame with UTC create time"
   ]
  },
  {
   "cell_type": "code",
   "execution_count": 168,
   "metadata": {},
   "outputs": [],
   "source": [
    "utc_df['start_utc'] = utc_df['start frame']*33.367+utc_df.UTC_create_date\n",
    "utc_df['stop_utc'] = utc_df['stop frame']*33.367+utc_df.UTC_create_date"
   ]
  },
  {
   "cell_type": "markdown",
   "metadata": {},
   "source": [
    "# Adjust UAB site data by... 1yr 5 hrs\n",
    "- UAB subject: 1003, 1005, 1007, 1009, 1050\n",
    "- cisuabd4 cisuabe5 cisuabf6 cisuabg7 cisuabn14"
   ]
  },
  {
   "cell_type": "code",
   "execution_count": 169,
   "metadata": {},
   "outputs": [],
   "source": [
    "# millisecond conversions\n",
    "year = 31556952000\n",
    "fivehr = 18000000\n",
    "uab_convertor = year + fivehr"
   ]
  },
  {
   "cell_type": "code",
   "execution_count": 170,
   "metadata": {},
   "outputs": [],
   "source": [
    "# Add 1 year and 5 hrs to uab subjects\n",
    "uab_names = ('cisuabd4','cisuabe5','cisuabf6','cisuabg7','cisuabn14')\n",
    "for i, k in enumerate(uab_names):\n",
    "    utc_df.loc[utc_df['subject code'] == k, 'start_utc'] += uab_convertor\n",
    "    utc_df.loc[utc_df['subject code'] == k, 'stop_utc'] += uab_convertor"
   ]
  },
  {
   "cell_type": "markdown",
   "metadata": {},
   "source": [
    "# Combine NtsBts activity split into cycle 6 part 1 and 2 videos into 1 row"
   ]
  },
  {
   "cell_type": "code",
   "execution_count": 171,
   "metadata": {
    "scrolled": true
   },
   "outputs": [],
   "source": [
    "# combine rows 503 and 504\n",
    "utc_df.stop_utc[503] = utc_df.stop_utc[504]"
   ]
  },
  {
   "cell_type": "code",
   "execution_count": 172,
   "metadata": {},
   "outputs": [],
   "source": [
    "# drop row and reindex\n",
    "utc_df = utc_df.drop([504]).reset_index(drop=True)"
   ]
  },
  {
   "cell_type": "markdown",
   "metadata": {},
   "source": [
    "# Change cycle 7 to 6"
   ]
  },
  {
   "cell_type": "code",
   "execution_count": 173,
   "metadata": {},
   "outputs": [],
   "source": [
    "utc_df.loc[utc_df.cycle == '7', 'cycle'] = '6'"
   ]
  },
  {
   "cell_type": "markdown",
   "metadata": {},
   "source": [
    "# temp dataframe"
   ]
  },
  {
   "cell_type": "code",
   "execution_count": 174,
   "metadata": {},
   "outputs": [],
   "source": [
    "df = utc_df.copy()"
   ]
  },
  {
   "cell_type": "markdown",
   "metadata": {},
   "source": [
    "# Deal with cisrol12 (1048) separately\n",
    "- utc_df does NOT have cisrol12 data on it\n",
    "- Create separate script for cisrol12 since it doesn't have sec_annotation.csv"
   ]
  },
  {
   "cell_type": "code",
   "execution_count": 175,
   "metadata": {},
   "outputs": [],
   "source": [
    "def keeprightstring(string, sep='cisrol12'):\n",
    "    \"\"\"Take a string and keep text after specified character.\n",
    "    Default character is 'cisrol12'.\"\"\"\n",
    "    new_string = string.split(sep, 1)[-1]\n",
    "    return new_string"
   ]
  },
  {
   "cell_type": "code",
   "execution_count": 176,
   "metadata": {},
   "outputs": [],
   "source": [
    "# Add necessary data for cisrol12\n",
    "# subject code\n",
    "df.loc[df['subj_cycle'].str.contains('cisrol12'), 'subject code'] = 'cisrol12'\n",
    "# start frame\n",
    "df.loc[df['subj_cycle'].str.contains('cisrol12'), 'start frame'] = 0\n",
    "# start_utc = create time\n",
    "df.loc[df['subj_cycle'].str.contains('cisrol12'), 'start_utc'] = df.UTC_create_date\n",
    "# cycle\n",
    "df.loc[df['subj_cycle'].str.contains('cisrol12'), 'cycle'] = df.subj_cycle\n",
    "for i in range(391,433):\n",
    "    df.cycle[i] = keeprightstring(df.cycle[i])\n",
    "# SKIP start time\n",
    "# SKIP stop time"
   ]
  },
  {
   "cell_type": "markdown",
   "metadata": {},
   "source": [
    "# Test to get cycle number from subj_cycle"
   ]
  },
  {
   "cell_type": "code",
   "execution_count": 16,
   "metadata": {},
   "outputs": [
    {
     "data": {
      "text/plain": [
       "'cisrol121'"
      ]
     },
     "execution_count": 16,
     "metadata": {},
     "output_type": "execute_result"
    }
   ],
   "source": [
    "df['subj_cycle'][391] # - 'cisrol12'"
   ]
  },
  {
   "cell_type": "code",
   "execution_count": 17,
   "metadata": {},
   "outputs": [
    {
     "data": {
      "text/plain": [
       "'1'"
      ]
     },
     "execution_count": 17,
     "metadata": {},
     "output_type": "execute_result"
    }
   ],
   "source": [
    "df['subj_cycle'][391].replace('cisrol12','')"
   ]
  },
  {
   "cell_type": "markdown",
   "metadata": {},
   "source": [
    "# Add column containing 4 digit id\n",
    "- need to complete cisrol12 data first to add its 4 digit id\n",
    "- make sure to user 'df' dataframe"
   ]
  },
  {
   "cell_type": "code",
   "execution_count": 178,
   "metadata": {},
   "outputs": [],
   "source": [
    "# Get subject id or code\n",
    "path_id = r'X:\\CIS-PD MUSC\\decoded_forms'\n",
    "filename_id = os.path.join(path_id, 'videoID.csv') # ie. file = 'videoID.csv'\n",
    "subjid_df = pd.read_csv(filename_id)\n",
    "subjid_df.SubjectCode = subjid_df.SubjectCode.astype('int')\n",
    "# get 4 digit subject code\n",
    "reverse_id_dict = subjid_df.set_index('FoxInsightID').to_dict()['SubjectCode']"
   ]
  },
  {
   "cell_type": "code",
   "execution_count": 19,
   "metadata": {},
   "outputs": [
    {
     "data": {
      "text/plain": [
       "1048"
      ]
     },
     "execution_count": 19,
     "metadata": {},
     "output_type": "execute_result"
    }
   ],
   "source": [
    "# test\n",
    "reverse_id_dict.get('cisrol12', 'Unknown')"
   ]
  },
  {
   "cell_type": "code",
   "execution_count": 179,
   "metadata": {},
   "outputs": [],
   "source": [
    "df['subject_number'] = df['subject code']\n",
    "for i, k in enumerate(df.subject_number):\n",
    "    df['subject_number'][i] = reverse_id_dict.get(k,1048)"
   ]
  },
  {
   "cell_type": "code",
   "execution_count": 192,
   "metadata": {},
   "outputs": [
    {
     "data": {
      "text/html": [
       "<div>\n",
       "<style scoped>\n",
       "    .dataframe tbody tr th:only-of-type {\n",
       "        vertical-align: middle;\n",
       "    }\n",
       "\n",
       "    .dataframe tbody tr th {\n",
       "        vertical-align: top;\n",
       "    }\n",
       "\n",
       "    .dataframe thead th {\n",
       "        text-align: right;\n",
       "    }\n",
       "</style>\n",
       "<table border=\"1\" class=\"dataframe\">\n",
       "  <thead>\n",
       "    <tr style=\"text-align: right;\">\n",
       "      <th></th>\n",
       "      <th>UTC_create_date</th>\n",
       "      <th>subj_cycle</th>\n",
       "      <th>subject code</th>\n",
       "      <th>start frame</th>\n",
       "      <th>stop frame</th>\n",
       "      <th>activity</th>\n",
       "      <th>cycle</th>\n",
       "      <th>shortname</th>\n",
       "      <th>start time sec</th>\n",
       "      <th>stop time sec</th>\n",
       "      <th>start_utc</th>\n",
       "      <th>stop_utc</th>\n",
       "    </tr>\n",
       "    <tr>\n",
       "      <th>subject_number</th>\n",
       "      <th></th>\n",
       "      <th></th>\n",
       "      <th></th>\n",
       "      <th></th>\n",
       "      <th></th>\n",
       "      <th></th>\n",
       "      <th></th>\n",
       "      <th></th>\n",
       "      <th></th>\n",
       "      <th></th>\n",
       "      <th></th>\n",
       "      <th></th>\n",
       "    </tr>\n",
       "  </thead>\n",
       "  <tbody>\n",
       "    <tr>\n",
       "      <th>1003</th>\n",
       "      <td>90</td>\n",
       "      <td>90</td>\n",
       "      <td>90</td>\n",
       "      <td>90</td>\n",
       "      <td>90</td>\n",
       "      <td>90</td>\n",
       "      <td>90</td>\n",
       "      <td>90</td>\n",
       "      <td>90</td>\n",
       "      <td>90</td>\n",
       "      <td>90</td>\n",
       "      <td>90</td>\n",
       "    </tr>\n",
       "    <tr>\n",
       "      <th>1005</th>\n",
       "      <td>60</td>\n",
       "      <td>60</td>\n",
       "      <td>60</td>\n",
       "      <td>60</td>\n",
       "      <td>60</td>\n",
       "      <td>60</td>\n",
       "      <td>60</td>\n",
       "      <td>60</td>\n",
       "      <td>60</td>\n",
       "      <td>60</td>\n",
       "      <td>60</td>\n",
       "      <td>60</td>\n",
       "    </tr>\n",
       "    <tr>\n",
       "      <th>1007</th>\n",
       "      <td>60</td>\n",
       "      <td>60</td>\n",
       "      <td>60</td>\n",
       "      <td>60</td>\n",
       "      <td>60</td>\n",
       "      <td>60</td>\n",
       "      <td>60</td>\n",
       "      <td>60</td>\n",
       "      <td>60</td>\n",
       "      <td>60</td>\n",
       "      <td>60</td>\n",
       "      <td>60</td>\n",
       "    </tr>\n",
       "    <tr>\n",
       "      <th>1009</th>\n",
       "      <td>45</td>\n",
       "      <td>45</td>\n",
       "      <td>45</td>\n",
       "      <td>45</td>\n",
       "      <td>45</td>\n",
       "      <td>45</td>\n",
       "      <td>45</td>\n",
       "      <td>45</td>\n",
       "      <td>45</td>\n",
       "      <td>45</td>\n",
       "      <td>45</td>\n",
       "      <td>45</td>\n",
       "    </tr>\n",
       "    <tr>\n",
       "      <th>1019</th>\n",
       "      <td>15</td>\n",
       "      <td>15</td>\n",
       "      <td>15</td>\n",
       "      <td>15</td>\n",
       "      <td>15</td>\n",
       "      <td>15</td>\n",
       "      <td>15</td>\n",
       "      <td>15</td>\n",
       "      <td>15</td>\n",
       "      <td>15</td>\n",
       "      <td>15</td>\n",
       "      <td>15</td>\n",
       "    </tr>\n",
       "    <tr>\n",
       "      <th>1023</th>\n",
       "      <td>5</td>\n",
       "      <td>5</td>\n",
       "      <td>5</td>\n",
       "      <td>0</td>\n",
       "      <td>0</td>\n",
       "      <td>0</td>\n",
       "      <td>0</td>\n",
       "      <td>0</td>\n",
       "      <td>0</td>\n",
       "      <td>0</td>\n",
       "      <td>0</td>\n",
       "      <td>0</td>\n",
       "    </tr>\n",
       "    <tr>\n",
       "      <th>1024</th>\n",
       "      <td>15</td>\n",
       "      <td>15</td>\n",
       "      <td>15</td>\n",
       "      <td>15</td>\n",
       "      <td>15</td>\n",
       "      <td>15</td>\n",
       "      <td>15</td>\n",
       "      <td>15</td>\n",
       "      <td>15</td>\n",
       "      <td>15</td>\n",
       "      <td>15</td>\n",
       "      <td>15</td>\n",
       "    </tr>\n",
       "    <tr>\n",
       "      <th>1030</th>\n",
       "      <td>90</td>\n",
       "      <td>90</td>\n",
       "      <td>90</td>\n",
       "      <td>90</td>\n",
       "      <td>90</td>\n",
       "      <td>90</td>\n",
       "      <td>90</td>\n",
       "      <td>90</td>\n",
       "      <td>90</td>\n",
       "      <td>90</td>\n",
       "      <td>90</td>\n",
       "      <td>90</td>\n",
       "    </tr>\n",
       "    <tr>\n",
       "      <th>1039</th>\n",
       "      <td>6</td>\n",
       "      <td>6</td>\n",
       "      <td>6</td>\n",
       "      <td>0</td>\n",
       "      <td>0</td>\n",
       "      <td>0</td>\n",
       "      <td>0</td>\n",
       "      <td>0</td>\n",
       "      <td>0</td>\n",
       "      <td>0</td>\n",
       "      <td>0</td>\n",
       "      <td>0</td>\n",
       "    </tr>\n",
       "    <tr>\n",
       "      <th>1043</th>\n",
       "      <td>5</td>\n",
       "      <td>5</td>\n",
       "      <td>5</td>\n",
       "      <td>0</td>\n",
       "      <td>0</td>\n",
       "      <td>0</td>\n",
       "      <td>0</td>\n",
       "      <td>0</td>\n",
       "      <td>0</td>\n",
       "      <td>0</td>\n",
       "      <td>0</td>\n",
       "      <td>0</td>\n",
       "    </tr>\n",
       "    <tr>\n",
       "      <th>1048</th>\n",
       "      <td>42</td>\n",
       "      <td>42</td>\n",
       "      <td>42</td>\n",
       "      <td>42</td>\n",
       "      <td>0</td>\n",
       "      <td>0</td>\n",
       "      <td>42</td>\n",
       "      <td>0</td>\n",
       "      <td>0</td>\n",
       "      <td>0</td>\n",
       "      <td>42</td>\n",
       "      <td>0</td>\n",
       "    </tr>\n",
       "    <tr>\n",
       "      <th>1050</th>\n",
       "      <td>75</td>\n",
       "      <td>75</td>\n",
       "      <td>75</td>\n",
       "      <td>75</td>\n",
       "      <td>75</td>\n",
       "      <td>75</td>\n",
       "      <td>75</td>\n",
       "      <td>75</td>\n",
       "      <td>75</td>\n",
       "      <td>75</td>\n",
       "      <td>75</td>\n",
       "      <td>75</td>\n",
       "    </tr>\n",
       "  </tbody>\n",
       "</table>\n",
       "</div>"
      ],
      "text/plain": [
       "                UTC_create_date  subj_cycle  subject code  start frame  \\\n",
       "subject_number                                                           \n",
       "1003                         90          90            90           90   \n",
       "1005                         60          60            60           60   \n",
       "1007                         60          60            60           60   \n",
       "1009                         45          45            45           45   \n",
       "1019                         15          15            15           15   \n",
       "1023                          5           5             5            0   \n",
       "1024                         15          15            15           15   \n",
       "1030                         90          90            90           90   \n",
       "1039                          6           6             6            0   \n",
       "1043                          5           5             5            0   \n",
       "1048                         42          42            42           42   \n",
       "1050                         75          75            75           75   \n",
       "\n",
       "                stop frame  activity  cycle  shortname  start time sec  \\\n",
       "subject_number                                                           \n",
       "1003                    90        90     90         90              90   \n",
       "1005                    60        60     60         60              60   \n",
       "1007                    60        60     60         60              60   \n",
       "1009                    45        45     45         45              45   \n",
       "1019                    15        15     15         15              15   \n",
       "1023                     0         0      0          0               0   \n",
       "1024                    15        15     15         15              15   \n",
       "1030                    90        90     90         90              90   \n",
       "1039                     0         0      0          0               0   \n",
       "1043                     0         0      0          0               0   \n",
       "1048                     0         0     42          0               0   \n",
       "1050                    75        75     75         75              75   \n",
       "\n",
       "                stop time sec  start_utc  stop_utc  \n",
       "subject_number                                      \n",
       "1003                       90         90        90  \n",
       "1005                       60         60        60  \n",
       "1007                       60         60        60  \n",
       "1009                       45         45        45  \n",
       "1019                       15         15        15  \n",
       "1023                        0          0         0  \n",
       "1024                       15         15        15  \n",
       "1030                       90         90        90  \n",
       "1039                        0          0         0  \n",
       "1043                        0          0         0  \n",
       "1048                        0         42         0  \n",
       "1050                       75         75        75  "
      ]
     },
     "execution_count": 192,
     "metadata": {},
     "output_type": "execute_result"
    }
   ],
   "source": [
    "df.groupby('subject_number').count()\n",
    "# unknown is cisrol12"
   ]
  },
  {
   "cell_type": "markdown",
   "metadata": {},
   "source": [
    "# Adjust cycle for Nick's GUI"
   ]
  },
  {
   "cell_type": "code",
   "execution_count": 182,
   "metadata": {},
   "outputs": [],
   "source": [
    "# Change cycle dtype from str to integer\n",
    "df.cycle = pd.to_numeric(df.cycle, downcast='integer')"
   ]
  },
  {
   "cell_type": "code",
   "execution_count": 183,
   "metadata": {},
   "outputs": [],
   "source": [
    "# Start cycle 1 at 0 for GUI\n",
    "df.cycle += -1"
   ]
  },
  {
   "cell_type": "markdown",
   "metadata": {},
   "source": [
    "# Correct subject_number and subject code for 3 subjects\n",
    "- ciscid4, ciscih8, ciscij10"
   ]
  },
  {
   "cell_type": "code",
   "execution_count": 190,
   "metadata": {},
   "outputs": [],
   "source": [
    "df.loc[df['subj_cycle'].str.contains('ciscid4'), 'subject_number'] = 1023\n",
    "df.loc[df['subj_cycle'].str.contains('ciscih8'), 'subject_number'] = 1039\n",
    "df.loc[df['subj_cycle'].str.contains('ciscij10'), 'subject_number'] = 1043\n",
    "\n",
    "df.loc[df['subject_number']==1023, 'subject code'] = 'ciscid4'\n",
    "df.loc[df['subject_number']==1039, 'subject code'] = 'ciscih8'\n",
    "df.loc[df['subject_number']==1043, 'subject code'] = 'ciscij10'"
   ]
  },
  {
   "cell_type": "markdown",
   "metadata": {},
   "source": [
    "# Fix Drinking activity label with full name\n",
    "'Taking a glass of water and drinking'"
   ]
  },
  {
   "cell_type": "code",
   "execution_count": 197,
   "metadata": {},
   "outputs": [],
   "source": [
    "df.loc[df['shortname']=='Drnkg', 'activity'] = 'Taking a glass of water and drinking'"
   ]
  },
  {
   "cell_type": "code",
   "execution_count": null,
   "metadata": {},
   "outputs": [],
   "source": [
    "# check label\n",
    "df.loc[df['shortname']=='Drnkg']"
   ]
  },
  {
   "cell_type": "markdown",
   "metadata": {},
   "source": [
    "# Add cisrol12 missing data"
   ]
  },
  {
   "cell_type": "code",
   "execution_count": 199,
   "metadata": {},
   "outputs": [],
   "source": [
    "# missing data\n",
    "\n",
    "# shortname list\n",
    "shortname = (\n",
    "# cisrol12 cycle 0 (cycle 1 folder)\n",
    "'Fldg_trial1', 'Fldg_trial2', 'Sitng',\n",
    "# cisrol12 cycle 1 (cycle 2 folder)\n",
    "'none','none',\n",
    "'Stndg', 'Wlkg', 'WlkgCnt', 'FtnR', 'FtnL', \n",
    "'RamR', 'RamL', 'SitStand', 'Drwg', 'Typg', 'NtsBts',\n",
    "'none',\n",
    "'Drnkg', 'Sheets_trial1', 'Sheets_trial2',\n",
    "'Fldg', 'Sitng',\n",
    "# cycle 2 empty (cycle 3) not included\n",
    "# cisrol12 cycle 3 (cycle 4 folder)\n",
    "'none',\n",
    "'Stndg', 'FtnR', 'FtnL', 'RamR', 'RamL', \n",
    "'SitStand', 'Drwg', 'Typg', 'NtsBts','Drnkg','Sitng',\n",
    "# cisrol12 cycle 4 (cycle 5 folder)\n",
    "'FtnL', 'RamR', 'RamL', 'SitStand', 'Drwg', 'Typg', 'NtsBts', 'Sitng'\n",
    ")\n",
    "\n",
    "# end frame\n",
    "stopframe = (585,1288,1033,\n",
    "0, 0,# shaking for video 35 and 36\n",
    "1048,1063,988,988,1228,1333,538,403,1438,988,973,\n",
    "253, # nothing for video 50\n",
    "1363,1048,1258,2158,1048,\n",
    "# omitted for cycle 3\n",
    "0, # shaking for 75\n",
    "1453,913,958,1198,523,403,988,973,1093,1348,1258,\n",
    "958,703,583,403,988,943,958,1003)\n",
    "\n",
    "# add shortname\n",
    "df.loc[df['subject code']=='cisrol12', 'shortname'] = shortname\n",
    "# add end frame\n",
    "df.loc[df['subject code']=='cisrol12', 'stop frame'] = stopframe\n",
    "\n",
    "# Delete 'none' Shortnames (should be 4 rows) to get rid of Shaking rows\n",
    "df.drop(df[df.shortname == 'none'].index, inplace=True)\n",
    "\n",
    "# Recreate stop_utc column which will update cisrol12 data\n",
    "df.loc[df['subject code']=='cisrol12', 'stop_utc'] = df['stop frame']*33.367+df.UTC_create_date\n",
    "#df['stop_utc'] = df['stop frame']*33.367+df.UTC_create_date\n",
    "\n",
    "# add start and stop time 0 / empty value\n",
    "df.loc[df['subject code']=='cisrol12', 'start time sec'] = 0\n",
    "df.loc[df['subject code']=='cisrol12', 'stop time sec'] = 0\n",
    "\n",
    "# drop \n",
    "df.drop(df[df.shortname == 'none'].index, inplace=True)\n",
    "\n",
    "# combine rows: Fldg_trial1 and Fldg_trial2 timestamps in cycle 1\n",
    "df.stop_utc[391] = df.stop_utc[392]\n",
    "# combine rows: Sheets_trial1 and Sheets_trial2 timestamps in cycle 2\n",
    "df.stop_utc[409] = df.stop_utc[410]\n",
    "# drop row and reindex\n",
    "df = df.drop([392, 410]).reset_index(drop=True)\n",
    "# change activity short name\n",
    "df.iloc[391,7] = 'Fldg'\n",
    "df.iloc[405,7] = 'Sheets'\n",
    "\n",
    "# create full activity name\n",
    "key = ['Stndg', 'Wlkg', 'WlkgCnt', 'FtnR', 'FtnL', 'RamR', 'RamL', 'SitStand', \n",
    "                  'Drwg', 'Typg', 'NtsBts', 'Drnkg', 'Sheets', 'Fldg', 'Sitng']\n",
    "value = ['Standing','Walking','Walking while counting','Finger to nose--right hand',\n",
    "        'Finger to nose--left hand','Alternating right hand movements',\n",
    "        'Alternating left hand movements','Sit to stand','Drawing on a paper',\n",
    "        'Typing on a computer keyboard','Assembling nuts and bolts',\n",
    "        'Taking a glass of water and drinking','Organizing sheets in a folder',\n",
    "        'Folding towels','Sitting']\n",
    "name_dict = dict(zip(key,value))\n",
    "df.loc[df['subject code']=='cisrol12', 'activity'] = df['shortname'].map(name_dict)"
   ]
  },
  {
   "cell_type": "code",
   "execution_count": null,
   "metadata": {},
   "outputs": [],
   "source": [
    "# check cisrol12\n",
    "df.loc[df['subject code']=='cisrol12']"
   ]
  },
  {
   "cell_type": "markdown",
   "metadata": {},
   "source": [
    "# Save df as csv file"
   ]
  },
  {
   "cell_type": "code",
   "execution_count": 201,
   "metadata": {},
   "outputs": [],
   "source": [
    "# datat set has missing data for ciscid4, ciscih8, ciscij10\n",
    "path = r'//FS2.smpp.local\\RTO\\CIS-PD Videos\\timestamp'\n",
    "fname = 'GUI_timestamp.csv'\n",
    "filename = os.path.join(path, fname)\n",
    "with open(filename,'wb') as f:\n",
    "    df.to_csv(filename, sep=',')"
   ]
  },
  {
   "cell_type": "code",
   "execution_count": 202,
   "metadata": {},
   "outputs": [
    {
     "data": {
      "text/plain": [
       "(502, 13)"
      ]
     },
     "execution_count": 202,
     "metadata": {},
     "output_type": "execute_result"
    }
   ],
   "source": [
    "df.shape"
   ]
  },
  {
   "cell_type": "markdown",
   "metadata": {},
   "source": [
    "# Drop NaN for 3 subjects\n",
    "- df_minus3 is a temporary df"
   ]
  },
  {
   "cell_type": "code",
   "execution_count": 39,
   "metadata": {},
   "outputs": [],
   "source": [
    "df_minus3 = df.dropna()"
   ]
  },
  {
   "cell_type": "code",
   "execution_count": 40,
   "metadata": {},
   "outputs": [
    {
     "name": "stdout",
     "output_type": "stream",
     "text": [
      "(450, 13)\n"
     ]
    }
   ],
   "source": [
    "print(df_minus3.shape)"
   ]
  },
  {
   "cell_type": "code",
   "execution_count": 45,
   "metadata": {},
   "outputs": [],
   "source": [
    "df_minus3 = df_minus3.reset_index(drop=True)"
   ]
  },
  {
   "cell_type": "markdown",
   "metadata": {},
   "source": [
    "# Subjects 1030, 1019, and 1024 UTC timestamps were not adjusted for any offset from watch timestamp."
   ]
  },
  {
   "cell_type": "markdown",
   "metadata": {},
   "source": [
    "# Combine cisuabn14 cycle 6 part 1 and 2 ntsbts video"
   ]
  },
  {
   "cell_type": "code",
   "execution_count": null,
   "metadata": {},
   "outputs": [],
   "source": [
    "# option 1\n",
    "ffmpeg -i input1.mp4 -c copy -bsf:v h264_mp4toannexb -f mpegts intermediate1.ts\n",
    "ffmpeg -i input2.mp4 -c copy -bsf:v h264_mp4toannexb -f mpegts intermediate2.ts\n",
    "ffmpeg -i \"concat:intermediate1.ts|intermediate2.ts\" -c copy -bsf:a aac_adtstoasc output.mp4"
   ]
  },
  {
   "cell_type": "code",
   "execution_count": 58,
   "metadata": {},
   "outputs": [
    {
     "name": "stdout",
     "output_type": "stream",
     "text": [
      "Imageio: 'ffmpeg-win32-v3.2.4.exe' was not found on your computer; downloading it now.\n",
      "Try 1. Download from https://github.com/imageio/imageio-binaries/raw/master/ffmpeg/ffmpeg-win32-v3.2.4.exe (34.1 MB)\n",
      "Downloading: 8192/35749888 bytes (0.0548864/35749888 bytes (1.5892928/35749888 bytes (2.51204224/35749888 bytes (3.4%1728512/35749888 bytes (4.8%2064384/35749888 bytes (5.8%2457600/35749888 bytes (6.9%2957312/35749888 bytes (8.3%3465216/35749888 bytes (9.7%3899392/35749888 bytes (10.94423680/35749888 bytes (12.44849664/35749888 bytes (13.65275648/35749888 bytes (14.85677056/35749888 bytes (15.96201344/35749888 bytes (17.36791168/35749888 bytes (19.07208960/35749888 bytes (20.27733248/35749888 bytes (21.68241152/35749888 bytes (23.18667136/35749888 bytes (24.29191424/35749888 bytes (25.79830400/35749888 bytes (27.510264576/35749888 bytes (28.7%10641408/35749888 bytes (29.8%11108352/35749888 bytes (31.1%11476992/35749888 bytes (32.1%11870208/35749888 bytes (33.2%12304384/35749888 bytes (34.4%12697600/35749888 bytes (35.5%13123584/35749888 bytes (36.7%13549568/35749888 bytes (37.9%14123008/35749888 bytes (39.5%14745600/35749888 bytes (41.2%15196160/35749888 bytes (42.5%15851520/35749888 bytes (44.3%16343040/35749888 bytes (45.7%16826368/35749888 bytes (47.1%17317888/35749888 bytes (48.4%17850368/35749888 bytes (49.9%18292736/35749888 bytes (51.2%18915328/35749888 bytes (52.9%19480576/35749888 bytes (54.5%20103168/35749888 bytes (56.2%20463616/35749888 bytes (57.2%20979712/35749888 bytes (58.7%21446656/35749888 bytes (60.0%21962752/35749888 bytes (61.4%22470656/35749888 bytes (62.9%22986752/35749888 bytes (64.3%23412736/35749888 bytes (65.5%23814144/35749888 bytes (66.6%24150016/35749888 bytes (67.6%24764416/35749888 bytes (69.3%25223168/35749888 bytes (70.6%25616384/35749888 bytes (71.7%26157056/35749888 bytes (73.2%26681344/35749888 bytes (74.6%27140096/35749888 bytes (75.9%27631616/35749888 bytes (77.3%28139520/35749888 bytes (78.7%28508160/35749888 bytes (79.7%29016064/35749888 bytes (81.2%29409280/35749888 bytes (82.3%29753344/35749888 bytes (83.2%30203904/35749888 bytes (84.5%30736384/35749888 bytes (86.0%31154176/35749888 bytes (87.1%31522816/35749888 bytes (88.2%31989760/35749888 bytes (89.5%32342016/35749888 bytes (90.5%32677888/35749888 bytes (91.4%33005568/35749888 bytes (92.3%33275904/35749888 bytes (93.1%33701888/35749888 bytes (94.3%34234368/35749888 bytes (95.8%34725888/35749888 bytes (97.1%35266560/35749888 bytes (98.6%35708928/35749888 bytes (99.9%35749888/35749888 bytes (100.0%)\n",
      "  Done\n",
      "File saved as C:\\Users\\lu-rt&o\\AppData\\Local\\imageio\\ffmpeg\\ffmpeg-win32-v3.2.4.exe.\n",
      "[MoviePy] >>>> Building video //FS2.smpp.local\\RTO\\CIS-PD Videos\\cisuabn14\\cycle6_part1\\NtsBts.mp4\n",
      "[MoviePy] Writing audio in NtsBtsTEMP_MPY_wvf_snd.mp3\n"
     ]
    },
    {
     "name": "stderr",
     "output_type": "stream",
     "text": [
      "100%|███████████████████████████████████████████████████████████████████████████████| 728/728 [00:03<00:00, 184.72it/s]\n"
     ]
    },
    {
     "name": "stdout",
     "output_type": "stream",
     "text": [
      "[MoviePy] Done.\n",
      "[MoviePy] Writing video //FS2.smpp.local\\RTO\\CIS-PD Videos\\cisuabn14\\cycle6_part1\\NtsBts.mp4\n"
     ]
    },
    {
     "name": "stderr",
     "output_type": "stream",
     "text": [
      "100%|████████████████████████████████████████████████████████████████████████████████| 990/990 [00:35<00:00, 27.81it/s]\n"
     ]
    },
    {
     "name": "stdout",
     "output_type": "stream",
     "text": [
      "[MoviePy] Done.\n",
      "[MoviePy] >>>> Video ready: //FS2.smpp.local\\RTO\\CIS-PD Videos\\cisuabn14\\cycle6_part1\\NtsBts.mp4 \n",
      "\n"
     ]
    }
   ],
   "source": [
    "# option 2 - Worked\n",
    "from moviepy.editor import VideoFileClip, concatenate_videoclips\n",
    "path_video1 = r'//FS2.smpp.local\\RTO\\CIS-PD Videos\\cisuabn14\\cycle6_part1'\n",
    "videoname1 = os.path.join(path_video1, 'NtsBts_part1.mp4')\n",
    "path_video2 = r'//FS2.smpp.local\\RTO\\CIS-PD Videos\\cisuabn14\\cycle6_part2'\n",
    "videoname2 = os.path.join(path_video2, 'NtsBts_part2.mp4')\n",
    "\n",
    "clip1 = VideoFileClip(videoname1)\n",
    "clip2 = VideoFileClip(videoname2)#.subclip(50,60)\n",
    "final_clip = concatenate_videoclips([clip1,clip2])\n",
    "path_video3 = r'//FS2.smpp.local\\RTO\\CIS-PD Videos\\cisuabn14\\cycle6_part1'\n",
    "videoname_final = os.path.join(path_video3, 'NtsBts.mp4')\n",
    "final_clip.write_videofile(videoname_final)"
   ]
  },
  {
   "cell_type": "markdown",
   "metadata": {},
   "source": [
    "# Combine Fldg_trial1 and Fldg_trial2 videos for cisrol12 cycle 1"
   ]
  },
  {
   "cell_type": "code",
   "execution_count": 127,
   "metadata": {},
   "outputs": [
    {
     "name": "stdout",
     "output_type": "stream",
     "text": [
      "[MoviePy] >>>> Building video //FS2.smpp.local\\RTO\\CIS-PD Videos\\cisrol12\\cycle1\\Fldg.mp4\n",
      "[MoviePy] Writing audio in FldgTEMP_MPY_wvf_snd.mp3\n"
     ]
    },
    {
     "name": "stderr",
     "output_type": "stream",
     "text": [
      "100%|█████████████████████████████████████████████████████████████████████████████| 1380/1380 [00:07<00:00, 186.20it/s]\n"
     ]
    },
    {
     "name": "stdout",
     "output_type": "stream",
     "text": [
      "[MoviePy] Done.\n",
      "[MoviePy] Writing video //FS2.smpp.local\\RTO\\CIS-PD Videos\\cisrol12\\cycle1\\Fldg.mp4\n"
     ]
    },
    {
     "name": "stderr",
     "output_type": "stream",
     "text": [
      "100%|██████████████████████████████████████████████████████████████████████████████| 1875/1875 [01:13<00:00, 25.41it/s]\n"
     ]
    },
    {
     "name": "stdout",
     "output_type": "stream",
     "text": [
      "[MoviePy] Done.\n",
      "[MoviePy] >>>> Video ready: //FS2.smpp.local\\RTO\\CIS-PD Videos\\cisrol12\\cycle1\\Fldg.mp4 \n",
      "\n"
     ]
    }
   ],
   "source": [
    "path_video1 = r'//FS2.smpp.local\\RTO\\CIS-PD Videos\\cisrol12\\cycle1'\n",
    "videoname1 = os.path.join(path_video1, 'Fldg_trial1.mp4')\n",
    "path_video2 = r'//FS2.smpp.local\\RTO\\CIS-PD Videos\\cisrol12\\cycle1'\n",
    "videoname2 = os.path.join(path_video2, 'Fldg_trial2.mp4')\n",
    "\n",
    "clip1 = VideoFileClip(videoname1)\n",
    "clip2 = VideoFileClip(videoname2)#.subclip(50,60)\n",
    "final_clip = concatenate_videoclips([clip1,clip2])\n",
    "path_video3 = r'//FS2.smpp.local\\RTO\\CIS-PD Videos\\cisrol12\\cycle1'\n",
    "videoname_final = os.path.join(path_video3, 'Fldg.mp4')\n",
    "final_clip.write_videofile(videoname_final)"
   ]
  },
  {
   "cell_type": "markdown",
   "metadata": {},
   "source": [
    "# Combine Sheets_trial1 and Sheets_trial2 videos for cisrol12 cycle 2"
   ]
  },
  {
   "cell_type": "code",
   "execution_count": 128,
   "metadata": {},
   "outputs": [
    {
     "name": "stdout",
     "output_type": "stream",
     "text": [
      "[MoviePy] >>>> Building video //FS2.smpp.local\\RTO\\CIS-PD Videos\\cisrol12\\cycle2\\Sheets.mp4\n",
      "[MoviePy] Writing audio in SheetsTEMP_MPY_wvf_snd.mp3\n"
     ]
    },
    {
     "name": "stderr",
     "output_type": "stream",
     "text": [
      "100%|█████████████████████████████████████████████████████████████████████████████| 1700/1700 [00:09<00:00, 176.44it/s]\n"
     ]
    },
    {
     "name": "stdout",
     "output_type": "stream",
     "text": [
      "[MoviePy] Done.\n",
      "[MoviePy] Writing video //FS2.smpp.local\\RTO\\CIS-PD Videos\\cisrol12\\cycle2\\Sheets.mp4\n"
     ]
    },
    {
     "name": "stderr",
     "output_type": "stream",
     "text": [
      "100%|██████████████████████████████████████████████████████████████████████████████| 2311/2311 [01:27<00:00, 26.32it/s]\n"
     ]
    },
    {
     "name": "stdout",
     "output_type": "stream",
     "text": [
      "[MoviePy] Done.\n",
      "[MoviePy] >>>> Video ready: //FS2.smpp.local\\RTO\\CIS-PD Videos\\cisrol12\\cycle2\\Sheets.mp4 \n",
      "\n"
     ]
    }
   ],
   "source": [
    "path_video1 = r'//FS2.smpp.local\\RTO\\CIS-PD Videos\\cisrol12\\cycle2'\n",
    "videoname1 = os.path.join(path_video1, 'Sheets_trial1.mp4')\n",
    "path_video2 = r'//FS2.smpp.local\\RTO\\CIS-PD Videos\\cisrol12\\cycle2'\n",
    "videoname2 = os.path.join(path_video2, 'Sheets_trial2.mp4')\n",
    "\n",
    "clip1 = VideoFileClip(videoname1)\n",
    "clip2 = VideoFileClip(videoname2)#.subclip(50,60)\n",
    "final_clip = concatenate_videoclips([clip1,clip2])\n",
    "path_video3 = r'//FS2.smpp.local\\RTO\\CIS-PD Videos\\cisrol12\\cycle2'\n",
    "videoname_final = os.path.join(path_video3, 'Sheets.mp4')\n",
    "final_clip.write_videofile(videoname_final)"
   ]
  },
  {
   "cell_type": "markdown",
   "metadata": {},
   "source": [
    "# Reference info"
   ]
  },
  {
   "cell_type": "markdown",
   "metadata": {},
   "source": [
    "Project status\n",
    "\n",
    "Completed\n",
    "1019\n",
    "\n",
    "In progress\n",
    "1003 (cycle 0-5 / time 0,30,60,90,120,150) offset -21800\n",
    "- Error: saved Standing, Walking, Walk with count to cycle 2. Can I just save over in this situation?\n",
    "- Not clear on stand, walk, and walk with count in cycle 1\n",
    "1005 (cycle 0-3 / time 0,30,60,90) offset -20420\n",
    "- Error: saved first cycle under '2 Weeks: Time 90' with offset -20929.32926742833\n",
    "1007 (cycle 0-3/ time 0,30,60,90) offset -21940.197417575815\n",
    "- unclear on activities\n",
    "1009 (cycle 0,3,5 / time 0,90,150)\n",
    "- offset -19000 doesn't look right\n",
    "1023 - skip UAB\n",
    "1024 (cycle 2 / time 60)\n",
    "- no offset, but walk vs walk and count not very clear\n",
    "1038 ???\n",
    "1039 - skip UAB\n",
    "1043 - skip UAB\n",
    "1048 - skip cisrol12\n",
    "1050 (cycle 1-5 / time 30,60,90,120,150) offset -20800\n",
    "- unclear on activities\n"
   ]
  },
  {
   "cell_type": "markdown",
   "metadata": {},
   "source": [
    "Steps to complete annotation:\n",
    "Load GUI\n",
    "Set subj number\n",
    "Set time: 90\n",
    "Activity: Standing\n",
    "Look for standing and walking activities\n",
    "Set offset\n",
    "Check start/stop, adjust\n",
    "Save Data\n",
    "Next Task - don't modify NtsBts activity\n",
    "\n",
    "Note on cycle/time\n",
    "cycle 0 / time 0\n",
    "cycle 1 / time 30\n",
    "cycle 2 / time 60\n",
    "cycle 3 / time 90\n",
    "cycle 4 / time 120"
   ]
  },
  {
   "cell_type": "markdown",
   "metadata": {},
   "source": [
    "Summary of data that is off\n",
    "- 1003 is off by 1 yr and 5 hours and some seconds, cycle 3 was off by an additional 9 min\n",
    "- 1030 is off by several seconds (usually around 30 sec)\n",
    "- 1005 is off by 1 yr 5 hrs and some seconds, cycle 2 is off by an additional 5 min\n",
    "- 1007 is off by 1 yr 5 hrs and some seconds\n",
    "- 1009 is off by 1 yr 5 hrs and some seconds\n",
    "- 1019 is off by 29.5 min\n",
    "- 1024 is off by 50 sec\n",
    "- 1048 cycle 1 3.5 hours off, cycle 2 missing, cycle 4 is 4 hrs off, cycle 5 is about 4 hrs off\n",
    "- 1050 is off by 1 yr, 5 hrs and some sec\n",
    "\n",
    "These videos we suspect editing, so Skip these subjects (ciscid4, ciscih8, ciccij10):\n",
    "- 1023 is off by 18 days, but the watch shaking time for all cycles the same\n",
    "- 1039 is off by 2 months, 13 days, and variable time but the watch shaking time for all cycles the same\n",
    "- 1043 is off by 2 months, 1 day, but  the watch shaking time for all cycles the same"
   ]
  },
  {
   "cell_type": "code",
   "execution_count": null,
   "metadata": {},
   "outputs": [],
   "source": []
  }
 ],
 "metadata": {
  "kernelspec": {
   "display_name": "Python 3",
   "language": "python",
   "name": "python3"
  },
  "language_info": {
   "codemirror_mode": {
    "name": "ipython",
    "version": 3
   },
   "file_extension": ".py",
   "mimetype": "text/x-python",
   "name": "python",
   "nbconvert_exporter": "python",
   "pygments_lexer": "ipython3",
   "version": "3.6.5"
  }
 },
 "nbformat": 4,
 "nbformat_minor": 2
}
