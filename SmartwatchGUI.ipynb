{
 "cells": [
  {
   "cell_type": "code",
   "execution_count": 1,
   "metadata": {},
   "outputs": [
    {
     "name": "stderr",
     "output_type": "stream",
     "text": [
      "C:\\Users\\nshawen\\AppData\\Local\\Continuum\\anaconda3\\lib\\site-packages\\h5py\\__init__.py:36: FutureWarning: Conversion of the second argument of issubdtype from `float` to `np.floating` is deprecated. In future, it will be treated as `np.float64 == np.dtype(float).type`.\n",
      "  from ._conv import register_converters as _register_converters\n"
     ]
    }
   ],
   "source": [
    "from PyQt5 import QtGui\n",
    "import pyqtgraph as pg\n",
    "import pandas as pd\n",
    "import numpy as np"
   ]
  },
  {
   "cell_type": "code",
   "execution_count": 2,
   "metadata": {},
   "outputs": [],
   "source": [
    "## Always start by initializing Qt (only once per application)\n",
    "app = QtGui.QApplication([])"
   ]
  },
  {
   "cell_type": "code",
   "execution_count": 5,
   "metadata": {},
   "outputs": [],
   "source": [
    "class AccViewer(QtGui.QDialog):\n",
    "    def __init__(self, parent=None):\n",
    "        super(AccViewer,self).__init__(parent)\n",
    "        \n",
    "        self.WindowRange = 10 # time (s) to add to both sides of acc signal\n",
    "        \n",
    "        ## Load timestamp data\n",
    "        Labels = pd.read_hdf('//FS2.smpp.local\\RTO\\CIS-PD MUSC\\decoded_forms\\\\form509.h5')\n",
    "        Questions = pd.read_sas('//FS2.smpp.local\\RTO\\CIS-PD MUSC\\datadictionary.sas7bdat')\n",
    "        Questions = Questions[Questions.zFormID == 509.0]\n",
    "        Questions = Questions.drop(columns = list(set(Questions.columns)-set(['zFieldNm','zFieldNb'])))\n",
    "        Questions.zFieldNm = Questions.zFieldNm.apply(\n",
    "            lambda x: x.replace(b'\\x92',b\"'\").replace(b'\\x97',b'--').decode() if isinstance(x, bytes) else x)\n",
    "        Questions.zFieldNb = Questions.zFieldNb.apply(\n",
    "            lambda x: x.replace(b'\\x92',b\"'\").replace(b'\\x97',b'--').decode() if isinstance(x, bytes) else x)\n",
    "        \n",
    "        self.questions = Questions\n",
    "        self.timestamps = Labels\n",
    "        self.taskInd = 0\n",
    "        self.taskList = np.array(['Shaking', 'Standing', 'Walking', 'Walking while counting', 'Finger to nose--right hand', \n",
    "                                  'Finger to nose--left hand', 'Alternating right hand movements', \n",
    "                                  'Alternating left hand movements', 'Sit to stand', 'Drawing on a paper', \n",
    "                                  'Typing on a computer keyboard', 'Assembling nuts and bolts', 'Taking a glass of water',\n",
    "                                  'Organizing sheets in a folder', 'Folding towels', 'Sitting'])\n",
    "        self.sessionInd = 0\n",
    "        self.sessionList = np.array(['2 Weeks: Time 0', '2 Weeks: Time 30', '2 Weeks: Time 60', '2 Weeks: Time 90', \n",
    "                                     '2 Weeks: Time 120', '2 Weeks: Time 150', '1 Month'])\n",
    "        self.loadedSubject = None\n",
    "        \n",
    "        ## Create some widgets to be placed inside\n",
    "        self.plotBtn = QtGui.QPushButton('Plot Data')\n",
    "        self.subjtxt = QtGui.QLineEdit('1004')\n",
    "        self.sesstxt = QtGui.QLineEdit(self.sessionList[self.sessionInd])\n",
    "        self.tasktxt = QtGui.QLineEdit(self.taskList[self.taskInd])\n",
    "        self.nextBtn = QtGui.QPushButton('Next Task')\n",
    "        self.saveBtn = QtGui.QPushButton('Save Data')\n",
    "        self.listw = QtGui.QListWidget()\n",
    "        self.plot = pg.PlotWidget()\n",
    "        self.stLine = pg.InfiniteLine(pen=(4,5),movable=True)\n",
    "        self.spLine = pg.InfiniteLine(pen=(5,5),movable=True)\n",
    "\n",
    "        self.plotBtn.clicked.connect(self.plotBtn_clicked)\n",
    "        self.nextBtn.clicked.connect(self.nextBtn_clicked)\n",
    "        self.saveBtn.clicked.connect(self.saveBtn_clicked)\n",
    "        self.sesstxt.editingFinished.connect(self.sessTxt_edited)\n",
    "        self.tasktxt.editingFinished.connect(self.taskTxt_edited)\n",
    "        \n",
    "\n",
    "        ## Create a grid layout to manage the widgets size and position\n",
    "        layout = QtGui.QGridLayout()\n",
    "\n",
    "        ## Add widgets to the layout in their proper positions\n",
    "        layout.addWidget(self.plotBtn, 0, 0)\n",
    "        layout.addWidget(self.subjtxt, 1, 0)\n",
    "        layout.addWidget(self.sesstxt, 2, 0)\n",
    "        layout.addWidget(self.tasktxt, 3, 0)\n",
    "        layout.addWidget(self.nextBtn, 4, 0)\n",
    "        layout.addWidget(self.saveBtn, 5, 0)\n",
    "        layout.addWidget(self.listw, 6, 0)  # list widget goes in bottom-left\n",
    "        layout.addWidget(self.plot, 0, 1, 7, 1)  # plot goes on right side\n",
    "\n",
    "        self.setLayout(layout)\n",
    "\n",
    "    def plotBtn_clicked(self):\n",
    "        sessInds = (self.timestamps.SubjectCode.astype(int) == int(self.subjtxt.text())\n",
    "                   ) & (self.timestamps.VisitNm == self.sesstxt.text())\n",
    "        \n",
    "        watchTime = self.timestamps[sessInds]['Q146_UTC'].values[0]\n",
    "        \n",
    "        StQinds = self.questions.zFieldNm == (self.tasktxt.text() + ' start time')\n",
    "        StQNb = self.questions[StQinds].zFieldNb\n",
    "        stTime = self.timestamps[sessInds][StQNb].values[0][0]\n",
    "        if type(stTime)!=str:\n",
    "            print('No start time found for subject ' + self.subjtxt.text()\n",
    "                  + ' ' + self.sesstxt.text() + ' ' + self.tasktxt.text())\n",
    "            return\n",
    "        stTime = watchTime + self.getTimeDelta(stTime)\n",
    "        \n",
    "        SpQinds = self.questions.zFieldNm == (self.tasktxt.text() + ' end time')\n",
    "        if self.tasktxt.text()=='Walking': # for some reason, they switched the text to 'stop time' for walking\n",
    "            SpQinds = self.questions.zFieldNm == (self.tasktxt.text() + ' stop time')\n",
    "        SpQNb = self.questions[SpQinds].zFieldNb\n",
    "        spTime = self.timestamps[sessInds][SpQNb].values[0][0]\n",
    "        if type(spTime)!=str:\n",
    "            print('No stop time found for subject ' + self.subjtxt.text()\n",
    "                  + ' ' + self.sesstxt.text() + ' ' + self.tasktxt.text())\n",
    "            return\n",
    "        spTime = watchTime + self.getTimeDelta(spTime)\n",
    "        \n",
    "        if self.loadedSubject!=self.subjtxt.text():\n",
    "            self.ACC = pd.read_csv(self.subjtxt.text() + '_Session1_Acc.csv', parse_dates=[3])\n",
    "            self.loadedSubject = self.subjtxt.text()\n",
    "        \n",
    "        ACC = self.ACC\n",
    "        ACC = ACC[(ACC.timestamp < (spTime + np.timedelta64(self.WindowRange,'s'))) \n",
    "                  & (ACC.timestamp > (stTime - np.timedelta64(self.WindowRange,'s')))]\n",
    "\n",
    "        \n",
    "        T = (ACC.timestamp.values.astype('datetime64[ms]') - ACC.timestamp.values[0].astype('datetime64[ms]')).astype(float)\n",
    "        \n",
    "        self.plot.clear()\n",
    "        \n",
    "        self.plot.plot(T,ACC.x.values,pen=(1,5))\n",
    "        self.plot.plot(T,ACC.y.values,pen=(2,5))\n",
    "        self.plot.plot(T,ACC.z.values,pen=(3,5))\n",
    "        \n",
    "        stTime = stTime.astype('datetime64[ms]').astype(float) - ACC.timestamp.values[0].astype('datetime64[ms]').astype(float)\n",
    "        spTime = spTime.astype('datetime64[ms]').astype(float) - ACC.timestamp.values[0].astype('datetime64[ms]').astype(float)\n",
    "        \n",
    "        self.stLine.setValue(stTime); self.plot.addItem(self.stLine, ignoreBounds=True)\n",
    "        self.spLine.setValue(spTime); self.plot.addItem(self.spLine, ignoreBounds=True)\n",
    "        \n",
    "        self.plot.setYRange(-3,3)\n",
    "        \n",
    "        \n",
    "    def nextBtn_clicked(self):\n",
    "        self.taskInd = self.taskInd + 1\n",
    "        self.tasktxt.setText(self.taskList[self.taskInd])\n",
    "        \n",
    "        self.plotBtn_clicked()\n",
    "        \n",
    "    def saveBtn_clicked(self):\n",
    "        stTime_ACC = self.ACC.timestamp.values[0].astype('datetime64[ms]')\n",
    "        stTime = np.timedelta64(int(self.stLine.value()),'ms') + stTime_ACC\n",
    "        spTime = np.timedelta64(int(self.spLine.value()),'ms') + stTime_ACC\n",
    "        \n",
    "        ACC = self.ACC\n",
    "        ACC = ACC[(ACC.timestamp < (spTime)) & (ACC.timestamp > (stTime))]\n",
    "        filepath = '//FS2.smpp.local\\RTO\\CIS-PD Study\\MJFF Curation\\TaskAcc\\\\'+self.subjtxt.text()+'_'+self.tasktxt.text()+'.csv'\n",
    "        ACC.to_csv(path_or_buf = filepath, index=False)\n",
    "    \n",
    "    def sessTxt_edited(self):\n",
    "        self.sessionInd = np.argmax(self.sessionList == self.sesstxt.text())\n",
    "        if sum(self.sessionList == self.sesstxt.text())<1:\n",
    "            print('Not a valid session')\n",
    "        \n",
    "    def taskTxt_edited(self):\n",
    "        self.taskInd = np.argmax(self.taskList == self.tasktxt.text())\n",
    "        if sum(self.taskList == self.tasktxt.text())<1:\n",
    "            print('Not a valid task')\n",
    "    \n",
    "    def getTimeDelta(self, ts): #Convert string stopwatch time to timedelta\n",
    "        return np.timedelta64(int(ts[0:2]),'h') + np.timedelta64(int(ts[3:5]),'m') + np.timedelta64(int(ts[6:]),'s')\n",
    "        \n",
    "    "
   ]
  },
  {
   "cell_type": "code",
   "execution_count": 6,
   "metadata": {
    "scrolled": true
   },
   "outputs": [
    {
     "name": "stdout",
     "output_type": "stream",
     "text": [
      "Not a valid session\n",
      "Not a valid session\n",
      "Not a valid task\n",
      "No start time found for subject 1004 2 Weeks: Time 0 Shaking\n"
     ]
    },
    {
     "data": {
      "text/plain": [
       "0"
      ]
     },
     "execution_count": 6,
     "metadata": {},
     "output_type": "execute_result"
    }
   ],
   "source": [
    "window = AccViewer()\n",
    "window.show()\n",
    "app.exec_()"
   ]
  },
  {
   "cell_type": "code",
   "execution_count": null,
   "metadata": {},
   "outputs": [],
   "source": []
  }
 ],
 "metadata": {
  "kernelspec": {
   "display_name": "Python 3",
   "language": "python",
   "name": "python3"
  },
  "language_info": {
   "codemirror_mode": {
    "name": "ipython",
    "version": 3
   },
   "file_extension": ".py",
   "mimetype": "text/x-python",
   "name": "python",
   "nbconvert_exporter": "python",
   "pygments_lexer": "ipython3",
   "version": "3.6.4"
  }
 },
 "nbformat": 4,
 "nbformat_minor": 2
}
