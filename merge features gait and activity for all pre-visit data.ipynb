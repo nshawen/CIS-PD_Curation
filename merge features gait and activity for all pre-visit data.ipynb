{
 "cells": [
  {
   "cell_type": "code",
   "execution_count": 3,
   "metadata": {},
   "outputs": [
    {
     "name": "stdout",
     "output_type": "stream",
     "text": [
      "['142578 2017-09-18.csv', '142616 2018-02-05.csv', '142557 2017-06-29.csv', '142616 2017-10-03.csv', '142620 2017-10-30.csv', '142568 2017-09-18.csv', '142558 2017-07-14.csv', '142609 2017-09-01.csv', '142612 2017-09-06.csv', '142568 2018-02-28.csv', '142615 2017-10-05.csv', '142620 2017-08-10.csv', '142593 2017-11-06.csv', '142601 2017-07-13.csv', '142603 2017-10-13.csv', '142615 2017-07-21.csv', '142558 2017-09-21.csv', '142595 2017-10-12.csv', '142621 2017-10-23.csv', '142608 2017-11-09.csv', '142580 2017-08-01.csv', '142577 2017-11-30.csv', '142603 2017-08-07.csv', '142575 2017-08-29.csv', '142608 2017-09-11.csv', '142619 2017-08-10.csv', '142577 2017-10-11.csv', '142570 2017-07-13.csv', '142604 2017-10-02.csv', '142623 2017-08-03.csv', '142585 2017-09-20.csv', '142583 2017-10-13.csv', '142616 2017-08-01.csv', '142623 2017-10-12.csv', '142604 2017-08-14.csv', '142566 2017-08-09.csv', '142561 2017-07-03.csv', '142619 2017-07-21.csv', '142605 2017-10-11.csv', '142559 2017-07-20.csv', '142592 2017-07-13.csv', '142609 2017-08-11.csv', '142602 2017-07-13.csv', '142598 2017-07-10.csv', '142581 2017-07-26.csv', '142584 2017-11-01.csv', '142619 2018-01-22.csv', '142593 2018-01-29.csv', '142579 2017-07-18.csv', '142618 2017-07-31.csv', '142606 2017-12-29.csv', '142605 2017-08-02.csv', '142602 2017-09-20.csv', '142582 2017-07-27.csv', '142598 2017-09-13.csv', '142622 2017-08-17.csv', '142585 2017-10-04.csv', '142583 2017-08-25.csv', '142618 2018-01-30.csv', '142578 2017-09-05.csv', '142615 2017-07-07.csv', '142583 2018-01-30.csv', '142562 2017-07-07.csv', '142580 2017-07-14.csv', '142616 2017-07-19.csv', '142617 2017-08-01.csv', '142567 2018-01-11.csv', '142568 2017-09-06.csv', '142563 2017-07-18.csv', '142600 2017-07-11.csv', '142622 2017-10-12.csv', '142579 2017-07-07.csv', '142623 2017-08-17.csv', '142585 2018-02-02.csv', '142558 2017-06-29.csv', '142567 2017-07-31.csv', '142618 2017-10-30.csv', '142617 2017-10-03.csv', '142584 2017-09-13.csv', '142605 2017-08-16.csv', '142578 2018-02-19.csv', '142575 2017-08-16.csv', '142557 2017-12-11.csv', '142601 2017-09-20.csv', '142606 2017-10-13.csv', '142600 2017-07-25.csv', '142621 2017-08-14.csv', '142620 2017-07-21.csv', '142584 2017-11-29.csv', '142602 2017-12-12.csv', '142604 2017-11-27.csv', '142606 2017-08-16.csv', '142557 2017-09-21.csv', '142618 2017-08-14.csv', '142577 2017-08-03.csv', '142617 2017-07-17.csv', '142566 2017-07-26.csv', '142582 2017-08-09.csv', '142594 2017-08-10.csv', '142557 2017-07-13.csv', '142601 2017-07-26.csv', '142615 2018-01-22.csv', '142560 2017-07-03.csv', '142592 2017-10-03.csv', '142612 2017-08-15.csv', '142594 2017-07-19.csv', '142622 2017-08-03.csv', '142581 2017-08-14.csv', '142608 2017-09-18.csv', '142592 2017-07-27.csv', '142583 2017-08-09.csv', '142570 2017-08-03.csv', '142593 2017-08-03.csv', '142580 2018-01-10.csv', '142559 2017-07-06.csv', '142584 2018-02-21.csv', '142598 2017-07-24.csv', '142604 2017-07-21.csv', '142603 2017-07-31.csv', '142595 2017-08-22.csv', '142593 2017-07-20.csv', '142602 2017-08-03.csv', '142595 2018-01-10.csv', '142621 2017-07-21.csv']\n"
     ]
    }
   ],
   "source": [
    "import pandas as pd\n",
    "import os\n",
    "import numpy as np\n",
    "import time\n",
    "from multiprocessing.dummy import Pool as ThreadPool\n",
    "import datetime\n",
    "import pickle\n",
    "\n",
    "calculated_features = r\"X:\\CIS-PD Study\\MJFF Curation\\all pre-visit calc features\"\n",
    "features = r\"X:\\CIS-PD Study\\\\Home WACC features\"\n",
    "destination = r\"X:\\CIS-PD Study\\\\Home WACC features + Gait\"\n",
    "files = os.listdir(calculated_features)"
   ]
  },
  {
   "cell_type": "code",
   "execution_count": 5,
   "metadata": {},
   "outputs": [],
   "source": [
    "def drop_Movements_Level(file):\n",
    "    print(file)\n",
    "    cf = pd.read_csv(calculated_features + \"\\\\\" + file)\n",
    "    for index, row in cf.iterrows():\n",
    "        if (row['measurement_id'] == 11):\n",
    "            cf = cf.drop(index)\n",
    "    cf.to_csv(calculated_features + \"\\\\\" + file)"
   ]
  },
  {
   "cell_type": "code",
   "execution_count": 6,
   "metadata": {},
   "outputs": [],
   "source": [
    "def drop_extra_index_columns(file):\n",
    "    print(file)\n",
    "    cf = pd.read_csv(calculated_features + \"\\\\\" + file)\n",
    "    cols = list(cf.columns.values)\n",
    "    for col in cols:\n",
    "        if \"Unnamed\" in col:\n",
    "            cf = cf.drop(col, axis = 1)\n",
    "    cf.to_csv(calculated_features + \"\\\\\" + file)"
   ]
  },
  {
   "cell_type": "code",
   "execution_count": 7,
   "metadata": {},
   "outputs": [],
   "source": [
    "def find_corresponding_cf_data(tm, cf):\n",
    "    tm = tm - datetime.timedelta(minutes=0,\n",
    "                             seconds=tm.second % 5,\n",
    "                             microseconds=tm.microsecond)\n",
    "    tm = tm.strftime('%Y-%m-%d %H:%M:%S.000')\n",
    "    return [cf.loc[(13,tm)].value,cf.loc[(10,tm)].value,cf.loc[(7,tm)].value]\n",
    "                \n",
    "                "
   ]
  },
  {
   "cell_type": "code",
   "execution_count": 8,
   "metadata": {},
   "outputs": [],
   "source": [
    "### take the features in file and pair them with the corresponding Gait, Activity Level, and TremorScore data ###\n",
    "def merge_file(file):\n",
    "    t1 = time.time()\n",
    "    print(\"1:\")\n",
    "    print(file)\n",
    "    cf = pd.read_csv(calculated_features + \"\\\\\" + file,dtype={'measurement_id': int, 'value': float})\n",
    "    f = pd.read_pickle(features + \"\\\\features \" + file[0:-3] + \"pkl\")\n",
    "\n",
    "    f['timestamp'] = pd.to_datetime(f['timestamp'])\n",
    "\n",
    "    Gait = cf[cf.measurement_id==13][['value','timestamp']]\n",
    "    ActLevel = cf[cf.measurement_id==10][['value','timestamp']]\n",
    "    TremorScore = cf[cf.measurement_id==7][['value','timestamp']]\n",
    "\n",
    "    Gait = Gait.rename(columns={'value':'Gait'})\n",
    "    ActLevel = ActLevel.rename(columns={'value':'Activity Level'})\n",
    "    TremorScore = TremorScore.rename(columns={'value':'TremorScore'})\n",
    "\n",
    "    Gait = pd.merge(Gait,ActLevel,on='timestamp')\n",
    "    Gait = pd.merge(Gait,TremorScore, on='timestamp')\n",
    "    Gait.timestamp = pd.to_datetime(Gait.timestamp)\n",
    "    f = pd.merge(f,Gait, on='timestamp')\n",
    "\n",
    "    with open(destination + \"\\\\features+gait \" + file[0:-3] + 'pkl','wb') as savefile:\n",
    "        pickle.dump(f, savefile)\n",
    "        \n",
    "\n",
    "    t_elapsed = ((time.time() - t1)/60.0)\n",
    "    print(t_elapsed.__str__() + \" mins\")"
   ]
  },
  {
   "cell_type": "code",
   "execution_count": 9,
   "metadata": {
    "scrolled": true
   },
   "outputs": [
    {
     "name": "stdout",
     "output_type": "stream",
     "text": [
      "1:\n",
      "142578 2017-09-18.csv\n",
      "0.001659997304280599 mins\n",
      "1:\n",
      "142616 2018-02-05.csv\n",
      "0.0018200039863586425 mins\n",
      "1:\n",
      "142557 2017-06-29.csv\n",
      "0.005733335018157959 mins\n",
      "1:\n",
      "142616 2017-10-03.csv\n",
      "0.0031199971834818523 mins\n",
      "1:\n",
      "142620 2017-10-30.csv\n",
      "0.007800002892812093 mins\n",
      "1:\n",
      "142568 2017-09-18.csv\n",
      "0.005130000909169515 mins\n",
      "1:\n",
      "142558 2017-07-14.csv\n"
     ]
    },
    {
     "name": "stderr",
     "output_type": "stream",
     "text": [
      "C:\\ProgramData\\Anaconda3\\lib\\site-packages\\IPython\\core\\interactiveshell.py:2903: DtypeWarning: Columns (6) have mixed types. Specify dtype option on import or set low_memory=False.\n",
      "  if self.run_code(code, result):\n"
     ]
    },
    {
     "name": "stdout",
     "output_type": "stream",
     "text": [
      "0.020403329531351724 mins\n",
      "1:\n",
      "142609 2017-09-01.csv\n"
     ]
    },
    {
     "name": "stderr",
     "output_type": "stream",
     "text": [
      "C:\\ProgramData\\Anaconda3\\lib\\site-packages\\IPython\\core\\interactiveshell.py:2903: DtypeWarning: Columns (6) have mixed types. Specify dtype option on import or set low_memory=False.\n",
      "  if self.run_code(code, result):\n"
     ]
    },
    {
     "name": "stdout",
     "output_type": "stream",
     "text": [
      "0.012973332405090332 mins\n",
      "1:\n",
      "142612 2017-09-06.csv\n",
      "0.009930002689361572 mins\n",
      "1:\n",
      "142568 2018-02-28.csv\n"
     ]
    },
    {
     "name": "stderr",
     "output_type": "stream",
     "text": [
      "C:\\ProgramData\\Anaconda3\\lib\\site-packages\\IPython\\core\\interactiveshell.py:2903: DtypeWarning: Columns (6) have mixed types. Specify dtype option on import or set low_memory=False.\n",
      "  if self.run_code(code, result):\n"
     ]
    },
    {
     "name": "stdout",
     "output_type": "stream",
     "text": [
      "0.006816665331522624 mins\n",
      "1:\n",
      "142615 2017-10-05.csv\n",
      "0.007099997997283935 mins\n",
      "1:\n",
      "142620 2017-08-10.csv\n",
      "0.003896665573120117 mins\n",
      "1:\n",
      "142593 2017-11-06.csv\n",
      "0.008530000845591227 mins\n",
      "1:\n",
      "142601 2017-07-13.csv\n"
     ]
    },
    {
     "name": "stderr",
     "output_type": "stream",
     "text": [
      "C:\\ProgramData\\Anaconda3\\lib\\site-packages\\IPython\\core\\interactiveshell.py:2903: DtypeWarning: Columns (6) have mixed types. Specify dtype option on import or set low_memory=False.\n",
      "  if self.run_code(code, result):\n"
     ]
    },
    {
     "name": "stdout",
     "output_type": "stream",
     "text": [
      "0.013063335418701172 mins\n",
      "1:\n",
      "142603 2017-10-13.csv\n"
     ]
    },
    {
     "name": "stderr",
     "output_type": "stream",
     "text": [
      "C:\\ProgramData\\Anaconda3\\lib\\site-packages\\IPython\\core\\interactiveshell.py:2903: DtypeWarning: Columns (6) have mixed types. Specify dtype option on import or set low_memory=False.\n",
      "  if self.run_code(code, result):\n"
     ]
    },
    {
     "name": "stdout",
     "output_type": "stream",
     "text": [
      "0.014166669050852457 mins\n",
      "1:\n",
      "142615 2017-07-21.csv\n"
     ]
    },
    {
     "name": "stderr",
     "output_type": "stream",
     "text": [
      "C:\\ProgramData\\Anaconda3\\lib\\site-packages\\IPython\\core\\interactiveshell.py:2903: DtypeWarning: Columns (6) have mixed types. Specify dtype option on import or set low_memory=False.\n",
      "  if self.run_code(code, result):\n"
     ]
    },
    {
     "name": "stdout",
     "output_type": "stream",
     "text": [
      "0.014063334465026856 mins\n",
      "1:\n",
      "142558 2017-09-21.csv\n",
      "0.005833331743876139 mins\n",
      "1:\n",
      "142595 2017-10-12.csv\n",
      "0.010393329461415609 mins\n",
      "1:\n",
      "142621 2017-10-23.csv\n",
      "0.007823336124420165 mins\n",
      "1:\n",
      "142608 2017-11-09.csv\n",
      "0.008890000979105632 mins\n",
      "1:\n",
      "142580 2017-08-01.csv\n",
      "0.016706665356953938 mins\n",
      "1:\n",
      "142577 2017-11-30.csv\n"
     ]
    },
    {
     "name": "stderr",
     "output_type": "stream",
     "text": [
      "C:\\ProgramData\\Anaconda3\\lib\\site-packages\\IPython\\core\\interactiveshell.py:2903: DtypeWarning: Columns (6) have mixed types. Specify dtype option on import or set low_memory=False.\n",
      "  if self.run_code(code, result):\n"
     ]
    },
    {
     "name": "stdout",
     "output_type": "stream",
     "text": [
      "0.013903335730234782 mins\n",
      "1:\n",
      "142603 2017-08-07.csv\n"
     ]
    },
    {
     "name": "stderr",
     "output_type": "stream",
     "text": [
      "C:\\ProgramData\\Anaconda3\\lib\\site-packages\\IPython\\core\\interactiveshell.py:2903: DtypeWarning: Columns (6) have mixed types. Specify dtype option on import or set low_memory=False.\n",
      "  if self.run_code(code, result):\n"
     ]
    },
    {
     "name": "stdout",
     "output_type": "stream",
     "text": [
      "0.010563333829243978 mins\n",
      "1:\n",
      "142575 2017-08-29.csv\n"
     ]
    },
    {
     "name": "stderr",
     "output_type": "stream",
     "text": [
      "C:\\ProgramData\\Anaconda3\\lib\\site-packages\\IPython\\core\\interactiveshell.py:2903: DtypeWarning: Columns (6) have mixed types. Specify dtype option on import or set low_memory=False.\n",
      "  if self.run_code(code, result):\n"
     ]
    },
    {
     "name": "stdout",
     "output_type": "stream",
     "text": [
      "0.013623332977294922 mins\n",
      "1:\n",
      "142608 2017-09-11.csv\n"
     ]
    },
    {
     "name": "stderr",
     "output_type": "stream",
     "text": [
      "C:\\ProgramData\\Anaconda3\\lib\\site-packages\\IPython\\core\\interactiveshell.py:2903: DtypeWarning: Columns (6) have mixed types. Specify dtype option on import or set low_memory=False.\n",
      "  if self.run_code(code, result):\n"
     ]
    },
    {
     "name": "stdout",
     "output_type": "stream",
     "text": [
      "0.010746665795644124 mins\n",
      "1:\n",
      "142619 2017-08-10.csv\n"
     ]
    },
    {
     "name": "stderr",
     "output_type": "stream",
     "text": [
      "C:\\ProgramData\\Anaconda3\\lib\\site-packages\\IPython\\core\\interactiveshell.py:2903: DtypeWarning: Columns (6) have mixed types. Specify dtype option on import or set low_memory=False.\n",
      "  if self.run_code(code, result):\n"
     ]
    },
    {
     "name": "stdout",
     "output_type": "stream",
     "text": [
      "0.014103333155314127 mins\n",
      "1:\n",
      "142577 2017-10-11.csv\n",
      "0.016236666838328043 mins\n",
      "1:\n",
      "142570 2017-07-13.csv\n"
     ]
    },
    {
     "name": "stderr",
     "output_type": "stream",
     "text": [
      "C:\\ProgramData\\Anaconda3\\lib\\site-packages\\IPython\\core\\interactiveshell.py:2903: DtypeWarning: Columns (6) have mixed types. Specify dtype option on import or set low_memory=False.\n",
      "  if self.run_code(code, result):\n"
     ]
    },
    {
     "name": "stdout",
     "output_type": "stream",
     "text": [
      "0.012559998035430908 mins\n",
      "1:\n",
      "142604 2017-10-02.csv\n"
     ]
    },
    {
     "name": "stderr",
     "output_type": "stream",
     "text": [
      "C:\\ProgramData\\Anaconda3\\lib\\site-packages\\IPython\\core\\interactiveshell.py:2903: DtypeWarning: Columns (6) have mixed types. Specify dtype option on import or set low_memory=False.\n",
      "  if self.run_code(code, result):\n"
     ]
    },
    {
     "name": "stdout",
     "output_type": "stream",
     "text": [
      "0.018899997075398762 mins\n",
      "1:\n",
      "142623 2017-08-03.csv\n"
     ]
    },
    {
     "name": "stderr",
     "output_type": "stream",
     "text": [
      "C:\\ProgramData\\Anaconda3\\lib\\site-packages\\IPython\\core\\interactiveshell.py:2903: DtypeWarning: Columns (6) have mixed types. Specify dtype option on import or set low_memory=False.\n",
      "  if self.run_code(code, result):\n"
     ]
    },
    {
     "name": "stdout",
     "output_type": "stream",
     "text": [
      "0.020796664555867515 mins\n",
      "1:\n",
      "142585 2017-09-20.csv\n"
     ]
    },
    {
     "name": "stderr",
     "output_type": "stream",
     "text": [
      "C:\\ProgramData\\Anaconda3\\lib\\site-packages\\IPython\\core\\interactiveshell.py:2903: DtypeWarning: Columns (6) have mixed types. Specify dtype option on import or set low_memory=False.\n",
      "  if self.run_code(code, result):\n"
     ]
    },
    {
     "name": "stdout",
     "output_type": "stream",
     "text": [
      "0.017089998722076415 mins\n",
      "1:\n",
      "142583 2017-10-13.csv\n"
     ]
    },
    {
     "name": "stderr",
     "output_type": "stream",
     "text": [
      "C:\\ProgramData\\Anaconda3\\lib\\site-packages\\IPython\\core\\interactiveshell.py:2903: DtypeWarning: Columns (6) have mixed types. Specify dtype option on import or set low_memory=False.\n",
      "  if self.run_code(code, result):\n"
     ]
    },
    {
     "name": "stdout",
     "output_type": "stream",
     "text": [
      "0.009986666838328044 mins\n",
      "1:\n",
      "142616 2017-08-01.csv\n",
      "0.00905000368754069 mins\n",
      "1:\n",
      "142623 2017-10-12.csv\n"
     ]
    },
    {
     "name": "stderr",
     "output_type": "stream",
     "text": [
      "C:\\ProgramData\\Anaconda3\\lib\\site-packages\\IPython\\core\\interactiveshell.py:2903: DtypeWarning: Columns (6) have mixed types. Specify dtype option on import or set low_memory=False.\n",
      "  if self.run_code(code, result):\n"
     ]
    },
    {
     "name": "stdout",
     "output_type": "stream",
     "text": [
      "0.010896666844685873 mins\n",
      "1:\n",
      "142604 2017-08-14.csv\n"
     ]
    },
    {
     "name": "stderr",
     "output_type": "stream",
     "text": [
      "C:\\ProgramData\\Anaconda3\\lib\\site-packages\\IPython\\core\\interactiveshell.py:2903: DtypeWarning: Columns (6) have mixed types. Specify dtype option on import or set low_memory=False.\n",
      "  if self.run_code(code, result):\n"
     ]
    },
    {
     "name": "stdout",
     "output_type": "stream",
     "text": [
      "0.023263331254323324 mins\n",
      "1:\n",
      "142566 2017-08-09.csv\n",
      "0.01201999584833781 mins\n",
      "1:\n",
      "142561 2017-07-03.csv\n",
      "0.005649999777475993 mins\n",
      "1:\n",
      "142619 2017-07-21.csv\n"
     ]
    },
    {
     "name": "stderr",
     "output_type": "stream",
     "text": [
      "C:\\ProgramData\\Anaconda3\\lib\\site-packages\\IPython\\core\\interactiveshell.py:2903: DtypeWarning: Columns (6) have mixed types. Specify dtype option on import or set low_memory=False.\n",
      "  if self.run_code(code, result):\n"
     ]
    },
    {
     "name": "stdout",
     "output_type": "stream",
     "text": [
      "0.03399333159128825 mins\n",
      "1:\n",
      "142605 2017-10-11.csv\n",
      "0.021686665217081704 mins\n",
      "1:\n",
      "142559 2017-07-20.csv\n"
     ]
    },
    {
     "name": "stderr",
     "output_type": "stream",
     "text": [
      "C:\\ProgramData\\Anaconda3\\lib\\site-packages\\IPython\\core\\interactiveshell.py:2903: DtypeWarning: Columns (6) have mixed types. Specify dtype option on import or set low_memory=False.\n",
      "  if self.run_code(code, result):\n"
     ]
    },
    {
     "name": "stdout",
     "output_type": "stream",
     "text": [
      "0.018529999256134033 mins\n",
      "1:\n",
      "142592 2017-07-13.csv\n",
      "0.007076664765675863 mins\n",
      "1:\n",
      "142609 2017-08-11.csv\n",
      "0.012956666946411132 mins\n",
      "1:\n",
      "142602 2017-07-13.csv\n"
     ]
    },
    {
     "name": "stderr",
     "output_type": "stream",
     "text": [
      "C:\\ProgramData\\Anaconda3\\lib\\site-packages\\IPython\\core\\interactiveshell.py:2903: DtypeWarning: Columns (6) have mixed types. Specify dtype option on import or set low_memory=False.\n",
      "  if self.run_code(code, result):\n"
     ]
    },
    {
     "name": "stdout",
     "output_type": "stream",
     "text": [
      "0.021089998881022136 mins\n",
      "1:\n",
      "142598 2017-07-10.csv\n",
      "0.006306668122609456 mins\n",
      "1:\n",
      "142581 2017-07-26.csv\n",
      "0.01135332981745402 mins\n",
      "1:\n",
      "142584 2017-11-01.csv\n",
      "0.015003339449564616 mins\n",
      "1:\n",
      "142619 2018-01-22.csv\n"
     ]
    },
    {
     "name": "stderr",
     "output_type": "stream",
     "text": [
      "C:\\ProgramData\\Anaconda3\\lib\\site-packages\\IPython\\core\\interactiveshell.py:2903: DtypeWarning: Columns (6) have mixed types. Specify dtype option on import or set low_memory=False.\n",
      "  if self.run_code(code, result):\n"
     ]
    },
    {
     "name": "stdout",
     "output_type": "stream",
     "text": [
      "0.01799333095550537 mins\n",
      "1:\n",
      "142593 2018-01-29.csv\n"
     ]
    },
    {
     "name": "stderr",
     "output_type": "stream",
     "text": [
      "C:\\ProgramData\\Anaconda3\\lib\\site-packages\\IPython\\core\\interactiveshell.py:2903: DtypeWarning: Columns (6) have mixed types. Specify dtype option on import or set low_memory=False.\n",
      "  if self.run_code(code, result):\n"
     ]
    },
    {
     "name": "stdout",
     "output_type": "stream",
     "text": [
      "0.015546667575836181 mins\n",
      "1:\n",
      "142579 2017-07-18.csv\n"
     ]
    },
    {
     "name": "stderr",
     "output_type": "stream",
     "text": [
      "C:\\ProgramData\\Anaconda3\\lib\\site-packages\\IPython\\core\\interactiveshell.py:2903: DtypeWarning: Columns (6) have mixed types. Specify dtype option on import or set low_memory=False.\n",
      "  if self.run_code(code, result):\n"
     ]
    },
    {
     "name": "stdout",
     "output_type": "stream",
     "text": [
      "0.014353334903717041 mins\n",
      "1:\n",
      "142618 2017-07-31.csv\n"
     ]
    },
    {
     "name": "stderr",
     "output_type": "stream",
     "text": [
      "C:\\ProgramData\\Anaconda3\\lib\\site-packages\\IPython\\core\\interactiveshell.py:2903: DtypeWarning: Columns (6) have mixed types. Specify dtype option on import or set low_memory=False.\n",
      "  if self.run_code(code, result):\n"
     ]
    },
    {
     "name": "stdout",
     "output_type": "stream",
     "text": [
      "0.011950000127156576 mins\n",
      "1:\n",
      "142606 2017-12-29.csv\n",
      "0.005850001176198324 mins\n",
      "1:\n",
      "142605 2017-08-02.csv\n"
     ]
    },
    {
     "name": "stderr",
     "output_type": "stream",
     "text": [
      "C:\\ProgramData\\Anaconda3\\lib\\site-packages\\IPython\\core\\interactiveshell.py:2903: DtypeWarning: Columns (6) have mixed types. Specify dtype option on import or set low_memory=False.\n",
      "  if self.run_code(code, result):\n"
     ]
    },
    {
     "name": "stdout",
     "output_type": "stream",
     "text": [
      "0.016603330771128338 mins\n",
      "1:\n",
      "142602 2017-09-20.csv\n"
     ]
    },
    {
     "name": "stderr",
     "output_type": "stream",
     "text": [
      "C:\\ProgramData\\Anaconda3\\lib\\site-packages\\IPython\\core\\interactiveshell.py:2903: DtypeWarning: Columns (6) have mixed types. Specify dtype option on import or set low_memory=False.\n",
      "  if self.run_code(code, result):\n"
     ]
    },
    {
     "name": "stdout",
     "output_type": "stream",
     "text": [
      "0.013643336296081544 mins\n",
      "1:\n",
      "142582 2017-07-27.csv\n"
     ]
    },
    {
     "name": "stderr",
     "output_type": "stream",
     "text": [
      "C:\\ProgramData\\Anaconda3\\lib\\site-packages\\IPython\\core\\interactiveshell.py:2903: DtypeWarning: Columns (6) have mixed types. Specify dtype option on import or set low_memory=False.\n",
      "  if self.run_code(code, result):\n"
     ]
    },
    {
     "name": "stdout",
     "output_type": "stream",
     "text": [
      "0.011076660950978597 mins\n",
      "1:\n",
      "142598 2017-09-13.csv\n",
      "0.008500003814697265 mins\n",
      "1:\n",
      "142622 2017-08-17.csv\n"
     ]
    },
    {
     "name": "stderr",
     "output_type": "stream",
     "text": [
      "C:\\ProgramData\\Anaconda3\\lib\\site-packages\\IPython\\core\\interactiveshell.py:2903: DtypeWarning: Columns (5) have mixed types. Specify dtype option on import or set low_memory=False.\n",
      "  if self.run_code(code, result):\n"
     ]
    },
    {
     "name": "stdout",
     "output_type": "stream",
     "text": [
      "0.018110005060831706 mins\n",
      "1:\n",
      "142585 2017-10-04.csv\n"
     ]
    },
    {
     "name": "stderr",
     "output_type": "stream",
     "text": [
      "C:\\ProgramData\\Anaconda3\\lib\\site-packages\\IPython\\core\\interactiveshell.py:2903: DtypeWarning: Columns (6) have mixed types. Specify dtype option on import or set low_memory=False.\n",
      "  if self.run_code(code, result):\n"
     ]
    },
    {
     "name": "stdout",
     "output_type": "stream",
     "text": [
      "0.005769999821980795 mins\n",
      "1:\n",
      "142583 2017-08-25.csv\n"
     ]
    },
    {
     "name": "stderr",
     "output_type": "stream",
     "text": [
      "C:\\ProgramData\\Anaconda3\\lib\\site-packages\\IPython\\core\\interactiveshell.py:2903: DtypeWarning: Columns (6) have mixed types. Specify dtype option on import or set low_memory=False.\n",
      "  if self.run_code(code, result):\n"
     ]
    },
    {
     "name": "stdout",
     "output_type": "stream",
     "text": [
      "0.007106665770212809 mins\n",
      "1:\n",
      "142618 2018-01-30.csv\n"
     ]
    },
    {
     "name": "stderr",
     "output_type": "stream",
     "text": [
      "C:\\ProgramData\\Anaconda3\\lib\\site-packages\\IPython\\core\\interactiveshell.py:2903: DtypeWarning: Columns (6) have mixed types. Specify dtype option on import or set low_memory=False.\n",
      "  if self.run_code(code, result):\n"
     ]
    },
    {
     "name": "stdout",
     "output_type": "stream",
     "text": [
      "0.014350001017252605 mins\n",
      "1:\n",
      "142578 2017-09-05.csv\n"
     ]
    },
    {
     "name": "stderr",
     "output_type": "stream",
     "text": [
      "C:\\ProgramData\\Anaconda3\\lib\\site-packages\\IPython\\core\\interactiveshell.py:2903: DtypeWarning: Columns (6) have mixed types. Specify dtype option on import or set low_memory=False.\n",
      "  if self.run_code(code, result):\n"
     ]
    },
    {
     "name": "stdout",
     "output_type": "stream",
     "text": [
      "0.02852999766667684 mins\n",
      "1:\n",
      "142615 2017-07-07.csv\n"
     ]
    },
    {
     "name": "stderr",
     "output_type": "stream",
     "text": [
      "C:\\ProgramData\\Anaconda3\\lib\\site-packages\\IPython\\core\\interactiveshell.py:2903: DtypeWarning: Columns (6) have mixed types. Specify dtype option on import or set low_memory=False.\n",
      "  if self.run_code(code, result):\n"
     ]
    },
    {
     "name": "stdout",
     "output_type": "stream",
     "text": [
      "0.011183333396911622 mins\n",
      "1:\n",
      "142583 2018-01-30.csv\n",
      "0.019783329963684083 mins\n",
      "1:\n",
      "142562 2017-07-07.csv\n",
      "0.006490000089009603 mins\n",
      "1:\n",
      "142580 2017-07-14.csv\n"
     ]
    },
    {
     "name": "stderr",
     "output_type": "stream",
     "text": [
      "C:\\ProgramData\\Anaconda3\\lib\\site-packages\\IPython\\core\\interactiveshell.py:2903: DtypeWarning: Columns (5) have mixed types. Specify dtype option on import or set low_memory=False.\n",
      "  if self.run_code(code, result):\n"
     ]
    },
    {
     "name": "stdout",
     "output_type": "stream",
     "text": [
      "0.01697999636332194 mins\n",
      "1:\n",
      "142616 2017-07-19.csv\n"
     ]
    },
    {
     "name": "stderr",
     "output_type": "stream",
     "text": [
      "C:\\ProgramData\\Anaconda3\\lib\\site-packages\\IPython\\core\\interactiveshell.py:2903: DtypeWarning: Columns (5) have mixed types. Specify dtype option on import or set low_memory=False.\n",
      "  if self.run_code(code, result):\n"
     ]
    },
    {
     "name": "stdout",
     "output_type": "stream",
     "text": [
      "0.016299998760223387 mins\n",
      "1:\n",
      "142617 2017-08-01.csv\n"
     ]
    },
    {
     "name": "stderr",
     "output_type": "stream",
     "text": [
      "C:\\ProgramData\\Anaconda3\\lib\\site-packages\\IPython\\core\\interactiveshell.py:2903: DtypeWarning: Columns (5) have mixed types. Specify dtype option on import or set low_memory=False.\n",
      "  if self.run_code(code, result):\n"
     ]
    },
    {
     "name": "stdout",
     "output_type": "stream",
     "text": [
      "0.015296661853790283 mins\n",
      "1:\n",
      "142567 2018-01-11.csv\n"
     ]
    },
    {
     "name": "stderr",
     "output_type": "stream",
     "text": [
      "C:\\ProgramData\\Anaconda3\\lib\\site-packages\\IPython\\core\\interactiveshell.py:2903: DtypeWarning: Columns (5) have mixed types. Specify dtype option on import or set low_memory=False.\n",
      "  if self.run_code(code, result):\n"
     ]
    },
    {
     "name": "stdout",
     "output_type": "stream",
     "text": [
      "0.015686670939127605 mins\n",
      "1:\n",
      "142568 2017-09-06.csv\n"
     ]
    },
    {
     "name": "stderr",
     "output_type": "stream",
     "text": [
      "C:\\ProgramData\\Anaconda3\\lib\\site-packages\\IPython\\core\\interactiveshell.py:2903: DtypeWarning: Columns (6) have mixed types. Specify dtype option on import or set low_memory=False.\n",
      "  if self.run_code(code, result):\n"
     ]
    },
    {
     "name": "stdout",
     "output_type": "stream",
     "text": [
      "0.01852999528249105 mins\n",
      "1:\n",
      "142563 2017-07-18.csv\n"
     ]
    },
    {
     "name": "stderr",
     "output_type": "stream",
     "text": [
      "C:\\ProgramData\\Anaconda3\\lib\\site-packages\\IPython\\core\\interactiveshell.py:2903: DtypeWarning: Columns (5) have mixed types. Specify dtype option on import or set low_memory=False.\n",
      "  if self.run_code(code, result):\n"
     ]
    },
    {
     "name": "stdout",
     "output_type": "stream",
     "text": [
      "0.012420002619425457 mins\n",
      "1:\n",
      "142600 2017-07-11.csv\n",
      "0.01225000222524007 mins\n",
      "1:\n",
      "142622 2017-10-12.csv\n"
     ]
    },
    {
     "name": "stderr",
     "output_type": "stream",
     "text": [
      "C:\\ProgramData\\Anaconda3\\lib\\site-packages\\IPython\\core\\interactiveshell.py:2903: DtypeWarning: Columns (5) have mixed types. Specify dtype option on import or set low_memory=False.\n",
      "  if self.run_code(code, result):\n"
     ]
    },
    {
     "name": "stdout",
     "output_type": "stream",
     "text": [
      "0.00916666587193807 mins\n",
      "1:\n",
      "142579 2017-07-07.csv\n",
      "0.013256665070851643 mins\n",
      "1:\n",
      "142623 2017-08-17.csv\n"
     ]
    },
    {
     "name": "stderr",
     "output_type": "stream",
     "text": [
      "C:\\ProgramData\\Anaconda3\\lib\\site-packages\\IPython\\core\\interactiveshell.py:2903: DtypeWarning: Columns (5) have mixed types. Specify dtype option on import or set low_memory=False.\n",
      "  if self.run_code(code, result):\n"
     ]
    },
    {
     "name": "stdout",
     "output_type": "stream",
     "text": [
      "0.01031333605448405 mins\n",
      "1:\n",
      "142585 2018-02-02.csv\n",
      "0.009666665395100912 mins\n",
      "1:\n",
      "142558 2017-06-29.csv\n"
     ]
    },
    {
     "name": "stderr",
     "output_type": "stream",
     "text": [
      "C:\\ProgramData\\Anaconda3\\lib\\site-packages\\IPython\\core\\interactiveshell.py:2903: DtypeWarning: Columns (5) have mixed types. Specify dtype option on import or set low_memory=False.\n",
      "  if self.run_code(code, result):\n"
     ]
    },
    {
     "name": "stdout",
     "output_type": "stream",
     "text": [
      "0.009179997444152831 mins\n",
      "1:\n",
      "142567 2017-07-31.csv\n"
     ]
    },
    {
     "name": "stderr",
     "output_type": "stream",
     "text": [
      "C:\\ProgramData\\Anaconda3\\lib\\site-packages\\IPython\\core\\interactiveshell.py:2903: DtypeWarning: Columns (5) have mixed types. Specify dtype option on import or set low_memory=False.\n",
      "  if self.run_code(code, result):\n"
     ]
    },
    {
     "name": "stdout",
     "output_type": "stream",
     "text": [
      "0.015663333733876548 mins\n",
      "1:\n",
      "142618 2017-10-30.csv\n",
      "0.011430001258850098 mins\n",
      "1:\n",
      "142617 2017-10-03.csv\n"
     ]
    },
    {
     "name": "stderr",
     "output_type": "stream",
     "text": [
      "C:\\ProgramData\\Anaconda3\\lib\\site-packages\\IPython\\core\\interactiveshell.py:2903: DtypeWarning: Columns (5) have mixed types. Specify dtype option on import or set low_memory=False.\n",
      "  if self.run_code(code, result):\n"
     ]
    },
    {
     "name": "stdout",
     "output_type": "stream",
     "text": [
      "0.010346662998199464 mins\n",
      "1:\n",
      "142584 2017-09-13.csv\n"
     ]
    },
    {
     "name": "stderr",
     "output_type": "stream",
     "text": [
      "C:\\ProgramData\\Anaconda3\\lib\\site-packages\\IPython\\core\\interactiveshell.py:2903: DtypeWarning: Columns (5) have mixed types. Specify dtype option on import or set low_memory=False.\n",
      "  if self.run_code(code, result):\n"
     ]
    },
    {
     "name": "stdout",
     "output_type": "stream",
     "text": [
      "0.03135999838511149 mins\n",
      "1:\n",
      "142605 2017-08-16.csv\n",
      "0.02437000274658203 mins\n",
      "1:\n",
      "142578 2018-02-19.csv\n"
     ]
    },
    {
     "name": "stderr",
     "output_type": "stream",
     "text": [
      "C:\\ProgramData\\Anaconda3\\lib\\site-packages\\IPython\\core\\interactiveshell.py:2903: DtypeWarning: Columns (5) have mixed types. Specify dtype option on import or set low_memory=False.\n",
      "  if self.run_code(code, result):\n"
     ]
    },
    {
     "name": "stdout",
     "output_type": "stream",
     "text": [
      "0.01379332939783732 mins\n",
      "1:\n",
      "142575 2017-08-16.csv\n"
     ]
    },
    {
     "name": "stderr",
     "output_type": "stream",
     "text": [
      "C:\\ProgramData\\Anaconda3\\lib\\site-packages\\IPython\\core\\interactiveshell.py:2903: DtypeWarning: Columns (5) have mixed types. Specify dtype option on import or set low_memory=False.\n",
      "  if self.run_code(code, result):\n"
     ]
    },
    {
     "name": "stdout",
     "output_type": "stream",
     "text": [
      "0.01628333330154419 mins\n",
      "1:\n",
      "142557 2017-12-11.csv\n"
     ]
    },
    {
     "name": "stderr",
     "output_type": "stream",
     "text": [
      "C:\\ProgramData\\Anaconda3\\lib\\site-packages\\IPython\\core\\interactiveshell.py:2903: DtypeWarning: Columns (5) have mixed types. Specify dtype option on import or set low_memory=False.\n",
      "  if self.run_code(code, result):\n"
     ]
    },
    {
     "name": "stdout",
     "output_type": "stream",
     "text": [
      "0.021466668446858725 mins\n",
      "1:\n",
      "142601 2017-09-20.csv\n",
      "0.010046668847401937 mins\n",
      "1:\n",
      "142606 2017-10-13.csv\n",
      "0.008443331718444825 mins\n",
      "1:\n",
      "142600 2017-07-25.csv\n"
     ]
    },
    {
     "name": "stderr",
     "output_type": "stream",
     "text": [
      "C:\\ProgramData\\Anaconda3\\lib\\site-packages\\IPython\\core\\interactiveshell.py:2903: DtypeWarning: Columns (5) have mixed types. Specify dtype option on import or set low_memory=False.\n",
      "  if self.run_code(code, result):\n"
     ]
    },
    {
     "name": "stdout",
     "output_type": "stream",
     "text": [
      "0.011359997590382894 mins\n",
      "1:\n",
      "142621 2017-08-14.csv\n"
     ]
    },
    {
     "name": "stderr",
     "output_type": "stream",
     "text": [
      "C:\\ProgramData\\Anaconda3\\lib\\site-packages\\IPython\\core\\interactiveshell.py:2903: DtypeWarning: Columns (5) have mixed types. Specify dtype option on import or set low_memory=False.\n",
      "  if self.run_code(code, result):\n"
     ]
    },
    {
     "name": "stdout",
     "output_type": "stream",
     "text": [
      "0.015033336480458577 mins\n",
      "1:\n",
      "142620 2017-07-21.csv\n",
      "0.007286667823791504 mins\n",
      "1:\n",
      "142584 2017-11-29.csv\n"
     ]
    },
    {
     "name": "stderr",
     "output_type": "stream",
     "text": [
      "C:\\ProgramData\\Anaconda3\\lib\\site-packages\\IPython\\core\\interactiveshell.py:2903: DtypeWarning: Columns (5) have mixed types. Specify dtype option on import or set low_memory=False.\n",
      "  if self.run_code(code, result):\n"
     ]
    },
    {
     "name": "stdout",
     "output_type": "stream",
     "text": [
      "0.02439333200454712 mins\n",
      "1:\n",
      "142602 2017-12-12.csv\n"
     ]
    },
    {
     "name": "stderr",
     "output_type": "stream",
     "text": [
      "C:\\ProgramData\\Anaconda3\\lib\\site-packages\\IPython\\core\\interactiveshell.py:2903: DtypeWarning: Columns (5) have mixed types. Specify dtype option on import or set low_memory=False.\n",
      "  if self.run_code(code, result):\n"
     ]
    },
    {
     "name": "stdout",
     "output_type": "stream",
     "text": [
      "0.01780333121617635 mins\n",
      "1:\n",
      "142604 2017-11-27.csv\n"
     ]
    },
    {
     "name": "stderr",
     "output_type": "stream",
     "text": [
      "C:\\ProgramData\\Anaconda3\\lib\\site-packages\\IPython\\core\\interactiveshell.py:2903: DtypeWarning: Columns (5) have mixed types. Specify dtype option on import or set low_memory=False.\n",
      "  if self.run_code(code, result):\n"
     ]
    },
    {
     "name": "stdout",
     "output_type": "stream",
     "text": [
      "0.006490000089009603 mins\n",
      "1:\n",
      "142606 2017-08-16.csv\n",
      "0.009809998671213786 mins\n",
      "1:\n",
      "142557 2017-09-21.csv\n",
      "0.012073334058125813 mins\n",
      "1:\n",
      "142618 2017-08-14.csv\n",
      "0.023379997412363688 mins\n",
      "1:\n",
      "142577 2017-08-03.csv\n",
      "0.022266666094462078 mins\n",
      "1:\n",
      "142617 2017-07-17.csv\n",
      "0.010079999764760336 mins\n",
      "1:\n",
      "142566 2017-07-26.csv\n"
     ]
    },
    {
     "name": "stderr",
     "output_type": "stream",
     "text": [
      "C:\\ProgramData\\Anaconda3\\lib\\site-packages\\IPython\\core\\interactiveshell.py:2903: DtypeWarning: Columns (5) have mixed types. Specify dtype option on import or set low_memory=False.\n",
      "  if self.run_code(code, result):\n"
     ]
    },
    {
     "name": "stdout",
     "output_type": "stream",
     "text": [
      "0.01730999946594238 mins\n",
      "1:\n",
      "142582 2017-08-09.csv\n"
     ]
    },
    {
     "name": "stderr",
     "output_type": "stream",
     "text": [
      "C:\\ProgramData\\Anaconda3\\lib\\site-packages\\IPython\\core\\interactiveshell.py:2903: DtypeWarning: Columns (5) have mixed types. Specify dtype option on import or set low_memory=False.\n",
      "  if self.run_code(code, result):\n"
     ]
    },
    {
     "name": "stdout",
     "output_type": "stream",
     "text": [
      "0.02032999595006307 mins\n",
      "1:\n",
      "142594 2017-08-10.csv\n"
     ]
    },
    {
     "name": "stderr",
     "output_type": "stream",
     "text": [
      "C:\\ProgramData\\Anaconda3\\lib\\site-packages\\IPython\\core\\interactiveshell.py:2903: DtypeWarning: Columns (5) have mixed types. Specify dtype option on import or set low_memory=False.\n",
      "  if self.run_code(code, result):\n"
     ]
    },
    {
     "name": "stdout",
     "output_type": "stream",
     "text": [
      "0.012620000044504802 mins\n",
      "1:\n",
      "142557 2017-07-13.csv\n"
     ]
    },
    {
     "name": "stderr",
     "output_type": "stream",
     "text": [
      "C:\\ProgramData\\Anaconda3\\lib\\site-packages\\IPython\\core\\interactiveshell.py:2903: DtypeWarning: Columns (5) have mixed types. Specify dtype option on import or set low_memory=False.\n",
      "  if self.run_code(code, result):\n"
     ]
    },
    {
     "name": "stdout",
     "output_type": "stream",
     "text": [
      "0.015153336524963378 mins\n",
      "1:\n",
      "142601 2017-07-26.csv\n",
      "0.010173332691192628 mins\n",
      "1:\n",
      "142615 2018-01-22.csv\n"
     ]
    },
    {
     "name": "stderr",
     "output_type": "stream",
     "text": [
      "C:\\ProgramData\\Anaconda3\\lib\\site-packages\\IPython\\core\\interactiveshell.py:2903: DtypeWarning: Columns (5) have mixed types. Specify dtype option on import or set low_memory=False.\n",
      "  if self.run_code(code, result):\n"
     ]
    },
    {
     "name": "stdout",
     "output_type": "stream",
     "text": [
      "0.006850000222524007 mins\n",
      "1:\n",
      "142560 2017-07-03.csv\n",
      "0.014743336041768392 mins\n",
      "1:\n",
      "142592 2017-10-03.csv\n",
      "0.012913330396016439 mins\n",
      "1:\n",
      "142612 2017-08-15.csv\n",
      "0.011733333269755045 mins\n",
      "1:\n",
      "142594 2017-07-19.csv\n"
     ]
    },
    {
     "name": "stderr",
     "output_type": "stream",
     "text": [
      "C:\\ProgramData\\Anaconda3\\lib\\site-packages\\IPython\\core\\interactiveshell.py:2903: DtypeWarning: Columns (5) have mixed types. Specify dtype option on import or set low_memory=False.\n",
      "  if self.run_code(code, result):\n"
     ]
    },
    {
     "name": "stdout",
     "output_type": "stream",
     "text": [
      "0.013660001754760741 mins\n",
      "1:\n",
      "142622 2017-08-03.csv\n"
     ]
    },
    {
     "name": "stderr",
     "output_type": "stream",
     "text": [
      "C:\\ProgramData\\Anaconda3\\lib\\site-packages\\IPython\\core\\interactiveshell.py:2903: DtypeWarning: Columns (5) have mixed types. Specify dtype option on import or set low_memory=False.\n",
      "  if self.run_code(code, result):\n"
     ]
    },
    {
     "name": "stdout",
     "output_type": "stream",
     "text": [
      "0.01697333256403605 mins\n",
      "1:\n",
      "142581 2017-08-14.csv\n"
     ]
    },
    {
     "name": "stderr",
     "output_type": "stream",
     "text": [
      "C:\\ProgramData\\Anaconda3\\lib\\site-packages\\IPython\\core\\interactiveshell.py:2903: DtypeWarning: Columns (5) have mixed types. Specify dtype option on import or set low_memory=False.\n",
      "  if self.run_code(code, result):\n"
     ]
    },
    {
     "name": "stdout",
     "output_type": "stream",
     "text": [
      "0.00899333159128825 mins\n",
      "1:\n",
      "142608 2017-09-18.csv\n",
      "0.01188333034515381 mins\n",
      "1:\n",
      "142592 2017-07-27.csv\n",
      "0.010793332258860271 mins\n",
      "1:\n",
      "142583 2017-08-09.csv\n"
     ]
    },
    {
     "name": "stderr",
     "output_type": "stream",
     "text": [
      "C:\\ProgramData\\Anaconda3\\lib\\site-packages\\IPython\\core\\interactiveshell.py:2903: DtypeWarning: Columns (5) have mixed types. Specify dtype option on import or set low_memory=False.\n",
      "  if self.run_code(code, result):\n"
     ]
    },
    {
     "name": "stdout",
     "output_type": "stream",
     "text": [
      "0.020870002110799153 mins\n",
      "1:\n",
      "142570 2017-08-03.csv\n",
      "0.00797333319981893 mins\n",
      "1:\n",
      "142593 2017-08-03.csv\n",
      "0.01611666679382324 mins\n",
      "1:\n",
      "142580 2018-01-10.csv\n",
      "0.015113333861033121 mins\n",
      "1:\n",
      "142559 2017-07-06.csv\n"
     ]
    },
    {
     "name": "stderr",
     "output_type": "stream",
     "text": [
      "C:\\ProgramData\\Anaconda3\\lib\\site-packages\\IPython\\core\\interactiveshell.py:2903: DtypeWarning: Columns (5) have mixed types. Specify dtype option on import or set low_memory=False.\n",
      "  if self.run_code(code, result):\n"
     ]
    },
    {
     "name": "stdout",
     "output_type": "stream",
     "text": [
      "0.02023333708445231 mins\n",
      "1:\n",
      "142584 2018-02-21.csv\n",
      "0.012956666946411132 mins\n",
      "1:\n",
      "142598 2017-07-24.csv\n"
     ]
    },
    {
     "name": "stderr",
     "output_type": "stream",
     "text": [
      "C:\\ProgramData\\Anaconda3\\lib\\site-packages\\IPython\\core\\interactiveshell.py:2903: DtypeWarning: Columns (5) have mixed types. Specify dtype option on import or set low_memory=False.\n",
      "  if self.run_code(code, result):\n"
     ]
    },
    {
     "name": "stdout",
     "output_type": "stream",
     "text": [
      "0.016443332036336262 mins\n",
      "1:\n",
      "142604 2017-07-21.csv\n"
     ]
    },
    {
     "name": "stderr",
     "output_type": "stream",
     "text": [
      "C:\\ProgramData\\Anaconda3\\lib\\site-packages\\IPython\\core\\interactiveshell.py:2903: DtypeWarning: Columns (5) have mixed types. Specify dtype option on import or set low_memory=False.\n",
      "  if self.run_code(code, result):\n"
     ]
    },
    {
     "name": "stdout",
     "output_type": "stream",
     "text": [
      "0.016376670201619467 mins\n",
      "1:\n",
      "142603 2017-07-31.csv\n",
      "0.016126664479573567 mins\n",
      "1:\n",
      "142595 2017-08-22.csv\n"
     ]
    },
    {
     "name": "stderr",
     "output_type": "stream",
     "text": [
      "C:\\ProgramData\\Anaconda3\\lib\\site-packages\\IPython\\core\\interactiveshell.py:2903: DtypeWarning: Columns (5) have mixed types. Specify dtype option on import or set low_memory=False.\n",
      "  if self.run_code(code, result):\n"
     ]
    },
    {
     "name": "stdout",
     "output_type": "stream",
     "text": [
      "0.0289133350054423 mins\n",
      "1:\n",
      "142593 2017-07-20.csv\n"
     ]
    },
    {
     "name": "stderr",
     "output_type": "stream",
     "text": [
      "C:\\ProgramData\\Anaconda3\\lib\\site-packages\\IPython\\core\\interactiveshell.py:2903: DtypeWarning: Columns (5) have mixed types. Specify dtype option on import or set low_memory=False.\n",
      "  if self.run_code(code, result):\n"
     ]
    },
    {
     "name": "stdout",
     "output_type": "stream",
     "text": [
      "0.023329997062683107 mins\n",
      "1:\n",
      "142602 2017-08-03.csv\n",
      "0.013233331839243571 mins\n",
      "1:\n",
      "142595 2018-01-10.csv\n"
     ]
    },
    {
     "name": "stderr",
     "output_type": "stream",
     "text": [
      "C:\\ProgramData\\Anaconda3\\lib\\site-packages\\IPython\\core\\interactiveshell.py:2903: DtypeWarning: Columns (5) have mixed types. Specify dtype option on import or set low_memory=False.\n",
      "  if self.run_code(code, result):\n"
     ]
    },
    {
     "name": "stdout",
     "output_type": "stream",
     "text": [
      "0.013036664326985676 mins\n",
      "1:\n",
      "142621 2017-07-21.csv\n"
     ]
    },
    {
     "name": "stderr",
     "output_type": "stream",
     "text": [
      "C:\\ProgramData\\Anaconda3\\lib\\site-packages\\IPython\\core\\interactiveshell.py:2903: DtypeWarning: Columns (5) have mixed types. Specify dtype option on import or set low_memory=False.\n",
      "  if self.run_code(code, result):\n"
     ]
    },
    {
     "name": "stdout",
     "output_type": "stream",
     "text": [
      "0.01972333590189616 mins\n"
     ]
    }
   ],
   "source": [
    "for file in files:\n",
    "    merge_file(file)"
   ]
  },
  {
   "cell_type": "code",
   "execution_count": 10,
   "metadata": {},
   "outputs": [],
   "source": [
    "# pool = ThreadPool()\n",
    "# pool.map(merge_file, files)\n",
    "# pool.close()\n",
    "# pool.join()"
   ]
  }
 ],
 "metadata": {
  "kernelspec": {
   "display_name": "Python 3",
   "language": "python",
   "name": "python3"
  },
  "language_info": {
   "codemirror_mode": {
    "name": "ipython",
    "version": 3
   },
   "file_extension": ".py",
   "mimetype": "text/x-python",
   "name": "python",
   "nbconvert_exporter": "python",
   "pygments_lexer": "ipython3",
   "version": "3.6.5"
  }
 },
 "nbformat": 4,
 "nbformat_minor": 2
}
