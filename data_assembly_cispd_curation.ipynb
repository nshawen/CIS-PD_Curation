{
 "cells": [
  {
   "cell_type": "markdown",
   "metadata": {},
   "source": [
    "# Assemble data for CIS-PD Curation"
   ]
  },
  {
   "cell_type": "markdown",
   "metadata": {},
   "source": [
    "1. Create table/file (tasktimestamp.csv) with subjid, visit, task, start timestamp, stop timestamp\n",
    "2. Create table/file for sensor info\n",
    "3. Create table/file for sensor serial number info for each subject"
   ]
  },
  {
   "cell_type": "markdown",
   "metadata": {},
   "source": [
    "Completed 10-4-18"
   ]
  },
  {
   "cell_type": "markdown",
   "metadata": {},
   "source": [
    "Project status:\n",
    "- Complete: Table 1, 2, 3\n",
    "- In progress: Create summary table"
   ]
  },
  {
   "cell_type": "markdown",
   "metadata": {
    "heading_collapsed": true
   },
   "source": [
    "# Import packages"
   ]
  },
  {
   "cell_type": "code",
   "execution_count": 3,
   "metadata": {
    "ExecuteTime": {
     "end_time": "2018-10-02T13:30:29.382834Z",
     "start_time": "2018-10-02T13:30:21.547485Z"
    },
    "hidden": true
   },
   "outputs": [],
   "source": [
    "# import packages\n",
    "import os\n",
    "import pandas as pd\n",
    "import numpy as np\n",
    "import re\n",
    "import pathlib"
   ]
  },
  {
   "cell_type": "markdown",
   "metadata": {
    "heading_collapsed": true
   },
   "source": [
    "# Table 1 - task and timestamp\n",
    "- output: //FS2.smpp.local\\RTO\\CIS-PD Study\\MJFF Curation\\task_timestamp.csv"
   ]
  },
  {
   "cell_type": "code",
   "execution_count": null,
   "metadata": {
    "ExecuteTime": {
     "end_time": "2018-10-04T14:14:37.680207Z",
     "start_time": "2018-10-04T14:14:37.653244Z"
    },
    "hidden": true
   },
   "outputs": [],
   "source": [
    "path = r'//FS2.smpp.local\\RTO\\CIS-PD Study\\MJFF Curation\\TaskAcc'\n",
    "\n",
    "# get all filenames\n",
    "list = []\n",
    "for root, dirs, files in os.walk(path, topdown=True):\n",
    "    for filenames in files:\n",
    "        if filenames.endswith('.csv'):\n",
    "            p = pathlib.Path(os.path.join(root, filenames))\n",
    "            name = str(p.relative_to(path)).split(\"\\\\\")[0]\n",
    "            list.append(name)\n",
    "df = pd.DataFrame({'filename':list})\n",
    "\n",
    "# split filename into separate columns\n",
    "temp = pd.DataFrame(df.filename.str.replace('\\.csv',''))\n",
    "temp.filename = temp.filename.str.split('_')\n",
    "id_list = []\n",
    "time_list = []\n",
    "task_list = []\n",
    "for j,k,l in temp.filename:\n",
    "    id_list.append(j)\n",
    "    time_list.append(k)\n",
    "    task_list.append(l)\n",
    "subjid = np.asarray(id_list)\n",
    "time = np.asarray(time_list)\n",
    "task = np.asarray(task_list)\n",
    "df['subjid'] = subjid\n",
    "df['time'] = time\n",
    "df['task'] = task\n",
    "\n",
    "# extract start/stop timestamps\n",
    "# empty lists\n",
    "start = []\n",
    "stop = []\n",
    "# extract start and stop timeframes in each file (which is each task)\n",
    "for i in df.filename:\n",
    "    filename = i\n",
    "    tempfile = pd.read_csv(os.path.join(path,filename))\n",
    "    start.append(tempfile.timestamp.iloc[0])\n",
    "    stop.append(tempfile.timestamp.iloc[-1])  \n",
    "# add columns to df\n",
    "start = np.asarray(start)\n",
    "stop = np.asarray(stop)\n",
    "df['start timestamp'] = start\n",
    "df['stop timestamp'] = stop\n",
    "\n",
    "# change time to full visit name\n",
    "oldname = ['0','1','2','3','4','5','6']\n",
    "newname = ['2 Weeks: Time 0', \n",
    "           '2 Weeks: Time 30', \n",
    "           '2 Weeks: Time 60', \n",
    "           '2 Weeks: Time 90', \n",
    "           '2 Weeks: Time 120', \n",
    "           '2 Weeks: Time 150', \n",
    "           '1 Month']\n",
    "namechange = dict(zip(oldname, newname))\n",
    "df = df.replace({'time':namechange})\n",
    "\n",
    "# convert task short name to full name\n",
    "key = ['Shaking', 'Stndg', 'Wlkg', 'WlkgCnt', 'FtnR', 'FtnL', 'RamR', 'RamL', 'SitStand', \n",
    "       'Drwg', 'Typg', 'NtsBts', 'Drnkg', 'Sheets', 'Fldg', 'Sitng']\n",
    "value = ['Shaking','Standing','Walking','Walking while counting',\n",
    "         'Finger to nose--right hand', 'Finger to nose--left hand',\n",
    "         'Alternating right hand movements', 'Alternating left hand movements',\n",
    "         'Sit to stand','Drawing on a paper',\n",
    "         'Typing on a computer keyboard','Assembling nuts and bolts',\n",
    "         'Taking a glass of water and drinking','Organizing sheets in a folder',\n",
    "         'Folding towels','Sitting']\n",
    "name_dict = dict(zip(key,value))\n",
    "df.task = df.task.map(name_dict)\n",
    "\n",
    "# delete column\n",
    "del df['filename']\n",
    "\n",
    "# change column names\n",
    "df.columns = ['SubjID', 'Visit', 'Task', 'Start Timestamp (UTC)', 'Stop Timestamp (UTC)']\n",
    "\n",
    "# save file\n",
    "savepath = r'//FS2.smpp.local\\RTO\\CIS-PD Study\\MJFF Curation'\n",
    "finalname = os.path.join(savepath,'task_timestamp.csv')\n",
    "with open(finalname,'wb') as f:\n",
    "    df.to_csv(finalname, sep=',')"
   ]
  },
  {
   "cell_type": "markdown",
   "metadata": {
    "hidden": true
   },
   "source": [
    "## Skip: Functions - if time"
   ]
  },
  {
   "cell_type": "code",
   "execution_count": 41,
   "metadata": {
    "ExecuteTime": {
     "end_time": "2018-09-25T15:34:27.109585Z",
     "start_time": "2018-09-25T15:34:27.106591Z"
    },
    "hidden": true
   },
   "outputs": [],
   "source": [
    "def extract_data(path):\n",
    "    \"\"\"Open each csv file, extract metadata from filename and first and last timestamps.\"\"\"\n",
    "#     locations = [locs for locs in os.listdir(path) if os.path.isdir(os.path.join(path, locs))]\n",
    "    list = []\n",
    "\n",
    "    for root, dirs, files in os.walk(path, topdown=True):\n",
    "        for filenames in files:\n",
    "            if filenames.endswith('.csv'):\n",
    "                p = pathlib.Path(os.path.join(root, filenames))\n",
    "                name = str(p.relative_to(path)).split(\"\\\\\")[0]\n",
    "    #             series = series.append(name)\n",
    "                list.append(name)\n",
    "\n",
    "    df = pd.DataFrame(list,columns=['subjid'])\n"
   ]
  },
  {
   "cell_type": "markdown",
   "metadata": {},
   "source": [
    "# Question for Table 2\n",
    "- ranges?"
   ]
  },
  {
   "cell_type": "markdown",
   "metadata": {},
   "source": [
    "# Table 2 - sensor info\n",
    "- Refer to PD Study Sensor Guide for info\n",
    "    - Path: CIS-PD Study/PD Sensor Guides\n",
    "- output: //FS2.smpp.local\\RTO\\CIS-PD Study\\MJFF Curation\\sensor_info.csv"
   ]
  },
  {
   "cell_type": "code",
   "execution_count": 58,
   "metadata": {
    "ExecuteTime": {
     "end_time": "2018-10-02T14:48:10.923051Z",
     "start_time": "2018-10-02T14:48:10.915072Z"
    }
   },
   "outputs": [],
   "source": [
    "# sensor name\n",
    "sensorlocs = ['medial_chest', \n",
    "              'flexor_digitorum_right',\n",
    "              'flexor_digitorum_left',\n",
    "              'anterior_thigh_right',\n",
    "              'anterior_thigh_left', \n",
    "              'distal_lateral_shank_right',\n",
    "              'distal_lateral_shank_left',\n",
    "              'sacrum',\n",
    "              'dorsal_hand_right', \n",
    "              'dorsal_hand_left']\n",
    "\n",
    "# sensor name type\n",
    "sensorname = ['ECG/EMG (KHz)', 'Accel (Hz)', 'Gyro (Hz)']\n",
    "\n",
    "# sensor frequency\n",
    "freq_e = [1]*3 + [None]*7\n",
    "freq_a = [31.25]*3 + [62.5]*7\n",
    "freq_g = [None]*3 + [62.5]*7\n",
    "\n",
    "# landmarks\n",
    "landmark = [\n",
    "# medial_chest - Halfway between base of throat and bottom of sternum (xiphoid process)\n",
    "            'Halfway between base of throat and bottom of sternum (xiphoid process)',\n",
    "# flexor_digitorum_right (Wrist Flexors)\n",
    "            'On top of Wrist Flexors',\n",
    "# flexor_digitorum_left(Wrist Flexors)\n",
    "            'On top of Wrist Flexors',\n",
    "# anterior_thigh_right (proximal of Epicondyles)\n",
    "            'Proximal of Femur Epicondyles',\n",
    "# anterior_thigh_left (proximal of Epicondyles)\n",
    "            'Proximal of Femur Epicondyles',\n",
    "# distal_lateral_shank_right (along fibula, proximal of Lateral Malleolus)\n",
    "            'Proximal of Fibular Lateral Malleolus',\n",
    "# distal_lateral_shank_left (along fibula, proximal of Lateral Malleolus)\n",
    "            'Proximal of Fibular Lateral Malleolus',\n",
    "# sacrum - (slightly superior of Posterior Superior Iliac Spine (PSIS))\n",
    "            'Superior of Posterior Superior Iliac Spine (PSIS)',\n",
    "# dorsal_hand_right - thick end away from thumb\n",
    "            'Pointing away from thumb, Parallel to wrist joint',\n",
    "# dorsal_hand_left - thick end away from thumb\n",
    "            'Pointing away from thumb, Parallel to wrist joint']\n",
    "\n",
    "# axis direction\n",
    "axisname = ['X-axis orientation', 'Y-axis orientation', 'Z-axis orientation']\n",
    "axis_x = ['Left','Inferior','Inferior','Inferior','Inferior',\n",
    "          'Inferior','Inferior','Right','Lateral','Lateral']\n",
    "axis_y = ['Superior','Medial','Lateral','Medial','Lateral',\n",
    "          'Anterior','Posterior','Superior','Superior','Inferior']\n",
    "axis_z = ['Anterior','Anterior','Anterior','Anterior','Anterior',\n",
    "          'Lateral','Lateral','Posterior','Posterior','Posterior']\n",
    "\n",
    "# name of columns\n",
    "colnames = ['Sensor Location']+sensorname+['Description of Landmarks']+axisname\n",
    "\n",
    "# assemble dataframe\n",
    "sensordf = pd.DataFrame({'Sensor Location':sensorlocs,\n",
    "                         'ECG/EMG (KHz)':freq_e,\n",
    "                         'Accel (Hz)':freq_a,\n",
    "                         'Gyro (Hz)':freq_g,\n",
    "                         'Description of Landmarks':landmark,\n",
    "                         'X-axis orientation':axis_x, \n",
    "                         'Y-axis orientation':axis_y, \n",
    "                         'Z-axis orientation':axis_z\n",
    "                        })\n",
    "\n",
    "# save file\n",
    "savepath = r'//FS2.smpp.local\\RTO\\CIS-PD Study\\MJFF Curation'\n",
    "finalname = os.path.join(savepath,'sensor_info.csv')\n",
    "with open(finalname,'wb') as f:\n",
    "    sensordf.to_csv(finalname, sep=',')"
   ]
  },
  {
   "cell_type": "code",
   "execution_count": 311,
   "metadata": {
    "ExecuteTime": {
     "end_time": "2018-09-26T15:18:14.413489Z",
     "start_time": "2018-09-26T15:18:14.406507Z"
    },
    "code_folding": [
     0
    ]
   },
   "outputs": [],
   "source": [
    "# Tidy version - sensor type and frequency separated, without axis orientation info\n",
    "\n",
    "# sensor name\n",
    "sensorlocs = ['medial_chest', 'medial_chest',\n",
    "              'flexor_digitorum_right','flexor_digitorum_right',\n",
    "              'flexor_digitorum_left','flexor_digitorum_left',\n",
    "              'anterior_thigh_right','anterior_thigh_right',\n",
    "              'anterior_thigh_left', 'anterior_thigh_left',\n",
    "              'distal_lateral_shank_right','distal_lateral_shank_right',\n",
    "              'distal_lateral_shank_left','distal_lateral_shank_left',\n",
    "              'sacrum','sacrum',\n",
    "              'dorsal_hand_right', 'dorsal_hand_right',\n",
    "              'dorsal_hand_left', 'dorsal_hand_left']\n",
    "\n",
    "# sensor type\n",
    "type1 = ['ECG', 'Accel'] + ['EMG', 'Accel']*2\n",
    "type2 = ['Gyro', 'Accel']*7\n",
    "sensortype = type1 + type2\n",
    "\n",
    "# sensor frequency\n",
    "freq1 = [1000, 31.25]*3\n",
    "freq2 = [62.5]*2*7\n",
    "freq = freq1 + freq2\n",
    "\n",
    "# landmarks\n",
    "# medial_chest - Halfway between base of throat and bottom of sternum (xiphoid process)\n",
    "landmark = ['Halfway between base of throat and bottom of sternum (xiphoid process)',\n",
    "            'Halfway between base of throat and bottom of sternum (xiphoid process)',\n",
    "# flexor_digitorum_right (Wrist Flexors)\n",
    "            'On top of Wrist Flexors',\n",
    "            'On top of Wrist Flexors',\n",
    "# flexor_digitorum_left(Wrist Flexors)\n",
    "            'On top of Wrist Flexors',\n",
    "            'On top of Wrist Flexors',\n",
    "# anterior_thigh_right (proximal of Epicondyles)\n",
    "            'Proximal of Femur Epicondyles',\n",
    "            'Proximal of Femur Epicondyles',\n",
    "# anterior_thigh_left (proximal of Epicondyles)\n",
    "            'Proximal of Femur Epicondyles',\n",
    "            'Proximal of Femur Epicondyles',\n",
    "# distal_lateral_shank_right (along fibula, proximal of Lateral Malleolus)\n",
    "            'Proximal of Fibular Lateral Malleolus',\n",
    "            'Proximal of Fibular Lateral Malleolus',\n",
    "# distal_lateral_shank_left (along fibula, proximal of Lateral Malleolus)\n",
    "            'Proximal of Fibular Lateral Malleolus',\n",
    "            'Proximal of Fibular Lateral Malleolus',\n",
    "# sacrum - (slightly superior of Posterior Superior Iliac Spine (PSIS))\n",
    "            'Superior of Posterior Superior Iliac Spine (PSIS)',\n",
    "            'Superior of Posterior Superior Iliac Spine (PSIS)',\n",
    "# dorsal_hand_right - thick end away from thumb\n",
    "            'Pointing away from thumb, Parallel to wrist joint',\n",
    "            'Pointing away from thumb, Parallel to wrist joint',\n",
    "# dorsal_hand_left - thick end away from thumb\n",
    "            'Pointing away from thumb, Parallel to wrist joint',\n",
    "            'Pointing away from thumb, Parallel to wrist joint']\n",
    "\n",
    "# name of columns\n",
    "colnames = ['Sensor Location','Sensor Type','Frequency (Hz)','Description of Landmarks']\n",
    "\n",
    "# sensordf = pd.DataFrame(templist, columns=colnames)\n",
    "sensordf = pd.DataFrame({'Sensor Location':sensorlocs,\n",
    "                         'Sensor Type':sensortype,\n",
    "                         'Frequency (Hz)':freq,\n",
    "                         'Description of Landmarks':landmark})"
   ]
  },
  {
   "cell_type": "markdown",
   "metadata": {
    "heading_collapsed": true
   },
   "source": [
    "# Table 3 - sensor location, sensor serial number\n",
    "- output: //FS2.smpp.local\\RTO\\CIS-PD Study\\MJFF Curation\\sensor_serialnum.csv\n",
    "- optional: use pathlib to clean up code"
   ]
  },
  {
   "cell_type": "code",
   "execution_count": 297,
   "metadata": {
    "ExecuteTime": {
     "end_time": "2018-10-04T13:35:35.944041Z",
     "start_time": "2018-10-04T13:35:32.866774Z"
    },
    "hidden": true
   },
   "outputs": [],
   "source": [
    "# Part 1: Create dataframe (tidy version) with sensor location and serial number\n",
    "\n",
    "# walk path down and grab subjid, sensor location, and serial #\n",
    "table3path = r'//FS2.smpp.local\\RTO\\CIS-PD Study\\Subjects'\n",
    "\n",
    "list = []\n",
    "\n",
    "for root, dirs, files in os.walk(table3path, topdown=True):\n",
    "    for d in dirs:\n",
    "        p = pathlib.Path(os.path.join(root, d))\n",
    "        list.append(str(p))\n",
    "\n",
    "# cut beginning part of path\n",
    "list = [l.replace('\\\\\\\\FS2.smpp.local\\\\RTO\\\\CIS-PD Study\\\\Subjects\\\\','') for l in list]        \n",
    "\n",
    "# split list such that each element is a subfolder\n",
    "splitlist = [l.split(\"\\\\\") for l in list]\n",
    "\n",
    "# extract paths with subjid, sensor location, serial number, and timestamp info\n",
    "templist = []\n",
    "for i, j in enumerate(splitlist):\n",
    "    if len(j)==4:\n",
    "        templist.append(j)\n",
    "\n",
    "# assemble dataframe\n",
    "colnames = ['SubjID','Sensor Location','Serial Number','Visit']\n",
    "df = pd.DataFrame(templist, columns=colnames)\n",
    "\n",
    "# clean up sensor location values\n",
    "df['Sensor Location'] = df['Sensor Location'].str.replace('_', ' ')\n",
    "\n",
    "# Keep date info only in Visit\n",
    "for i, j in enumerate(df.Visit):\n",
    "   df.Visit[i] = j[0:10]\n",
    "\n",
    "# drop duplicate Visit\n",
    "df.drop_duplicates(subset=None, keep=\"first\", inplace=True)\n",
    "\n",
    "# order by Visit\n",
    "df.sort_values(by=['SubjID', 'Sensor Location', 'Visit'])\n",
    "\n",
    "# reset index\n",
    "df.reset_index(drop=True, inplace=True)\n",
    "\n",
    "# loop through rows 0-299 and alternate fill '2 weeks' and '4 weeks'\n",
    "for i, j in enumerate(df.Visit):\n",
    "    if(i%2==0 and i<300):\n",
    "        df.Visit[i] = '2 weeks'\n",
    "    elif(i%2==1 and i<300):\n",
    "        df.Visit[i] = '4 weeks'\n",
    "\n",
    "# label Fluctuator Visit as '2 weeks'\n",
    "for i in range(300,len(df)):\n",
    "    df.Visit[i]='2 weeks'\n",
    "\n",
    "# remove Fluctuator subject 1056 values - refer to Paper copy for correct serial numbers\n",
    "removerow = [341,343,344,346,348,350,355]\n",
    "for i in removerow:\n",
    "    df.drop([i], inplace=True)\n",
    "df.reset_index(drop=True, inplace=True)"
   ]
  },
  {
   "cell_type": "code",
   "execution_count": 298,
   "metadata": {
    "ExecuteTime": {
     "end_time": "2018-10-04T13:35:37.084522Z",
     "start_time": "2018-10-04T13:35:37.059617Z"
    },
    "hidden": true
   },
   "outputs": [],
   "source": [
    "# Part 2: Rearrange sensor locations as columns with serial numbers as values\n",
    "# Output: multilevel dataframe with sensor locations as column names and serial numbers as values\n",
    "        \n",
    "# use hierarchical index and unstack to pivot sensor location to column and serial number as value\n",
    "df.set_index(['SubjID','Visit','Sensor Location'], inplace=True)\n",
    "df.sort_index(inplace=True)\n",
    "unstackdf = df.unstack('Sensor Location')\n",
    "# reindex to row numbers\n",
    "unstackdf.reset_index()\n",
    "\n",
    "# save multilevel dataframe as csv\n",
    "savepath = r'//FS2.smpp.local\\RTO\\CIS-PD Study\\MJFF Curation'\n",
    "finalname = os.path.join(savepath,'sensor_serialnum.csv')\n",
    "with open(finalname,'wb') as f:\n",
    "    unstackdf.to_csv(finalname, sep=',')"
   ]
  }
 ],
 "metadata": {
  "kernelspec": {
   "display_name": "Python 3",
   "language": "python",
   "name": "python3"
  },
  "language_info": {
   "codemirror_mode": {
    "name": "ipython",
    "version": 3
   },
   "file_extension": ".py",
   "mimetype": "text/x-python",
   "name": "python",
   "nbconvert_exporter": "python",
   "pygments_lexer": "ipython3",
   "version": "3.6.5"
  }
 },
 "nbformat": 4,
 "nbformat_minor": 2
}
