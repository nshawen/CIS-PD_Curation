{
 "cells": [
  {
   "cell_type": "code",
   "execution_count": 70,
   "metadata": {},
   "outputs": [],
   "source": [
    "import pandas as pd\n",
    "import numpy as np\n",
    "import seaborn as sns"
   ]
  },
  {
   "cell_type": "code",
   "execution_count": 4,
   "metadata": {},
   "outputs": [],
   "source": [
    "D = pd.read_hdf('//FS2.smpp.local\\RTO\\CIS-PD MUSC\\decoded_forms\\\\form509.h5')"
   ]
  },
  {
   "cell_type": "code",
   "execution_count": 5,
   "metadata": {},
   "outputs": [
    {
     "data": {
      "text/plain": [
       "0    Left\n",
       "1    Left\n",
       "2    Left\n",
       "3    Left\n",
       "4    Left\n",
       "5    Left\n",
       "6    Left\n",
       "Name: Q03, dtype: object"
      ]
     },
     "execution_count": 5,
     "metadata": {},
     "output_type": "execute_result"
    }
   ],
   "source": [
    "D[D.SubjectCode==1003.0].Q03"
   ]
  },
  {
   "cell_type": "code",
   "execution_count": 32,
   "metadata": {},
   "outputs": [],
   "source": [
    "taskList = np.array(['Standing', 'Walking', 'Walking while counting', 'Finger to nose--right hand', \n",
    "                     'Finger to nose--left hand', 'Alternating right hand movements', \n",
    "                     'Alternating left hand movements', 'Sit to stand', 'Drawing on a paper', \n",
    "                     'Typing on a computer keyboard', 'Assembling nuts and bolts', \n",
    "                     'Taking a glass of water and drinking', 'Organizing sheets in a folder', 'Folding towels', \n",
    "                     'Sitting'])\n",
    "taskList_Abb = np.array(['Stndg', 'Wlkg', 'WlkgCnt', 'FtnR', 'FtnL', 'RamR', 'RamL', 'SitStand', \n",
    "                         'Drwg', 'Typg', 'NtsBts', 'Drnkg', 'Sheets', 'Fldg', 'Sitng'])"
   ]
  },
  {
   "cell_type": "code",
   "execution_count": 60,
   "metadata": {},
   "outputs": [],
   "source": [
    "Questions = pd.read_sas('//FS2.smpp.local\\RTO\\CIS-PD MUSC\\datadictionary.sas7bdat')\n",
    "Questions = Questions[Questions.zFormID == 509.0]\n",
    "Questions = Questions.drop(columns = list(set(Questions.columns)-set(['zFieldNm','zFieldNb'])))\n",
    "Questions.zFieldNm = Questions.zFieldNm.apply(\n",
    "    lambda x: x.replace(b'\\x92',b\"'\").replace(b'\\x97',b'--').decode() if isinstance(x, bytes) else x)\n",
    "Questions.zFieldNb = Questions.zFieldNb.apply(\n",
    "    lambda x: x.replace(b'\\x92',b\"'\").replace(b'\\x97',b'--').decode() if isinstance(x, bytes) else x)\n",
    "## Correct Typos\n",
    "Questions.loc[Questions.zFieldNm=='Walking  tremor left upper limb rating','zFieldNm'] = 'Walking tremor left upper limb rating'\n",
    "Questions.loc[Questions.zFieldNb=='Q70','zFieldNm'] = 'Alternating left hand movements tremor right upper limb rating'\n",
    "Questions.loc[Questions.zFieldNb=='Q145','zFieldNm'] = 'Sitting tremor right upper limb rating'"
   ]
  },
  {
   "cell_type": "code",
   "execution_count": 66,
   "metadata": {
    "scrolled": true
   },
   "outputs": [
    {
     "name": "stdout",
     "output_type": "stream",
     "text": [
      "1005.0 2 Weeks: Time 120 nan\n",
      "1005.0 1 Month nan\n",
      "1020.0 2 Weeks: Time 0 nan\n",
      "1020.0 2 Weeks: Time 30 nan\n",
      "1020.0 2 Weeks: Time 60 nan\n",
      "1020.0 2 Weeks: Time 90 nan\n",
      "1020.0 2 Weeks: Time 120 nan\n",
      "1020.0 2 Weeks: Time 150 nan\n",
      "1047.0 1 Month nan\n",
      "1048.0 2 Weeks: Time 150 nan\n"
     ]
    }
   ],
   "source": [
    "AllScores = pd.DataFrame()\n",
    "for ind in D.index:\n",
    "    row = D.loc[ind,:]\n",
    "    side = row.Q03\n",
    "    try:\n",
    "        side = side.lower()\n",
    "    except(AttributeError):\n",
    "        print(row.SubjectCode, row.VisitNm, row.Q03)\n",
    "        continue\n",
    "    RowScores = pd.DataFrame(columns=taskList_Abb, index=[ind])\n",
    "    for task, task_abr in zip(taskList,taskList_Abb):\n",
    "        QInd = Questions.zFieldNm==task+' tremor '+side+' upper limb rating'\n",
    "        QNum = Questions[QInd].zFieldNb\n",
    "#         print(task+' tremor '+side+' upper limb rating',row[QNum].values)\n",
    "        RowScores[task_abr] = row[QNum].values[0]\n",
    "    AllScores = pd.concat((AllScores,RowScores))\n",
    "    "
   ]
  },
  {
   "cell_type": "code",
   "execution_count": 71,
   "metadata": {},
   "outputs": [
    {
     "data": {
      "text/plain": [
       "<matplotlib.axes._subplots.AxesSubplot at 0xe034518>"
      ]
     },
     "execution_count": 71,
     "metadata": {},
     "output_type": "execute_result"
    },
    {
     "data": {
      "image/png": "[encoded data removed]",
      "text/plain": [
       "<matplotlib.figure.Figure at 0xa977e48>"
      ]
     },
     "metadata": {},
     "output_type": "display_data"
    }
   ],
   "source": [
    "sns.heatmap(AllScores.corr())"
   ]
  },
  {
   "cell_type": "code",
   "execution_count": 30,
   "metadata": {},
   "outputs": [
    {
     "data": {
      "text/plain": [
       "(197, 151)"
      ]
     },
     "execution_count": 30,
     "metadata": {},
     "output_type": "execute_result"
    }
   ],
   "source": [
    "D.shape"
   ]
  },
  {
   "cell_type": "code",
   "execution_count": null,
   "metadata": {},
   "outputs": [],
   "source": []
  }
 ],
 "metadata": {
  "kernelspec": {
   "display_name": "Python 3",
   "language": "python",
   "name": "python3"
  },
  "language_info": {
   "codemirror_mode": {
    "name": "ipython",
    "version": 3
   },
   "file_extension": ".py",
   "mimetype": "text/x-python",
   "name": "python",
   "nbconvert_exporter": "python",
   "pygments_lexer": "ipython3",
   "version": "3.6.4"
  }
 },
 "nbformat": 4,
 "nbformat_minor": 2
}
