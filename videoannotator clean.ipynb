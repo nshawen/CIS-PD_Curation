{
 "cells": [
  {
   "cell_type": "markdown",
   "metadata": {},
   "source": [
    "# Clean data from video annotator"
   ]
  },
  {
   "cell_type": "markdown",
   "metadata": {},
   "source": [
    "Create a script to clean data from video annotator\n",
    "\n",
    "install python video annotator: http://pythonvideoannotator.readthedocs.io/en/master/"
   ]
  },
  {
   "cell_type": "markdown",
   "metadata": {},
   "source": [
    "## Run Video Annotator in Terminal\n",
    "\n",
    "### for windows:\n",
    "- activate videoannotator\n",
    "- python -m pythonvideoannotator\n",
    "\n",
    "### for mac:\n",
    "- source activate videoannotator\n",
    "- python -m pythonvideoannotator"
   ]
  },
  {
   "cell_type": "markdown",
   "metadata": {},
   "source": [
    "## List of tasks\n",
    "self.taskList = np.array(['Shaking', 'Standing', 'Walking', 'Walking while counting', 'Finger to nose--right hand', \n",
    "                          'Finger to nose--left hand', 'Alternating right hand movements', \n",
    "                          'Alternating left hand movements', 'Sit to stand', 'Drawing on a paper', \n",
    "                          'Typing on a computer keyboard', 'Assembling nuts and bolts', 'Taking a glass of water',\n",
    "                          'Organizing sheets in a folder', 'Folding towels', 'Sitting'])"
   ]
  },
  {
   "cell_type": "markdown",
   "metadata": {},
   "source": [
    "Shaking\n",
    "Standing\n",
    "Walking\n",
    "Walking while counting\n",
    "Finger to nose--right hand\n",
    "Finger to nose--left hand\n",
    "Alternating right hand movements\n",
    "Alternating left hand movements\n",
    "Sit to stand\n",
    "Drawing on a paper\n",
    "Typing on a computer keyboard\n",
    "Assembling nuts and bolts\n",
    "Taking a glass of water\n",
    "Organizing sheets in a folder\n",
    "Folding towels\n",
    "Sitting"
   ]
  },
  {
   "cell_type": "code",
   "execution_count": null,
   "metadata": {},
   "outputs": [],
   "source": [
    "# For Joe's computer\n",
    "# cd Y:"
   ]
  },
  {
   "cell_type": "code",
   "execution_count": 1,
   "metadata": {},
   "outputs": [],
   "source": [
    "# Importing the Libraries\n",
    "import os\n",
    "import numpy as np\n",
    "import pandas as pd\n",
    "import seaborn as sns\n",
    "import matplotlib.pyplot as plt\n",
    "import re\n",
    "\n",
    "#import datetime as dt\n",
    "#import pathlib\n",
    "#import pickle\n",
    "#from itertools import product\n",
    "#from scipy.stats import skew, kurtosis, pearsonr\n",
    "#from scipy.signal import butter, welch, filtfilt, resample\n",
    "#import time\n",
    "#import copy"
   ]
  },
  {
   "cell_type": "code",
   "execution_count": 2,
   "metadata": {},
   "outputs": [],
   "source": [
    "# specify path\n",
    "#path = r'C:\\Users\\lu-rt&o\\Documents\\GitHub\\CIS-PD MUSC\\CIS-PD-MUSC'\n",
    "#path = r'C:\\Users\\lu-rt&o\\pythonVideoAnnotator'\n",
    "path = r'Y:\\CIS-PD Videos\\Cisnwh8'"
   ]
  },
  {
   "cell_type": "markdown",
   "metadata": {},
   "source": [
    "## Videoannotator rows correspond to video cycle number"
   ]
  },
  {
   "cell_type": "code",
   "execution_count": null,
   "metadata": {},
   "outputs": [],
   "source": [
    "# add subject id column"
   ]
  },
  {
   "cell_type": "code",
   "execution_count": 3,
   "metadata": {},
   "outputs": [],
   "source": [
    "def dataclean(file):    \n",
    "    colnames = ['subject code', '1', 'start time', 'stop time', 'activity', '2', 'cycle']\n",
    "    selectedcol= ['subject code','start time', 'stop time', 'activity', 'cycle']\n",
    "    #df = pd.read_csv(os.path.join(path, 'cycle1.csv'), names=colnames, usecols=selectedcol)\n",
    "    filename = os.path.join(path, file) # ie. file = 'cycle1.csv'\n",
    "    df = pd.read_csv(filename, names=colnames, usecols=selectedcol)\n",
    "    df = df.dropna()\n",
    "    df['cycle'] += 1\n",
    "    df['stop time'] = pd.to_numeric(df['stop time'], downcast='integer')\n",
    "    df['cycle'] = pd.to_numeric(df['cycle'], downcast='integer')\n",
    "    df['subject code'] = 1030\n",
    "    print(df.head(3))\n",
    "    \n",
    "    return df"
   ]
  },
  {
   "cell_type": "code",
   "execution_count": 22,
   "metadata": {},
   "outputs": [
    {
     "name": "stdout",
     "output_type": "stream",
     "text": [
      "   subject code start time  stop time                activity  cycle\n",
      "1          1030       1118       2145                Standing      1\n",
      "2          1030       2315       3333                 Walking      1\n",
      "3          1030       3608       4800  Walking while counting      1\n",
      "   subject code start time  stop time                activity  cycle\n",
      "2          1030       1088       2037                Standing      2\n",
      "3          1030       2251       3262                 Walking      2\n",
      "4          1030       3307       4423  Walking while counting      2\n",
      "   subject code start time  stop time                activity  cycle\n",
      "3          1030       1228       2230                Standing      3\n",
      "4          1030       2381       3572                 Walking      3\n",
      "5          1030       3572       4630  Walking while counting      3\n",
      "   subject code start time  stop time                       activity  cycle\n",
      "3          1030      12623      13501        Taking a glass of water      3\n",
      "4          1030      14047      15315  Organizing sheets in a folder      3\n",
      "5          1030      15639      16648                 Folding towels      3\n"
     ]
    }
   ],
   "source": [
    "df1 = dataclean('cycle1.csv')\n",
    "df2 = dataclean('cycle2.csv')\n",
    "df3 = dataclean('cycle3incomplete.csv')\n",
    "df4 = dataclean('cycle36.csv')"
   ]
  },
  {
   "cell_type": "code",
   "execution_count": 23,
   "metadata": {},
   "outputs": [],
   "source": [
    "frames = [df1, df2, df3, df4]\n",
    "df = pd.concat(frames, ignore_index=True)"
   ]
  },
  {
   "cell_type": "code",
   "execution_count": 24,
   "metadata": {},
   "outputs": [
    {
     "name": "stdout",
     "output_type": "stream",
     "text": [
      "   subject code start time  stop time                    activity  cycle\n",
      "0          1030       1118       2145                    Standing      1\n",
      "1          1030       2315       3333                     Walking      1\n",
      "2          1030       3608       4800      Walking while counting      1\n",
      "3          1030       5832       6518  Finger to nose--right hand      1\n",
      "4          1030       6518       7121   Finger to nose--left hand      1\n",
      "    subject code start time  stop time                       activity  cycle\n",
      "85          1030      11348      12775      Assembling nuts and bolts      6\n",
      "86          1030      13017      13871        Taking a glass of water      6\n",
      "87          1030      14646      16008  Organizing sheets in a folder      6\n",
      "88          1030      16537      17627                 Folding towels      6\n",
      "89          1030      17718      18765                        Sitting      6\n"
     ]
    }
   ],
   "source": [
    "print(df.head(5))\n",
    "print(df.tail(5))"
   ]
  },
  {
   "cell_type": "code",
   "execution_count": 31,
   "metadata": {},
   "outputs": [],
   "source": [
    "filename2 = os.path.join(path, '1030annotated.csv')\n",
    "with open(filename2,'wb') as f:\n",
    "    df.to_csv(filename2, sep=',')"
   ]
  }
 ],
 "metadata": {
  "kernelspec": {
   "display_name": "Python 3",
   "language": "python",
   "name": "python3"
  },
  "language_info": {
   "codemirror_mode": {
    "name": "ipython",
    "version": 3
   },
   "file_extension": ".py",
   "mimetype": "text/x-python",
   "name": "python",
   "nbconvert_exporter": "python",
   "pygments_lexer": "ipython3",
   "version": "3.6.5"
  }
 },
 "nbformat": 4,
 "nbformat_minor": 2
}
