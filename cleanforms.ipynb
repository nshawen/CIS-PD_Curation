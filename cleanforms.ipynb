{
 "cells": [
  {
   "cell_type": "markdown",
   "metadata": {},
   "source": [
    "# CIS-PD Form Data\n",
    "\n",
    "Use datadictionary and codelist to convert the scores on each form. Save each file in a pickle format."
   ]
  },
  {
   "cell_type": "code",
   "execution_count": 23,
   "metadata": {},
   "outputs": [],
   "source": [
    "# import packages\n",
    "import os\n",
    "import platform # don't need\n",
    "import pandas as pd\n",
    "import re\n",
    "import h5py #save hdf5 but pandas has a function...\n",
    "import numpy as np"
   ]
  },
  {
   "cell_type": "markdown",
   "metadata": {},
   "source": [
    "## Clean up data dictionary and codelist"
   ]
  },
  {
   "cell_type": "code",
   "execution_count": 2,
   "metadata": {},
   "outputs": [],
   "source": [
    "dd = pd.read_sas('Y:\\CIS-PD MUSC\\datadictionary.sas7bdat')\n",
    "dd.columns = dd.columns.str.replace('z', '')\n",
    "del dd['CRFNb']\n",
    "del dd['FieldNm']\n",
    "del dd['SASNm']\n",
    "del dd['SASLabel']\n",
    "del dd['FieldTypeNm']\n",
    "del dd['Length']\n",
    "del dd['Unit']\n",
    "del dd['Required']\n",
    "dd = dd.dropna()\n",
    "dd = dd.applymap(lambda x: x.decode() if isinstance(x, bytes) else x)"
   ]
  },
  {
   "cell_type": "code",
   "execution_count": 3,
   "metadata": {},
   "outputs": [],
   "source": [
    "codelist = pd.read_sas('Y:\\CIS-PD MUSC\\codelist.sas7bdat')\n",
    "codelist.columns = codelist.columns.str.replace('z', '')\n",
    "codelist = codelist.rename(columns={'GroupID': 'CodeGroup'})\n",
    "codelist = codelist.applymap(lambda x: x.decode() if isinstance(x, bytes) else x)"
   ]
  },
  {
   "cell_type": "code",
   "execution_count": 4,
   "metadata": {},
   "outputs": [],
   "source": [
    "# Merge data dictionary and codelist\n",
    "result = dd.merge(codelist, left_on='CodeGroup', right_on='CodeGroup', how='left')\n",
    "result.FieldNb = result.FieldNb.str.replace('z', '')"
   ]
  },
  {
   "cell_type": "code",
   "execution_count": 4,
   "metadata": {},
   "outputs": [],
   "source": [
    "path = r'Y:\\CIS-PD MUSC'\n",
    "path2 = r'Y:\\CIS-PD MUSC\\decoded_forms'"
   ]
  },
  {
   "cell_type": "markdown",
   "metadata": {},
   "source": [
    "## Change code to value function"
   ]
  },
  {
   "cell_type": "code",
   "execution_count": 6,
   "metadata": {},
   "outputs": [],
   "source": [
    "def CodetoValue(FormNb, FormSeries, QNm):\n",
    "    resultFilt = result[(result.FormID == FormNb) & (result.FieldNb == QNm)]\n",
    "    return np.vstack([resultFilt[resultFilt['ItemNb']==INb]['ItemNm'].values if INb>=0.0 else INb for INb in FormSeries])"
   ]
  },
  {
   "cell_type": "code",
   "execution_count": 7,
   "metadata": {},
   "outputs": [],
   "source": [
    "formlist = list(['form101','form126','form238','form239','form240','form241','form242','form243',\n",
    "               'form501','form502','form503','form504','form505','form506','form508','form509',\n",
    "               'form510','form515','form518'])"
   ]
  },
  {
   "cell_type": "code",
   "execution_count": null,
   "metadata": {},
   "outputs": [],
   "source": [
    "for f in formlist:\n",
    "    temporiginal = pd.read_sas(os.path.join(path,f + '.sas7bdat'))\n",
    "    f2 = f.replace('orm','')\n",
    "    f2 = f2.capitalize()\n",
    "    temporiginal.columns = temporiginal.columns.str.replace('z', '')\n",
    "    temporiginal.columns = temporiginal.columns.str.replace(f2, '')\n",
    "    temp = temporiginal.copy()\n",
    "    temp = temp.filter(regex='Q|DataCollected')\n",
    "    temp = temp.select_dtypes(include=['float64'])\n",
    "    colnames = list(temp)\n",
    "    form = f\n",
    "    form = form.replace('form', '')\n",
    "    form = np.float64(form)\n",
    "    \n",
    "    for c in colnames:\n",
    "        if sum((result.FormID == form) & (result.FieldNb == c))==0:  continue\n",
    "        temp[c] = CodetoValue(form, temp[c],c)\n",
    "    \n",
    "    temporiginal.update(temp)\n",
    "    temporiginal = temporiginal.applymap(lambda x: x.decode() if isinstance(x, bytes) else x)\n",
    "    \n",
    "    # save file\n",
    "    filename = os.path.join(path2,f + '.h5')\n",
    "    temporiginal.to_hdf(filename,'data')"
   ]
  }
 ],
 "metadata": {
  "kernelspec": {
   "display_name": "Python 3",
   "language": "python",
   "name": "python3"
  },
  "language_info": {
   "codemirror_mode": {
    "name": "ipython",
    "version": 3
   },
   "file_extension": ".py",
   "mimetype": "text/x-python",
   "name": "python",
   "nbconvert_exporter": "python",
   "pygments_lexer": "ipython3",
   "version": "3.6.5"
  }
 },
 "nbformat": 4,
 "nbformat_minor": 2
}
